{
 "cells": [
  {
   "cell_type": "code",
   "execution_count": 1,
   "id": "hourly-substitute",
   "metadata": {},
   "outputs": [],
   "source": [
    "import numpy as np\n",
    "from matplotlib import pyplot as plt"
   ]
  },
  {
   "cell_type": "markdown",
   "id": "collected-czech",
   "metadata": {},
   "source": [
    "Numbers of atoms of each type:\n",
    "\n",
    "See https://web.expasy.org/cgi-bin/protparam/protparam1?P00698 for lysozyme; used PDB entry https://www.rcsb.org/experimental/7L84"
   ]
  },
  {
   "cell_type": "code",
   "execution_count": 11,
   "id": "colored-rachel",
   "metadata": {},
   "outputs": [
    {
     "name": "stdout",
     "output_type": "stream",
     "text": [
      "3.17e+03\n"
     ]
    }
   ],
   "source": [
    "v_water=30                             # A^3\n",
    "solvent_fraction = 0.4000              # https://www.rcsb.org/experimental/7L84\n",
    "nO_bs = (79.34**2*37.8*solvent_fraction)/v_water \n",
    "nC = 613\n",
    "nH = 959\n",
    "nN = 193\n",
    "nO = 185\n",
    "nS = 10\n",
    "print(f\"{nO_bs:.3}\")"
   ]
  },
  {
   "cell_type": "markdown",
   "id": "casual-macintosh",
   "metadata": {},
   "source": [
    "Approximate anomalous contributions at 6550 eV (http://skuld.bmsc.washington.edu/scatter/data/S.dat etc)"
   ]
  },
  {
   "cell_type": "code",
   "execution_count": 4,
   "id": "typical-harris",
   "metadata": {},
   "outputs": [],
   "source": [
    "fp_H = 0;       fpp_H = 1.78e-6\n",
    "fp_C = 2.60e-2; fpp_C = 1.41e-2\n",
    "fp_N = 4.45e-2; fpp_N = 3.96e-2\n",
    "fp_O = 6.95e-2; fpp_O = 4.97e-2\n",
    "fp_S = 0.38;    fpp_S = 0.81"
   ]
  },
  {
   "cell_type": "markdown",
   "id": "painted-award",
   "metadata": {},
   "source": [
    "Their actual phases per atom in the summation yielding the full structure factor can be reasonably approximated as random on the unit circle, so we assume they add up in quadrature:"
   ]
  },
  {
   "cell_type": "code",
   "execution_count": 5,
   "id": "collected-enforcement",
   "metadata": {},
   "outputs": [],
   "source": [
    "fa_H = np.sqrt(fp_H**2 + fpp_H**2)\n",
    "fa_C = np.sqrt(fp_C**2 + fpp_C**2)\n",
    "fa_N = np.sqrt(fp_N**2 + fpp_N**2)\n",
    "fa_O = np.sqrt(fp_O**2 + fpp_O**2)\n",
    "fa_S = np.sqrt(fp_S**2 + fpp_S**2)"
   ]
  },
  {
   "cell_type": "markdown",
   "id": "congressional-blink",
   "metadata": {},
   "source": [
    "and now, summing over atoms..."
   ]
  },
  {
   "cell_type": "code",
   "execution_count": 9,
   "id": "academic-director",
   "metadata": {},
   "outputs": [
    {
     "name": "stdout",
     "output_type": "stream",
     "text": [
      "typical contribution to intensity from O anom: 24.51 or a fraction 0.727\n",
      "typical contribution to intensity from S anom: 8.005 or a fraction 0.237\n"
     ]
    }
   ],
   "source": [
    "total_anom_variance = (nO_bs+nO)*fa_O**2 + nH*fa_H**2 + nC*fa_C**2 + nN*fa_N**2 + nS*fa_S**2\n",
    "var_O = (nO_bs+nO)*fa_O**2 \n",
    "var_S = nS*fa_S**2\n",
    "print(f\"typical contribution to intensity from O anom: {var_O:.4} or a fraction {var_O/total_anom_variance:.3}\")\n",
    "print(f\"typical contribution to intensity from S anom: {var_S:.4} or a fraction {var_S/total_anom_variance:.3}\")"
   ]
  }
 ],
 "metadata": {
  "kernelspec": {
   "display_name": "Python [conda env:.conda-crystallography] *",
   "language": "python",
   "name": "conda-env-.conda-crystallography-py"
  },
  "language_info": {
   "codemirror_mode": {
    "name": "ipython",
    "version": 3
   },
   "file_extension": ".py",
   "mimetype": "text/x-python",
   "name": "python",
   "nbconvert_exporter": "python",
   "pygments_lexer": "ipython3",
   "version": "3.8.8"
  },
  "toc": {
   "base_numbering": 1,
   "nav_menu": {},
   "number_sections": true,
   "sideBar": true,
   "skip_h1_title": false,
   "title_cell": "Table of Contents",
   "title_sidebar": "Contents",
   "toc_cell": false,
   "toc_position": {},
   "toc_section_display": true,
   "toc_window_display": false
  }
 },
 "nbformat": 4,
 "nbformat_minor": 5
}
