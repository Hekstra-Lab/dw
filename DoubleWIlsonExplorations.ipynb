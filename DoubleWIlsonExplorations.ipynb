{
 "cells": [
  {
   "cell_type": "markdown",
   "metadata": {},
   "source": [
    "# Exploring the idea of a Double-Wilson distribution"
   ]
  },
  {
   "cell_type": "markdown",
   "metadata": {},
   "source": [
    "The structure factors of related structures are likely to be strongly correlated. We should be able to exploit this correlation during scaling and merging by constraining the optimization more strongly than by the requirement that structure factors following a Wilson distribution. \n",
    "The Wilson distribution derives from a model where each structure factor derives from a 1D (centric) or 2D (acentric) random walk on the real axis or the complex plane, as appropriate. The amplitudes thereof follow the Wilson distributions. A natural extension would be for the corresponding structure factors of two data sets to perform correlated random walks, resulting in a joint multivariate normal distribution of the real and complex components of the (complex) structure factors of the two data sets."
   ]
  },
  {
   "cell_type": "markdown",
   "metadata": {},
   "source": [
    "## Possible improvements:\n",
    "* Kevin suggests using the Wilson distributions themselves as the loss functions in kernel ridge regression"
   ]
  },
  {
   "cell_type": "markdown",
   "metadata": {},
   "source": [
    "## Getting started"
   ]
  },
  {
   "cell_type": "markdown",
   "metadata": {},
   "source": [
    "### Imports"
   ]
  },
  {
   "cell_type": "code",
   "execution_count": 25,
   "metadata": {},
   "outputs": [],
   "source": [
    "%matplotlib inline\n",
    "import matplotlib.pyplot as plt\n",
    "import seaborn as sns\n",
    "sns.set_context(\"notebook\", font_scale=1.3)\n",
    "import numpy as np\n",
    "import pandas as pd\n"
   ]
  },
  {
   "cell_type": "code",
   "execution_count": 27,
   "metadata": {},
   "outputs": [],
   "source": [
    "import reciprocalspaceship as rs\n",
    "from reciprocalspaceship.algorithms.scale_merged_intensities import mean_intensity_by_miller_index\n",
    "import gemmi\n",
    "import scipy"
   ]
  },
  {
   "cell_type": "code",
   "execution_count": 28,
   "metadata": {
    "scrolled": true
   },
   "outputs": [
    {
     "data": {
      "text/plain": [
       "'0.9.2'"
      ]
     },
     "execution_count": 28,
     "metadata": {},
     "output_type": "execute_result"
    }
   ],
   "source": [
    "rs.__version__"
   ]
  },
  {
   "cell_type": "markdown",
   "metadata": {},
   "source": [
    "### Reading in data sets"
   ]
  },
  {
   "cell_type": "code",
   "execution_count": 29,
   "metadata": {},
   "outputs": [
    {
     "name": "stdout",
     "output_type": "stream",
     "text": [
      "<gemmi.UnitCell(57.57, 57.57, 151.094, 90, 90, 90)>\n",
      "<gemmi.UnitCell(58.651, 58.651, 151.567, 90, 90, 90)>\n",
      "<class 'reciprocalspaceship.dataset.DataSet'>\n",
      "MultiIndex: 34639 entries, (0, 0, 32) to (36, 3, 3)\n",
      "Data columns (total 14 columns):\n",
      " #   Column       Non-Null Count  Dtype      \n",
      "---  ------       --------------  -----      \n",
      " 0   FREE         34639 non-null  MTZInt     \n",
      " 1   FP           34639 non-null  SFAmplitude\n",
      " 2   SIGFP        34639 non-null  Stddev     \n",
      " 3   FC           34639 non-null  SFAmplitude\n",
      " 4   PHIC         34639 non-null  Phase      \n",
      " 5   FC_ALL       34639 non-null  SFAmplitude\n",
      " 6   PHIC_ALL     34639 non-null  Phase      \n",
      " 7   FWT          34639 non-null  SFAmplitude\n",
      " 8   PHWT         34639 non-null  Phase      \n",
      " 9   DELFWT       34639 non-null  SFAmplitude\n",
      " 10  PHDELWT      34639 non-null  Phase      \n",
      " 11  FOM          34639 non-null  Weight     \n",
      " 12  FC_ALL_LS    34639 non-null  SFAmplitude\n",
      " 13  PHIC_ALL_LS  34639 non-null  Phase      \n",
      "dtypes: MTZInt(1), Phase(5), SFAmplitude(6), Stddev(1), Weight(1)\n",
      "memory usage: 3.7 MB\n"
     ]
    }
   ],
   "source": [
    "path=\"double_wilson_data\\\\\"\n",
    "\n",
    "mtz1 = \"5kvx_phases\" # omit .mtz\n",
    "mtz2 = \"5kw3_phases\"\n",
    "ds1 = rs.read_mtz(path + mtz1 + \".mtz\")\n",
    "ds2 = rs.read_mtz(path + mtz2 + \".mtz\")\n",
    "print(ds1.cell)\n",
    "print(ds2.cell)\n",
    "\n",
    "ds1.info()"
   ]
  },
  {
   "cell_type": "code",
   "execution_count": 30,
   "metadata": {},
   "outputs": [
    {
     "name": "stdout",
     "output_type": "stream",
     "text": [
      "<class 'reciprocalspaceship.dataset.DataSet'>\n",
      "MultiIndex: 31926 entries, (0, 0, 4) to (36, 11, 4)\n",
      "Data columns (total 14 columns):\n",
      " #   Column       Non-Null Count  Dtype      \n",
      "---  ------       --------------  -----      \n",
      " 0   FREE         31926 non-null  MTZInt     \n",
      " 1   FP           31926 non-null  SFAmplitude\n",
      " 2   SIGFP        31926 non-null  Stddev     \n",
      " 3   FC           31926 non-null  SFAmplitude\n",
      " 4   PHIC         31926 non-null  Phase      \n",
      " 5   FC_ALL       31926 non-null  SFAmplitude\n",
      " 6   PHIC_ALL     31926 non-null  Phase      \n",
      " 7   FWT          31926 non-null  SFAmplitude\n",
      " 8   PHWT         31926 non-null  Phase      \n",
      " 9   DELFWT       31926 non-null  SFAmplitude\n",
      " 10  PHDELWT      31926 non-null  Phase      \n",
      " 11  FOM          31926 non-null  Weight     \n",
      " 12  FC_ALL_LS    31926 non-null  SFAmplitude\n",
      " 13  PHIC_ALL_LS  31926 non-null  Phase      \n",
      "dtypes: MTZInt(1), Phase(5), SFAmplitude(6), Stddev(1), Weight(1)\n",
      "memory usage: 3.4 MB\n"
     ]
    }
   ],
   "source": [
    "ds2.info()"
   ]
  },
  {
   "cell_type": "markdown",
   "metadata": {},
   "source": [
    "### Combining data sets"
   ]
  },
  {
   "cell_type": "markdown",
   "metadata": {},
   "source": [
    "#### Adding reciprocal lattice point coordinates\n",
    "Let's calculate the reciprocal lattice point coordinates for each reflection."
   ]
  },
  {
   "cell_type": "code",
   "execution_count": 31,
   "metadata": {},
   "outputs": [],
   "source": [
    "def ds_add_rs(ds,force_rs=False):\n",
    "    \"\"\"\n",
    "    Adds three columns to an rs dataframe with the reciprocal space coordinates (in A^-1) for each Miller index\n",
    "    \"\"\"\n",
    "    if force_rs or (not \"rs_a\" in ds.keys()):\n",
    "        orthomat_list  = ds.cell.orthogonalization_matrix.tolist()\n",
    "        orthomat = np.asarray(orthomat_list)\n",
    "    #\n",
    "        hkl_array = np.asarray(list(ds.index.to_numpy()))\n",
    "    #\n",
    "        orthomat_inv_t = np.linalg.inv(orthomat).transpose()\n",
    "        S = np.matmul(orthomat_inv_t, hkl_array.transpose())\n",
    "    #    \n",
    "        ds[\"rs_a\"]=S.transpose()[:,0]\n",
    "        ds[\"rs_b\"]=S.transpose()[:,1]\n",
    "        ds[\"rs_c\"]=S.transpose()[:,2]\n",
    "    else:\n",
    "        pass\n",
    "    return ds"
   ]
  },
  {
   "cell_type": "code",
   "execution_count": 32,
   "metadata": {},
   "outputs": [
    {
     "data": {
      "text/html": [
       "<div>\n",
       "<style scoped>\n",
       "    .dataframe tbody tr th:only-of-type {\n",
       "        vertical-align: middle;\n",
       "    }\n",
       "\n",
       "    .dataframe tbody tr th {\n",
       "        vertical-align: top;\n",
       "    }\n",
       "\n",
       "    .dataframe thead th {\n",
       "        text-align: right;\n",
       "    }\n",
       "</style>\n",
       "<table border=\"1\" class=\"dataframe\">\n",
       "  <thead>\n",
       "    <tr style=\"text-align: right;\">\n",
       "      <th></th>\n",
       "      <th></th>\n",
       "      <th></th>\n",
       "      <th>FREE</th>\n",
       "      <th>FP</th>\n",
       "      <th>SIGFP</th>\n",
       "      <th>FC</th>\n",
       "      <th>PHIC</th>\n",
       "      <th>FC_ALL</th>\n",
       "      <th>PHIC_ALL</th>\n",
       "      <th>FWT</th>\n",
       "      <th>PHWT</th>\n",
       "      <th>DELFWT</th>\n",
       "      <th>PHDELWT</th>\n",
       "      <th>FOM</th>\n",
       "      <th>FC_ALL_LS</th>\n",
       "      <th>PHIC_ALL_LS</th>\n",
       "      <th>rs_a</th>\n",
       "      <th>rs_b</th>\n",
       "      <th>rs_c</th>\n",
       "    </tr>\n",
       "    <tr>\n",
       "      <th>H</th>\n",
       "      <th>K</th>\n",
       "      <th>L</th>\n",
       "      <th></th>\n",
       "      <th></th>\n",
       "      <th></th>\n",
       "      <th></th>\n",
       "      <th></th>\n",
       "      <th></th>\n",
       "      <th></th>\n",
       "      <th></th>\n",
       "      <th></th>\n",
       "      <th></th>\n",
       "      <th></th>\n",
       "      <th></th>\n",
       "      <th></th>\n",
       "      <th></th>\n",
       "      <th></th>\n",
       "      <th></th>\n",
       "      <th></th>\n",
       "    </tr>\n",
       "  </thead>\n",
       "  <tbody>\n",
       "    <tr>\n",
       "      <th rowspan=\"5\" valign=\"top\">0</th>\n",
       "      <th rowspan=\"5\" valign=\"top\">0</th>\n",
       "      <th>4</th>\n",
       "      <td>1</td>\n",
       "      <td>146.58742</td>\n",
       "      <td>18.25731</td>\n",
       "      <td>9089.78</td>\n",
       "      <td>0.0</td>\n",
       "      <td>51.228516</td>\n",
       "      <td>179.99648</td>\n",
       "      <td>35.293854</td>\n",
       "      <td>359.9965</td>\n",
       "      <td>86.52237</td>\n",
       "      <td>359.9965</td>\n",
       "      <td>0.05435208</td>\n",
       "      <td>882.69336</td>\n",
       "      <td>179.99974</td>\n",
       "      <td>0.0000</td>\n",
       "      <td>0.00000</td>\n",
       "      <td>0.026391</td>\n",
       "    </tr>\n",
       "    <tr>\n",
       "      <th>8</th>\n",
       "      <td>1</td>\n",
       "      <td>760.6743</td>\n",
       "      <td>18.64783</td>\n",
       "      <td>4359.6685</td>\n",
       "      <td>0.0</td>\n",
       "      <td>71.819336</td>\n",
       "      <td>359.99973</td>\n",
       "      <td>573.3724</td>\n",
       "      <td>359.99973</td>\n",
       "      <td>501.55304</td>\n",
       "      <td>359.99973</td>\n",
       "      <td>0.42409196</td>\n",
       "      <td>80.376465</td>\n",
       "      <td>180.00029</td>\n",
       "      <td>0.0000</td>\n",
       "      <td>0.00000</td>\n",
       "      <td>0.052782</td>\n",
       "    </tr>\n",
       "    <tr>\n",
       "      <th>12</th>\n",
       "      <td>1</td>\n",
       "      <td>806.881</td>\n",
       "      <td>19.04429</td>\n",
       "      <td>73.34328</td>\n",
       "      <td>0.0</td>\n",
       "      <td>942.65686</td>\n",
       "      <td>359.99997</td>\n",
       "      <td>671.10376</td>\n",
       "      <td>359.99997</td>\n",
       "      <td>271.5531</td>\n",
       "      <td>179.99997</td>\n",
       "      <td>0.99999917</td>\n",
       "      <td>1030.6932</td>\n",
       "      <td>359.99997</td>\n",
       "      <td>0.0000</td>\n",
       "      <td>0.00000</td>\n",
       "      <td>0.079173</td>\n",
       "    </tr>\n",
       "    <tr>\n",
       "      <th>16</th>\n",
       "      <td>1</td>\n",
       "      <td>108.15088</td>\n",
       "      <td>24.095009</td>\n",
       "      <td>1411.8882</td>\n",
       "      <td>360.0</td>\n",
       "      <td>27.649414</td>\n",
       "      <td>179.99904</td>\n",
       "      <td>20.149578</td>\n",
       "      <td>359.99905</td>\n",
       "      <td>47.798992</td>\n",
       "      <td>359.99905</td>\n",
       "      <td>0.034673024</td>\n",
       "      <td>43.045532</td>\n",
       "      <td>0.00062703155</td>\n",
       "      <td>0.0000</td>\n",
       "      <td>0.00000</td>\n",
       "      <td>0.105564</td>\n",
       "    </tr>\n",
       "    <tr>\n",
       "      <th>40</th>\n",
       "      <td>1</td>\n",
       "      <td>1230.5109</td>\n",
       "      <td>23.73836</td>\n",
       "      <td>1318.882</td>\n",
       "      <td>0.0</td>\n",
       "      <td>1359.5361</td>\n",
       "      <td>360.0</td>\n",
       "      <td>1101.4856</td>\n",
       "      <td>360.0</td>\n",
       "      <td>258.05054</td>\n",
       "      <td>180.0</td>\n",
       "      <td>1.0</td>\n",
       "      <td>1326.5276</td>\n",
       "      <td>360.0</td>\n",
       "      <td>0.0000</td>\n",
       "      <td>0.00000</td>\n",
       "      <td>0.263910</td>\n",
       "    </tr>\n",
       "    <tr>\n",
       "      <th>...</th>\n",
       "      <th>...</th>\n",
       "      <th>...</th>\n",
       "      <td>...</td>\n",
       "      <td>...</td>\n",
       "      <td>...</td>\n",
       "      <td>...</td>\n",
       "      <td>...</td>\n",
       "      <td>...</td>\n",
       "      <td>...</td>\n",
       "      <td>...</td>\n",
       "      <td>...</td>\n",
       "      <td>...</td>\n",
       "      <td>...</td>\n",
       "      <td>...</td>\n",
       "      <td>...</td>\n",
       "      <td>...</td>\n",
       "      <td>...</td>\n",
       "      <td>...</td>\n",
       "      <td>...</td>\n",
       "    </tr>\n",
       "    <tr>\n",
       "      <th rowspan=\"5\" valign=\"top\">36</th>\n",
       "      <th rowspan=\"5\" valign=\"top\">11</th>\n",
       "      <th>0</th>\n",
       "      <td>1</td>\n",
       "      <td>45.62726</td>\n",
       "      <td>32.307644</td>\n",
       "      <td>8.469262</td>\n",
       "      <td>359.99985</td>\n",
       "      <td>6.183569</td>\n",
       "      <td>359.99985</td>\n",
       "      <td>7.259904</td>\n",
       "      <td>359.99985</td>\n",
       "      <td>1.076335</td>\n",
       "      <td>359.99985</td>\n",
       "      <td>0.14731844</td>\n",
       "      <td>8.660954</td>\n",
       "      <td>359.99985</td>\n",
       "      <td>0.6138</td>\n",
       "      <td>0.18755</td>\n",
       "      <td>0.000000</td>\n",
       "    </tr>\n",
       "    <tr>\n",
       "      <th>1</th>\n",
       "      <td>1</td>\n",
       "      <td>48.03641</td>\n",
       "      <td>23.181337</td>\n",
       "      <td>8.960331</td>\n",
       "      <td>87.091415</td>\n",
       "      <td>4.8729806</td>\n",
       "      <td>96.54491</td>\n",
       "      <td>6.6845155</td>\n",
       "      <td>96.54491</td>\n",
       "      <td>1.8115345</td>\n",
       "      <td>96.54491</td>\n",
       "      <td>0.120299324</td>\n",
       "      <td>8.747897</td>\n",
       "      <td>88.35271</td>\n",
       "      <td>0.6138</td>\n",
       "      <td>0.18755</td>\n",
       "      <td>0.006598</td>\n",
       "    </tr>\n",
       "    <tr>\n",
       "      <th>2</th>\n",
       "      <td>1</td>\n",
       "      <td>69.61291</td>\n",
       "      <td>28.818678</td>\n",
       "      <td>32.680573</td>\n",
       "      <td>56.66249</td>\n",
       "      <td>20.948725</td>\n",
       "      <td>54.91262</td>\n",
       "      <td>48.6522</td>\n",
       "      <td>54.91262</td>\n",
       "      <td>27.703474</td>\n",
       "      <td>54.912617</td>\n",
       "      <td>0.49991396</td>\n",
       "      <td>32.72222</td>\n",
       "      <td>56.394043</td>\n",
       "      <td>0.6138</td>\n",
       "      <td>0.18755</td>\n",
       "      <td>0.013195</td>\n",
       "    </tr>\n",
       "    <tr>\n",
       "      <th>3</th>\n",
       "      <td>1</td>\n",
       "      <td>50.914078</td>\n",
       "      <td>24.103708</td>\n",
       "      <td>54.524307</td>\n",
       "      <td>101.27435</td>\n",
       "      <td>34.45759</td>\n",
       "      <td>102.60958</td>\n",
       "      <td>31.775106</td>\n",
       "      <td>102.60958</td>\n",
       "      <td>2.6824832</td>\n",
       "      <td>282.60956</td>\n",
       "      <td>0.650436</td>\n",
       "      <td>54.488907</td>\n",
       "      <td>101.47542</td>\n",
       "      <td>0.6138</td>\n",
       "      <td>0.18755</td>\n",
       "      <td>0.019793</td>\n",
       "    </tr>\n",
       "    <tr>\n",
       "      <th>4</th>\n",
       "      <td>0</td>\n",
       "      <td>80.052414</td>\n",
       "      <td>35.720814</td>\n",
       "      <td>43.4483</td>\n",
       "      <td>90.54736</td>\n",
       "      <td>27.763554</td>\n",
       "      <td>91.24825</td>\n",
       "      <td>27.763554</td>\n",
       "      <td>91.24825</td>\n",
       "      <td>0.0</td>\n",
       "      <td>0.0</td>\n",
       "      <td>0.0</td>\n",
       "      <td>43.506428</td>\n",
       "      <td>90.65295</td>\n",
       "      <td>0.6138</td>\n",
       "      <td>0.18755</td>\n",
       "      <td>0.026391</td>\n",
       "    </tr>\n",
       "  </tbody>\n",
       "</table>\n",
       "<p>31926 rows × 17 columns</p>\n",
       "</div>"
      ],
      "text/plain": [
       "          FREE        FP     SIGFP        FC      PHIC    FC_ALL  PHIC_ALL  \\\n",
       "H  K  L                                                                      \n",
       "0  0  4      1 146.58742  18.25731   9089.78       0.0 51.228516 179.99648   \n",
       "      8      1  760.6743  18.64783 4359.6685       0.0 71.819336 359.99973   \n",
       "      12     1   806.881  19.04429  73.34328       0.0 942.65686 359.99997   \n",
       "      16     1 108.15088 24.095009 1411.8882     360.0 27.649414 179.99904   \n",
       "      40     1 1230.5109  23.73836  1318.882       0.0 1359.5361     360.0   \n",
       "...        ...       ...       ...       ...       ...       ...       ...   \n",
       "36 11 0      1  45.62726 32.307644  8.469262 359.99985  6.183569 359.99985   \n",
       "      1      1  48.03641 23.181337  8.960331 87.091415 4.8729806  96.54491   \n",
       "      2      1  69.61291 28.818678 32.680573  56.66249 20.948725  54.91262   \n",
       "      3      1 50.914078 24.103708 54.524307 101.27435  34.45759 102.60958   \n",
       "      4      0 80.052414 35.720814   43.4483  90.54736 27.763554  91.24825   \n",
       "\n",
       "               FWT      PHWT    DELFWT   PHDELWT         FOM  FC_ALL_LS  \\\n",
       "H  K  L                                                                   \n",
       "0  0  4  35.293854  359.9965  86.52237  359.9965  0.05435208  882.69336   \n",
       "      8   573.3724 359.99973 501.55304 359.99973  0.42409196  80.376465   \n",
       "      12 671.10376 359.99997  271.5531 179.99997  0.99999917  1030.6932   \n",
       "      16 20.149578 359.99905 47.798992 359.99905 0.034673024  43.045532   \n",
       "      40 1101.4856     360.0 258.05054     180.0         1.0  1326.5276   \n",
       "...            ...       ...       ...       ...         ...        ...   \n",
       "36 11 0   7.259904 359.99985  1.076335 359.99985  0.14731844   8.660954   \n",
       "      1  6.6845155  96.54491 1.8115345  96.54491 0.120299324   8.747897   \n",
       "      2    48.6522  54.91262 27.703474 54.912617  0.49991396   32.72222   \n",
       "      3  31.775106 102.60958 2.6824832 282.60956    0.650436  54.488907   \n",
       "      4  27.763554  91.24825       0.0       0.0         0.0  43.506428   \n",
       "\n",
       "           PHIC_ALL_LS    rs_a     rs_b      rs_c  \n",
       "H  K  L                                            \n",
       "0  0  4      179.99974  0.0000  0.00000  0.026391  \n",
       "      8      180.00029  0.0000  0.00000  0.052782  \n",
       "      12     359.99997  0.0000  0.00000  0.079173  \n",
       "      16 0.00062703155  0.0000  0.00000  0.105564  \n",
       "      40         360.0  0.0000  0.00000  0.263910  \n",
       "...                ...     ...      ...       ...  \n",
       "36 11 0      359.99985  0.6138  0.18755  0.000000  \n",
       "      1       88.35271  0.6138  0.18755  0.006598  \n",
       "      2      56.394043  0.6138  0.18755  0.013195  \n",
       "      3      101.47542  0.6138  0.18755  0.019793  \n",
       "      4       90.65295  0.6138  0.18755  0.026391  \n",
       "\n",
       "[31926 rows x 17 columns]"
      ]
     },
     "execution_count": 32,
     "metadata": {},
     "output_type": "execute_result"
    }
   ],
   "source": [
    "ds_add_rs(ds1)\n",
    "ds_add_rs(ds2)"
   ]
  },
  {
   "cell_type": "markdown",
   "metadata": {},
   "source": [
    "#### Combining data sets in a joint data frame\n",
    "Let's combine (\"merge\" in pandas jargon) the data frames of the two datasets. We'll add the ratios of the observed structure factor amplitudes as columns. In a perfect world, we'd also make sure all the dtypes are what they should be."
   ]
  },
  {
   "cell_type": "code",
   "execution_count": 33,
   "metadata": {},
   "outputs": [
    {
     "name": "stdout",
     "output_type": "stream",
     "text": [
      "<class 'reciprocalspaceship.dataset.DataSet'>\n",
      "MultiIndex: 30126 entries, (0, 0, 40) to (36, 3, 3)\n",
      "Data columns (total 38 columns):\n",
      " #   Column         Non-Null Count  Dtype      \n",
      "---  ------         --------------  -----      \n",
      " 0   FREE_1         30126 non-null  MTZInt     \n",
      " 1   FP_1           30126 non-null  SFAmplitude\n",
      " 2   SIGFP_1        30126 non-null  Stddev     \n",
      " 3   FC_1           30126 non-null  SFAmplitude\n",
      " 4   PHIC_1         30126 non-null  Phase      \n",
      " 5   FC_ALL_1       30126 non-null  SFAmplitude\n",
      " 6   PHIC_ALL_1     30126 non-null  Phase      \n",
      " 7   FWT_1          30126 non-null  SFAmplitude\n",
      " 8   PHWT_1         30126 non-null  Phase      \n",
      " 9   DELFWT_1       30126 non-null  SFAmplitude\n",
      " 10  PHDELWT_1      30126 non-null  Phase      \n",
      " 11  FOM_1          30126 non-null  Weight     \n",
      " 12  FC_ALL_LS_1    30126 non-null  SFAmplitude\n",
      " 13  PHIC_ALL_LS_1  30126 non-null  Phase      \n",
      " 14  rs_a_1         30126 non-null  float64    \n",
      " 15  rs_b_1         30126 non-null  float64    \n",
      " 16  rs_c_1         30126 non-null  float64    \n",
      " 17  FREE_2         30126 non-null  MTZInt     \n",
      " 18  FP_2           30126 non-null  SFAmplitude\n",
      " 19  SIGFP_2        30126 non-null  Stddev     \n",
      " 20  FC_2           30126 non-null  SFAmplitude\n",
      " 21  PHIC_2         30126 non-null  Phase      \n",
      " 22  FC_ALL_2       30126 non-null  SFAmplitude\n",
      " 23  PHIC_ALL_2     30126 non-null  Phase      \n",
      " 24  FWT_2          30126 non-null  SFAmplitude\n",
      " 25  PHWT_2         30126 non-null  Phase      \n",
      " 26  DELFWT_2       30126 non-null  SFAmplitude\n",
      " 27  PHDELWT_2      30126 non-null  Phase      \n",
      " 28  FOM_2          30126 non-null  Weight     \n",
      " 29  FC_ALL_LS_2    30126 non-null  SFAmplitude\n",
      " 30  PHIC_ALL_LS_2  30126 non-null  Phase      \n",
      " 31  rs_a_2         30126 non-null  float64    \n",
      " 32  rs_b_2         30126 non-null  float64    \n",
      " 33  rs_c_2         30126 non-null  float64    \n",
      " 34  gamma_pp       30126 non-null  SFAmplitude\n",
      " 35  dHKL           30126 non-null  MTZReal    \n",
      " 36  CENTRIC        30126 non-null  bool       \n",
      " 37  EPSILON        30126 non-null  MTZInt     \n",
      "dtypes: MTZInt(3), MTZReal(1), Phase(10), SFAmplitude(13), Stddev(2), Weight(2), bool(1), float64(6)\n",
      "memory usage: 8.4 MB\n"
     ]
    }
   ],
   "source": [
    "ds1_2= ds1.merge(ds2, left_index=True, right_index=True, suffixes=(\"_1\", \"_2\"))\n",
    "ds1_2[\"gamma_pp\"] = ds1_2[\"FP_2\"]/ds1_2[\"FP_1\"]\n",
    "ds1_2.compute_dHKL(inplace=True)\n",
    "ds1_2.label_centrics(inplace=True)\n",
    "ds1_2.compute_multiplicity(inplace=True)\n",
    "ds1_2.info()"
   ]
  },
  {
   "cell_type": "markdown",
   "metadata": {},
   "source": [
    "#### Checking calculation of reciprocal space coordinates."
   ]
  },
  {
   "cell_type": "code",
   "execution_count": 34,
   "metadata": {},
   "outputs": [
    {
     "name": "stderr",
     "output_type": "stream",
     "text": [
      "C:\\Users\\Doeke Hekstra\\.conda\\envs\\crystallography\\lib\\site-packages\\matplotlib\\cbook\\__init__.py:1402: FutureWarning: Support for multi-dimensional indexing (e.g. `obj[:, None]`) is deprecated and will be removed in a future version.  Convert to a numpy array before indexing instead.\n",
      "  ndim = x[:, None].ndim\n",
      "C:\\Users\\Doeke Hekstra\\.conda\\envs\\crystallography\\lib\\site-packages\\matplotlib\\axes\\_base.py:276: FutureWarning: Support for multi-dimensional indexing (e.g. `obj[:, None]`) is deprecated and will be removed in a future version.  Convert to a numpy array before indexing instead.\n",
      "  x = x[:, np.newaxis]\n"
     ]
    },
    {
     "data": {
      "image/png": "[encoded data removed]",
      "text/plain": [
       "<Figure size 432x288 with 1 Axes>"
      ]
     },
     "metadata": {
      "needs_background": "light"
     },
     "output_type": "display_data"
    }
   ],
   "source": [
    "plt.plot(np.sqrt(1/(ds1_2[\"rs_a_2\"]**2 +ds1_2[\"rs_b_2\"]**2 +ds1_2[\"rs_c_2\"]**2)), ds1_2[\"dHKL\"],'b.',alpha=0.1)\n",
    "plt.xlabel('d calculated from rlp coordinates'), plt.ylabel('dHKL from rs')\n",
    "plt.show()"
   ]
  },
  {
   "cell_type": "markdown",
   "metadata": {},
   "source": [
    "#### Checking reciprocal space (ASU) coverage\n",
    "Let's see what chunk of reciprocal space these reflections are located in. I can't recall how I got this figure to be interactive."
   ]
  },
  {
   "cell_type": "code",
   "execution_count": 35,
   "metadata": {},
   "outputs": [
    {
     "data": {
      "image/png": "[encoded data removed]",
      "text/plain": [
       "<Figure size 288x288 with 1 Axes>"
      ]
     },
     "metadata": {
      "needs_background": "light"
     },
     "output_type": "display_data"
    }
   ],
   "source": [
    "from mpl_toolkits import mplot3d\n",
    "\n",
    "plt.ion\n",
    "fig = plt.figure(figsize=(4,4))\n",
    "ax = plt.axes(projection=\"3d\")\n",
    "ax.scatter3D(ds1[\"rs_a\"], ds1[\"rs_b\"], ds1[\"rs_c\"],alpha=0.05)\n",
    "ax.view_init(elev=60., azim=1200.)\n",
    "ax.set_xlabel(\"rs_a\")\n",
    "ax.set_ylabel(\"rs_b\")\n",
    "ax.set_zlabel(\"rs_c\")\n",
    "plt.draw()\n",
    "\n",
    "#for angle in range(0, 360):\n",
    "#    ax.view_init(30, angle)\n",
    "#    plt.draw()\n",
    "#    plt.pause(.001)"
   ]
  },
  {
   "cell_type": "markdown",
   "metadata": {},
   "source": [
    "## Anisotropic scaling"
   ]
  },
  {
   "cell_type": "markdown",
   "metadata": {},
   "source": [
    "Let's start by setting a training set and test set. Because of the way the loss function below is constructed, we can just pass on entire data frames.\n",
    "\n",
    "Anisotropic scaling seems to work well for very closely related data sets (e.g. different temperatures), but not for, e.g. apo/liganded pairs."
   ]
  },
  {
   "cell_type": "code",
   "execution_count": 36,
   "metadata": {},
   "outputs": [],
   "source": [
    "from sklearn.model_selection import train_test_split\n",
    "X_train, X_test, y_train, y_test = train_test_split(ds1_2, ds1_2, test_size=0.3, random_state=42)"
   ]
  },
  {
   "cell_type": "markdown",
   "metadata": {},
   "source": [
    "### Loss functions\n",
    "Let's define our loss function. It also outputs corrected structure factors, if we want them."
   ]
  },
  {
   "cell_type": "code",
   "execution_count": 37,
   "metadata": {},
   "outputs": [],
   "source": [
    "import time\n",
    "\n",
    "def anisotropic_scaling_train_model(p, ds_a, ds_b,nargout=1):\n",
    "    \"\"\"\n",
    "    Assumes rs dataframes with obtained from merging two data sets (in the pandas sense),\n",
    "    First with keys FP_1, SIGFP_1, rs_a_1, rs_b_1, rs_c_1; second with keys FP_2, SIGFP_2.\n",
    "    The first one is scaled to the second one with input parameters p such that \n",
    "    B = [[p0, p1, p2], [p1, p3, p4], [p2, p4, p5]].\n",
    "    \n",
    "    Returns an error-weighted residual.\n",
    "    \"\"\"\n",
    "    \n",
    "    rlp      = ds_a[[\"rs_a_1\", \"rs_b_1\", \"rs_c_1\"]].to_numpy()\n",
    "    \n",
    "    B        = np.asarray([[p[0],p[1],p[2]],[p[1],p[3],p[4]],[p[2],p[4],p[5]]])\n",
    "    B_corr   = np.exp(-np.sum(rlp * (B @ rlp.transpose()).transpose(),axis=1)).reshape(-1,1)\n",
    "    \n",
    "    FP_corr  = p[6]*B_corr * ds_a[\"FP_1\"].to_numpy().reshape(-1,1)\n",
    "    residual = ds_b[\"FP_2\"].to_numpy().reshape(-1,1) - FP_corr\n",
    "    #print(FP_corr)\n",
    "    \n",
    "    err_a = ds_a[\"SIGFP_1\"].to_numpy()\n",
    "    err_b = ds_b[\"SIGFP_2\"].to_numpy()\n",
    "    quad_error = np.sqrt(err_a**2 + err_b**2)\n",
    "    residual = residual/quad_error.reshape(-1,1)\n",
    "    \n",
    "    if nargout == 1:\n",
    "        return residual.flatten()\n",
    "    else:\n",
    "        return residual.flatten(), FP_corr, B_corr\n",
    "\n",
    "def anisotropic_scaling_to_1(p, ds_a, label, nargout=1):\n",
    "    \"\"\"\n",
    "    Assumes rs dataframes with obtained from merging two data sets (in the pandas sense),\n",
    "    with keys FP_1, SIGFP_1, rs_a_1, rs_b_1, rs_c_1. This df is scaled to all ones, using\n",
    "    input parameters p such that B = [[p0, p1, p2], [p1, p3, p4], [p2, p4, p5]].\n",
    "    \n",
    "    Returns an error-weighted residual.\n",
    "    \"\"\"\n",
    "    \n",
    "    rlp      = ds_a[[\"rs_a_1\", \"rs_b_1\", \"rs_c_1\"]].to_numpy()\n",
    "    \n",
    "    B        = np.asarray([[p[0],p[1],p[2]],[p[1],p[3],p[4]],[p[2],p[4],p[5]]])\n",
    "    B_corr   = np.exp(-np.sum(rlp * (B @ rlp.transpose()).transpose(),axis=1)).reshape(-1,1)\n",
    "    FP_corr  = p[6]*B_corr * ds_a[label].to_numpy().reshape(-1,1)\n",
    "    \n",
    "    residual = (1.0 - FP_corr)\n",
    "    \n",
    "    err_a = ds_a[\"SIG\" + label].to_numpy()\n",
    "    residual = residual/err_a.reshape(-1,1)\n",
    "    \n",
    "    if nargout == 1:\n",
    "        return residual.flatten()\n",
    "    else:\n",
    "        return residual.flatten(), FP_corr, B_corr"
   ]
  },
  {
   "cell_type": "code",
   "execution_count": 38,
   "metadata": {},
   "outputs": [
    {
     "name": "stdout",
     "output_type": "stream",
     "text": [
      "1.3304948\n"
     ]
    }
   ],
   "source": [
    "print(np.min(ds1_2[\"FP_2\"].to_numpy()/ds1_2[\"SIGFP_2\"].to_numpy()))"
   ]
  },
  {
   "cell_type": "markdown",
   "metadata": {},
   "source": [
    "### Optimization: scaling data set 1 to data set 2\n",
    "Next, we set up a robust nonlinear least-squares regression."
   ]
  },
  {
   "cell_type": "code",
   "execution_count": 39,
   "metadata": {},
   "outputs": [
    {
     "data": {
      "image/png": "[encoded data removed]",
      "text/plain": [
       "<Figure size 432x288 with 1 Axes>"
      ]
     },
     "metadata": {
      "needs_background": "light"
     },
     "output_type": "display_data"
    }
   ],
   "source": [
    "from scipy.optimize import least_squares\n",
    "res_robust   = least_squares(anisotropic_scaling_train_model, [1,0,0,1,0,1,1], loss='cauchy', f_scale=1, args=(X_train, y_train))\n",
    "# with a round of outlier rejection:\n",
    "#res_robust_2 = least_squares(anisotropic_scaling_model, res_robust.x,  loss='soft_l1', f_scale=1, \n",
    "#                             args=(X_train.loc[np.abs(res_robust.fun)<np.percentile(np.abs(res_robust.fun),98)], \n",
    "#                                   y_train.loc[np.abs(res_robust.fun)<np.percentile(np.abs(res_robust.fun),98)]))\n",
    "plt.hist(res_robust.fun,100, alpha=0.3,color='b', density=True)\n",
    "#plt.hist(np.abs(res_robust_2.fun),100, alpha=0.3,color='r', density=True)\n",
    "plt.show()"
   ]
  },
  {
   "cell_type": "markdown",
   "metadata": {},
   "source": [
    "We can extract the predicted ratios for the test set. We're using the loss function above for this purpose."
   ]
  },
  {
   "cell_type": "code",
   "execution_count": 40,
   "metadata": {},
   "outputs": [
    {
     "name": "stdout",
     "output_type": "stream",
     "text": [
      "0.3270118862899039\n",
      "Slope: 1.3423297840087534, intercept: -0.002747883840927834\n"
     ]
    },
    {
     "data": {
      "image/png": "[encoded data removed]",
      "text/plain": [
       "<Figure size 432x288 with 1 Axes>"
      ]
     },
     "metadata": {
      "needs_background": "light"
     },
     "output_type": "display_data"
    }
   ],
   "source": [
    "from sklearn.metrics import r2_score\n",
    "test,  fp_corr,  B_corr = anisotropic_scaling_train_model(res_robust.x, X_test, y_test, nargout=3)\n",
    "\n",
    "slope, intercept, r_value, p_value, std_err = scipy.stats.linregress(B_corr.flatten(), y_test[\"gamma_pp\"].to_numpy())\n",
    "print(r_value)\n",
    "print(\"Slope: \" + str(slope) + \", intercept: \" + str(intercept))\n",
    "\n",
    "plt.plot(B_corr.flatten(), y_test[\"gamma_pp\"].to_numpy(),'b.',alpha=0.1)\n",
    "plt.xlabel('Expected structure factor ratio from aniso scaling')\n",
    "plt.ylabel('Observed structure factor ratio')\n",
    "plt.ylim((0,plt.xlim()[1]))\n",
    "plt.show()"
   ]
  },
  {
   "cell_type": "markdown",
   "metadata": {},
   "source": [
    "### Adding scaled FP1 to the joint dataframe\n",
    "Adding the anisotropically scaled FP_1 and SIGFP_1 to the joint dataframe."
   ]
  },
  {
   "cell_type": "code",
   "execution_count": 41,
   "metadata": {},
   "outputs": [
    {
     "name": "stdout",
     "output_type": "stream",
     "text": [
      "<class 'reciprocalspaceship.dataset.DataSet'>\n",
      "MultiIndex: 30126 entries, (0, 0, 40) to (36, 3, 3)\n",
      "Data columns (total 40 columns):\n",
      " #   Column          Non-Null Count  Dtype      \n",
      "---  ------          --------------  -----      \n",
      " 0   FREE_1          30126 non-null  MTZInt     \n",
      " 1   FP_1            30126 non-null  SFAmplitude\n",
      " 2   SIGFP_1         30126 non-null  Stddev     \n",
      " 3   FC_1            30126 non-null  SFAmplitude\n",
      " 4   PHIC_1          30126 non-null  Phase      \n",
      " 5   FC_ALL_1        30126 non-null  SFAmplitude\n",
      " 6   PHIC_ALL_1      30126 non-null  Phase      \n",
      " 7   FWT_1           30126 non-null  SFAmplitude\n",
      " 8   PHWT_1          30126 non-null  Phase      \n",
      " 9   DELFWT_1        30126 non-null  SFAmplitude\n",
      " 10  PHDELWT_1       30126 non-null  Phase      \n",
      " 11  FOM_1           30126 non-null  Weight     \n",
      " 12  FC_ALL_LS_1     30126 non-null  SFAmplitude\n",
      " 13  PHIC_ALL_LS_1   30126 non-null  Phase      \n",
      " 14  rs_a_1          30126 non-null  float64    \n",
      " 15  rs_b_1          30126 non-null  float64    \n",
      " 16  rs_c_1          30126 non-null  float64    \n",
      " 17  FREE_2          30126 non-null  MTZInt     \n",
      " 18  FP_2            30126 non-null  SFAmplitude\n",
      " 19  SIGFP_2         30126 non-null  Stddev     \n",
      " 20  FC_2            30126 non-null  SFAmplitude\n",
      " 21  PHIC_2          30126 non-null  Phase      \n",
      " 22  FC_ALL_2        30126 non-null  SFAmplitude\n",
      " 23  PHIC_ALL_2      30126 non-null  Phase      \n",
      " 24  FWT_2           30126 non-null  SFAmplitude\n",
      " 25  PHWT_2          30126 non-null  Phase      \n",
      " 26  DELFWT_2        30126 non-null  SFAmplitude\n",
      " 27  PHDELWT_2       30126 non-null  Phase      \n",
      " 28  FOM_2           30126 non-null  Weight     \n",
      " 29  FC_ALL_LS_2     30126 non-null  SFAmplitude\n",
      " 30  PHIC_ALL_LS_2   30126 non-null  Phase      \n",
      " 31  rs_a_2          30126 non-null  float64    \n",
      " 32  rs_b_2          30126 non-null  float64    \n",
      " 33  rs_c_2          30126 non-null  float64    \n",
      " 34  gamma_pp        30126 non-null  SFAmplitude\n",
      " 35  dHKL            30126 non-null  MTZReal    \n",
      " 36  CENTRIC         30126 non-null  bool       \n",
      " 37  EPSILON         30126 non-null  MTZInt     \n",
      " 38  FP_1_scaled     30126 non-null  float64    \n",
      " 39  SIGFP_1_scaled  30126 non-null  Stddev     \n",
      "dtypes: MTZInt(3), MTZReal(1), Phase(10), SFAmplitude(13), Stddev(3), Weight(2), bool(1), float64(7)\n",
      "memory usage: 8.8 MB\n"
     ]
    }
   ],
   "source": [
    "test2, fp_corr2, B_corr2 = anisotropic_scaling_train_model(res_robust.x, ds1_2, ds1_2, nargout=3)\n",
    "ds1_2[\"FP_1_scaled\"] = fp_corr2.flatten()\n",
    "ds1_2[\"SIGFP_1_scaled\"] = B_corr2.flatten() * ds1_2[\"SIGFP_1\"]\n",
    "ds1_2.info()"
   ]
  },
  {
   "cell_type": "code",
   "execution_count": 42,
   "metadata": {},
   "outputs": [
    {
     "data": {
      "image/png": "[encoded data removed]",
      "text/plain": [
       "<Figure size 720x288 with 2 Axes>"
      ]
     },
     "metadata": {
      "needs_background": "light"
     },
     "output_type": "display_data"
    }
   ],
   "source": [
    "plt.figure(1,figsize=(10,4))\n",
    "plt.subplot(1,2, 1)\n",
    "plt.loglog(ds1_2[\"FP_1\"], ds1_2[\"FP_2\"],'k.',alpha=0.02)\n",
    "plt.xlabel(\"FP_1\"), plt.ylabel(\"FP_2\")\n",
    "plt.plot(plt.xlim(),plt.xlim(),'r-')\n",
    "\n",
    "plt.subplot(1,2, 2)\n",
    "plt.loglog(ds1_2[\"FP_1_scaled\"], ds1_2[\"FP_2\"],'k.',alpha=0.02)\n",
    "plt.xlabel(\"FP_1 (aniso sc)\")\n",
    "plt.plot(plt.xlim(),plt.xlim(),'r-')\n",
    "\n",
    "plt.show()"
   ]
  },
  {
   "cell_type": "markdown",
   "metadata": {},
   "source": [
    "### Normalizing both datasets by anisotropic scaling"
   ]
  },
  {
   "cell_type": "code",
   "execution_count": 45,
   "metadata": {},
   "outputs": [
    {
     "data": {
      "image/png": "[encoded data removed]",
      "text/plain": [
       "<Figure size 432x288 with 1 Axes>"
      ]
     },
     "metadata": {
      "needs_background": "light"
     },
     "output_type": "display_data"
    }
   ],
   "source": [
    "res_robust   = least_squares(anisotropic_scaling_to_1, [1,0,0,1,0,1,1], loss='soft_l1', f_scale=0.1, args=(ds1_2,\"FP_1\",1))\n",
    "res_test, fp_corr1, B_corr1 = anisotropic_scaling_to_1(res_robust.x, ds1_2, label=\"FP_1\",nargout=3)\n",
    "ds1_2[\"EP_1_aniso\"] = fp_corr1.flatten()\n",
    "ds1_2[\"SIGEP_1_aniso\"] = (fp_corr1.flatten()/ds1_2[\"FP_1\"].to_numpy()) * ds1_2[\"SIGFP_1\"]\n",
    "\n",
    "res_robust   = least_squares(anisotropic_scaling_to_1, [1,0,0,1,0,1,1], loss='soft_l1', f_scale=0.1, args=(ds1_2,\"FP_2\",1))\n",
    "res_test, fp_corr2, B_corr2 = anisotropic_scaling_to_1(res_robust.x, ds1_2, label=\"FP_2\",nargout=3)\n",
    "ds1_2[\"EP_2_aniso\"] = fp_corr2.flatten()\n",
    "ds1_2[\"SIGEP_2_aniso\"] = (fp_corr2.flatten()/ds1_2[\"FP_2\"].to_numpy()) * ds1_2[\"SIGFP_2\"]\n",
    "\n",
    "plt.hist(fp_corr1.flatten(),100,alpha=0.5)\n",
    "plt.hist(fp_corr2.flatten(),100,alpha=0.5)\n",
    "plt.show()"
   ]
  },
  {
   "cell_type": "markdown",
   "metadata": {},
   "source": [
    "#### Correlation coefficients with scaled and unscaled data"
   ]
  },
  {
   "cell_type": "code",
   "execution_count": 46,
   "metadata": {},
   "outputs": [],
   "source": [
    "def compute_meanF_byres(ds, label=\"FP\", nbins=20,sigma_cut=0, median=False):\n",
    "    #print(ds.shape)\n",
    "    if sigma_cut > 0:\n",
    "        incl_criteria = ds[label].to_numpy().flatten() > sigma_cut * ds[\"SIG\" + label].to_numpy().flatten()\n",
    "        ds2 = ds[incl_criteria]\n",
    "    else:\n",
    "        ds2=ds\n",
    "    \n",
    "    ds2, bin_labels = ds2.assign_resolution_bins(bins=nbins)\n",
    "    if median:\n",
    "        print(\"Average observations per bin: \" + str(ds2[\"bin\"].value_counts().median()))\n",
    "        result = ds2.groupby(\"bin\")[label].median()\n",
    "    else:\n",
    "        print(\"Average observations per bin: \" + str(ds2[\"bin\"].value_counts().mean()))\n",
    "        result = ds2.groupby(\"bin\")[label].mean()\n",
    "    return result, bin_labels\n",
    "\n",
    "def compute_cc(ds, labels=[\"F1\",\"F2\"], nbins=20):\n",
    "    ds, bin_labels = ds.assign_resolution_bins(bins=nbins)\n",
    "    print(\"Average observations per bin: \" + str(ds[\"bin\"].value_counts().mean()))\n",
    "    g = ds.groupby(\"bin\")[labels]\n",
    "    result = g.corr(method=\"spearman\").unstack().loc[:, (labels[0],labels[1])]\n",
    "    return result, bin_labels\n",
    "\n",
    "def plot_by_res_bin(result, bin_labels, ylabel=r\"$CC_{1/2}$\",color='b'):\n",
    "    plt.plot(result, label=\"Data\",color=color)\n",
    "    plt.xticks(result.index, bin_labels, rotation=45, ha=\"right\", rotation_mode=\"anchor\")\n",
    "    plt.ylabel(ylabel)\n",
    "    plt.xlabel(r\"Resolution Bin ($\\AA$)\")\n",
    "    #plt.legend(loc='center left', bbox_to_anchor=(1, 0.5))\n",
    "    #plt.ylim(0, )\n",
    "    plt.grid(linestyle='--')\n",
    "    #plt.tight_layout()\n",
    "    #plt.show()\n",
    "    return"
   ]
  },
  {
   "cell_type": "markdown",
   "metadata": {},
   "source": [
    "Let's examine the average SF amplitude by resolution."
   ]
  },
  {
   "cell_type": "code",
   "execution_count": 47,
   "metadata": {},
   "outputs": [
    {
     "name": "stdout",
     "output_type": "stream",
     "text": [
      "Average observations per bin: 1506.0\n",
      "Average observations per bin: 1506.0\n",
      "Average observations per bin: 1506.0\n"
     ]
    },
    {
     "data": {
      "image/png": "[encoded data removed]",
      "text/plain": [
       "<Figure size 432x288 with 1 Axes>"
      ]
     },
     "metadata": {
      "needs_background": "light"
     },
     "output_type": "display_data"
    }
   ],
   "source": [
    "result, bin_labels = compute_meanF_byres(ds1_2, label=\"FP_1\", nbins=20,sigma_cut=0, median=True)\n",
    "plot_by_res_bin(result, bin_labels, ylabel=\"mean F\",color='b')\n",
    "\n",
    "result, bin_labels = compute_meanF_byres(ds1_2, label=\"FP_1_scaled\", nbins=20,sigma_cut=0,median=True)\n",
    "plot_by_res_bin(result, bin_labels, ylabel=\"mean F\",color='r')\n",
    "\n",
    "result, bin_labels = compute_meanF_byres(ds1_2, label=\"FP_2\", nbins=20,sigma_cut=0, median=True)\n",
    "plot_by_res_bin(result, bin_labels, ylabel=\"mean F\",color='g')\n",
    "\n",
    "plt.title(\"Median |F|\")\n",
    "plt.legend([\"FP1\", \"FP1(aniso sc)\", \"FP2\"])\n",
    "plt.ylim(0,)\n",
    "plt.show()"
   ]
  },
  {
   "cell_type": "code",
   "execution_count": 48,
   "metadata": {},
   "outputs": [
    {
     "name": "stdout",
     "output_type": "stream",
     "text": [
      "Average observations per bin: 1506.3\n",
      "Average observations per bin: 1506.3\n"
     ]
    },
    {
     "data": {
      "image/png": "[encoded data removed]",
      "text/plain": [
       "<Figure size 432x288 with 1 Axes>"
      ]
     },
     "metadata": {
      "needs_background": "light"
     },
     "output_type": "display_data"
    }
   ],
   "source": [
    "result_1, labels_1 = compute_cc(ds1_2,labels=[\"FP_1\",\"FP_2\"],nbins=20)\n",
    "result_2, labels_2 = compute_cc(ds1_2,labels=[\"FP_1_scaled\",\"FP_2\"],nbins=20)\n",
    "plot_by_res_bin(result_1, labels_1,)\n",
    "plot_by_res_bin(result_2, labels_2,color='r')\n",
    "plt.ylim(0,1)\n",
    "plt.ylabel(\"CC ()\")\n",
    "plt.show()"
   ]
  },
  {
   "cell_type": "markdown",
   "metadata": {},
   "source": [
    "## Kernel ridge regression est of Sigma\n",
    "We're estimating $<|F|^2>$ locally in reciprocal space! Because the expected intensity is the same for acentric and centric reflections, we can do this in one go for all of them.\n",
    "\n",
    "By Rupp eq. (7-104): $ \\Sigma_N = \\left<I\\right>/\\varepsilon_h $"
   ]
  },
  {
   "cell_type": "code",
   "execution_count": 23,
   "metadata": {},
   "outputs": [
    {
     "name": "stdout",
     "output_type": "stream",
     "text": [
      "Distribution of multiplicities for centric reflections:\n",
      "1    3561\n",
      "2      16\n",
      "4       4\n",
      "Name: EPSILON, dtype: int64\n",
      "\n",
      "Distribution of multiplicities for acentric reflections:\n",
      "1    26545\n",
      "Name: EPSILON, dtype: int64\n"
     ]
    }
   ],
   "source": [
    "temp = ds1_2[\"EPSILON\"][ds1_2[\"CENTRIC\"].to_numpy()==True]\n",
    "print(\"Distribution of multiplicities for centric reflections:\")\n",
    "print(temp.value_counts())\n",
    "print(\"\")\n",
    "\n",
    "temp = ds1_2[\"EPSILON\"][ds1_2[\"CENTRIC\"].to_numpy()==False]\n",
    "print(\"Distribution of multiplicities for acentric reflections:\")\n",
    "print(temp.value_counts())\n"
   ]
  },
  {
   "cell_type": "markdown",
   "metadata": {},
   "source": [
    "Kernel ridge regression: see https://scikit-learn.org/stable/modules/generated/sklearn.kernel_ridge.KernelRidge.html\n",
    "default loss function is the MSE. GridsearchCV performs, by default, 5-fold cross-validation for each set of parameters. Because of this, we use the full data set."
   ]
  },
  {
   "cell_type": "code",
   "execution_count": 24,
   "metadata": {},
   "outputs": [],
   "source": [
    "# perhaps it's worth making this a method.\n",
    "def sigma_cut_ds(ds, F_col=\"FP\", sigF_col=\"SIGFP\", sigma_cut=3):\n",
    "    if sigma_cut > 0:\n",
    "        incl_criteria = ds[F_col].to_numpy().flatten() > sigma_cut * ds[sigF_col].to_numpy().flatten()\n",
    "        ds2 = ds[incl_criteria]\n",
    "    else:\n",
    "        ds2=ds\n",
    "    return ds2"
   ]
  },
  {
   "cell_type": "code",
   "execution_count": 25,
   "metadata": {},
   "outputs": [
    {
     "name": "stdout",
     "output_type": "stream",
     "text": [
      "Strongly consider skipping the next cell! It takes 30-60 min\n"
     ]
    }
   ],
   "source": [
    "import os.path\n",
    "from os import path as os_path\n",
    "import pickle\n",
    "\n",
    "if os_path.exists(path + mtz1 + \"_krr.pkl\") & os_path.exists(path + mtz2 + \"_krr.pkl\"):\n",
    "    print(\"Strongly consider skipping the next cell! It takes 30-60 min\")\n",
    "    kr_1 = pickle.load(open(path + mtz1 + \"_krr.pkl\", 'rb'))\n",
    "    kr_2 = pickle.load(open(path + mtz2 + \"_krr.pkl\", 'rb'))\n",
    "else:\n",
    "    print(\"No kernel ridge-regression has been performed yet!\")"
   ]
  },
  {
   "cell_type": "code",
   "execution_count": null,
   "metadata": {},
   "outputs": [],
   "source": [
    "from sklearn.metrics import make_scorer\n",
    "\n",
    "def wilson_dist_I_log_pdf(E, centric=False):\n",
    "    if centric:\n",
    "        P_E = np.sqrt(2/np.pi)*np.exp(-0.5*E**2) \n",
    "    else:\n",
    "        P_E = 2*E*np.exp(-E**2)\n",
    "    return P_E\n",
    "\n",
    ">>> ftwo_scorer = make_scorer(fbeta_score, beta=2)"
   ]
  },
  {
   "cell_type": "code",
   "execution_count": null,
   "metadata": {},
   "outputs": [],
   "source": [
    "from sklearn.model_selection import GridSearchCV\n",
    "#from sklearn.model_selection import learning_curve\n",
    "from sklearn.kernel_ridge import KernelRidge\n",
    "\n",
    "# consider adding pre-processing\n",
    "gridsearch = False # it takes up to an hour\n",
    "# this will take a few minutes:\n",
    "# GridsearchCV \n",
    "#   1st try   (alpha=1,  gamma=100, kernel='rbf'), with alpha and gamma at the top of the initial ranges.\n",
    "#   2nd try   (alpha=10, gamma=100, kernel='rbf'), with alpha, but not gamma, at the top of the range\n",
    "#   3rd try   (alpha=30, gamma=100, kernel='rbf'), with alpha in [10,30,100], gamma fixed.\n",
    "# on 3rd try switched to neg_mean_absolute_error (from MSE)\n",
    "\n",
    "if gridsearch: # for regression hyperparameter optimization -- needs some tweaking\n",
    "    kr_1 = GridSearchCV(KernelRidge(kernel='rbf'), scoring='neg_mean_absolute_error',\n",
    "                      param_grid={\"alpha\": [300, 100, 30, 10],\n",
    "                                  \"gamma\": [300, 100, 30, 10]})\n",
    "    kr_1.fit(ds1_2[[\"rs_a_1\", \"rs_b_1\", \"rs_c_1\"]], (ds1_2[[\"FP_1\"]].to_numpy()**2)/ds1_2[[\"EPSILON\"]].to_numpy())\n",
    "    kr_2 = GridSearchCV(KernelRidge(kernel='rbf'), scoring='neg_mean_absolute_error',\n",
    "                      param_grid={\"alpha\": [300, 100, 30, 10],\n",
    "                                  \"gamma\": [300, 100, 30, 10]})\n",
    "    kr_2.fit(ds1_2[[\"rs_a_2\", \"rs_b_2\", \"rs_c_2\"]], (ds1_2[[\"FP_2\"]].to_numpy()**2)/ds1_2[[\"EPSILON\"]].to_numpy())\n",
    "else:\n",
    "    kr_1 = KernelRidge(kernel='rbf', alpha=30, gamma=100)\n",
    "    kr_2 = KernelRidge(kernel='rbf', alpha=30, gamma=100)\n",
    "    kr_1.fit(ds1_2[[\"rs_a_1\", \"rs_b_1\", \"rs_c_1\"]], (ds1_2[[\"FP_1\"]].to_numpy()**2)/ds1_2[[\"EPSILON\"]].to_numpy())\n",
    "    kr_2.fit(ds1_2[[\"rs_a_2\", \"rs_b_2\", \"rs_c_2\"]], (ds1_2[[\"FP_2\"]].to_numpy()**2)/ds1_2[[\"EPSILON\"]].to_numpy())\n",
    "\n",
    "pickle.dump(kr_1, open(path + mtz1 + \"_krr.pkl\",'wb'))\n",
    "pickle.dump(kr_2, open(path + mtz2 + \"_krr.pkl\",'wb'))"
   ]
  },
  {
   "cell_type": "code",
   "execution_count": null,
   "metadata": {},
   "outputs": [],
   "source": [
    "if gridsearch:\n",
    "    kr.best_estimator_"
   ]
  },
  {
   "cell_type": "markdown",
   "metadata": {},
   "source": [
    "#### Calculate normalized structure factors\n",
    "Note: we've estimated $\\Sigma$. To get normalized structure factors, $E_h=\\frac{F_h}{\\sqrt{\\varepsilon \\Sigma_h}}$, we need to do the following:"
   ]
  },
  {
   "cell_type": "code",
   "execution_count": null,
   "metadata": {},
   "outputs": [],
   "source": [
    "Sigma_kr_1 = kr_1.predict(ds1_2[[\"rs_a_1\", \"rs_b_1\", \"rs_c_1\"]])\n",
    "Sigma_kr_2 = kr_2.predict(ds1_2[[\"rs_a_2\", \"rs_b_2\", \"rs_c_2\"]])"
   ]
  },
  {
   "cell_type": "code",
   "execution_count": null,
   "metadata": {},
   "outputs": [],
   "source": [
    "E1    = ds1_2[\"FP_1\"   ].to_numpy().reshape(-1,1)/np.sqrt(Sigma_kr_1 * ds1_2[\"EPSILON\"].to_numpy().reshape(-1,1))\n",
    "E2    = ds1_2[\"FP_2\"   ].to_numpy().reshape(-1,1)/np.sqrt(Sigma_kr_2 * ds1_2[\"EPSILON\"].to_numpy().reshape(-1,1))\n",
    "SIGE1 = ds1_2[\"SIGFP_1\"].to_numpy().reshape(-1,1)/np.sqrt(Sigma_kr_1 * ds1_2[\"EPSILON\"].to_numpy().reshape(-1,1))\n",
    "SIGE2 = ds1_2[\"SIGFP_2\"].to_numpy().reshape(-1,1)/np.sqrt(Sigma_kr_2 * ds1_2[\"EPSILON\"].to_numpy().reshape(-1,1))\n",
    "\n",
    "ds1_2[\"EP_1\"]    = E1.flatten()\n",
    "ds1_2[\"EP_2\"]    = E2.flatten()\n",
    "ds1_2[\"SIGEP_1\"] = SIGE1.flatten()\n",
    "ds1_2[\"SIGEP_2\"] = SIGE2.flatten()"
   ]
  },
  {
   "cell_type": "markdown",
   "metadata": {},
   "source": [
    "Let's what, if anything, happened to the correlations per resolution shell."
   ]
  },
  {
   "cell_type": "code",
   "execution_count": null,
   "metadata": {},
   "outputs": [],
   "source": [
    "result_1, labels_1 = compute_cc(ds1_2,labels=[\"FP_1\",\"FP_2\"],nbins=20)\n",
    "result_2, labels_2 = compute_cc(ds1_2,labels=[\"FP_1_scaled\",\"FP_2\"],nbins=20)\n",
    "result_3, labels_3 = compute_cc(ds1_2,labels=[\"EP_1\",\"EP_2\"],nbins=20)\n",
    "plot_by_res_bin(result_1, labels_1,)\n",
    "plot_by_res_bin(result_2, labels_2,color='r')\n",
    "plot_by_res_bin(result_3, labels_3,color='g')\n",
    "plt.legend([\"FP1-FP2\", \"FP1(sc)-FP2\", \"EP1-EP2\"])\n",
    "plt.ylim(0,1)\n",
    "plt.ylabel(\"CC ()\")\n",
    "plt.show()"
   ]
  },
  {
   "cell_type": "markdown",
   "metadata": {},
   "source": [
    "Normalization condenses the range of the structure factor amplitudes quite a bit."
   ]
  },
  {
   "cell_type": "code",
   "execution_count": null,
   "metadata": {},
   "outputs": [],
   "source": [
    "plt.figure(1,figsize=(10,4))\n",
    "plt.subplot(1,2, 1)\n",
    "plt.loglog(ds1_2[\"FP_1\"], ds1_2[\"FP_2\"],'k.',alpha=0.02)\n",
    "plt.xlabel(\"FP_1\"), plt.ylabel(\"FP_2\")\n",
    "xl=plt.xlim()\n",
    "plt.ylim(xl)\n",
    "plt.plot(xl,xl,'r-')\n",
    "\n",
    "plt.subplot(1,2, 2)\n",
    "plt.loglog(ds1_2[\"EP_1\"], ds1_2[\"EP_2\"],'k.',alpha=0.01)\n",
    "plt.xlabel(\"EP_1\")\n",
    "xl2=plt.xlim()\n",
    "plt.plot(xl2,xl2,'r-')\n",
    "plt.xlim((xl2[0],xl2[0]*xl[1]/xl[0])) # force to have the same range as the left panel\n",
    "plt.ylim((xl2[0],xl2[0]*xl[1]/xl[0])) # force to have the same range as the left panel\n",
    "plt.show()"
   ]
  },
  {
   "cell_type": "code",
   "execution_count": null,
   "metadata": {},
   "outputs": [],
   "source": [
    "def wilson_dist_normalized(E, centric=False):\n",
    "    if centric:\n",
    "        P_E = np.sqrt(2/np.pi)*np.exp(-0.5*E**2) \n",
    "    else:\n",
    "        P_E = 2*E*np.exp(-E**2)\n",
    "    return P_E"
   ]
  },
  {
   "cell_type": "markdown",
   "metadata": {},
   "source": [
    "Let's see how well the structure factor amplitudes fit the Wilson distributions."
   ]
  },
  {
   "cell_type": "code",
   "execution_count": null,
   "metadata": {
    "scrolled": true
   },
   "outputs": [],
   "source": [
    "bins=np.linspace(0,5,50)\n",
    "\n",
    "xl=(0,5)\n",
    "plt.figure(1,figsize=(10,10))\n",
    "plt.subplot(2,2, 1)\n",
    "plt.hist(ds1_2[\"EP_1\"][ds1_2[\"CENTRIC\"].to_numpy()==False],bins=bins,density=True)\n",
    "plt.plot(bins, wilson_dist_normalized(bins, centric=False),'r-')\n",
    "plt.title(\"Distribution of acentric E\")\n",
    "plt.xlabel(\"E\")\n",
    "plt.xlim(xl)\n",
    "\n",
    "plt.subplot(2,2, 2)\n",
    "plt.hist(ds1_2[\"EP_1\"][ds1_2[\"CENTRIC\"].to_numpy()==True],bins=bins,density=True)\n",
    "plt.plot(bins, wilson_dist_normalized(bins, centric=True),'r-')\n",
    "plt.title(\"Distribution of centric E\")\n",
    "plt.xlabel(\"E\")\n",
    "plt.legend([\"Expected\",\"Observed\"])\n",
    "plt.xlim(xl)\n",
    "\n",
    "plt.subplot(2,2, 3)\n",
    "plt.hist(ds1_2[\"EP_2\"][ds1_2[\"CENTRIC\"].to_numpy()==False],bins=bins,density=True)\n",
    "plt.plot(bins, wilson_dist_normalized(bins, centric=False),'r-')\n",
    "plt.title(\"Distribution of acentric E\")\n",
    "plt.xlabel(\"E\")\n",
    "plt.xlim(xl)\n",
    "\n",
    "plt.subplot(2,2, 4)\n",
    "plt.hist(ds1_2[\"EP_2\"][ds1_2[\"CENTRIC\"].to_numpy()==True],bins=bins,density=True)\n",
    "plt.plot(bins, wilson_dist_normalized(bins, centric=True),'r-')\n",
    "plt.title(\"Distribution of centric E\")\n",
    "plt.xlabel(\"E\")\n",
    "plt.legend([\"Expected\",\"Observed\"])\n",
    "plt.xlim(xl)\n",
    "\n",
    "plt.show()"
   ]
  },
  {
   "cell_type": "markdown",
   "metadata": {},
   "source": [
    "Interpretation: The deviations at low E seem to be attributable to weak reflections tending to be systematically excluded from the data (verify!), and/or an artefact from FW. **Do we have a good way to make a plot of completeness v resolution?**. "
   ]
  },
  {
   "cell_type": "markdown",
   "metadata": {},
   "source": [
    "## Conditional PDFs for normalized structure factors"
   ]
  },
  {
   "cell_type": "code",
   "execution_count": null,
   "metadata": {},
   "outputs": [],
   "source": [
    "from scipy.stats import rice\n",
    "from scipy.stats import foldnorm"
   ]
  },
  {
   "cell_type": "markdown",
   "metadata": {},
   "source": [
    "### Benchmarks using synthetic data\n",
    "We'll first examine some synthetic data generated from the Double-Wilson distribution."
   ]
  },
  {
   "cell_type": "markdown",
   "metadata": {},
   "source": [
    "#### a. synthetic data generation & graphical inspection (acentric)"
   ]
  },
  {
   "cell_type": "code",
   "execution_count": null,
   "metadata": {},
   "outputs": [],
   "source": [
    "nsamples=100000\n",
    "nbin=25\n",
    "x=np.linspace(0,5,100) # x-coordinates for plots\n",
    "r=0.8                  # correlation between random walks \n",
    "mean=[0,0,0,0]         # mean of random walks\n",
    "cov=0.5*np.asarray([[1,0,r,0],[0,1,0,r],[r,0,1,0],[0,r,0,1]])\n",
    "\n",
    "E_1x_1y_2x_2y = np.random.multivariate_normal(mean=mean, cov=cov,size=nsamples)\n",
    "print(E_1x_1y_2x_2y.shape)\n",
    "\n",
    "# fake data set (acentric)\n",
    "ds_test = pd.DataFrame(np.sqrt(E_1x_1y_2x_2y[:,0]**2 +E_1x_1y_2x_2y[:,1]**2 ), columns = [\"EP_1\"])\n",
    "ds_test[\"EP_2\"] = pd.DataFrame(np.sqrt(E_1x_1y_2x_2y[:,2]**2 +E_1x_1y_2x_2y[:,3]**2 ))\n",
    "\n",
    "# graphical inspection\n",
    "plt.figure()\n",
    "plt.hist(ds_test[\"EP_1\"].to_numpy(),100,density=True)\n",
    "plt.plot(x, wilson_dist_normalized(x, centric=False),'r-')\n",
    "plt.legend([\"Acentric Wilson\", \"Fake observed E (acentric)\"])\n",
    "plt.show()"
   ]
  },
  {
   "cell_type": "markdown",
   "metadata": {},
   "source": [
    "#### b. synthetic data generation & graphical inspection (centric)\n",
    "Now the same inspection for centric reflections. Note the subtle factor 2 resulting from multiplicity."
   ]
  },
  {
   "cell_type": "code",
   "execution_count": null,
   "metadata": {},
   "outputs": [],
   "source": [
    "# fake data set (centric)\n",
    "# mind the sqrt(2)! we normalize, in effect, by the rms acentric amplitude\n",
    "ds_test_cent = pd.DataFrame(        np.sqrt(2*E_1x_1y_2x_2y[:,0]**2), columns = [\"EP_1\"])\n",
    "ds_test_cent[\"EP_2\"] = pd.DataFrame(np.sqrt(2*E_1x_1y_2x_2y[:,2]**2))\n",
    "\n",
    "print(ds_test_cent.mean())\n",
    "# graphical inspection\n",
    "plt.figure()\n",
    "plt.hist(ds_test_cent[\"EP_2\"].to_numpy(),100,density=True)\n",
    "plt.plot(x, wilson_dist_normalized(x, centric=True),'r-')\n",
    "plt.legend([\"Centric Wilson\", \"Fake observed E (centric)\"])\n",
    "plt.show()"
   ]
  },
  {
   "cell_type": "markdown",
   "metadata": {},
   "source": [
    "#### c. FAKE DATA: Conditional distribution for Acentrics. Step 1: means per bin for $|E_1|$.\n",
    "We will calculate the conditional distributions of $|E_2|$ per bin of $|E_1|$. First, for **acentrics**."
   ]
  },
  {
   "cell_type": "code",
   "execution_count": null,
   "metadata": {
    "scrolled": true
   },
   "outputs": [],
   "source": [
    "cdf_bins = np.linspace(0,100,nbin+1)\n",
    "ep1_bins = np.percentile(ds_test[\"EP_1\"], cdf_bins)\n",
    "ep1_bins[-1] = ep1_bins[-1]+1e-6 # to avoid omitting the largest data point\n",
    "ep1_dig  = np.digitize(ds_test[\"EP_1\"], ep1_bins)\n",
    "ds_test[\"EP_1_bin\"] = ep1_dig.flatten()\n",
    "\n",
    "unique, counts = np.unique(ds_test[\"EP_1_bin\"], return_counts=True)\n",
    "temp = dict(zip(unique, counts))\n",
    "print(\"Number of reflections per bin:\")\n",
    "print(temp)\n",
    "\n",
    "bin_means=ds_test.groupby(\"EP_1_bin\")[\"EP_1\"].mean()\n",
    "plt.plot(bin_means,'bo-')\n",
    "plt.xlabel(\"Bin index\")\n",
    "plt.ylabel(\"Mean |E1| for bin\")\n",
    "plt.grid(True)\n",
    "plt.ylim(0,)\n",
    "plt.show()"
   ]
  },
  {
   "cell_type": "markdown",
   "metadata": {},
   "source": [
    "#### d. FAKE DATA: Conditional distribution for Acentrics. Step 2: histograms of $|E_2|$ per bin of $|E_1|$."
   ]
  },
  {
   "cell_type": "code",
   "execution_count": null,
   "metadata": {},
   "outputs": [],
   "source": [
    "plt.figure(figsize=(15,15))   # for illustration purposes use 15, 5\n",
    "x=np.linspace(0,3,100)\n",
    "counter = 0\n",
    "for i in range(1,nbin+1):     # for illustration purposes use [1, 13, 25] \n",
    "    plt.subplot(5,5,i)\n",
    "#    counter += 1             # for illustration purposes.\n",
    "#    plt.subplot(1,3,counter) # for illustration purposes.\n",
    "    rho = r                   # see above\n",
    "    r1 = rho*bin_means[i]     # conditional exp value\n",
    "    cond_var = 0.5*(1-rho**2) # conditional var for acentrics\n",
    "#    \n",
    "    plt.hist(ds_test[\"EP_2\"][ds_test[\"EP_1_bin\"]==i],np.linspace(0,5,50),density=True)\n",
    "    plt.plot(x, rice.pdf(x, r1/np.sqrt(cond_var),scale=np.sqrt(cond_var)),'r-')\n",
    "    yl=plt.ylim()\n",
    "#\n",
    "#    to illustrate the idea of Rice interpolating between Wilson and delta function:\n",
    "#    plt.plot(bin_means[i]*np.asarray([1, 1]),yl,'k-')\n",
    "#    plt.plot(rice.mean(0,scale=1/np.sqrt(2))*np.asarray([1,1]),yl,'b-')\n",
    "#    plt.plot(rice.mean(r1/np.sqrt(cond_var),scale=np.sqrt(cond_var))*np.asarray([1,1]),yl,'r:')\n",
    "    xl=[0,3] #plt.xlim()\n",
    "    plt.xlim(xl)\n",
    " \n",
    "plt.subplot(5,5,3)\n",
    "plt.title(\"Conditional histograms (acentric, fake data)\")\n",
    "plt.show()\n",
    "# Basic check:\n",
    "#    plt.plot(np.sqrt((1-rho**2)+rho**2 * bin_means[i]**2), np.sqrt(np.mean(ds_test[\"EP_2\"][ds_test[\"EP_1_bin\"]==i]**2)), 'bo')"
   ]
  },
  {
   "cell_type": "markdown",
   "metadata": {},
   "source": [
    "#### e. FAKE DATA: Conditional distribution for Centrics. Step 1: means per bin for $|E_1|$."
   ]
  },
  {
   "cell_type": "code",
   "execution_count": null,
   "metadata": {
    "scrolled": true
   },
   "outputs": [],
   "source": [
    "cdf_cent_bins     = np.linspace(0,100,nbin+1)\n",
    "ep1_cent_bins     = np.percentile(ds_test_cent[\"EP_1\"], cdf_cent_bins)\n",
    "ep1_cent_bins[-1] = ep1_cent_bins[-1]+1e-6 # to avoid omitting the largest data point\n",
    "ep1_cent_dig  = np.digitize(ds_test_cent[\"EP_1\"], ep1_cent_bins)\n",
    "ds_test_cent[\"EP_1_bin\"] = ep1_cent_dig.flatten()\n",
    "\n",
    "unique, counts = np.unique(ds_test_cent[\"EP_1_bin\"], return_counts=True)\n",
    "temp = dict(zip(unique, counts))\n",
    "print(\"Number of reflections per bin:\")\n",
    "print(temp)\n",
    "\n",
    "bin_means_cent=ds_test_cent.groupby(\"EP_1_bin\")[\"EP_1\"].mean()\n",
    "plt.plot(bin_means_cent,'bo-')\n",
    "plt.xlabel(\"Bin index\")\n",
    "plt.ylabel(\"Mean |E1| for bin\")\n",
    "plt.title(\"Centric\")\n",
    "plt.show()"
   ]
  },
  {
   "cell_type": "markdown",
   "metadata": {},
   "source": [
    "#### f. FAKE DATA: Conditional distribution for Centrics. Step 2: histograms of $|E_2|$ per bin of $|E_1|$."
   ]
  },
  {
   "cell_type": "code",
   "execution_count": null,
   "metadata": {
    "scrolled": true
   },
   "outputs": [],
   "source": [
    "plt.figure(figsize=(15,15))\n",
    "x=np.linspace(0,3,100)\n",
    "for i in range(1,nbin+1):\n",
    "    #print(i)\n",
    "    plt.subplot(5,5,i)\n",
    "    rho = 0.8 # a guess\n",
    "    r1 = rho*bin_means_cent[i] # conditional exp value\n",
    "    cond_var = (1-rho**2)      # no 0.5* for centrics!\n",
    "    plt.hist(ds_test_cent[\"EP_2\"][ds_test_cent[\"EP_1_bin\"]==i],np.linspace(0,5,50),density=True)\n",
    "    plt.plot(x, foldnorm.pdf(x, r1/np.sqrt(cond_var),scale=np.sqrt(cond_var)),'r-')\n",
    "    xl=[0,3] #plt.xlim()\n",
    "    #yl=plt.ylim()\n",
    "    plt.xlim(xl)\n",
    "    #plt.ylim(yl)\n",
    "    #plt.xlabel(\"Expected conditional mean for parallel component\")\n",
    "    #plt.ylabel(\"Observed conditional mean for parallel component\")\n",
    "\n",
    "plt.subplot(5,5,3)\n",
    "plt.title(\"Conditional histograms (Centric, fake data)\")\n",
    "plt.show()\n",
    "# Basic check:\n",
    "#    plt.plot(np.sqrt((1-rho**2)+rho**2 * bin_means[i]**2), np.sqrt(np.mean(ds_test[\"EP_2\"][ds_test[\"EP_1_bin\"]==i]**2)), 'bo')"
   ]
  },
  {
   "cell_type": "markdown",
   "metadata": {},
   "source": [
    "#### Let's look at correlation coefficients under experimental errors"
   ]
  },
  {
   "cell_type": "code",
   "execution_count": null,
   "metadata": {},
   "outputs": [],
   "source": [
    "ds1_2.info()"
   ]
  },
  {
   "cell_type": "code",
   "execution_count": null,
   "metadata": {},
   "outputs": [],
   "source": []
  },
  {
   "cell_type": "code",
   "execution_count": null,
   "metadata": {
    "scrolled": true
   },
   "outputs": [],
   "source": [
    "nbin=(12,10)\n",
    "\n",
    "cdf_bins = np.linspace(0,100,nbin[0]+1)\n",
    "d_bins = np.percentile(ds1_2[\"dHKL\"], cdf_bins)\n",
    "d_bins[-1] = d_bins[-1]+1e-6 # to avoid omitting the largest data point\n",
    "d_dig  = np.digitize(ds1_2[\"dHKL\"], d_bins)\n",
    "ds1_2[\"dHKL_bin_test\"] = d_dig.flatten()\n",
    "print(d_bins)\n",
    "\n",
    "cdf_bins = np.linspace(0,100,nbin[1]+1)\n",
    "ep1_bins = np.percentile(ds1_2[\"EP_1\"], cdf_bins)\n",
    "ep1_bins[-1] = ep1_bins[-1]+1e-6 # to avoid omitting the largest data point\n",
    "ep1_dig  = np.digitize(ds1_2[\"EP_1\"], ep1_bins)\n",
    "ds1_2[\"EP_1_bin_test\"] = ep1_dig.flatten()\n",
    "\n",
    "\n",
    "H, xedges, yedges = np.histogram2d(ds1_2[\"dHKL_bin_test\"], ds1_2[\"EP_1_bin_test\"],bins=nbin)\n",
    "print(H.shape)\n",
    "print(H)\n",
    "\n",
    "plt.figure(figsize=(10,8))\n",
    "im=plt.imshow(H.transpose(), interpolation='nearest', origin='lower',\\\n",
    "           extent=[xedges[0], xedges[-1], yedges[0], yedges[-1]],vmin=0)\n",
    "plt.xlabel(\"resolution bin\")\n",
    "plt.ylabel(\"|E| bin\")\n",
    "plt.title(\"Counts per 2D bin for |E| and dHKL\")\n",
    "plt.colorbar(im,fraction=0.04, pad=0.04)\n",
    "plt.show()"
   ]
  },
  {
   "cell_type": "code",
   "execution_count": null,
   "metadata": {
    "scrolled": false
   },
   "outputs": [],
   "source": [
    "print(ds1_2.shape[0])\n",
    "for i in range(0,10):\n",
    "    print(ds1_2[[\"EP_1_bin_test\",\"dHKL_bin_test\"]].iloc[i].to_numpy())\n",
    "    \n",
    "\n",
    "\n",
    "size = 2        # sample size\n",
    "replace = True  # with replacement\n",
    "fn = lambda obj: obj.loc[np.random.choice(obj.index, size, replace),:]\n",
    "#df.groupby('Group_Id', as_index=False).apply(fn)\n",
    "print(ds1_2[\"EP_1\"][(ds1_2[\"dHKL_bin_test\"]==1)&(ds1_2[\"EP_1_bin_test\"]==1)].sample(5))\n"
   ]
  },
  {
   "cell_type": "markdown",
   "metadata": {},
   "source": [
    "Note that the Wilson distribution holds in aggregate for these data, but not per resolution bin! OR AM I INTERPRETING THIS INCORRECTLY?"
   ]
  },
  {
   "cell_type": "markdown",
   "metadata": {},
   "source": [
    "### Now the same steps for real data"
   ]
  },
  {
   "cell_type": "markdown",
   "metadata": {},
   "source": [
    "#### c. Means per bin for $|E_1|$, determined separately for acentrics and centrics.\n",
    "We will calculate the conditional distributions of $|E_2|$ per bin of $|E_1|$. We'll set bin labels for both centrics and acentrics here:"
   ]
  },
  {
   "cell_type": "code",
   "execution_count": null,
   "metadata": {},
   "outputs": [],
   "source": [
    "cdf_bins = np.linspace(0,100,nbin+1)\n",
    "\n",
    "ds1_2_centric  = (ds1_2[\"CENTRIC\"].to_numpy()==True)\n",
    "ds1_2_acentric = (ds1_2[\"CENTRIC\"].to_numpy()==False)\n",
    "\n",
    "ep1_bins          = np.percentile(ds1_2[\"EP_1\"][ds1_2_acentric], cdf_bins)\n",
    "ep1_bins[-1]      = ep1_bins[-1]+1e-6                # to avoid omitting the largest data point\n",
    "ep1_dig           = np.digitize(ds1_2[\"EP_1\"][  ds1_2_acentric], ep1_bins) # note that we're creating bin labels for all reflections, acentric or not\n",
    "\n",
    "ep1_cent_bins     = np.percentile(ds1_2[\"EP_1\"][ds1_2_centric], cdf_bins)\n",
    "ep1_cent_bins[-1] = ep1_cent_bins[-1]+1e-6\n",
    "ep1_cent_dig      = np.digitize(ds1_2[\"EP_1\"][  ds1_2_centric], ep1_cent_bins) # note that we're creating bin labels for all reflections, acentric or not\n",
    "\n",
    "ds1_2[\"EP_1_bin\"] = np.zeros((ds1_2[\"EP_1\"].shape[0],1))\n",
    "ds1_2[\"EP_1_bin\"][ds1_2_acentric] = ep1_dig.flatten()\n",
    "ds1_2[\"EP_1_bin\"][ds1_2_centric ] = ep1_cent_dig.flatten()"
   ]
  },
  {
   "cell_type": "markdown",
   "metadata": {},
   "source": [
    "Some inspection of the created bins!"
   ]
  },
  {
   "cell_type": "code",
   "execution_count": null,
   "metadata": {
    "scrolled": true
   },
   "outputs": [],
   "source": [
    "# For acentrics:\n",
    "unique, counts = np.unique(ds1_2[\"EP_1_bin\"][ds1_2_acentric], return_counts=True)\n",
    "temp = dict(zip(unique, counts))\n",
    "print(\"Number of reflections per bin (acentric):\")\n",
    "print(temp)\n",
    "print()\n",
    "\n",
    "# for centrics\n",
    "unique, counts = np.unique(ds1_2[\"EP_1_bin\"][ds1_2_centric], return_counts=True)\n",
    "temp = dict(zip(unique, counts))\n",
    "print(\"Number of reflections per bin (centric):\")\n",
    "print(temp)\n",
    "\n",
    "bin_means_acentric = ds1_2[ds1_2_acentric].groupby(\"EP_1_bin\")[\"EP_1\"].mean()\n",
    "bin_means_centric  = ds1_2[ds1_2_centric ].groupby(\"EP_1_bin\")[\"EP_1\"].mean()\n",
    "plt.plot(bin_means_acentric,'bo-')\n",
    "plt.plot(bin_means_centric, 'ro-')\n",
    "plt.xlabel(\"Bin index\")\n",
    "plt.ylabel(\"Mean |E1| for bin\")\n",
    "plt.show()"
   ]
  },
  {
   "cell_type": "markdown",
   "metadata": {},
   "source": [
    "#### d. REAL DATA: Conditional distribution for Acentrics. Histograms of $|E_2|$ per bin of $|E_1|$."
   ]
  },
  {
   "cell_type": "code",
   "execution_count": null,
   "metadata": {},
   "outputs": [],
   "source": [
    "plt.figure(figsize=(15,15))\n",
    "x=np.linspace(0,3,100)\n",
    "for i in range(1,nbin+1):\n",
    "    plt.subplot(5,5,i)\n",
    "    rho = 0.78                       # a guess of the corr coef between data sets\n",
    "    r1  = rho*bin_means_acentric[i]  # conditional exp value of E1 given E2\n",
    "    cond_var = 0.5*(1-rho**2)        # conditional variance  of E1 given E2\n",
    "#    \n",
    "    plt.hist(ds1_2[\"EP_2\"][(ds1_2[\"EP_1_bin\"]==i) & ds1_2_acentric],np.linspace(0,5,50),density=True)\n",
    "    plt.plot(x, rice.pdf(x, r1/np.sqrt(cond_var), scale=np.sqrt(cond_var)),'r-')\n",
    "    xl=[0,3] \n",
    "    plt.xlim(xl)\n",
    "\n",
    "plt.subplot(5,5,3)\n",
    "plt.title(\"Conditional histograms for E1 given E2 (acentric, real data)\")\n",
    "plt.show()\n",
    "# Basic check:\n",
    "#    plt.plot(np.sqrt((1-rho**2)+rho**2 * bin_means[i]**2), np.sqrt(np.mean(ds_test[\"EP_2\"][ds_test[\"EP_1_bin\"]==i]**2)), 'bo')"
   ]
  },
  {
   "cell_type": "markdown",
   "metadata": {},
   "source": [
    "#### e. REAL DATA: Conditional distribution for Centrics. Step 1: means per bin for $|E_1|$."
   ]
  },
  {
   "cell_type": "code",
   "execution_count": null,
   "metadata": {},
   "outputs": [],
   "source": [
    "plt.figure(figsize=(15,15))\n",
    "x=np.linspace(0,3,100)\n",
    "for i in range(1,nbin+1):\n",
    "    plt.subplot(5,5,i)\n",
    "    rho = 0.78                       # a guess of the corr coef between data sets\n",
    "    r1  = rho*bin_means_centric[i]   # conditional exp value of E1 given E2\n",
    "    cond_var = (1-rho**2)            # conditional variance  of E1 given E2\n",
    "#    \n",
    "    plt.hist(ds1_2[\"EP_2\"][(ds1_2[\"EP_1_bin\"]==i) & ds1_2_centric],np.linspace(0,5,50),density=True)\n",
    "    plt.plot(x, foldnorm.pdf(x, r1/np.sqrt(cond_var), scale=np.sqrt(cond_var)),'r-')\n",
    "    xl=[0,3] \n",
    "    plt.xlim(xl)\n",
    "\n",
    "plt.subplot(5,5,3)\n",
    "plt.title(\"Conditional histograms for E1 given E2 (centric, real data)\")\n",
    "plt.show()"
   ]
  },
  {
   "cell_type": "markdown",
   "metadata": {},
   "source": [
    "### Let's take a look at phases!"
   ]
  },
  {
   "cell_type": "code",
   "execution_count": null,
   "metadata": {
    "scrolled": true
   },
   "outputs": [],
   "source": [
    "ds1_2.info()"
   ]
  },
  {
   "cell_type": "code",
   "execution_count": null,
   "metadata": {},
   "outputs": [],
   "source": [
    "plt.plot(ds1_2[\"PHIC_1\"].to_numpy(),ds1_2[\"PHIC_ALL_1\"].to_numpy(),'bo',alpha=0.02)\n",
    "plt.xlabel(\"PHIC_1 (deg)\")\n",
    "plt.ylabel(\"PHIC_ALL_1 (deg)\")\n",
    "plt.show()"
   ]
  },
  {
   "cell_type": "markdown",
   "metadata": {},
   "source": [
    "not sure what the differences are, but they're all close!"
   ]
  },
  {
   "cell_type": "markdown",
   "metadata": {},
   "source": [
    "Because of the structure of the Von Mises distribution, the conditional probability of the phase difference of E1 and E2 is a function only of E1 x E2. We'll bin by that. For now, we'll only think about acentrics.\n",
    "\n",
    "Specifically, the Von Mises distribution (Bricogne, Methods in Enzymology, eq. 1.10) is given by:\n",
    "\n",
    "$P\\left( \\varphi | R, r \\right) = \\frac{1}{2\\pi I_0(z)}\\exp\\left( z \\cos(\\Delta \\varphi)\\right)$ \n",
    "\n",
    "with $z = \\frac{2 r R}{(1-\\rho^2)}$\n",
    "\n",
    "which can also be derived by dividing eq. 14 for $P(R,\\varphi | r)$ by eq. 15 for $P(R | r)$ in my current notes"
   ]
  },
  {
   "cell_type": "code",
   "execution_count": null,
   "metadata": {},
   "outputs": [],
   "source": [
    "from scipy.stats import vonmises\n",
    "\n",
    "ds1_2[\"DeltaPHIC\"] = np.remainder((np.pi/180.0)*(ds1_2[\"PHIC_2\"].to_numpy()-ds1_2[\"PHIC_1\"].to_numpy()),2*np.pi)\n",
    "ds1_2[\"cos(DeltaPHIC)\"] = np.cos(ds1_2[\"DeltaPHIC\"])\n",
    "\n",
    "plt.hist(ds1_2[\"DeltaPHIC\"],50 )\n",
    "plt.show()\n",
    "\n",
    "cdf_bins = np.linspace(0,100,nbin+1)\n",
    "\n",
    "ds1_2[\"EP_12\"]  = ds1_2[\"EP_1\"] * ds1_2[\"EP_2\"]                                 \n",
    "ep12_bins       = np.percentile(ds1_2[\"EP_12\"][ds1_2_acentric], cdf_bins)\n",
    "ep12_bins[-1]   = ep12_bins[-1]+1e-6                # to avoid omitting the largest data point\n",
    "ep12_dig        = np.digitize(ds1_2[\"EP_12\"][  ds1_2_acentric], ep12_bins)\n",
    "\n",
    "ds1_2[\"EP_12_bin\"] = np.zeros((ds1_2[\"EP_12\"].shape[0],1))\n",
    "ds1_2[\"EP_12_bin\"][ds1_2_acentric] = ep12_dig.flatten()\n",
    "\n",
    "# For acentrics:\n",
    "unique, counts = np.unique(ds1_2[\"EP_12_bin\"][ds1_2_acentric], return_counts=True)\n",
    "temp = dict(zip(unique, counts))\n",
    "print(\"Number of reflections per bin (acentric):\")\n",
    "print(temp)\n",
    "print()\n",
    "\n",
    "bin_means_12_acentric = ds1_2[ds1_2_acentric].groupby(\"EP_12_bin\")[\"EP_12\"].mean()\n",
    "\n",
    "                                 \n",
    "plt.figure(figsize=(15,15))\n",
    "x = np.linspace(0,2*np.pi,50)\n",
    "for i in range(1,nbin+1):\n",
    "    plt.subplot(5,5,i)\n",
    "    rho = 0.78                         # a guess of the corr coef between data sets\n",
    "    cond_var = 0.5*(1-rho**2)          # conditional variance  of E1 given E2\n",
    "#    \n",
    "    plt.hist(ds1_2[\"DeltaPHIC\"][(ds1_2[\"EP_1_bin\"]==i) & ds1_2_acentric],np.linspace(0,2*np.pi,50),density=True)\n",
    "    plt.plot(x, vonmises.pdf(x, bin_means_12_acentric[i]/cond_var),'r-')\n",
    "\n",
    "plt.show()\n",
    "\n",
    "# THE FOLLOWING DOES NOT WORK YET. NOT SURE WHY.\n",
    "print(ep1_dig.shape)\n",
    "plt.plot(bin_means_12_acentric/cond_var, ds1_2[\"cos(DeltaPHIC)\"][ds1_2_acentric].groupby(ds1_2[\"EP_12_bin\"]).mean(),'bo')\n",
    "for i in range(1,15):\n",
    "    print(i)\n",
    "    plt.plot(bin_means_12_acentric[i]/cond_var, 1-0.5*vonmises.var(bin_means_12_acentric[i]/cond_var),'rs',alpha=0.3)\n",
    "plt.show()"
   ]
  },
  {
   "cell_type": "markdown",
   "metadata": {},
   "source": [
    "### Let's look at predicted correlation coefficients"
   ]
  },
  {
   "cell_type": "markdown",
   "metadata": {},
   "source": [
    "### Add missing reflections to dataset and calculate completeness"
   ]
  },
  {
   "cell_type": "code",
   "execution_count": null,
   "metadata": {
    "scrolled": true
   },
   "outputs": [],
   "source": [
    "def dataset_hkl(cell, sg, res_cutoff):\n",
    "    \"\"\"\n",
    "    set up an empty dataset to a given resolution (mapped to ASU, no systematic absences)\n",
    "    \"\"\"\n",
    "    \n",
    "    max_hkl = np.max([cell.a, cell.b, cell.c])/res_cutoff\n",
    "    hmin, hmax = -max_hkl,max_hkl \n",
    "    H = np.mgrid[hmin:hmax+1:2,hmin:hmax+1:2,hmin:hmax+1:2].reshape((3, -1)).T\n",
    "    ds = rs.DataSet({\"H\": H[:, 0], \"K\": H[:, 1], \"L\": H[:, 2]})\n",
    "    ds.set_index([\"H\", \"K\", \"L\"], inplace=True)\n",
    "    ds.cell=cell\n",
    "    ds.spacegroup=sg                                        ; print(\"entries, initially:       \" + str(ds.shape[0]))\n",
    "    ds_asu = ds.hkl_to_asu(inplace=False)                   \n",
    "    ds_asu = ds_asu[~ds_asu.index.duplicated(keep='first')] ; print(\"entries after map to ASU: \" + str(ds_asu.shape[0]))\n",
    "    ds_asu.label_absences(inplace=True)                      \n",
    "    ds_asu = ds_asu[ds_asu[\"ABSENT\"]==False]                ; print(\"entries wo sys absences:  \" + str(ds_asu.shape[0]))     \n",
    "    ds_asu.compute_dHKL(inplace=True)                       \n",
    "    ds_asu = ds_asu[ds_asu[\"dHKL\"]>=res_cutoff]             ; print(\"entries after res cutoff: \" + str(ds_asu.shape[0]))     \n",
    "    return ds_asu\n",
    "\n",
    "def complete_dataset(ds, res_cutoff=-1, trim_to_res=True):\n",
    "    \"\"\"\n",
    "    Completes a dataset with the missing observations to a given resolution.\n",
    "    \"\"\"\n",
    "    cell=ds.cell\n",
    "    sg  =ds.spacegroup\n",
    "    ds  =ds.compute_dHKL(inplace=True)\n",
    "    if res_cutoff < 0:\n",
    "        res_cutoff = np.min(ds[\"dHKL\"])\n",
    "    if trim_to_res:\n",
    "        ds=ds[ds[\"dHKL\"]>=res_cutoff]\n",
    "    ds_complete = dataset_hkl(cell, sg, res_cutoff)\n",
    "    ds_complete = ds_complete.merge(ds.hkl_to_asu(), how='left',left_index=True,right_index=True,suffixes=[\"\",\"_all\"],indicator=True)#,validate=\"one_to_one\")\n",
    "    ds_complete[\"observed\"]=(ds_complete[\"_merge\"]==\"both\")\n",
    "    return ds_complete\n",
    "\n",
    "ds_complete = complete_dataset(ds1)\n",
    "ds_complete.assign_resolution_bins(inplace=True)\n",
    "plt.plot(ds_complete[\"dHKL\"].groupby(ds_complete[\"bin\"]).mean(),100*ds_complete[\"observed\"].groupby(ds_complete[\"bin\"]).mean())\n",
    "plt.show()"
   ]
  },
  {
   "cell_type": "code",
   "execution_count": null,
   "metadata": {},
   "outputs": [],
   "source": [
    "#print(ds_complete[\"observed\"])\n",
    "ds_complete = ds_add_rs(ds_complete,force_rs=True)\n",
    "print(ds_complete[ds_complete[\"observed\"]==False])\n",
    "from mpl_toolkits import mplot3d\n",
    "\n",
    "plt.ion\n",
    "fig = plt.figure(figsize=(4,4))\n",
    "ax = plt.axes(projection=\"3d\")\n",
    "ax.scatter3D(ds_complete[\"rs_a\"][ds_complete[\"observed\"]==False], \\\n",
    "             ds_complete[\"rs_b\"][ds_complete[\"observed\"]==False], \\\n",
    "             ds_complete[\"rs_c\"][ds_complete[\"observed\"]==False],'bo')\n",
    "ax.view_init(elev=60., azim=120.)\n",
    "ax.set_xlabel(\"rs_a\")\n",
    "ax.set_ylabel(\"rs_b\")\n",
    "ax.set_zlabel(\"rs_c\")\n",
    "plt.draw()\n",
    "\n",
    "#for angle in range(0, 360):\n",
    "#    ax.view_init(30, angle)\n",
    "#    plt.draw()\n",
    "#    plt.pause(.001)"
   ]
  },
  {
   "cell_type": "code",
   "execution_count": null,
   "metadata": {},
   "outputs": [],
   "source": [
    "#plt.plot()\n",
    "ds_complete.info()"
   ]
  },
  {
   "cell_type": "code",
   "execution_count": null,
   "metadata": {},
   "outputs": [],
   "source": []
  },
  {
   "cell_type": "markdown",
   "metadata": {},
   "source": [
    "### \"Local scaling\" (BELOW HAS NOT BEEN FINISHED).\n",
    "We'll try to do a version of local scaling by learning a scale factor from reciprocal lattice point coordinates only."
   ]
  },
  {
   "cell_type": "code",
   "execution_count": null,
   "metadata": {},
   "outputs": [],
   "source": [
    "from sklearn.neural_network import MLPRegressor\n",
    "from sklearn.model_selection import GridSearchCV\n",
    "\n",
    "sig_cut = 10\n",
    "incl_criteria = (ds1_2[\"FP_1\"]/ds1_2[\"SIGFP_1\"]>sig_cut) & \\\n",
    "                (ds1_2[\"FP_2\"]/ds1_2[\"SIGFP_2\"]>sig_cut)\n",
    "print(\"Number of retained reflections: \" + str(np.sum(incl_criteria.to_numpy())) \\\n",
    "      + \" out of \" + str(incl_criteria.to_numpy().size))\n",
    "X_train, X_test, y_train, y_test = train_test_split(ds1_2[[\"rs_a_1\", \"rs_b_1\", \"rs_c_1\"]][incl_criteria], \n",
    "                                                    ds1_2[\"gamma_pp\"][incl_criteria], \n",
    "                                                    test_size=0.3, random_state=42)"
   ]
  },
  {
   "cell_type": "markdown",
   "metadata": {},
   "source": [
    "Let's train a neural network (MLP) and set some parameters using a cross-validation grid search. The results for (1BE9 & 1BFE) hit a ceiling that is similar using different parameter settings."
   ]
  },
  {
   "cell_type": "code",
   "execution_count": null,
   "metadata": {},
   "outputs": [],
   "source": [
    "parameters = {'alpha':[0.001],'hidden_layer_sizes':[(10,10), (5,5),(3,3,3)],'activation':['identity', 'logistic', 'tanh', 'relu']}\n",
    "nn = MLPRegressor(max_iter=500)\n",
    "reg = GridSearchCV(nn, parameters)\n",
    "reg.fit(X_train, y_train)\n",
    "print(sorted(reg.cv_results_.keys()))\n",
    "#nn = MLPRegressor(\n",
    "#    hidden_layer_sizes=(10,10),  activation='relu', solver='adam', alpha=0.001, batch_size='auto',\n",
    "#    learning_rate='constant', learning_rate_init=0.01, power_t=0.5, max_iter=1000, shuffle=True,\n",
    "#    random_state=9, tol=0.0001, verbose=False, warm_start=False, momentum=0.9, nesterovs_momentum=True,\n",
    "#    early_stopping=False, validation_fraction=0.1, beta_1=0.9, beta_2=0.999, epsilon=1e-08)"
   ]
  },
  {
   "cell_type": "markdown",
   "metadata": {},
   "source": [
    "Let's check performance using the test set."
   ]
  },
  {
   "cell_type": "code",
   "execution_count": null,
   "metadata": {
    "scrolled": true
   },
   "outputs": [],
   "source": [
    "print(reg.best_estimator_)\n",
    "print(reg.best_score_)\n",
    "print(reg.score(X_test, y_test))"
   ]
  },
  {
   "cell_type": "code",
   "execution_count": null,
   "metadata": {},
   "outputs": [],
   "source": []
  }
 ],
 "metadata": {
  "kernelspec": {
   "display_name": "Python 3",
   "language": "python",
   "name": "python3"
  },
  "language_info": {
   "codemirror_mode": {
    "name": "ipython",
    "version": 3
   },
   "file_extension": ".py",
   "mimetype": "text/x-python",
   "name": "python",
   "nbconvert_exporter": "python",
   "pygments_lexer": "ipython3",
   "version": "3.8.5"
  },
  "toc": {
   "base_numbering": 1,
   "nav_menu": {
    "height": "460px",
    "width": "503px"
   },
   "number_sections": true,
   "sideBar": true,
   "skip_h1_title": false,
   "title_cell": "Table of Contents",
   "title_sidebar": "Contents",
   "toc_cell": false,
   "toc_position": {
    "height": "calc(100% - 180px)",
    "left": "10px",
    "top": "150px",
    "width": "384.4px"
   },
   "toc_section_display": true,
   "toc_window_display": true
  }
 },
 "nbformat": 4,
 "nbformat_minor": 4
}
