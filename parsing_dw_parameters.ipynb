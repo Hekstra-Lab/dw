{
 "cells": [
  {
   "cell_type": "code",
   "execution_count": 1,
   "metadata": {},
   "outputs": [],
   "source": [
    "# General tools\n",
    "\n",
    "%matplotlib inline\n",
    "import matplotlib.pyplot as plt\n",
    "import seaborn as sns\n",
    "import numpy   as np\n",
    "import pandas  as pd\n",
    "sns.set_context(\"notebook\", font_scale=1.3)"
   ]
  },
  {
   "cell_type": "code",
   "execution_count": 2,
   "metadata": {},
   "outputs": [],
   "source": [
    "import reciprocalspaceship as rs\n",
    "import gemmi\n",
    "from scipy.stats             import rice\n",
    "from scipy.stats             import foldnorm"
   ]
  },
  {
   "cell_type": "markdown",
   "metadata": {},
   "source": [
    "We'll need to obtain $r_{DW}$ and $|E|$ from the input MTZ."
   ]
  },
  {
   "cell_type": "code",
   "execution_count": null,
   "metadata": {},
   "outputs": [],
   "source": []
  },
  {
   "cell_type": "code",
   "execution_count": null,
   "metadata": {},
   "outputs": [],
   "source": [
    "#ACENTRIC\n",
    "\n",
    "# Wikipedia to scipy map for Rice:\n",
    "# b     = nu/sigma\n",
    "# loc   = 0\n",
    "# scale = sigma\n",
    "#\n",
    "# nu is the conditional expectation, r_DW * |E|\n",
    "# sigma is the conditional variance, 1/2 (1-r_DW^2) (for the acentrics; the only case for which Rice is applicable)\n",
    "\n",
    "#E_ref = ds[\"E\"]\n",
    "#r_DW = ds[\"r_DW\"]\n",
    "nu = E_ref * r_DW\n",
    "cond_var_ac = 0.5*(1-r_DW**2)\n",
    "sigma_ac = np.sqrt(cond_var_ac)\n",
    "\n",
    "b=nu/sigma_ac\n",
    "scale=sigma_ac\n",
    "x=np.linspace(0,5,100)\n",
    "for i in range(10):\n",
    "    plt.vline(nu[i],'k:')\n",
    "    plt.plot(x, rice.pdf(x, b=b[i], scale=scale[i]),'r-')"
   ]
  },
  {
   "cell_type": "code",
   "execution_count": null,
   "metadata": {},
   "outputs": [],
   "source": [
    "#CENTRIC    \n",
    "\n",
    "# Wikipedia to scipy map for Folded Norma:\n",
    "# c     = mu/sigma\n",
    "# loc   = 0\n",
    "# scale = sigma\n",
    "#\n",
    "# mu is the conditional expectation, r_DW * |E|\n",
    "# sigma is the conditional variance, (1-r_DW^2) (for the centrics; the only case for which FN is applicable)\n",
    "\n",
    "mu = E_ref * r_DW\n",
    "cond_var_c = (1-r_DW**2)\n",
    "sigma_c = np.sqrt(cond_var_c)\n",
    "\n",
    "c=mu/sigma_c\n",
    "scale=sigma_c\n",
    "x=np.linspace(0,5,100)\n",
    "for i in range(10):\n",
    "    plt.vline(mu[i],'k:')\n",
    "    plt.plot(x, foldnorm.pdf(x, c=c[i],scale=scale[i]),'r-')"
   ]
  }
 ],
 "metadata": {
  "kernelspec": {
   "display_name": "Python 3",
   "language": "python",
   "name": "python3"
  },
  "language_info": {
   "codemirror_mode": {
    "name": "ipython",
    "version": 3
   },
   "file_extension": ".py",
   "mimetype": "text/x-python",
   "name": "python",
   "nbconvert_exporter": "python",
   "pygments_lexer": "ipython3",
   "version": "3.8.5"
  },
  "toc": {
   "base_numbering": 1,
   "nav_menu": {},
   "number_sections": true,
   "sideBar": true,
   "skip_h1_title": false,
   "title_cell": "Table of Contents",
   "title_sidebar": "Contents",
   "toc_cell": false,
   "toc_position": {},
   "toc_section_display": true,
   "toc_window_display": false
  }
 },
 "nbformat": 4,
 "nbformat_minor": 4
}
