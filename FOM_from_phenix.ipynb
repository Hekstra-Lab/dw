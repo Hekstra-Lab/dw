{
 "cells": [
  {
   "cell_type": "code",
   "execution_count": 1,
   "metadata": {},
   "outputs": [],
   "source": [
    "import reciprocalspaceship as rs\n",
    "import numpy as np\n",
    "from matplotlib import pyplot as plt"
   ]
  },
  {
   "cell_type": "markdown",
   "metadata": {},
   "source": []
  },
  {
   "cell_type": "code",
   "execution_count": 2,
   "metadata": {},
   "outputs": [],
   "source": [
    "path = \"C:\\\\Users\\\\Doeke Hekstra\\\\Documents\\\\Lab_Hekstra\\\\Lab_projects\\\\Hekstra Doeke THz\\\\LQ92_EGFP_300fs\\\\\"\n",
    "fname = 'EGFP_phases.mtz' "
   ]
  },
  {
   "cell_type": "code",
   "execution_count": 3,
   "metadata": {},
   "outputs": [
    {
     "data": {
      "text/html": [
       "<div>\n",
       "<style scoped>\n",
       "    .dataframe tbody tr th:only-of-type {\n",
       "        vertical-align: middle;\n",
       "    }\n",
       "\n",
       "    .dataframe tbody tr th {\n",
       "        vertical-align: top;\n",
       "    }\n",
       "\n",
       "    .dataframe thead th {\n",
       "        text-align: right;\n",
       "    }\n",
       "</style>\n",
       "<table border=\"1\" class=\"dataframe\">\n",
       "  <thead>\n",
       "    <tr style=\"text-align: right;\">\n",
       "      <th></th>\n",
       "      <th></th>\n",
       "      <th></th>\n",
       "      <th>FOBS</th>\n",
       "      <th>SIGFOBS</th>\n",
       "      <th>R_FREE_FLAGS</th>\n",
       "      <th>FMODEL</th>\n",
       "      <th>PHIFMODEL</th>\n",
       "      <th>FCALC</th>\n",
       "      <th>PHIFCALC</th>\n",
       "      <th>FMASK</th>\n",
       "      <th>PHIFMASK</th>\n",
       "      <th>K_ISOTROPIC</th>\n",
       "      <th>...</th>\n",
       "      <th>BETA</th>\n",
       "      <th>HLmodelA</th>\n",
       "      <th>HLmodelB</th>\n",
       "      <th>HLmodelC</th>\n",
       "      <th>HLmodelD</th>\n",
       "      <th>HLcombA</th>\n",
       "      <th>HLcombB</th>\n",
       "      <th>HLcombC</th>\n",
       "      <th>HLcombD</th>\n",
       "      <th>RESOLUTION</th>\n",
       "    </tr>\n",
       "    <tr>\n",
       "      <th>H</th>\n",
       "      <th>K</th>\n",
       "      <th>L</th>\n",
       "      <th></th>\n",
       "      <th></th>\n",
       "      <th></th>\n",
       "      <th></th>\n",
       "      <th></th>\n",
       "      <th></th>\n",
       "      <th></th>\n",
       "      <th></th>\n",
       "      <th></th>\n",
       "      <th></th>\n",
       "      <th></th>\n",
       "      <th></th>\n",
       "      <th></th>\n",
       "      <th></th>\n",
       "      <th></th>\n",
       "      <th></th>\n",
       "      <th></th>\n",
       "      <th></th>\n",
       "      <th></th>\n",
       "      <th></th>\n",
       "      <th></th>\n",
       "    </tr>\n",
       "  </thead>\n",
       "  <tbody>\n",
       "    <tr>\n",
       "      <th rowspan=\"5\" valign=\"top\">0</th>\n",
       "      <th rowspan=\"5\" valign=\"top\">0</th>\n",
       "      <th>2</th>\n",
       "      <td>227.41682</td>\n",
       "      <td>3.6614513</td>\n",
       "      <td>0</td>\n",
       "      <td>825.02966</td>\n",
       "      <td>0.0</td>\n",
       "      <td>4436.693</td>\n",
       "      <td>0.0</td>\n",
       "      <td>10250.538</td>\n",
       "      <td>180.0</td>\n",
       "      <td>0.62679225</td>\n",
       "      <td>...</td>\n",
       "      <td>8222.773</td>\n",
       "      <td>11.105152</td>\n",
       "      <td>0.0</td>\n",
       "      <td>0.0</td>\n",
       "      <td>0.0</td>\n",
       "      <td>11.105152</td>\n",
       "      <td>0.0</td>\n",
       "      <td>0.0</td>\n",
       "      <td>0.0</td>\n",
       "      <td>34.8205</td>\n",
       "    </tr>\n",
       "    <tr>\n",
       "      <th>4</th>\n",
       "      <td>207.42981</td>\n",
       "      <td>3.5518804</td>\n",
       "      <td>0</td>\n",
       "      <td>339.77112</td>\n",
       "      <td>180.0</td>\n",
       "      <td>1501.4325</td>\n",
       "      <td>180.0</td>\n",
       "      <td>3181.6907</td>\n",
       "      <td>0.0</td>\n",
       "      <td>0.62675905</td>\n",
       "      <td>...</td>\n",
       "      <td>8222.773</td>\n",
       "      <td>-4.1714783</td>\n",
       "      <td>5.108588e-16</td>\n",
       "      <td>0.0</td>\n",
       "      <td>0.0</td>\n",
       "      <td>-4.1714783</td>\n",
       "      <td>5.108588e-16</td>\n",
       "      <td>0.0</td>\n",
       "      <td>0.0</td>\n",
       "      <td>17.41025</td>\n",
       "    </tr>\n",
       "    <tr>\n",
       "      <th>6</th>\n",
       "      <td>254.9967</td>\n",
       "      <td>3.943248</td>\n",
       "      <td>0</td>\n",
       "      <td>52.606945</td>\n",
       "      <td>0.0</td>\n",
       "      <td>527.4294</td>\n",
       "      <td>0.0</td>\n",
       "      <td>1457.2178</td>\n",
       "      <td>180.0</td>\n",
       "      <td>0.62670374</td>\n",
       "      <td>...</td>\n",
       "      <td>8222.773</td>\n",
       "      <td>0.79398084</td>\n",
       "      <td>0.0</td>\n",
       "      <td>0.0</td>\n",
       "      <td>0.0</td>\n",
       "      <td>0.79398084</td>\n",
       "      <td>0.0</td>\n",
       "      <td>0.0</td>\n",
       "      <td>0.0</td>\n",
       "      <td>11.606833</td>\n",
       "    </tr>\n",
       "    <tr>\n",
       "      <th>8</th>\n",
       "      <td>66.38842</td>\n",
       "      <td>2.1123586</td>\n",
       "      <td>0</td>\n",
       "      <td>194.52943</td>\n",
       "      <td>180.0</td>\n",
       "      <td>689.11206</td>\n",
       "      <td>180.0</td>\n",
       "      <td>1487.7352</td>\n",
       "      <td>0.0</td>\n",
       "      <td>0.76806444</td>\n",
       "      <td>...</td>\n",
       "      <td>8222.773</td>\n",
       "      <td>-0.76438123</td>\n",
       "      <td>9.360971e-17</td>\n",
       "      <td>0.0</td>\n",
       "      <td>0.0</td>\n",
       "      <td>-0.76438123</td>\n",
       "      <td>9.360971e-17</td>\n",
       "      <td>0.0</td>\n",
       "      <td>0.0</td>\n",
       "      <td>8.705125</td>\n",
       "    </tr>\n",
       "    <tr>\n",
       "      <th>10</th>\n",
       "      <td>207.74063</td>\n",
       "      <td>3.5972404</td>\n",
       "      <td>0</td>\n",
       "      <td>334.54318</td>\n",
       "      <td>0.0</td>\n",
       "      <td>728.05536</td>\n",
       "      <td>0.0</td>\n",
       "      <td>1034.1278</td>\n",
       "      <td>180.0</td>\n",
       "      <td>0.76794237</td>\n",
       "      <td>...</td>\n",
       "      <td>8222.773</td>\n",
       "      <td>4.113448</td>\n",
       "      <td>0.0</td>\n",
       "      <td>0.0</td>\n",
       "      <td>0.0</td>\n",
       "      <td>4.113448</td>\n",
       "      <td>0.0</td>\n",
       "      <td>0.0</td>\n",
       "      <td>0.0</td>\n",
       "      <td>6.9641</td>\n",
       "    </tr>\n",
       "  </tbody>\n",
       "</table>\n",
       "<p>5 rows × 25 columns</p>\n",
       "</div>"
      ],
      "text/plain": [
       "            FOBS   SIGFOBS  R_FREE_FLAGS    FMODEL  PHIFMODEL     FCALC  \\\n",
       "H K L                                                                     \n",
       "0 0 2  227.41682 3.6614513             0 825.02966        0.0  4436.693   \n",
       "    4  207.42981 3.5518804             0 339.77112      180.0 1501.4325   \n",
       "    6   254.9967  3.943248             0 52.606945        0.0  527.4294   \n",
       "    8   66.38842 2.1123586             0 194.52943      180.0 689.11206   \n",
       "    10 207.74063 3.5972404             0 334.54318        0.0 728.05536   \n",
       "\n",
       "        PHIFCALC     FMASK  PHIFMASK  K_ISOTROPIC  ...     BETA    HLmodelA  \\\n",
       "H K L                                              ...                        \n",
       "0 0 2        0.0 10250.538     180.0   0.62679225  ... 8222.773   11.105152   \n",
       "    4      180.0 3181.6907       0.0   0.62675905  ... 8222.773  -4.1714783   \n",
       "    6        0.0 1457.2178     180.0   0.62670374  ... 8222.773  0.79398084   \n",
       "    8      180.0 1487.7352       0.0   0.76806444  ... 8222.773 -0.76438123   \n",
       "    10       0.0 1034.1278     180.0   0.76794237  ... 8222.773    4.113448   \n",
       "\n",
       "           HLmodelB  HLmodelC  HLmodelD     HLcombA      HLcombB  HLcombC  \\\n",
       "H K L                                                                       \n",
       "0 0 2           0.0       0.0       0.0   11.105152          0.0      0.0   \n",
       "    4  5.108588e-16       0.0       0.0  -4.1714783 5.108588e-16      0.0   \n",
       "    6           0.0       0.0       0.0  0.79398084          0.0      0.0   \n",
       "    8  9.360971e-17       0.0       0.0 -0.76438123 9.360971e-17      0.0   \n",
       "    10          0.0       0.0       0.0    4.113448          0.0      0.0   \n",
       "\n",
       "        HLcombD  RESOLUTION  \n",
       "H K L                        \n",
       "0 0 2       0.0     34.8205  \n",
       "    4       0.0    17.41025  \n",
       "    6       0.0   11.606833  \n",
       "    8       0.0    8.705125  \n",
       "    10      0.0      6.9641  \n",
       "\n",
       "[5 rows x 25 columns]"
      ]
     },
     "execution_count": 3,
     "metadata": {},
     "output_type": "execute_result"
    }
   ],
   "source": [
    "ds=rs.read_mtz(path+fname)\n",
    "ds[\"phase_var2\"] = np.arccos(ds[\"FOM\"])**2\n",
    "ds.head()"
   ]
  },
  {
   "cell_type": "code",
   "execution_count": 4,
   "metadata": {},
   "outputs": [
    {
     "data": {
      "image/png": "[encoded data removed]",
      "text/plain": [
       "<Figure size 432x288 with 1 Axes>"
      ]
     },
     "metadata": {
      "needs_background": "light"
     },
     "output_type": "display_data"
    }
   ],
   "source": [
    "plt.hist(ds[\"FOM\"],density=True,bins=100)\n",
    "plt.show()"
   ]
  },
  {
   "cell_type": "code",
   "execution_count": 8,
   "metadata": {},
   "outputs": [
    {
     "data": {
      "image/png": "[encoded data removed]",
      "text/plain": [
       "<Figure size 432x288 with 1 Axes>"
      ]
     },
     "metadata": {
      "needs_background": "light"
     },
     "output_type": "display_data"
    },
    {
     "data": {
      "image/png": "[encoded data removed]",
      "text/plain": [
       "<Figure size 432x288 with 1 Axes>"
      ]
     },
     "metadata": {
      "needs_background": "light"
     },
     "output_type": "display_data"
    },
    {
     "data": {
      "text/plain": [
       "[<matplotlib.lines.Line2D at 0x226a4b69760>]"
      ]
     },
     "execution_count": 8,
     "metadata": {},
     "output_type": "execute_result"
    },
    {
     "data": {
      "image/png": "[encoded data removed]",
      "text/plain": [
       "<Figure size 432x288 with 1 Axes>"
      ]
     },
     "metadata": {
      "needs_background": "light"
     },
     "output_type": "display_data"
    }
   ],
   "source": [
    "ds[\"phase_var1\"] = 2*(1-ds[\"FOM\"])\n",
    "plt.hist(ds[\"phase_var\"],density=True,bins=100)\n",
    "plt.show()\n",
    "\n",
    "ds[\"phase_var2\"] = np.arccos(ds[\"FOM\"])**2\n",
    "plt.hist(ds[\"phase_var\"],density=True,bins=100)\n",
    "plt.show()\n",
    "\n",
    "plt.plot(ds[\"phase_var1\"],ds[\"phase_var2\"],'k.')"
   ]
  }
 ],
 "metadata": {
  "kernelspec": {
   "display_name": "Python 3",
   "language": "python",
   "name": "python3"
  },
  "language_info": {
   "codemirror_mode": {
    "name": "ipython",
    "version": 3
   },
   "file_extension": ".py",
   "mimetype": "text/x-python",
   "name": "python",
   "nbconvert_exporter": "python",
   "pygments_lexer": "ipython3",
   "version": "3.8.8"
  },
  "toc": {
   "base_numbering": 1,
   "nav_menu": {},
   "number_sections": true,
   "sideBar": true,
   "skip_h1_title": false,
   "title_cell": "Table of Contents",
   "title_sidebar": "Contents",
   "toc_cell": false,
   "toc_position": {},
   "toc_section_display": true,
   "toc_window_display": false
  }
 },
 "nbformat": 4,
 "nbformat_minor": 4
}
