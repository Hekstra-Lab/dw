{
 "cells": [
  {
   "cell_type": "markdown",
   "metadata": {},
   "source": [
    "### Encoding expected correlations for use of reference priors \n",
    "**Approach**: we read in normalized structure factors, propose values for $a$ and $b$ and calculate $r_{DW}$ based on $a$, $b$, and the estimated error in each normalized structure factor--all as described in the preceding notebooks."
   ]
  },
  {
   "cell_type": "code",
   "execution_count": 1,
   "metadata": {},
   "outputs": [],
   "source": [
    "import matplotlib.pyplot as plt\n",
    "import numpy   as np"
   ]
  },
  {
   "cell_type": "code",
   "execution_count": 2,
   "metadata": {},
   "outputs": [],
   "source": [
    "import reciprocalspaceship as rs\n",
    "import gemmi\n",
    "from scipy.stats     import rice, foldnorm\n",
    "from dw_tools        import fitting_dw, modify_ds"
   ]
  },
  {
   "cell_type": "code",
   "execution_count": 3,
   "metadata": {},
   "outputs": [
    {
     "data": {
      "application/javascript": [
       "IPython.notebook.set_autosave_interval(300000)"
      ]
     },
     "metadata": {},
     "output_type": "display_data"
    },
    {
     "name": "stdout",
     "output_type": "stream",
     "text": [
      "Autosaving every 300 seconds\n",
      "GEMMI version: 0.6.0\n",
      "RS version: 1.0.1\n"
     ]
    }
   ],
   "source": [
    "%autosave 300\n",
    "%load_ext autoreload\n",
    "%autoreload 2\n",
    "print(\"GEMMI version: \" + gemmi.__version__)\n",
    "print(\"RS version: \" + rs.__version__)"
   ]
  },
  {
   "cell_type": "code",
   "execution_count": 4,
   "metadata": {},
   "outputs": [],
   "source": [
    "# path=\"double_wilson_data\\\\\"   # Windows\n",
    "path = \"double_wilson_data/\"    # Unix\n",
    "mtz1 = \"5e1y_phases\"\n",
    "ds1  = rs.read_mtz(path + mtz1 + \"_scaled.mtz\")"
   ]
  },
  {
   "cell_type": "code",
   "execution_count": 5,
   "metadata": {},
   "outputs": [],
   "source": [
    "# ds1.info()\n",
    "EP_label = \"EP_1_aniso_2\"\n",
    "dHKL_label = \"dHKL\""
   ]
  },
  {
   "cell_type": "markdown",
   "metadata": {},
   "source": [
    "We will start from $a$, $b$ which we'll assume based on the work we did in parts **2** and **3**."
   ]
  },
  {
   "cell_type": "code",
   "execution_count": 6,
   "metadata": {},
   "outputs": [],
   "source": [
    "a=0.95\n",
    "b=0.05"
   ]
  },
  {
   "cell_type": "code",
   "execution_count": 7,
   "metadata": {},
   "outputs": [
    {
     "name": "stdout",
     "output_type": "stream",
     "text": [
      "Column \"CENTRIC\" has a datatype not supported by the MTZ format.\n"
     ]
    }
   ],
   "source": [
    "ds1=fitting_dw.eff_r_dw_per_hkl(ds1,a,b,label=EP_label, dHKL_label=dHKL_label, inplace=True);\n",
    "modify_ds.check_col_dtypes(ds1)\n",
    "ds1.write_mtz(path + mtz1 + \"_scaled_w_rDW.mtz\", skip_problem_mtztypes=True)"
   ]
  },
  {
   "cell_type": "code",
   "execution_count": 9,
   "metadata": {},
   "outputs": [],
   "source": [
    "ds1.attrs[\"a\"] = a\n",
    "ds1.attrs[\"b\"] = b\n",
    "ds1.attrs[\"EP_label\"] = EP_label\n",
    "pkl_name = mtz1 + \".pkl\"\n",
    "modify_ds.to_pickle(ds1, pkl_name=path + pkl_name)"
   ]
  },
  {
   "cell_type": "code",
   "execution_count": 10,
   "metadata": {},
   "outputs": [
    {
     "name": "stdout",
     "output_type": "stream",
     "text": [
      "<gemmi.UnitCell(64.912, 39.288, 38.8, 90, 117.41, 90)>\n",
      "<gemmi.SpaceGroup(\"C 1 2 1\")>\n"
     ]
    }
   ],
   "source": [
    "ds2 = modify_ds.from_pickle(path + pkl_name)\n",
    "# ds2.info()\n",
    "print(ds2.cell)\n",
    "print(ds2.spacegroup)"
   ]
  }
 ],
 "metadata": {
  "kernelspec": {
   "display_name": "Python 3 (ipykernel)",
   "language": "python",
   "name": "python3"
  },
  "language_info": {
   "codemirror_mode": {
    "name": "ipython",
    "version": 3
   },
   "file_extension": ".py",
   "mimetype": "text/x-python",
   "name": "python",
   "nbconvert_exporter": "python",
   "pygments_lexer": "ipython3",
   "version": "3.11.5"
  },
  "toc": {
   "base_numbering": 1,
   "nav_menu": {},
   "number_sections": true,
   "sideBar": true,
   "skip_h1_title": false,
   "title_cell": "Table of Contents",
   "title_sidebar": "Contents",
   "toc_cell": false,
   "toc_position": {},
   "toc_section_display": true,
   "toc_window_display": false
  }
 },
 "nbformat": 4,
 "nbformat_minor": 4
}
