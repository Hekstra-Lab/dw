{
 "cells": [
  {
   "cell_type": "code",
   "execution_count": 1,
   "metadata": {},
   "outputs": [],
   "source": [
    "import numpy as np\n",
    "from matplotlib    import pyplot as plt\n",
    "from numpy.random  import default_rng\n",
    "from tqdm          import tqdm\n",
    "from time          import perf_counter \n",
    "from scipy.stats   import pearsonr, poisson, wishart, multivariate_normal, norm, vonmises, multivariate_t, laplace\n",
    "from scipy.special import gamma, factorial, gammaln\n",
    "from scipy.special import i0 as I0\n",
    "from dw_tools      import bivariate_tools\n",
    "\n",
    "plt.rcParams.update({'font.size': 12})\n",
    "plt.rcParams.update({'figure.figsize':(5,3.5)})"
   ]
  },
  {
   "cell_type": "code",
   "execution_count": 2,
   "metadata": {},
   "outputs": [],
   "source": [
    "# %autosave 300\n",
    "# %load_ext autoreload\n",
    "# %autoreload 2"
   ]
  },
  {
   "cell_type": "markdown",
   "metadata": {},
   "source": [
    "# A model for bivariate priors"
   ]
  },
  {
   "cell_type": "markdown",
   "metadata": {},
   "source": [
    "# Introduction\n",
    "In this notebook, we examine the joint distribution of pairs of structure factor amplitudes conditional on a third reference set of amplitudes. We will assume that the two datasets have joint correlation parameter $r_x$ as specified below, and both of their correlations with the reference dataset are described by a correlation parameter $r$. These parameters play the same role as $r$ or $r_{DW}$ in the preceding notebooks.\n",
    "\n",
    "Under the multivariate Wilson model, we examine:\n",
    "1. **Joint probability distributions of $(E_1,E_2,E_3)$**. We compute the joint probability distribution of $(E_1, E_2)$, both unconditional and conditional on $E_3$.\n",
    "2. **The Bivariate Rice Distribution**. We present a formalism for bivariate Rice distributions introduced by Abu-Dayya & Beaulieu (1994). To do so, we first review the derivation of the Rice distribution to establish notation. We find that the joint distribution of $(E_1, E_2)$ conditional on $E_3$ can be parametrized in the formalism of Abu-Dayya & Beaulieu and yields results consistent with numerical simulations up to numerical and sampling errors.\n",
    "3. **Normal approximations to the distribution of $\\Delta|E|$.** We fit the distribution of $\\Delta|E| = |E_2| - |E_1|$ to a normal PDF and examine the variance of the centric and acentric $\\Delta|E|$. "
   ]
  },
  {
   "cell_type": "markdown",
   "metadata": {
    "tags": []
   },
   "source": [
    "# Joint probability distributions of $(E_1,E_2,E_3)$"
   ]
  },
  {
   "cell_type": "markdown",
   "metadata": {},
   "source": [
    "Consider three normalized structure factors for related structures, $\\left(E_1, E_2, E_3=E_{ref}\\right)$ with joint probability density. In the multivariate Wilson model,\n",
    "\n",
    "$$\n",
    "P\\left(E_1,E_2,E_3\\right) = P\\left(E_{1x},E_{2x},E_{3x},E_{1y},E_{2y},E_{3y}\\right)=N\\left(0,C\\right)\n",
    "$$\n",
    "\n",
    "(note the rearrangement of rows), with \n",
    "\n",
    "$$\n",
    "C = \\frac{1}{2}\n",
    "\\begin{bmatrix}\n",
    "1   & r_x & r & 0   & 0   & 0  \\\\\n",
    "r_x & 1   & r & 0   & 0   & 0  \\\\\n",
    "r   & r   & 1 & 0   & 0   & 0  \\\\\n",
    "0   & 0   & 0 & 1   & r_x & r  \\\\\n",
    "0   & 0   & 0 & r_x & 1   & r  \\\\\n",
    "0   & 0   & 0 & r   & r   & 1  \n",
    "\\end{bmatrix}\n",
    "$$"
   ]
  },
  {
   "cell_type": "markdown",
   "metadata": {},
   "source": [
    "## Conditional joint probability distribution of $(E_1, E_2)$ given $E_3$"
   ]
  },
  {
   "cell_type": "markdown",
   "metadata": {},
   "source": [
    "### General considerations\n",
    "Following https://en.wikipedia.org/wiki/Multivariate_normal_distribution#Conditional_distributions, \n",
    "\n",
    "$$\n",
    "P\\left(E_1,E_2 | E_3\\right) = P\\left(E_{1x},E_{2x},E_{1y},E_{2x}|E_{3x}, E_{3y}\\right)=\\mathcal{N}\\left(r E_3,C_{1,2|3}\\right)\n",
    "$$\n",
    "\n",
    "(note the rearrangement of rows), with conditional covariance matrix\n",
    "\n",
    "$$\n",
    "C_{1,2|3} = \\frac{1}{2}\n",
    "\\begin{bmatrix}\n",
    "1   -r^2 & r_x -r^2 & 0       & 0        \\\\\n",
    "r_x -r^2 & 1   -r^2 & 0       & 0        \\\\\n",
    "0        & 0        & 1  -r^2 & r_x -r^2 \\\\\n",
    "0        & 0        & r_x-r^2 & 1 -r^2  \n",
    "\\end{bmatrix}\n",
    "$$"
   ]
  },
  {
   "cell_type": "markdown",
   "metadata": {},
   "source": [
    "Note that $r$ and $r_x$ cannot adopt arbitrary combinations of values. Specifically, the conditional covariance matrix is only positive definite if $1+r_x \\geq 2r^2$. $E_1$ and $E_2$ are conditionally independent (and uncorrelated) when $r_x = r^2$. In that case, $1+r_x = 1+r^2 \\geq 2r^2 $."
   ]
  },
  {
   "cell_type": "markdown",
   "metadata": {},
   "source": [
    "For use of the bivariate Rice distribution below, we will also want to know the Pearson correlation coefficient for complex structure factors,\n",
    "\n",
    "$$\n",
    "\\begin{align}\n",
    "\\rho\\left(E_1,E_2|E_3\\right) & = \\frac{\\mathbb{E}(E_1 E_2^*)-\\mathbb{E}(E_1)\\mathbb{E}(E_2^*)}\n",
    "                                    {\\sqrt{Var(E_1)Var(E_2)}} \\\\\n",
    "                             & = \\frac{\\mathbb{E}\\left((E_1-\\mu_{1|3}+\\mu_{1|3}) (E_2-\\mu_{2|3}+\\mu_{2|3})^*\\right)\n",
    "                                       -\\mathbb{E}(E_1)\\mathbb{E}(E_2^*)}\n",
    "                                    {\\sqrt{Var(E_1)Var(E_2)}} \\\\\n",
    "                             & = \\frac{Cov(E_1, E_2^*)+\\mu\\mu^*-\\mu\\mu^*}\n",
    "                                    {\\sqrt{Var(E_1)Var(E_2)}} \\\\\n",
    "                             & = \\frac{Cov(E_{1x}, E_{2x}) + Cov(E_{1y}, E_{2y})+0}{\\sqrt{Var(E_1)Var(E_2)}} \\\\\n",
    "                             & = \\frac{r_x-r^2}{1-r^2}\n",
    "\\end{align}\n",
    "$$\n",
    "\n",
    "with the variances analogously defined as $Var(E_1)=\\mathbb{E}(E_1 E_1^*)-\\mathbb{E}(E_1)\\mathbb{E}(E_1^*)$, etc."
   ]
  },
  {
   "cell_type": "code",
   "execution_count": 3,
   "metadata": {},
   "outputs": [],
   "source": [
    "def rho_xy(r,rx):\n",
    "    return (rx-r**2)/(1-r**2)"
   ]
  },
  {
   "cell_type": "markdown",
   "metadata": {},
   "source": [
    "Numerical check:"
   ]
  },
  {
   "cell_type": "code",
   "execution_count": 4,
   "metadata": {},
   "outputs": [
    {
     "name": "stdout",
     "output_type": "stream",
     "text": [
      "expected rho(x, y):  0.7222\n",
      "observed rho(x, y):  0.7221\n",
      "Expected errors   : ~0.0003\n"
     ]
    }
   ],
   "source": [
    "rng = default_rng()\n",
    "r   = 0.8\n",
    "rx  = 0.9\n",
    "mean= np.asarray([1.5,1.5,0,0])\n",
    "n_samples = int(1e7)\n",
    "cov = 0.5*\\\n",
    "    np.asarray([[ 1-r**2, rx-r**2,0,      0      ],\\\n",
    "                [rx-r**2,  1-r**2,0,      0      ],\\\n",
    "                [0,        0,     1-r**2, rx-r**2],\\\n",
    "                [0,        0,    rx-r**2,  1-r**2]])\n",
    "vals = rng.multivariate_normal(mean,cov,n_samples)\n",
    "\n",
    "cov_1_2 = np.cov(vals[:,0],vals[:,1]) + np.cov(vals[:,2],vals[:,3])\n",
    "var_1_1 = np.var(vals[:,0]) + np.var(vals[:,2])\n",
    "var_2_2 = np.var(vals[:,1]) + np.var(vals[:,3])\n",
    "print(f\"expected rho(x, y):  {rho_xy(r,rx):.4f}\")\n",
    "print(f\"observed rho(x, y):  {cov_1_2[0,1]/np.sqrt(var_1_1*var_2_2):.4f}\") #I should improve the variable names\n",
    "print(f\"Expected errors   : ~{1/np.sqrt(n_samples):.4f}\")"
   ]
  },
  {
   "cell_type": "markdown",
   "metadata": {
    "tags": []
   },
   "source": [
    "# The Bivariate Rice Distribution \n",
    "### (Abu-Dayya & Beaulieu; Beaulieu & Hemachandra)"
   ]
  },
  {
   "cell_type": "markdown",
   "metadata": {},
   "source": [
    "**First, we'll consider briefly the derivation of the univariate Rice distribution**.\n",
    "\n",
    "Consider, again, a pair of variables $\\left(E_1, E_{3}\\right)$, with $E_1=(E_{1x}, E_{1y})$, and $E_{3}=(E_{3x}, E_{3y})$ jointly normal, $\\sim N\\left((0,0,0,0),C\\right)$, with \n",
    "\n",
    "$$\n",
    "C = \n",
    "\\frac{\\Sigma}{2}\n",
    "\\begin{bmatrix}\n",
    "1 & 0 & r & 0 \\\\\n",
    "0 & 1 & 0 & r \\\\\n",
    "r & 0 & 1 & 0 \\\\\n",
    "0 & r & 0 & 1  \n",
    "\\end{bmatrix}\n",
    "$$"
   ]
  },
  {
   "cell_type": "markdown",
   "metadata": {},
   "source": [
    "The notation is such that $\\left<|E_1|^2\\right>=\\left<E_{1x}^2+E_{1y}^2\\right>=\\Sigma$. For already normalized structure factors, rather than $F$'s, $\\Sigma=1$."
   ]
  },
  {
   "cell_type": "markdown",
   "metadata": {},
   "source": [
    "Now, when we have a known value for $E_3=(E_{3,x}, E_{3,y})$, the conditional distribution of (complex) $E$ becomes a bivariate normal with mean $\\mu = r E_{3}$, with $r$ playing the role of $r_{DW}$ in the double-Wilson model, and covariance matrix \n",
    "\n",
    "$$C_{1|3} = \\frac{\\Sigma}{2}\n",
    "\\begin{bmatrix}\n",
    "1-r^2 & 0 \\\\\n",
    "0 & 1-r^2\n",
    "\\end{bmatrix}\n",
    "$$"
   ]
  },
  {
   "cell_type": "markdown",
   "metadata": {},
   "source": [
    "It is helpful to write this in polar coordinates using $E_1 = R_1 \\left(\\cos(\\phi_1),\\sin(\\phi_1)\\right)$ and $\\mu = r E_3 = R_3 \\left(\\cos(\\phi_3),\\sin(\\phi_3)\\right)$, such that\n",
    "\n",
    "$$\n",
    "\\begin{align}\n",
    "P\\left(R_1,\\phi_1 | R_3, \\phi_3\\right) & =  R_1 \\frac{1}{2 \\pi \\sqrt{\\det(C_{1|3})}} * \n",
    "                                       \\exp\\left(\n",
    "                                           -\\frac{1}{2}\n",
    "                                           \\left(R_1\\cos(\\phi_1)-R_3\\cos(\\phi_3), \n",
    "                                                 R_1\\sin(\\phi_1)-R_3\\sin(\\phi_3)\n",
    "                                           \\right)\n",
    "                                           C_{1|3}^{-1}\n",
    "                                           \\left(R_1\\cos(\\phi_1)-R_3\\cos(\\phi_3), \n",
    "                                                 R_1\\sin(\\phi_1)-R_3\\sin(\\phi_3)\n",
    "                                           \\right)^T\n",
    "                                       \\right)\\\\\n",
    "                                       & = \n",
    "                                       R_1 \\frac{1}{2 \\pi \\sqrt{\\det(C_{1|3})}} * \n",
    "                                       \\exp\\left(\n",
    "                                           -\\frac{R_1^2 + R_3^2}{\\Sigma(1-r^2)}\n",
    "                                           +\\frac{R_1 R_3 (\\cos(\\phi_1)\\cos(\\phi_3)-\n",
    "                                                                      \\sin(\\phi_1)\\sin(\\phi_3))}\n",
    "                                                            {\\Sigma(1-r^2)}          \n",
    "                                           \\right) \\\\\n",
    "                                       & = \n",
    "                                        \\frac{R_1}{\\pi \\Sigma (1-r^2)}  \n",
    "                                       \\exp\\left(\n",
    "                                           -\\frac{R_1^2 + R_3^2}{\\Sigma(1-r^2)}\n",
    "                                           +\\frac{R_1 R_3 \\cos(\\phi_1-\\phi_3)}{\\Sigma(1-r^2)}          \n",
    "                                           \\right)\n",
    "\\end{align}                                           \n",
    "$$\n",
    "\n",
    "where we use that $C_{1|3}^{-1} = \\frac{2}{\\Sigma} \\frac{1}{1-r^2}$ and $\\det(C_{1|3}) = \\left(\\frac{\\Sigma}{2}(1-r^2)\\right)^2$."
   ]
  },
  {
   "cell_type": "markdown",
   "metadata": {},
   "source": [
    "We can marginalize over $\\Delta\\phi = \\phi_1-\\phi_3$,\n",
    "\n",
    "$$\n",
    "\\begin{align}\n",
    "P\\left(R_1 | R_3\\right) & = \\int_{0}^{2\\pi} d\\Delta\\phi\n",
    "                                 \\frac{R_1}{\\pi \\Sigma (1-r^2)} * \n",
    "                                 \\exp\\left(\n",
    "                                     -\\frac{R_1^2 + R_3^2}{\\Sigma(1-r^2)}\n",
    "                                     +\\frac{R_1 R_3 \\cos(\\Delta\\phi)}{\\Sigma(1-r^2)}          \n",
    "                                 \\right) \\\\\n",
    "                        & = \\frac{2 R_1}{\\Sigma (1-r^2)} \n",
    "                                 \\exp\\left(\n",
    "                                     -\\frac{R_1^2 + R_3^2}{\\Sigma(1-r^2)}\n",
    "                                 \\right)\n",
    "                            I_0\\left(\n",
    "                                \\frac{2 R_1 R_3}{\\Sigma(1-r^2)}          \n",
    "                            \\right)\n",
    "\\end{align}                                           \n",
    "$$\n",
    "\n",
    "which is the Rice distribution. For comparison to Bricogne (1999), his $R_B$ is our $R_1$, his $r_B$ is our $R_3=r|E_3|$, and his $\\Sigma_B$ is $\\frac{\\Sigma}{2}(1-r^2)$, our per-term conditional variance (we added the $B$ subscripts to indicate \"Bricogne\")."
   ]
  },
  {
   "cell_type": "markdown",
   "metadata": {},
   "source": [
    "### Abu-Dayya & Beaulieu, \"Switched Diversity in Microcellular Ricean Channels\""
   ]
  },
  {
   "cell_type": "markdown",
   "metadata": {},
   "source": [
    "The Rice distribution is of interest in the wireless communication literature. The equation above maps to the \"Ricean PDF\" in eq. 1 of Abu-Dayya and Beaulieu (1994), with $K = R_3^2/\\Sigma(1-r^2)$ in our terms, or $R^2/\\Sigma$ in Bricogne (1999), eq. 1.6's, and $\\frac{1+K}{\\beta}=2/\\Sigma(1-r^2)$ in our terms, or $1/\\Sigma_B$ in Bricogne's. Recall that  $R_3=r|E_3|$. In this formalism,\n",
    "\n",
    "$$P\\left(R_1\\right|E_3) = \\frac{R_1(1+K)}{\\beta}\\exp\\left(-K-\\frac{(1+K)R_1^2}{2\\beta}\\right)\\times \n",
    "                                            I_0\\left(2R_1\\sqrt{\\frac{K(1+K)}{2\\beta}}\\right)\n",
    "$$                                            "
   ]
  },
  {
   "cell_type": "markdown",
   "metadata": {},
   "source": [
    "**This formalism is worth studying, because Abu-Dayya and Beaulieu derive a bivariate Rice distribution, with**\n",
    "\n",
    "$$\n",
    "\\begin{align}\n",
    "P\\left(R_1,R_2 | R_3\\right) = & \\frac{(1+K)^2 R_1 R_2}{2\\pi \\beta^2(1-v^2)}\n",
    "                        \\exp\\left(\n",
    "                            \\frac{-2K}{1+v} - \\frac{(1+K)(R_1^2+R_2^2)}{2(1-v^2)\\beta}\n",
    "                        \\right) \\\\ \n",
    "                        & \\times\n",
    "                        \\int_{0}^{2\\pi} \\exp\\left(\n",
    "                            \\frac{v(1+K)R_1 R_2 \\cos \\theta}{(1-v^2)\\beta}\n",
    "                        \\right) \\\\\n",
    "                        & \\times I_0\\left(\n",
    "                            \\sqrt{\\frac{2K(1+K)(R_1^2 + R_2^2+2R_1R_2\\cos\\theta}{\\beta(1+v)^2}}\n",
    "                        \\right) d\\theta\n",
    "\\end{align}\n",
    "$$\n",
    "\n",
    "with \n",
    "\n",
    "$$\n",
    "v = \\frac{\\left<\\left(E_1^* - \\left<E_1^*\\right>\\right)\\left(E_2 - \\left<E_2\\right>\\right)\\right>}\n",
    "         {\\sqrt{\n",
    "             \\left<\\left|E_1 - \\left<E_1\\right>\\right|^2\\right>\n",
    "             \\left<\\left|E_2 - \\left<E_2\\right>\\right|^2\\right>       \n",
    "              }}\n",
    "$$\n",
    "\n",
    "For the case of the pdf of $E_1$ and $E_2$ conditional on $E_3$, we derive and validate an expression for $v$ above, namely\n",
    "\n",
    "$$\n",
    "v=\\frac{r_x-r^2}{1-r^2}\n",
    "$$\n",
    "\n",
    "Note that the expression for $v$ is equivalent to the expression for $\\rho_{k,j}=\\lambda_k \\lambda_j$ in Beaulieu & Hemachandra (2011)."
   ]
  },
  {
   "cell_type": "markdown",
   "metadata": {},
   "source": [
    "## Acentric structure factors"
   ]
  },
  {
   "cell_type": "markdown",
   "metadata": {},
   "source": [
    "We begin by sampling directly from the conditional distribution of $E_1$ and $E_2$ given $E_3$. We treat centric structure factors below in the section **Normal approximations to the distribution of $\\Delta|E|$**. "
   ]
  },
  {
   "cell_type": "code",
   "execution_count": 5,
   "metadata": {},
   "outputs": [],
   "source": [
    "rng  = default_rng()\n",
    "r    = 0.95\n",
    "rx   = 0.995\n",
    "Eref = 0.8\n",
    "n_samples=int(2e7)\n",
    "mean = np.asarray([r*Eref, r*Eref, 0, 0]) # conditional mean, equal to r * E3\n",
    "\n",
    "cov = 0.5*\\\n",
    "    np.asarray([[ 1-r**2, rx-r**2,0,      0      ],\\\n",
    "                [rx-r**2,  1-r**2,0,      0      ],\\\n",
    "                [0,        0,     1-r**2, rx-r**2],\\\n",
    "                [0,        0,    rx-r**2,  1-r**2]])\n",
    "vals = rng.multivariate_normal(mean,cov,n_samples)\n",
    "R1_sq=vals[:,0]**2 + vals[:,2]**2\n",
    "R2_sq=vals[:,1]**2 + vals[:,3]**2\n",
    "R1_abs=np.sqrt(R1_sq)\n",
    "R2_abs=np.sqrt(R2_sq)\n"
   ]
  },
  {
   "cell_type": "markdown",
   "metadata": {},
   "source": [
    "Implementing eq. 15 of Abu-Dayya and Beaulieu--see ```bivariate_tools.Bivariate_Rice```"
   ]
  },
  {
   "cell_type": "code",
   "execution_count": 6,
   "metadata": {},
   "outputs": [],
   "source": [
    "# R3 = np.sqrt(float(mean[0]**2 + mean[2]**2))  # r*E3\n",
    "E3 = Eref\n",
    "R3 = r*E3\n",
    "K  = R3**2    /(1-r**2)\n",
    "p1 = 2        /(1-r**2)\n",
    "v  = (rx-r**2)/(1-r**2)"
   ]
  },
  {
   "cell_type": "markdown",
   "metadata": {},
   "source": [
    "**We implemented this as follows**"
   ]
  },
  {
   "cell_type": "code",
   "execution_count": 7,
   "metadata": {},
   "outputs": [
    {
     "name": "stdout",
     "output_type": "stream",
     "text": [
      "4.8570943768069935e-21\n",
      "4.8570943768069935e-21\n"
     ]
    }
   ],
   "source": [
    "R1=0.5\n",
    "R2=1.2\n",
    "print(bivariate_tools.Bivariate_Rice(R1,R2,K,p1,v))\n",
    "print(bivariate_tools.Bivariate_Rice_wrapper(E1=R1, E2=R2, rx=rx, Sigma=1.0, E3=E3, r=r))"
   ]
  },
  {
   "cell_type": "code",
   "execution_count": 8,
   "metadata": {},
   "outputs": [
    {
     "name": "stdout",
     "output_type": "stream",
     "text": [
      "(160000, 2)\n",
      "Elapsed time: 4.8 s\n",
      "Integrated probability density: 0.9965\n"
     ]
    }
   ],
   "source": [
    "nx, ny = (400,400)\n",
    "xy_max = 6\n",
    "xbase  = np.linspace(0.001, xy_max, nx)\n",
    "ybase  = np.linspace(0.001, xy_max, ny)\n",
    "xx,yy  = np.meshgrid(xbase,ybase)\n",
    "y_in   = np.transpose(np.array([xx.flatten(), yy.flatten()]))\n",
    "print(y_in.shape)\n",
    "\n",
    "t1_start = perf_counter()  \n",
    "result = np.zeros((nx,ny))\n",
    "for i in range(nx):\n",
    "    for j in range(ny):\n",
    "        result[i,j] = bivariate_tools.Bivariate_Rice(xbase[i],ybase[j],K,p1,v)\n",
    "t1_end = perf_counter()  \n",
    "\n",
    "print(f\"Elapsed time: {t1_end-t1_start:.3} s\")\n",
    "print(f\"Integrated probability density: {np.sum(result[:])*((xy_max/nx)*(xy_max/ny)):.4}\")"
   ]
  },
  {
   "cell_type": "code",
   "execution_count": 9,
   "metadata": {},
   "outputs": [
    {
     "data": {
      "image/png": "[encoded data removed]",
      "text/plain": [
       "<Figure size 1152x360 with 6 Axes>"
      ]
     },
     "metadata": {
      "needs_background": "light"
     },
     "output_type": "display_data"
    }
   ],
   "source": [
    "(xmax,ymax) = (xy_max,xy_max)\n",
    "xedges = np.linspace(0,xmax,nx+1)\n",
    "yedges = np.linspace(0,ymax,ny+1)\n",
    "Hx_emp, xedges, yedges = np.histogram2d(R1_abs, R2_abs, bins=(xedges, yedges),density=True)\n",
    "\n",
    "plt.figure(figsize=(16,5))                         \n",
    "plt.subplot(1,3,1)        \n",
    "plt.imshow(Hx_emp, interpolation='none', extent=[0,xmax,0,ymax],origin='lower')\n",
    "plt.xlabel(r\"x=$\\sqrt{E_{1x}^2+E_{1y}^2}$\"); plt.ylabel(r\"y=$\\sqrt{E_{2x}^2+E_{2y}^2}$\")\n",
    "plt.text(1.5,6.2,\"Empirical 2D\")\n",
    "plt.colorbar(); \n",
    "\n",
    "plt.subplot(1,3,2)        \n",
    "plt.imshow(result, interpolation='none', extent=[0,xmax,0,ymax],origin='lower')\n",
    "plt.text(1.5,6.2,\"Bivariate Rice\")\n",
    "plt.colorbar()\n",
    "                         \n",
    "plt.subplot(1,3,3)\n",
    "plt.imshow(Hx_emp-result, interpolation='none', extent=[0,xmax,0,ymax],origin='lower',vmin=-0.2,vmax=0.2)\n",
    "plt.text(1.5,6.2,\"Difference\")\n",
    "plt.colorbar(); plt.show()"
   ]
  },
  {
   "cell_type": "markdown",
   "metadata": {},
   "source": [
    "Up to numerical and sampling errors, the empirical 2D looks very similar to the bivariate Rice distribution. "
   ]
  },
  {
   "cell_type": "markdown",
   "metadata": {
    "tags": []
   },
   "source": [
    "# Normal approximations to the distribution of $\\Delta|E|$"
   ]
  },
  {
   "cell_type": "markdown",
   "metadata": {},
   "source": [
    "It is also of interest to determine if we can approximate the distribution of differences in structure factor amplitudes directly. If so, we could approximate $P\\left(|E_1|,|E_2|\\right)\\approx P\\left(|E_2|-|E_1|\\right)\\cdot P\\left(|E_1|\\right)$. \n",
    "\n",
    "First, we will take a look at the normal approximation of the Rice distribution. "
   ]
  },
  {
   "cell_type": "code",
   "execution_count": 10,
   "metadata": {},
   "outputs": [
    {
     "data": {
      "image/png": "[encoded data removed]",
      "text/plain": [
       "<Figure size 288x180 with 1 Axes>"
      ]
     },
     "metadata": {
      "needs_background": "light"
     },
     "output_type": "display_data"
    }
   ],
   "source": [
    "plt.figure(figsize=(4,2.5))\n",
    "\n",
    "plt.plot(xbase,np.log((6/200)*np.sum(result,axis=0)),label=\"Rice (marginal)\")\n",
    "loc=np.sqrt(np.sum(mean[[0,2]]**2))\n",
    "\n",
    "plt.plot(xbase,np.log(norm.pdf(xbase,loc=loc, scale=0.5)),'r--',label=\"Normal(0.5,0.5)\")\n",
    "plt.ylabel(\"log(PDF)\")\n",
    "plt.xlabel(\"|E_1|\")\n",
    "plt.ylim([-20,2])\n",
    "plt.legend()\n",
    "plt.show()"
   ]
  },
  {
   "cell_type": "markdown",
   "metadata": {},
   "source": [
    "Pretty bad!"
   ]
  },
  {
   "cell_type": "markdown",
   "metadata": {},
   "source": [
    "### Acentric $\\Delta|E|$\n",
    "In contrast, we find that the differences in structure factor amplitudes between related datasets can often be captured quite accurately using normal distributions."
   ]
  },
  {
   "cell_type": "code",
   "execution_count": 11,
   "metadata": {},
   "outputs": [
    {
     "data": {
      "text/plain": [
       "[]"
      ]
     },
     "execution_count": 11,
     "metadata": {},
     "output_type": "execute_result"
    },
    {
     "data": {
      "image/png": "[encoded data removed]",
      "text/plain": [
       "<Figure size 360x216 with 1 Axes>"
      ]
     },
     "metadata": {
      "needs_background": "light"
     },
     "output_type": "display_data"
    }
   ],
   "source": [
    "plt.figure(figsize=(5,3))\n",
    "plt.hist(R1_abs-R2_abs,100, density=True)\n",
    "plt.yscale(\"log\")\n",
    "xl=plt.xlim()\n",
    "yl=plt.ylim()\n",
    "\n",
    "x=np.linspace(0.85*xl[0],0.85*xl[1],100)\n",
    "y1=   norm.pdf(x,0,np.std(R1_abs-R2_abs))\n",
    "# y2=laplace.pdf(x,0,np.std(R1_abs-R2_abs)/np.sqrt(2))\n",
    "\n",
    "plt.plot(x,y1,'r-')\n",
    "# plt.plot(x,y2,'m-')\n",
    "plt.ylim(yl)\n",
    "ref=\"{ref}\"\n",
    "plt.title(f\"$r$={r}, $r_x$={rx}, $E_{ref}$ = {Eref}, std($\\Delta F$)={np.std(R1_abs-R2_abs):.3}\")\n",
    "plt.xlabel(r\"$\\Delta |F|$\")\n",
    "plt.ylabel(\"Density\")\n",
    "plt.grid()\n",
    "plt.plot()"
   ]
  },
  {
   "cell_type": "markdown",
   "metadata": {},
   "source": [
    "### Centric $\\Delta|E|$\n",
    "\n",
    "To compute $\\Delta|E|$, we first compute the conditional distribution of $|E_{1c}|,|E_{2c}|$ given $|E_{3c}|$, analogous to the above two sections.\n",
    "\n",
    "Following https://en.wikipedia.org/wiki/Multivariate_normal_distribution#Conditional_distributions, \n",
    "\n",
    "$$\n",
    "P\\left(E_{1c},E_{2c} | E_{3c}\\right) = N\\left(r E_{3c},C_{1c|3c}\\right)\n",
    "$$\n",
    "\n",
    "with \n",
    "\n",
    "$$\n",
    "C_{1c|3c} = \n",
    "\\begin{bmatrix}\n",
    "1   -r^2 & r_x -r^2 \\\\\n",
    "r_x -r^2 & 1   -r^2         \n",
    "\\end{bmatrix}\n",
    "$$"
   ]
  },
  {
   "cell_type": "markdown",
   "metadata": {},
   "source": [
    "We then have that \n",
    "\n",
    "$$\n",
    "P\\Bigl(|E_{1c}|,|E_{2c}| \\Big| |E_{3c}|\\Bigr) = P\\Bigl(E_{1c},E_{2c} \\Big| E_{3c}\\Bigr) + \n",
    "                                             P\\Bigl(-E_{1c},E_{2c} \\Big| E_{3c}\\Bigr) +\n",
    "                                             P\\Bigl(E_{1c},-E_{2c} \\Big| E_{3c}\\Bigr) +\n",
    "                                             P\\Bigl(-E_{1c},-E_{2c} \\Big| E_{3c}\\Bigr)\n",
    "$$\n",
    "\n",
    "There should not be any need to further simplify this."
   ]
  },
  {
   "cell_type": "markdown",
   "metadata": {},
   "source": [
    "We implemented two ways to calculate the folded normal--in terms of $r$, $r_x$, $\\Sigma$, $E_3$ or in terms of the conditional mean and variance"
   ]
  },
  {
   "cell_type": "code",
   "execution_count": 12,
   "metadata": {},
   "outputs": [
    {
     "name": "stdout",
     "output_type": "stream",
     "text": [
      "5.7036982823964624e-09\n",
      "5.7036982823964624e-09\n"
     ]
    }
   ],
   "source": [
    "r   = 0.9\n",
    "rx  = 0.98\n",
    "E3  = 1\n",
    "mean= r*np.asarray([E3,E3])\n",
    "cov = np.asarray([[ 1-r**2, rx-r**2],\\\n",
    "                  [rx-r**2,  1-r**2]])\n",
    "\n",
    "print(bivariate_tools.FoldedNorm2D_wrapper(3, 2, rx=rx, Sigma=1.0, E3=E3, r=r))\n",
    "print(bivariate_tools.FoldedNorm2D(3,2, mean, cov))"
   ]
  },
  {
   "cell_type": "code",
   "execution_count": 13,
   "metadata": {},
   "outputs": [],
   "source": [
    "rng = default_rng()\n",
    "n_samples=int(1e7)\n",
    "\n",
    "# print(cov)\n",
    "vals = rng.multivariate_normal(mean,cov,n_samples)\n",
    "R1_abs=np.abs(vals[:,0])\n",
    "R2_abs=np.abs(vals[:,1])"
   ]
  },
  {
   "cell_type": "code",
   "execution_count": 14,
   "metadata": {},
   "outputs": [
    {
     "name": "stdout",
     "output_type": "stream",
     "text": [
      "(40000, 2)\n",
      "(200, 200)\n",
      "Elapsed time: 0.00593 s\n",
      "Integrated probability density: 0.994\n"
     ]
    }
   ],
   "source": [
    "nx, ny = (200,200)\n",
    "xy_max = 4\n",
    "xbase  = np.linspace(0.001, xy_max, nx)\n",
    "ybase  = np.linspace(0.001, xy_max, ny)\n",
    "xx,yy  = np.meshgrid(xbase,ybase)\n",
    "y_in   = np.transpose(np.array([xx.flatten(), yy.flatten()]))\n",
    "print(y_in.shape)\n",
    "\n",
    "t1_start = perf_counter()  \n",
    "result = bivariate_tools.FoldedNorm2D_all(y_in[:,0].reshape(-1,1), y_in[:,1].reshape(-1,1), mean, cov)\n",
    "result = result.reshape(nx,ny)\n",
    "print(result.shape)\n",
    "t1_end = perf_counter()  \n",
    "\n",
    "print(f\"Elapsed time: {t1_end-t1_start:.3} s\")\n",
    "print(f\"Integrated probability density: {np.sum(result[:])*((xy_max/nx)*(xy_max/ny)):.3}\")"
   ]
  },
  {
   "cell_type": "code",
   "execution_count": 15,
   "metadata": {},
   "outputs": [
    {
     "data": {
      "image/png": "[encoded data removed]",
      "text/plain": [
       "<Figure size 1152x360 with 6 Axes>"
      ]
     },
     "metadata": {
      "needs_background": "light"
     },
     "output_type": "display_data"
    }
   ],
   "source": [
    "xedges = np.linspace(0,4,201)\n",
    "yedges = np.linspace(0,4,201)\n",
    "Hx_emp, xedges, yedges = np.histogram2d(R1_abs, R2_abs, bins=(xedges, yedges),density=True)\n",
    "\n",
    "plt.figure(figsize=(16,5))                         \n",
    "plt.subplot(1,3,1)        \n",
    "plt.text(1,4.2,\"Empirical 2D\")\n",
    "plt.imshow(Hx_emp, interpolation='none', extent=[0,4,0,4],origin='lower')\n",
    "plt.xlabel(r\"x=$|E_1|$\"); plt.ylabel(r\"y=$|E_2|$\")\n",
    "plt.colorbar(); \n",
    "\n",
    "plt.subplot(1,3,2)        \n",
    "plt.imshow(result, interpolation='none', extent=[0,4,0,4],origin='lower')\n",
    "plt.text(0.2,4.2,\"Bivariate Folded Normal\")\n",
    "plt.colorbar()\n",
    "                         \n",
    "plt.subplot(1,3,3)\n",
    "plt.imshow(Hx_emp-result, interpolation='none', extent=[0,4,0,4],origin='lower',vmin=-0.05,vmax=0.05)\n",
    "plt.text(1,4.2,\"Difference\")\n",
    "plt.colorbar(); plt.show()"
   ]
  },
  {
   "cell_type": "code",
   "execution_count": 16,
   "metadata": {},
   "outputs": [
    {
     "data": {
      "text/plain": [
       "[]"
      ]
     },
     "execution_count": 16,
     "metadata": {},
     "output_type": "execute_result"
    },
    {
     "data": {
      "image/png": "[encoded data removed]",
      "text/plain": [
       "<Figure size 360x216 with 1 Axes>"
      ]
     },
     "metadata": {
      "needs_background": "light"
     },
     "output_type": "display_data"
    }
   ],
   "source": [
    "plt.figure(figsize=(5,3))\n",
    "plt.hist(R1_abs-R2_abs,100, density=True)\n",
    "plt.yscale(\"log\")\n",
    "xl=plt.xlim()\n",
    "yl=plt.ylim()\n",
    "\n",
    "x=np.linspace(0.85*xl[0],0.85*xl[1],100)\n",
    "y1=   norm.pdf(x,0,np.std(R1_abs-R2_abs))\n",
    "# y2=laplace.pdf(x,0,np.std(R1_abs-R2_abs)/np.sqrt(2))\n",
    "\n",
    "plt.plot(x,y1,'r-')\n",
    "# plt.plot(x,y2,'m-')\n",
    "plt.ylim(yl)\n",
    "ref=\"{ref}\"\n",
    "plt.title(f\"$r$={r}, $r_x$={rx}, $E_{ref}$ = {mean[0]}, std($\\Delta F$)={np.std(R1_abs-R2_abs):.3}\")\n",
    "plt.xlabel(r\"$\\Delta |F|$\")\n",
    "plt.ylabel(\"density\")\n",
    "plt.grid()\n",
    "plt.plot()"
   ]
  },
  {
   "cell_type": "markdown",
   "metadata": {},
   "source": [
    "## Magnitude of $\\sigma(\\Delta|E|)$\n",
    "We found that $\\sigma(\\Delta |E|)\\approx\\sqrt{1-r}$ for acentric reflections and $\\sigma(\\Delta |E|)\\leq\\sqrt{2(1-r)}$ for centric reflections. Small deviations occur when $E$ is close to zero (towards slightly smaller standard deviation). Histograms look perfectly gaussian in all cases considered.\n",
    "\n",
    "See **effective_penalty_parameters_DeltaF.xlsx** in the `double-wilson` repository."
   ]
  },
  {
   "cell_type": "markdown",
   "metadata": {},
   "source": [
    "For a single acentric component, we can state that:\n",
    "$$\n",
    "\\begin{align}\n",
    " Var(\\Delta E_x)   & = Var\\left(E_{1x} - (r E_{1x} + \\sqrt{1-r^2} \\eta_x)\\right)  \\\\\n",
    "                   & =  Var\\left((1-r) E_{1x} - \\sqrt{1-r^2} \\eta_x\\right)   \\\\\n",
    "                   & =  \\frac{1}{2}\\left((1-r)^2 + (1-r^2) - 0\\right)  \\\\\n",
    "                   &  = (1-r) \n",
    "\\end{align}\n",
    "$$\n",
    "\n",
    "where $r E_{1x}$ is the conditional mean of $E_{1x}$ and $\\eta_x \\sim \\mathcal{N}(0,1/2)$ and Var($E_{1x}$) $=\\frac{1}{2}$. We used that $(1-r)^2 + (1-r^2) = 2-2r$.\n",
    "\n",
    "For a centric structure factor, we likewise obtain $Var(\\Delta E)=2(1-r)$.\n",
    "\n",
    "For centrics, that essentially settles why $Var(\\Delta |E|) \\leq 2(1-r)$, with the inequality coming from us not taking absolute values in the above equation. That is, $\\left||E_1| - |E_2|\\right| \\leq \\left|E_1 - E_2\\right|$. As long as $r$ is fairly close to 1, $E_1$ and $E_2$ will be very likely to have the same phase, in which case equality holds.\n",
    "\n",
    "For acentrics, the argument is more complicated. We can choose radial and transverse directions, apply the above argument to the radial dimension, and observe that the radial difference dominates the difference in absolute value, as long as $r$ is fairly close to 1.  "
   ]
  }
 ],
 "metadata": {
  "kernelspec": {
   "display_name": "Python 3",
   "language": "python",
   "name": "python3"
  },
  "language_info": {
   "codemirror_mode": {
    "name": "ipython",
    "version": 3
   },
   "file_extension": ".py",
   "mimetype": "text/x-python",
   "name": "python",
   "nbconvert_exporter": "python",
   "pygments_lexer": "ipython3",
   "version": "3.8.8"
  },
  "toc": {
   "base_numbering": 1,
   "nav_menu": {},
   "number_sections": true,
   "sideBar": false,
   "skip_h1_title": false,
   "title_cell": "Table of Contents",
   "title_sidebar": "Contents",
   "toc_cell": false,
   "toc_position": {
    "height": "831px",
    "left": "25px",
    "top": "110px",
    "width": "340px"
   },
   "toc_section_display": true,
   "toc_window_display": false
  }
 },
 "nbformat": 4,
 "nbformat_minor": 4
}
