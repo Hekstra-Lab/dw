{
 "cells": [
  {
   "cell_type": "code",
   "execution_count": 1,
   "metadata": {},
   "outputs": [],
   "source": [
    "import numpy as np\n",
    "from matplotlib    import pyplot as plt\n",
    "from numpy.random  import default_rng\n",
    "from tqdm          import tqdm\n",
    "from time          import perf_counter \n",
    "from scipy.stats   import pearsonr, poisson, wishart, multivariate_normal, norm, vonmises, multivariate_t, rice, foldnorm\n",
    "from scipy.special import gamma, factorial, gammaln\n",
    "from scipy.special import i0 as I0\n",
    "from dw_tools      import dag_pgm_tools"
   ]
  },
  {
   "cell_type": "code",
   "execution_count": 2,
   "metadata": {},
   "outputs": [],
   "source": [
    "plt.rcParams.update({'font.size': 14})\n",
    "%load_ext autoreload\n",
    "%autoreload 2"
   ]
  },
  {
   "cell_type": "markdown",
   "metadata": {},
   "source": [
    "## Taking a DAG point of view...\n",
    "Consider three complex structure factors $F_1$,$F_2$,$F_3$, such that \n",
    "<img src=\"img/F1_F2_F3.png\" alt=\"drawing\" width=\"200\"/>\n",
    "for example\n",
    "<img src=\"img/ref_off_on.png\" alt=\"drawing\" width=\"200\"/>\n",
    "\n",
    "with arrows indicating statistical dependence, parameterized by a DW parameter indicated by the superscripts."
   ]
  },
  {
   "cell_type": "markdown",
   "metadata": {},
   "source": [
    "For the remainder, we will assume that the structure factors live on a common scale set by $\\Sigma=\\mathbb{E}(|F|^2)$. To indicate this, we'll switch from $F$ to $E$. We'll keep the common scale $\\Sigma$ around, noting that for normalized structure factors $\\Sigma=1$.\n",
    "\n",
    "We can think of $E_2$ as consisting of \n",
    "- a chunk $r E_1$, with variance $r^2 \\frac{\\Sigma}{2}$ for real and imag components and,\n",
    "- an independent bivariate normal chunk $\\Delta_{21}$ with mean $(0,0)$ and covariance matrix $\\frac{1}{2}(1-r^2)\\Sigma \\mathbf{I}$, \n",
    "\n",
    "with $\\mathbf{I}$ the identity matrix. Now, $Var(E_{2x})=r^2 \\frac{\\Sigma}{2}+\\frac{\\Sigma}{2}(1-r^2)=\\frac{\\Sigma}{2}$. An analogous relationship applies to $E_3$ and $E_2$."
   ]
  },
  {
   "cell_type": "markdown",
   "metadata": {},
   "source": [
    "### Covariance matrix\n",
    "Because of the conditional independence implied by these diagrams, the correlations of their amplitudes satisfy \n",
    "\n",
    "$$\\rho\\left( |E_1|, |E_3|\\right)  = \\rho\\left( |E_1|, |E_2| \\right)\\cdot\\rho\\left( |E_2|, |E_3| \\right).$$ \n",
    "Likewise, $$\\rho\\left(E_{1x}, E_{3x}\\right) = \\rho\\left(E_{1y}, E_{2y}\\right)\\cdot\\rho\\left(E_{2x}, E_{3x}\\right), \\mathrm{etc.}$$\n",
    "\n",
    "We can, hence, construct the covariance matrix as:\n",
    "\n",
    "$$\n",
    "C = \\frac{\\Sigma}{2}\n",
    "\\begin{bmatrix}\n",
    "1      & r   & r_x r & 0     & 0   & 0      \\\\\n",
    "r      & 1   & r_x   & 0     & 0   & 0      \\\\\n",
    "r_x r  & r_x & 1     & 0     & 0   & 0      \\\\\n",
    "0      & 0   & 0     & 1     & r   & r_x r  \\\\\n",
    "0      & 0   & 0     & r     & 1   & r_x    \\\\\n",
    "0      & 0   & 0     & r_x r & r_x & 1  \n",
    "\\end{bmatrix}\n",
    "$$\n",
    "\n",
    "with, for normalized structure factors, $\\Sigma=1$. Note that this covariance matrix differs from what we used in notebooks **6_Bivariate_conditional_amplitude_phase_dists.ipynb** and its abbreviated versions, because we make a different assumption about their statistical dependence."
   ]
  },
  {
   "cell_type": "markdown",
   "metadata": {},
   "source": [
    "Conditional on $E_1$, we get:\n",
    "\n",
    "$$\n",
    "C_{(2,3)|1} = \\frac{\\Sigma}{2}\n",
    "\\begin{bmatrix}\n",
    "1-r^2      & r_x(1-r^2) & 0          & 0          \\\\\n",
    "r_x(1-r^2) & 1-r_x^2r^2 & 0          & 0          \\\\\n",
    "0          & 0          & 1-r^2      & r_x(1-r^2) \\\\\n",
    "0          & 0          & r_x(1-r^2) & 1-r_x^2r^2 \\\\ \n",
    "\\end{bmatrix}\n",
    "$$\n",
    "\n",
    "which follows from the usual properties of conditioning for a multivariate normal (https://en.wikipedia.org/wiki/Multivariate_normal_distribution)."
   ]
  },
  {
   "cell_type": "markdown",
   "metadata": {},
   "source": [
    "We also need\n",
    "\n",
    "$$\n",
    "C_{2|1} = \n",
    "\\frac{\\Sigma}{2}\n",
    "\\begin{bmatrix}\n",
    "1-r^2  &     0    \\\\\n",
    "0      & 1-r^2    \\\\\n",
    "\\end{bmatrix}\n",
    "\\ \\  \\mathrm{and} \\ \\ \n",
    "C_{3|2} = \n",
    "\\frac{\\Sigma}{2}\n",
    "\\begin{bmatrix}\n",
    "1-r_x^2  &     0    \\\\\n",
    "0      & 1-r_x^2    \\\\\n",
    "\\end{bmatrix}\n",
    "$$"
   ]
  },
  {
   "cell_type": "markdown",
   "metadata": {},
   "source": [
    "#### example calculations..."
   ]
  },
  {
   "cell_type": "code",
   "execution_count": 3,
   "metadata": {},
   "outputs": [],
   "source": [
    "rng = default_rng()\n",
    "r   = 0.9\n",
    "rx  = 0.95\n",
    "R1  = np.asarray([1.5,1.5,0,0])       # unconditional: value of R1\n",
    "mean = np.array([r,r*rx,r,r*rx])*R1   # conditional means of components of E2 and E3\n",
    "cov = 0.5*\\\n",
    "    np.asarray([[ 1-r**2    , rx*(1-r**2),  0,           0          ],\\\n",
    "                [rx*(1-r**2), 1-rx**2*r**2, 0,           0          ],\\\n",
    "                [0,           0,            1 -r**2,     rx*(1-r**2)],\\\n",
    "                [0,           0,            rx*(1-r**2), 1-rx**2*r**2]])"
   ]
  },
  {
   "cell_type": "code",
   "execution_count": 4,
   "metadata": {},
   "outputs": [],
   "source": [
    "vals = rng.multivariate_normal(mean,cov,10000000)\n",
    "R2_sq=vals[:,0]**2 + vals[:,2]**2\n",
    "R3_sq=vals[:,1]**2 + vals[:,3]**2\n",
    "R2_abs = np.sqrt(R2_sq)\n",
    "R3_abs = np.sqrt(R3_sq)\n",
    "# print(np.cov(np.transpose(vals)))\n",
    "# print(cov)"
   ]
  },
  {
   "cell_type": "markdown",
   "metadata": {},
   "source": [
    "Alternative construction of the same:"
   ]
  },
  {
   "cell_type": "code",
   "execution_count": 5,
   "metadata": {},
   "outputs": [],
   "source": [
    "E_2x_sampled = r*R1[0] + np.sqrt(0.5*(1-r**2))*np.random.normal(size=(10000000,))"
   ]
  },
  {
   "cell_type": "code",
   "execution_count": 6,
   "metadata": {
    "code_folding": []
   },
   "outputs": [],
   "source": [
    "if True:\n",
    "    plt.hist(E_2x_sampled,100,density=True)\n",
    "    plt.xlabel(r\"$E_{2x}$ by alternate construction\")\n",
    "    plt.xlim((0,3)); plt.grid(); plt.show()\n",
    "\n",
    "    plt.hist(vals[:,0],100,density=True)\n",
    "    plt.xlabel(r\"$E_{2x}$ from conditional multivariate normal\")\n",
    "    plt.xlim((0,3)); plt.grid(); plt.show()\n",
    "\n",
    "    plt.hist(R2_abs,100,density=True)\n",
    "    plt.xlabel(r\"$|E_{2}|$ from conditional MVN\")\n",
    "    plt.xlim((0,3)); plt.grid(); plt.show()\n",
    "\n",
    "    plt.hist(R3_abs,100,density=True)\n",
    "    plt.xlabel(r\"$|E_{3}|$ from conditional MVN\")\n",
    "    plt.xlim((0,3)); plt.grid(); plt.show() # some graphical checks"
   ]
  },
  {
   "cell_type": "markdown",
   "metadata": {},
   "source": [
    "### Factorizing the joint probability\n",
    "The exciting thing about this formalism is that now \n",
    "\n",
    "$$\n",
    "P\\left(E_1,E_2,E_3\\right) = \n",
    "P\\left(E_3\\bigr| E_2\\right)\n",
    "P\\left(E_2\\bigr| E_1\\right) P\\left(E_1\\right)\n",
    "=\n",
    "P\\left(R_3,\\phi_3\\bigr| R_2,\\phi_2\\right)\n",
    "P\\left(R_2,\\phi_2\\bigr| R_1,\\phi_1\\right) P\\left(R_1,\\phi_1\\right)\n",
    "$$\n",
    "\n",
    "with $E_i=(R_i,\\phi_i)$, etc. We already know that in the DW model $P\\left(R_3,\\phi_3\\bigr| R_2\\right)=\\left(R_3,\\Delta\\phi_{32}=\\phi_3-\\phi_2\\bigr| R_2\\right)$, etc.\n",
    "\n",
    "$$\n",
    "P\\left(E_2,E_3\\bigr|E_1\\right) = \n",
    "P\\left(R_3,\\Delta\\phi_{3,2}\\bigr| R_2\\right)\n",
    "P\\left(R_2,\\Delta\\phi_{2,1}\\bigr| R_1\\right) \n",
    "$$\n",
    "\n",
    "so \n",
    "\n",
    "$$\n",
    "P\\left(R_2,R_3\\bigr|E_1\\right) = \\int d\\Delta\\phi_{32} P\\left(R_3,\\Delta\\phi_{3,2}\\bigr| R_2\\right)\n",
    "                                 \\int d\\Delta\\phi_{21} P\\left(R_2,\\Delta\\phi_{2,1}\\bigr| R_1\\right) \n",
    "$$\n"
   ]
  },
  {
   "cell_type": "markdown",
   "metadata": {},
   "source": [
    "The results of _both_ integrals are Rice distributions. \n",
    "\n",
    "In our case, \n",
    "\n",
    "$$\n",
    "\\int d\\Delta\\phi_{32} P\\left(R_3,\\Delta\\phi_{3,2}\\bigr| R_2\\right) = Rice\\left(\\nu = r_x R_2, \\sigma^2 = \\frac{\\Sigma}{2}(1-r_x^2)\\right)\n",
    "$$\n",
    "and\n",
    "$$\n",
    "\\int d\\Delta\\phi_{21} P\\left(R_2,\\Delta\\phi_{2,1}\\bigr| R_1\\right) = Rice\\left(\\nu = r R_1, \\sigma^2 = \\frac{\\Sigma}{2}(1-r^2)\\right)\n",
    "$$\n"
   ]
  },
  {
   "cell_type": "markdown",
   "metadata": {},
   "source": [
    "#### Comparison to sampled data"
   ]
  },
  {
   "cell_type": "code",
   "execution_count": 7,
   "metadata": {},
   "outputs": [],
   "source": [
    "def bivariate_Rice_DAG(R1, R2, R3, Sigma=1, r=r, rx=rx):\n",
    "    cond_mean_21 = (R1 * r)\n",
    "    cond_mean_32 = (R2 * rx)\n",
    "    nu_21        = cond_mean_21\n",
    "    nu_32        = cond_mean_32\n",
    "    cond_var_21  = 0.5*Sigma*(1-r**2 )\n",
    "    cond_var_32  = 0.5*Sigma*(1-rx**2)\n",
    "    sigma_ac_21  = np.sqrt(cond_var_21)\n",
    "    sigma_ac_32  = np.sqrt(cond_var_32)\n",
    "    b_21         = nu_21/sigma_ac_21\n",
    "    b_32         = nu_32/sigma_ac_32\n",
    "    scale_21     = sigma_ac_21\n",
    "    scale_32     = sigma_ac_32\n",
    "\n",
    "    return rice.pdf(R3, b=b_32, scale=scale_32)*rice.pdf(R2, b=b_21, scale=scale_21)"
   ]
  },
  {
   "cell_type": "code",
   "execution_count": 9,
   "metadata": {},
   "outputs": [
    {
     "name": "stdout",
     "output_type": "stream",
     "text": [
      "(300, 200)\n",
      "(60000, 2)\n",
      "(200, 300)\n",
      "Elapsed time: 0.0118 s\n",
      "Integrated probability density: 0.992\n"
     ]
    }
   ],
   "source": [
    "nx, ny = (200,300)\n",
    "x_max = 5\n",
    "y_max = 6\n",
    "xbase  = np.linspace(0.001, x_max, nx)\n",
    "ybase  = np.linspace(0.001, y_max, ny)\n",
    "xx,yy  = np.meshgrid(xbase, ybase)\n",
    "print(xx.shape)\n",
    "y_in   = np.transpose(np.array([np.transpose(xx).flatten(), np.transpose(yy).flatten()]))\n",
    "print(y_in.shape)\n",
    "\n",
    "t1_start = perf_counter()  \n",
    "result = bivariate_Rice_DAG(R1[0], y_in[:,0].reshape(1,-1), y_in[:,1].reshape(1,-1), Sigma=1, r=r, rx=rx)\n",
    "result = result.reshape(nx,ny)\n",
    "print(result.shape)\n",
    "t1_end = perf_counter()  \n",
    "\n",
    "print(f\"Elapsed time: {t1_end-t1_start:.3} s\")\n",
    "print(f\"Integrated probability density: {np.sum(result[:])*((x_max/nx)*(y_max/ny)):.3}\")"
   ]
  },
  {
   "cell_type": "markdown",
   "metadata": {},
   "source": [
    "Or, putting this in graph terms,"
   ]
  },
  {
   "cell_type": "code",
   "execution_count": 8,
   "metadata": {},
   "outputs": [],
   "source": [
    "list_of_nodes = [0,1,2]\n",
    "list_of_edges = [(0,1),(1,2)]\n",
    "root=0\n",
    "list_of_rDW = [r,rx]\n",
    "root_R=R1[0]"
   ]
  },
  {
   "cell_type": "code",
   "execution_count": 10,
   "metadata": {},
   "outputs": [
    {
     "name": "stdout",
     "output_type": "stream",
     "text": [
      "(300, 200)\n",
      "(60000, 2)\n",
      "Overwrote the 0th column with the reference.\n",
      "(200, 300)\n",
      "Elapsed time: 0.0329 s\n",
      "Integrated probability density: 0.992\n"
     ]
    }
   ],
   "source": [
    "nx, ny = (200,300)\n",
    "x_max = 5\n",
    "y_max = 6\n",
    "xbase  = np.linspace(0.001, x_max, nx)\n",
    "ybase  = np.linspace(0.001, y_max, ny)\n",
    "xx,yy  = np.meshgrid(xbase, ybase)\n",
    "print(xx.shape)\n",
    "y_in   = np.transpose(np.array([np.transpose(xx).flatten(), np.transpose(yy).flatten()]))\n",
    "print(y_in.shape)\n",
    "\n",
    "t1_start = perf_counter()  \n",
    "result_2 = dag_pgm_tools.RiceWoolfson_for_DAG(list_of_nodes, list_of_edges, root=root, list_of_rDW=list_of_rDW, \\\n",
    "                                              root_R=root_R, root_rDW=None, Sigma=1, centric=False\\\n",
    "                                             ).prob(np.concatenate((np.zeros((y_in.shape[0],1)), y_in),axis=1))\n",
    "result_2 = result_2.reshape(nx,ny)\n",
    "print(result_2.shape)\n",
    "t1_end = perf_counter()  \n",
    "\n",
    "print(f\"Elapsed time: {t1_end-t1_start:.3} s\")\n",
    "print(f\"Integrated probability density: {np.sum(result_2[:])*((x_max/nx)*(y_max/ny)):.3}\")"
   ]
  },
  {
   "cell_type": "code",
   "execution_count": 23,
   "metadata": {
    "scrolled": false
   },
   "outputs": [
    {
     "data": {
      "image/png": "[encoded data removed]",
      "text/plain": [
       "<Figure size 1080x720 with 12 Axes>"
      ]
     },
     "metadata": {
      "needs_background": "light"
     },
     "output_type": "display_data"
    }
   ],
   "source": [
    "(xmax,ymax) = (x_max,y_max)\n",
    "xedges = np.linspace(0,xmax,nx+1)\n",
    "yedges = np.linspace(0,ymax,ny+1)\n",
    "Hx_emp, xedges, yedges = np.histogram2d(R2_abs, R3_abs, bins=(xedges, yedges),density=True)\n",
    "\n",
    "# Since the axes of these plots drive me a nuts, a positive control using [yplot.hist2d.\n",
    "# In addition, I made the 2D histograms below asymmetric in dimension (remove \"extent=[]\" to see that),\n",
    "# and validated labels using 1D histograms above.\n",
    "# fig,ax=plt.subplots()\n",
    "# ax.hist2d(R2_abs, R3_abs,bins=50,range=[[0,xmax],[0,ymax]])\n",
    "# ax.set_aspect('equal')\n",
    "# ax.set_xlabel(r\"$R_2$\"); ax.set_ylabel(r\"$R_3$\")\n",
    "# plt.show()\n",
    "\n",
    "plt.figure(figsize=(15,10))                         \n",
    "plt.subplot(2,3,1)        \n",
    "plt.imshow(Hx_emp.T, interpolation='none',origin='lower', extent=[0,xmax,0,ymax]) \n",
    "plt.xlabel(r\"x=$R_2$\"); plt.ylabel(r\"y=$R_3$\")\n",
    "plt.colorbar(); \n",
    "\n",
    "plt.subplot(2,3,2)        \n",
    "plt.imshow(result.T, interpolation='none',origin='lower', extent=[0,xmax,0,ymax]) #\n",
    "plt.colorbar()\n",
    "\n",
    "plt.subplot(2,3,3)        \n",
    "plt.imshow(result_2.T, interpolation='none',origin='lower', extent=[0,xmax,0,ymax]) #\n",
    "plt.colorbar()\n",
    "\n",
    "plt.subplot(2,3,4)\n",
    "plt.imshow((Hx_emp-result).T, interpolation='none',origin='lower', extent=[0,xmax,0,ymax])\n",
    "plt.colorbar(); \n",
    "\n",
    "plt.subplot(2,3,5)\n",
    "plt.imshow((Hx_emp-result_2).T, interpolation='none',origin='lower', extent=[0,xmax,0,ymax])\n",
    "plt.colorbar(); \n",
    "\n",
    "plt.subplot(2,3,6)\n",
    "plt.imshow((result-result_2).T, interpolation='none',origin='lower', extent=[0,xmax,0,ymax])\n",
    "plt.colorbar(); plt.show()"
   ]
  },
  {
   "cell_type": "markdown",
   "metadata": {},
   "source": [
    "We see that the synthetic data, ```bivariate_Rice_DAG``` and the general function ```dag_pgm_tools.RiceWoolfson_for_DAG.prob()``` yield consistent results."
   ]
  },
  {
   "cell_type": "markdown",
   "metadata": {},
   "source": [
    "### General directed acyclic graphs"
   ]
  },
  {
   "cell_type": "markdown",
   "metadata": {},
   "source": [
    "The results of _both_ integrals are Rice distributions. The above principle generalizes to directed trees like these:\n",
    "\n",
    "<img src=\"img/Structure%20factor%20dependence_v2.png\" alt=\"drawing\" width=\"300\"/>\n",
    "\n",
    "Let's mark the parent of each node $R_i$ as $\\mathrm{Pa}(R_i)$; let the \"origin\" be $R_0$, and refer to the DW parameter for $P\\left(R_i \\bigr| \\mathrm{Pa}(R_i)\\right)$ as $r_i$, then,\n",
    "\n",
    "$$\n",
    "P\\left(R_i \\bigr| \\mathrm{Pa}(R_i)\\right) = \\int d\\Delta\\phi_{i,\\mathrm{Pa}(i)} P\\left(R_i,\\Delta\\phi_{i,\\mathrm{Pa(i)}}\\bigr| \\mathrm{Pa}(R_i)\\right) = Rice\\left(\\nu = r_i \\mathrm{Pa}(R_i), \\sigma^2 = \\frac{\\Sigma}{2}(1-r_i^2)\\right)\n",
    "$$\n",
    "and\n",
    "\n",
    "$$\n",
    "P\\left(\\{R_i: \\ i>0\\} \\bigr| R_0\\right) = \\prod_{i>0} Rice\\left(\\nu = r_i \\mathrm{Pa}(R_i), \\sigma^2 = \\frac{\\Sigma}{2}(1-r_i^2)\\right)\n",
    "$$\n",
    "\n",
    "That is, to specify a joint prior, all we need to do is to specify the reference prior (optional!), the tree structure $\\left\\{\\left(i, \\mathrm{Pa}(i)\\right)\\right\\}$, and estimates of the $r_i$. In the limit of $r_i\\rightarrow 0$, the priors return to the Wilson distribution. \n",
    "\n",
    "Notes: \n",
    "- each array retains the number of reflections of the OFF spacegroup.\n",
    "- some reflections are invariant under some symmetry operations--they will ultimately need to be assigned to one of them."
   ]
  },
  {
   "cell_type": "markdown",
   "metadata": {},
   "source": [
    "#### Centric case:\n",
    "$$\n",
    "P\\left(R_i \\bigr| \\mathrm{Pa}(R_i)\\right) = \\int d\\Delta\\phi_{i,\\mathrm{Pa}(i)} P\\left(R_i,\\Delta\\phi_{i,\\mathrm{Pa(i)}}\\bigr| \\mathrm{Pa}(R_i)\\right) = \\mathrm{FoldedNormal}\\left(\\nu = r_i \\mathrm{Pa}(R_i), \\sigma^2 = \\Sigma(1-r_i^2)\\right)\n",
    "$$\n",
    "and\n",
    "\n",
    "$$\n",
    "P\\left(\\{R_i: \\ i>0\\} \\bigr| R_0\\right) = \\prod_{i>0} \\mathrm{FoldedNormal}\\left(\\nu = r_i \\mathrm{Pa}(R_i), \\sigma^2 = \\Sigma(1-r_i^2)\\right)\n",
    "$$"
   ]
  },
  {
   "cell_type": "markdown",
   "metadata": {},
   "source": [
    "**!** I implemented these joint probability distributions in ```dag_pgm_tools.RiceWoolfson_for_DAG```, along with methods for sampling from them."
   ]
  },
  {
   "cell_type": "markdown",
   "metadata": {},
   "source": [
    "### Sampling"
   ]
  },
  {
   "cell_type": "markdown",
   "metadata": {},
   "source": [
    "The primary reason for the above is to have a suitable joint prior for the structure factor amplitudes. My understanding is that we don't need to be able to sample from that. Regardless, perhaps this could also be a good framework for a variational distribution, in which case the effort at samplin that follows may be helpful. \n",
    "\n",
    "Let's sample from the joint PDF of the following graph, for example:\n",
    "<img src=\"img/complex_dag_v1.png\" alt=\"complex dag\" width=\"250\"/>"
   ]
  },
  {
   "cell_type": "markdown",
   "metadata": {},
   "source": [
    "In the first approach, we derive the MVN for complex structure factors first."
   ]
  },
  {
   "cell_type": "code",
   "execution_count": 12,
   "metadata": {},
   "outputs": [],
   "source": [
    "(r, rx, rt)   = (0.9, 0.95, 0.98)\n",
    "root          = 0 # root of the DAG\n",
    "list_of_nodes = range(8)\n",
    "list_of_edges = [(0,1),(1,2),(2,3),(1,4),(4,5),(1,6),(6,7)]\n",
    "list_of_rdw   = [r,    rx,   rt,   rx,   rt,   rx,   rt] # for example!"
   ]
  },
  {
   "cell_type": "markdown",
   "metadata": {},
   "source": [
    "We'll first check whether we've got the right algorithm from Murphy, section 10.2.5 (we do!):"
   ]
  },
  {
   "cell_type": "code",
   "execution_count": 13,
   "metadata": {
    "code_folding": [
     0
    ]
   },
   "outputs": [
    {
     "name": "stdout",
     "output_type": "stream",
     "text": [
      "By hand...\n",
      "[[0.5   0.45  0.427 0.419 0.427 0.419 0.427 0.419]\n",
      " [0.45  0.5   0.475 0.465 0.475 0.465 0.475 0.465]\n",
      " [0.427 0.475 0.5   0.49  0.451 0.442 0.451 0.442]\n",
      " [0.419 0.465 0.49  0.5   0.442 0.433 0.442 0.433]\n",
      " [0.427 0.475 0.451 0.442 0.5   0.49  0.451 0.442]\n",
      " [0.419 0.465 0.442 0.433 0.49  0.5   0.442 0.433]\n",
      " [0.427 0.475 0.451 0.442 0.451 0.442 0.5   0.49 ]\n",
      " [0.419 0.465 0.442 0.433 0.442 0.433 0.49  0.5  ]]\n",
      "\n",
      " And now by Murphy's eqns:\n",
      "[[0.5   0.45  0.428 0.419 0.428 0.419 0.428 0.419]\n",
      " [0.45  0.5   0.475 0.466 0.475 0.466 0.475 0.466]\n",
      " [0.428 0.475 0.5   0.49  0.451 0.442 0.451 0.442]\n",
      " [0.419 0.466 0.49  0.5   0.442 0.433 0.442 0.433]\n",
      " [0.428 0.475 0.451 0.442 0.5   0.49  0.451 0.442]\n",
      " [0.419 0.466 0.442 0.433 0.49  0.5   0.442 0.433]\n",
      " [0.428 0.475 0.451 0.442 0.451 0.442 0.5   0.49 ]\n",
      " [0.419 0.466 0.442 0.433 0.442 0.433 0.49  0.5  ]]\n"
     ]
    }
   ],
   "source": [
    "#W_ts = rdw if edge s -> t\n",
    "n_nodes = 8\n",
    "n_edges = len(list_of_rdw)\n",
    "\n",
    "# The following implements Murphy, eqs. 10.15-10.22\n",
    "W = np.zeros((n_nodes, n_nodes))\n",
    "S = np.zeros((n_nodes, n_nodes))\n",
    "for i in range(n_edges):\n",
    "    W[list_of_edges[i][1], list_of_edges[i][0]] = list_of_rdw[i]\n",
    "\n",
    "S[0,0]=np.sqrt(0.5) # this is not explicit in Murphy but essential\n",
    "for i in range(n_edges):\n",
    "    S[list_of_edges[i][1],list_of_edges[i][1]] = np.sqrt(0.5*(1-list_of_rdw[i]**2))\n",
    "\n",
    "U = np.linalg.inv(np.eye(n_nodes)-W)\n",
    "Sig_DAG = np.matmul(np.matmul(U,S),np.transpose(np.matmul(U,S)))\n",
    "\n",
    "# for this example, I worked the matrix out by hand as well:\n",
    "Sig_full = [[1,r,r*rx,r*rx*rt,r*rx,r*rx*rt,r*rx,r*rx*rt],\\\n",
    "            [r,1,rx,rx*rt,rx,rx*rt,rx,rx*rt],\\\n",
    "            [rx*r,rx,1,rt,rx*rx,rx*rx*rt,rx*rx,rx*rx*rt],\\\n",
    "            [rt*rx*r,rt*rx,rt,1,rt*rx*rx,rt*rx*rx*rt,rt*rx*rx,rt*rx*rx*rt],\\\n",
    "            [rx*r,rx,rx*rx,rx*rx*rt,1,rt,rx*rx,rx*rx*rt],\\\n",
    "            [rt*rx*r,rt*rx,rt*rx*rx,rt*rx*rx*rt,rt,1,rt*rx*rx,rt*rx*rx*rt],\\\n",
    "            [rx*r,rx,rx*rx,rx*rx*rt,rx*rx,rx*rx*rt,1,rt],\\\n",
    "            [rt*rx*r,rt*rx,rt*rx*rx,rt*rx*rx*rt,rt*rx*rx,rt*rx*rx*rt,rt,1]\n",
    "           ]\n",
    "Sig_full = 0.5*np.array(Sig_full)\n",
    "\n",
    "print(\"By hand...\")\n",
    "print(np.array2string(Sig_full,precision=3))\n",
    "print('\\n And now by Murphy\\'s eqns:')\n",
    "print(np.array2string(Sig_DAG,precision=3))\n",
    "# plt.imshow(Sig_full-Sig_DAG)\n",
    "# plt.title(r\"$\\Delta$Cov (by hand - Murphy)\",fontsize=12)\n",
    "# plt.colorbar()\n",
    "# plt.show()"
   ]
  },
  {
   "cell_type": "markdown",
   "metadata": {},
   "source": [
    "Let's implement these as functions"
   ]
  },
  {
   "cell_type": "code",
   "execution_count": 14,
   "metadata": {
    "code_folding": [
     0,
     33
    ]
   },
   "outputs": [],
   "source": [
    "def Cov_from_DAG_acentric(list_of_nodes, list_of_edges, list_of_rdw, mu_per_node=0, Sigma=1, as_block=True):\n",
    "    '''\n",
    "    Calculating the covariance of the JPD of a directed acyclic graph of acentric structure factors.\n",
    "    This implements Murphy, eqs. 10.15-10.22\n",
    "    Input arguments:\n",
    "    list_of_nodes : List of indices of nodes to be used in calculating the JPD\n",
    "    list_of_edges : List of tuples (from, to) summarizing conditional dependencies\n",
    "    list_of_rdw   : List of double-wilson parameters (floats) corresponding to each edge\n",
    "    mu_per_node   : List of floats; unconditional expectation values for each node (default: 0)\n",
    "    Sigma         : Float, default expectation value <F**2> (Default: 1)\n",
    "    as_block      : Boolean; whether to return a block matrix with covariances for real and \n",
    "                    imaginary components (Default: True).\n",
    "    '''\n",
    "    n_nodes = len(list_of_nodes)\n",
    "    n_edges = len(list_of_edges)\n",
    "\n",
    "    W = np.zeros((n_nodes, n_nodes))\n",
    "    S = np.zeros((n_nodes, n_nodes))\n",
    "    for i in range(n_edges):\n",
    "        W[list_of_edges[i][1], list_of_edges[i][0]] = list_of_rdw[i]\n",
    "\n",
    "    S[0,0]=np.sqrt(0.5*Sigma) # this is not explicit in Murphy but essential\n",
    "    for i in range(n_edges):\n",
    "        S[list_of_edges[i][1],list_of_edges[i][1]] = np.sqrt(0.5*(1-list_of_rdw[i]**2))\n",
    "\n",
    "    U = np.linalg.inv(np.eye(n_nodes)-W)\n",
    "    Sig_DAG = np.matmul(np.matmul(U,S),np.transpose(np.matmul(U,S)))\n",
    "    \n",
    "    if as_block:\n",
    "        return np.block([[Sig_DAG,np.zeros((n_nodes,n_nodes))],[np.zeros((n_nodes,n_nodes)),Sig_DAG]])\n",
    "    else:\n",
    "        return Sig_DAG\n",
    "\n",
    "def Cov_from_DAG_centric( list_of_nodes, list_of_edges, list_of_rdw, mu_per_node=0, Sigma=1):\n",
    "    '''\n",
    "    Calculating the covariance of the JPD of a directed acyclic graph of acentric structure factors.\n",
    "    This implements Murphy, eqs. 10.15-10.22\n",
    "    Input arguments:\n",
    "    list_of_nodes : List of indices of nodes to be used in calculating the JPD\n",
    "    list_of_edges : List of tuples (from, to) summarizing conditional dependencies\n",
    "    list_of_rdw   : List of double-wilson parameters (floats) corresponding to each edge\n",
    "    mu_per_node   : List of floats; unconditional expectation values for each node (default: 0)\n",
    "    Sigma         : Float, default expectation value <F**2> (Default: 1)\n",
    "    '''\n",
    "    return Cov_from_DAG_acentric(list_of_nodes, list_of_edges, list_of_rdw, mu_per_node, Sigma=2*Sigma, as_block=False)"
   ]
  },
  {
   "cell_type": "code",
   "execution_count": 15,
   "metadata": {},
   "outputs": [
    {
     "name": "stdout",
     "output_type": "stream",
     "text": [
      "[[0.5   0.45  0.428 0.419 0.428 0.419 0.428 0.419]\n",
      " [0.45  0.5   0.475 0.466 0.475 0.466 0.475 0.466]\n",
      " [0.428 0.475 0.5   0.49  0.451 0.442 0.451 0.442]\n",
      " [0.419 0.466 0.49  0.5   0.442 0.433 0.442 0.433]\n",
      " [0.428 0.475 0.451 0.442 0.5   0.49  0.451 0.442]\n",
      " [0.419 0.466 0.442 0.433 0.49  0.5   0.442 0.433]\n",
      " [0.428 0.475 0.451 0.442 0.451 0.442 0.5   0.49 ]\n",
      " [0.419 0.466 0.442 0.433 0.442 0.433 0.49  0.5  ]]\n"
     ]
    }
   ],
   "source": [
    "print(np.array2string(Cov_from_DAG_acentric(list_of_nodes, list_of_edges, list_of_rdw, mu_per_node=0, as_block=False),\\\n",
    "                      precision=3))"
   ]
  },
  {
   "cell_type": "markdown",
   "metadata": {},
   "source": [
    "We could sample from the full joint PDF or condition on, for example, the $F^{ref}$."
   ]
  },
  {
   "cell_type": "code",
   "execution_count": 16,
   "metadata": {},
   "outputs": [],
   "source": [
    "# For conditioning on multiple nodes, the equations needs some adjustment--see Wikipedia\n",
    "Eref=1.5\n",
    "Sig_cond  = Sig_full[1:n_nodes,1:]-np.matmul(Sig_full[1:,0].reshape(-1,1),Sig_full[0,1:].reshape(1,-1))/Sig_full[0,0]\n",
    "mean_cond = np.matmul(Sig_full[1:,0].reshape(-1,1),np.linalg.inv(Sig_full[0,0].reshape(1,-1)))*Eref\n",
    "# print(mean_cond)"
   ]
  },
  {
   "cell_type": "markdown",
   "metadata": {},
   "source": [
    "#### Sampling from the unconditional MVN of the DAG for acentrics\n",
    "We'll specialize right away to all unconditional means = 0; since that is the only case that matters as far as I can tell. Otherwise, see Murphy and Wikipedia on MVN provide all the information needed for more complete expressions."
   ]
  },
  {
   "cell_type": "code",
   "execution_count": 17,
   "metadata": {
    "code_folding": [
     5
    ]
   },
   "outputs": [],
   "source": [
    "# Unconditional (each marginal distribution should be a Wilson distribution):\n",
    "mu_full = np.zeros((2*n_nodes,))\n",
    "Cov_from_DAG_acentric_full = Cov_from_DAG_acentric(list_of_nodes, list_of_edges, list_of_rdw, as_block=True)\n",
    "\n",
    "# Conditional on an observation for F_ref (node 0):\n",
    "S                          = Cov_from_DAG_acentric(list_of_nodes, list_of_edges, list_of_rdw, as_block=False)\n",
    "S_cond =  S[1:n_nodes,1:]-np.matmul(S[1:,0].reshape(-1,1),S[0,1:].reshape(1,-1))/S[0,0]\n",
    "Cov_from_DAG_acentric_cond = np.block([[S_cond, np.zeros((n_nodes-1,n_nodes-1))],\\\n",
    "                                       [np.zeros((n_nodes-1,n_nodes-1)), S_cond]])\n",
    "E0 = 1.5 # value of 0th structure factor amplitude that we're conditioning on\n",
    "         # we will assume that phi(0) = 0 without loss of generality\n",
    "mu_cond = np.block([np.matmul(S[1:,0].reshape(-1,1),np.linalg.inv(S[0,0].reshape(1,-1)))*E0,\\\n",
    "                    np.matmul(S[1:,0].reshape(-1,1),np.linalg.inv(S[0,0].reshape(1,-1)))*0]).ravel('F')\n",
    "if False:\n",
    "    plt.figure(figsize=(10,4.2))                         \n",
    "    plt.subplot(1,2,1)  \n",
    "    plt.imshow(Cov_from_DAG_acentric_full)\n",
    "    plt.title(\"Cov_from_DAG_acentric_full\")\n",
    "    plt.subplot(1,2,2)  \n",
    "    plt.imshow(Cov_from_DAG_acentric_cond)\n",
    "    plt.title(\"Cov_from_DAG_acentric_cond\")\n",
    "    plt.show() # graphical check"
   ]
  },
  {
   "cell_type": "markdown",
   "metadata": {},
   "source": [
    "Unconditional:"
   ]
  },
  {
   "cell_type": "code",
   "execution_count": 18,
   "metadata": {},
   "outputs": [],
   "source": [
    "n_samples = 1000000\n",
    "vals = rng.multivariate_normal(mu_full,Cov_from_DAG_acentric_full,n_samples)\n",
    "\n",
    "phi   = np.zeros((n_samples, n_nodes))\n",
    "R_sq  = np.zeros((n_samples, n_nodes))\n",
    "R_abs = np.zeros((n_samples, n_nodes))\n",
    "for i in range(n_nodes):\n",
    "    phi[  :,i] = np.angle(vals[:,i] + 1j*vals[:,n_nodes+i])\n",
    "    R_sq[ :,i] = vals[:,i]**2 + vals[:,n_nodes+i]**2\n",
    "    R_abs[:,i] = np.abs(vals[:,i] + 1j*vals[:,n_nodes+i])"
   ]
  },
  {
   "cell_type": "markdown",
   "metadata": {},
   "source": [
    "#### Sampling from the conditional MVN of the DAG for acentrics\n",
    "Conditional on $E_0$:"
   ]
  },
  {
   "cell_type": "code",
   "execution_count": 19,
   "metadata": {},
   "outputs": [],
   "source": [
    "n_samples = 1000000\n",
    "n_nodes_cond = n_nodes-1\n",
    "vals = rng.multivariate_normal(mu_cond,Cov_from_DAG_acentric_cond,n_samples)\n",
    "\n",
    "phi_cond   = np.zeros((n_samples, n_nodes_cond))\n",
    "R_sq_cond  = np.zeros((n_samples, n_nodes_cond))\n",
    "R_abs_cond = np.zeros((n_samples, n_nodes_cond))\n",
    "for i in range(n_nodes-1):\n",
    "    phi_cond[  :,i] = np.angle(vals[:,i]    + 1j*vals[:,n_nodes_cond+i])\n",
    "    R_sq_cond[ :,i] =          vals[:,i]**2 +    vals[:,n_nodes_cond+i]**2\n",
    "    R_abs_cond[:,i] = np.abs(  vals[:,i]    + 1j*vals[:,n_nodes_cond+i])"
   ]
  },
  {
   "cell_type": "markdown",
   "metadata": {},
   "source": [
    "#### Sampling using the \"Rice-product priors\""
   ]
  },
  {
   "cell_type": "markdown",
   "metadata": {},
   "source": [
    "I implemented the priors on structure factor amplitudes for arbitrary DAGs (or trees, rather) in ```dw_tools/dag_pgm_tools.py```. \n",
    "\n",
    "Note: these implementations use the ```scipy.stats``` parametrization of the Rice and Folded Normal distributions. Code should be cleaner when using $\\nu$ and $\\sigma^2$. See ```5_Parsing_DW_parameters``` for details on parsing parameters for Rice and Folded Normal."
   ]
  },
  {
   "cell_type": "code",
   "execution_count": 20,
   "metadata": {},
   "outputs": [
    {
     "name": "stdout",
     "output_type": "stream",
     "text": [
      "[0.88631797 0.97759167 1.65738242]\n",
      "[0.21444046 0.24431452 0.17308353]\n",
      "<bound method RiceWoolfson_from_parent.stddev of <dw_tools.dag_pgm_tools.RiceWoolfson_from_parent object at 0x000001BDA058BBB0>>\n",
      "[1.73762222 1.23325504 1.91205243]\n"
     ]
    }
   ],
   "source": [
    "# a test for the PDF calculation for a single edge\n",
    "daughter_dist=dag_pgm_tools.RiceWoolfson_from_parent(parent_R=np.array([1,1.5,2]), rDW=np.array([0.2,0.4,0.8]), \\\n",
    "                                                     Sigma=1, centric=False)\n",
    "print(daughter_dist.mean())\n",
    "print(daughter_dist.variance())\n",
    "print(daughter_dist.stddev)\n",
    "print(daughter_dist.sample((3,)))\n",
    "# print(daughter_dist.log_prob(np.linspace(0,4,10)))\n",
    "# print(daughter_dist.prob(np.linspace(0,4,10)))"
   ]
  },
  {
   "cell_type": "code",
   "execution_count": 21,
   "metadata": {},
   "outputs": [],
   "source": [
    "# a test for the PDF calculation for the entire graph\n",
    "tmp=dag_pgm_tools.RiceWoolfson_for_DAG(list_of_nodes, list_of_edges, root, list_of_rdw, \\\n",
    "                         root_R=np.array([1.5,3]), root_rDW=list_of_rdw[0], Sigma=1, centric=False)\n",
    "my_samples = tmp.sample(1000000)\n",
    "\n",
    "# refl_id = 0\n",
    "# plt.figure(figsize=(13,11))                         \n",
    "# for node_id in range(n_nodes):\n",
    "#     plt.subplot(3,3,node_id+1) \n",
    "#     plt.hist(my_samples[node_id, refl_id,:].flatten(),100,density=True)\n",
    "#     plt.title(f\"Node {node_id}\")\n",
    "#     plt.xlim((0,4))\n",
    "#     plt.grid()\n",
    "# plt.show()"
   ]
  },
  {
   "cell_type": "markdown",
   "metadata": {},
   "source": [
    "#### Graphical comparison of sampling methods\n",
    "We'll compare sampling from the multivariate normal for the graph and the \"product-of-Rice\" prior."
   ]
  },
  {
   "cell_type": "code",
   "execution_count": 25,
   "metadata": {},
   "outputs": [
    {
     "data": {
      "image/png": "[encoded data removed]",
      "text/plain": [
       "<Figure size 1152x288 with 6 Axes>"
      ]
     },
     "metadata": {
      "needs_background": "light"
     },
     "output_type": "display_data"
    }
   ],
   "source": [
    "node_1  = 3\n",
    "node_2  = 7\n",
    "refl_id = 0\n",
    "(xmax,ymax) = (x_max,y_max)\n",
    "xedges = np.linspace(0,xmax,nx+1)\n",
    "yedges = np.linspace(0,ymax,ny+1)\n",
    "Hx_rice_samples, xedges, yedges = np.histogram2d(my_samples[node_1, refl_id,:].flatten(), \\\n",
    "                                                 my_samples[node_2, refl_id,:].flatten(), \\\n",
    "                                                 bins=(xedges, yedges),density=True)\n",
    "Hx_mvn_samples,  xedges, yedges = np.histogram2d(R_abs_cond[:,node_1-1].flatten(), \\\n",
    "                                                 R_abs_cond[:,node_2-1].flatten(), \\\n",
    "                                                 bins=(xedges, yedges),density=True)\n",
    "\n",
    "# Since the axes of these plots drive me a nuts, a positive control using [yplot.hist2d.\n",
    "# In addition, I made the 2D histograms below asymmetric in dimension (remove \"extent=[]\" to see that),\n",
    "# and validated labels using 1D histograms above.\n",
    "# fig,ax=plt.subplots()\n",
    "# ax.hist2d(R2_abs, R3_abs,bins=50,range=[[0,xmax],[0,ymax]])\n",
    "# ax.set_aspect('equal')\n",
    "# ax.set_xlabel(r\"$R_2$\"); ax.set_ylabel(r\"$R_3$\")\n",
    "# plt.show()\n",
    "\n",
    "plt.figure(figsize=(16,4))                         \n",
    "plt.subplot(1,3,1)        \n",
    "plt.imshow(Hx_rice_samples.T, interpolation='none',origin='lower', extent=[0,xmax,0,ymax]) \n",
    "plt.colorbar(); \n",
    "\n",
    "plt.subplot(1,3,2)        \n",
    "plt.imshow(Hx_mvn_samples.T, interpolation='none',origin='lower', extent=[0,xmax,0,ymax]) #\n",
    "plt.colorbar()\n",
    "plt.title(\"Comparison of DAG Rice  (left) and MVN samples (middle); difference (right) for nodes \"\\\n",
    "          + str(node_1) + \" & \" +str(node_2) + \".\")\n",
    "\n",
    "plt.subplot(1,3,3)        \n",
    "plt.imshow(Hx_mvn_samples.T - Hx_rice_samples.T, interpolation='none',origin='lower', extent=[0,xmax,0,ymax]) #\n",
    "plt.colorbar()\n",
    "plt.show()"
   ]
  },
  {
   "cell_type": "markdown",
   "metadata": {},
   "source": [
    "Looks pretty consistent!"
   ]
  }
 ],
 "metadata": {
  "kernelspec": {
   "display_name": "Python [conda env:.conda-crystallography] *",
   "language": "python",
   "name": "conda-env-.conda-crystallography-py"
  },
  "language_info": {
   "codemirror_mode": {
    "name": "ipython",
    "version": 3
   },
   "file_extension": ".py",
   "mimetype": "text/x-python",
   "name": "python",
   "nbconvert_exporter": "python",
   "pygments_lexer": "ipython3",
   "version": "3.8.8"
  },
  "toc": {
   "base_numbering": 1,
   "nav_menu": {},
   "number_sections": true,
   "sideBar": true,
   "skip_h1_title": false,
   "title_cell": "Table of Contents",
   "title_sidebar": "Contents",
   "toc_cell": false,
   "toc_position": {
    "height": "calc(100% - 180px)",
    "left": "10px",
    "top": "150px",
    "width": "335.994px"
   },
   "toc_section_display": true,
   "toc_window_display": true
  }
 },
 "nbformat": 4,
 "nbformat_minor": 4
}
