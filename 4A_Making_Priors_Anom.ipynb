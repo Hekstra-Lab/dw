{
 "cells": [
  {
   "cell_type": "markdown",
   "metadata": {},
   "source": [
    "**Approach**: we read in normalized structure factors, propose values for $a$ and $b$ and calculate $r_{DW}$ based on $a$, $b$, and the estimated error in each normalized structure factor--all as described in notebooks **2** & **3**."
   ]
  },
  {
   "cell_type": "code",
   "execution_count": 1,
   "metadata": {},
   "outputs": [],
   "source": [
    "import matplotlib.pyplot as plt\n",
    "import numpy   as np"
   ]
  },
  {
   "cell_type": "code",
   "execution_count": 5,
   "metadata": {},
   "outputs": [],
   "source": [
    "import reciprocalspaceship as rs\n",
    "from scipy.stats     import rice, foldnorm\n",
    "from dw_tools        import fitting_dw, modify_ds"
   ]
  },
  {
   "cell_type": "code",
   "execution_count": 3,
   "metadata": {},
   "outputs": [
    {
     "data": {
      "application/javascript": [
       "IPython.notebook.set_autosave_interval(300000)"
      ]
     },
     "metadata": {},
     "output_type": "display_data"
    },
    {
     "name": "stdout",
     "output_type": "stream",
     "text": [
      "Autosaving every 300 seconds\n"
     ]
    },
    {
     "data": {
      "text/plain": [
       "'0.9.5'"
      ]
     },
     "execution_count": 3,
     "metadata": {},
     "output_type": "execute_result"
    }
   ],
   "source": [
    "%autosave 300\n",
    "# !cat /proc/meminfo | grep Mem\n",
    "%load_ext autoreload\n",
    "%autoreload 2\n",
    "rs.__version__"
   ]
  },
  {
   "cell_type": "code",
   "execution_count": 18,
   "metadata": {},
   "outputs": [],
   "source": [
    "# path=\"double_wilson_data\\\\\"   # Windows\n",
    "path = \"double_wilson_data/\"    # Unix\n",
    "mtz1 = \"NECAT_HEWL_RT_NaI_82_XDS_scaled1\"\n",
    "ds1  = rs.read_mtz(path + mtz1 + \"_scaled.mtz\")\n",
    "ds1.label_centrics(inplace=True);"
   ]
  },
  {
   "cell_type": "code",
   "execution_count": 19,
   "metadata": {},
   "outputs": [],
   "source": [
    "# ds1.info()\n",
    "EP_plus_label = \"EP+_aniso_2\"\n",
    "EP_min_label  = \"EP-_aniso_2\"\n",
    "dHKL_label = \"dHKL\""
   ]
  },
  {
   "cell_type": "markdown",
   "metadata": {},
   "source": [
    "Let's merge the Friedel normalized structure factors (if not yet done)."
   ]
  },
  {
   "cell_type": "code",
   "execution_count": 35,
   "metadata": {},
   "outputs": [
    {
     "data": {
      "image/png": "[encoded data removed]",
      "text/plain": [
       "<Figure size 432x288 with 1 Axes>"
      ]
     },
     "metadata": {
      "needs_background": "light"
     },
     "output_type": "display_data"
    }
   ],
   "source": [
    "sigE_array = ds1[[\"SIG\"+EP_plus_label, \"SIG\"+EP_plus_label]].to_numpy()\n",
    "min_sig = np.percentile(sigE_array,1) # np.percentile flattens by default\n",
    "w       = 1/(min_sig**2+sigE_array**2)\n",
    "Ew      = np.nansum(w*ds1[[EP_plus_label, EP_min_label]].to_numpy(),axis=1)/np.nansum(w,axis=1)\n",
    "sigEw   = (np.nansum(w,axis=1))**-0.5\n",
    "\n",
    "EP_label= \"EP_MEAN\"\n",
    "ds1[EP_label] = Ew\n",
    "ds1[EP_label] = ds1[EP_label].astype(\"NormalizedSFAmplitude\")\n",
    "ds1[\"SIG\"+EP_label] = sigEw\n",
    "ds1[\"SIG\"+EP_label] = ds1[\"SIG\"+EP_label].astype(\"Stddev\")\n",
    "\n",
    "plt.plot(ds1[EP_plus_label],ds1[\"EP_MEAN\"],'b.',alpha=0.01)\n",
    "plt.xlabel(\"EP(+)\"); plt.ylabel(\"EP(mean)\"); plt.show()"
   ]
  },
  {
   "cell_type": "markdown",
   "metadata": {},
   "source": [
    "We will start from $a$, $b$ which we'll assume based on the work we did in parts **2** and **3**."
   ]
  },
  {
   "cell_type": "code",
   "execution_count": 36,
   "metadata": {},
   "outputs": [
    {
     "name": "stdout",
     "output_type": "stream",
     "text": [
      "<class 'reciprocalspaceship.dataset.DataSet'>\n",
      "MultiIndex: 33281 entries, (0, 0, 4) to (63, 2, 1)\n",
      "Data columns (total 34 columns):\n",
      " #   Column              Non-Null Count  Dtype                \n",
      "---  ------              --------------  -----                \n",
      " 0   FreeR_flag          33281 non-null  MTZInt               \n",
      " 1   IMEAN               33281 non-null  Intensity            \n",
      " 2   SIGIMEAN            33281 non-null  Stddev               \n",
      " 3   I(+)                33281 non-null  FriedelIntensity     \n",
      " 4   SIGI(+)             33281 non-null  StddevFriedelI       \n",
      " 5   I(-)                33281 non-null  FriedelIntensity     \n",
      " 6   SIGI(-)             33281 non-null  StddevFriedelI       \n",
      " 7   N(+)                33281 non-null  MTZInt               \n",
      " 8   N(-)                33281 non-null  MTZInt               \n",
      " 9   FP+                 33281 non-null  FriedelSFAmplitude   \n",
      " 10  FP-                 33281 non-null  FriedelSFAmplitude   \n",
      " 11  SIGFP+              33281 non-null  StddevFriedelSF      \n",
      " 12  SIGFP-              33281 non-null  StddevFriedelSF      \n",
      " 13  rs_a                33281 non-null  MTZReal              \n",
      " 14  rs_b                33281 non-null  MTZReal              \n",
      " 15  rs_c                33281 non-null  MTZReal              \n",
      " 16  dHKL                33281 non-null  MTZReal              \n",
      " 17  CENTRIC             33281 non-null  bool                 \n",
      " 18  EPSILON             33281 non-null  MTZInt               \n",
      " 19  EP+                 33281 non-null  NormalizedSFAmplitude\n",
      " 20  EP-                 33281 non-null  NormalizedSFAmplitude\n",
      " 21  SIGEP+              33281 non-null  Stddev               \n",
      " 22  SIGEP-              33281 non-null  Stddev               \n",
      " 23  EP+_aniso_2         33281 non-null  NormalizedSFAmplitude\n",
      " 24  SIGEP+_aniso_2      33281 non-null  Stddev               \n",
      " 25  EP-_aniso_2         33281 non-null  NormalizedSFAmplitude\n",
      " 26  SIGEP-_aniso_2      33281 non-null  Stddev               \n",
      " 27  EP+_aniso_2_knn     33281 non-null  NormalizedSFAmplitude\n",
      " 28  SIGEP+_aniso_2_knn  33281 non-null  Stddev               \n",
      " 29  EP-_aniso_2_knn     33281 non-null  NormalizedSFAmplitude\n",
      " 30  SIGEP-_aniso_2_knn  33281 non-null  Stddev               \n",
      " 31  EP_MEAN             33281 non-null  NormalizedSFAmplitude\n",
      " 32  SIGEP_MEAN          33281 non-null  Stddev               \n",
      " 33  r_DW_out_EP_MEAN    33281 non-null  MTZReal              \n",
      "dtypes: FriedelIntensity(2), FriedelSFAmplitude(2), Intensity(1), MTZInt(4), MTZReal(5), NormalizedSFAmplitude(7), Stddev(8), StddevFriedelI(2), StddevFriedelSF(2), bool(1)\n",
      "memory usage: 8.1 MB\n"
     ]
    }
   ],
   "source": [
    "a=0.99\n",
    "b=0.05\n",
    "ds1.info()"
   ]
  },
  {
   "cell_type": "code",
   "execution_count": 37,
   "metadata": {},
   "outputs": [
    {
     "name": "stdout",
     "output_type": "stream",
     "text": [
      "Column \"CENTRIC\" has a datatype not supported by the MTZ format.\n"
     ]
    }
   ],
   "source": [
    "ds1=fitting_dw.eff_r_dw_per_hkl(ds1,a,b,label=EP_label, dHKL_label=dHKL_label, inplace=True);\n",
    "modify_ds.check_col_dtypes(ds1)\n",
    "ds1.write_mtz(path + mtz1 + \"_scaled_w_rDW.mtz\", skip_problem_mtztypes=True)"
   ]
  }
 ],
 "metadata": {
  "kernelspec": {
   "display_name": "Python [conda env:.conda-crystallography] *",
   "language": "python",
   "name": "conda-env-.conda-crystallography-py"
  },
  "language_info": {
   "codemirror_mode": {
    "name": "ipython",
    "version": 3
   },
   "file_extension": ".py",
   "mimetype": "text/x-python",
   "name": "python",
   "nbconvert_exporter": "python",
   "pygments_lexer": "ipython3",
   "version": "3.8.8"
  },
  "toc": {
   "base_numbering": 1,
   "nav_menu": {},
   "number_sections": true,
   "sideBar": true,
   "skip_h1_title": false,
   "title_cell": "Table of Contents",
   "title_sidebar": "Contents",
   "toc_cell": false,
   "toc_position": {},
   "toc_section_display": true,
   "toc_window_display": false
  }
 },
 "nbformat": 4,
 "nbformat_minor": 4
}
