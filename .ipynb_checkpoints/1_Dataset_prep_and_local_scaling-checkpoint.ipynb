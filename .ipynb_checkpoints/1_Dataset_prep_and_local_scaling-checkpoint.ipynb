{
 "cells": [
  {
   "cell_type": "markdown",
   "metadata": {},
   "source": [
    "**Purpose of this Notebook**\n",
    "This notebook describes three consecutive local-scaling steps improving the correspondence between the observed structure factor amplitude and the Wilson distributions. One can argue about whether such deviations reflect something true about a crystal form or not!"
   ]
  },
  {
   "cell_type": "markdown",
   "metadata": {},
   "source": [
    "# Preprocessing of individual datasets\n",
    "- takes 2-5 minutes total (up to n=4) or 10-15 min (with n=5)\n",
    "- ironically, the main complication is for datasets which have been FW scaled--noisy reflections are overrepresented near the mean of the Wilson distributions and skew normalization. In the second step of anisotropic scaling I added weights to downweight the effects of noisy reflections."
   ]
  },
  {
   "cell_type": "code",
   "execution_count": 1,
   "metadata": {},
   "outputs": [],
   "source": [
    "# General tools\n",
    "%matplotlib inline\n",
    "import matplotlib.pyplot as plt\n",
    "import numpy   as np\n",
    "import warnings\n",
    "from mpl_toolkits    import mplot3d\n",
    "from scipy.stats     import rice, foldnorm, nakagami, gamma \n",
    "from scipy.optimize  import least_squares, minimize\n",
    "from time            import perf_counter\n",
    "\n",
    "plt.rcParams.update({'font.size': 16})\n",
    "t_overall_start = perf_counter()"
   ]
  },
  {
   "cell_type": "code",
   "execution_count": 2,
   "metadata": {},
   "outputs": [
    {
     "data": {
      "text/plain": [
       "'0.9.9'"
      ]
     },
     "execution_count": 2,
     "metadata": {},
     "output_type": "execute_result"
    }
   ],
   "source": [
    "import reciprocalspaceship as rs\n",
    "import gemmi\n",
    "from dw_tools import modify_ds, wilson, plots\n",
    "from dw_tools import aniso_scaling_step_1 as aniso1\n",
    "from dw_tools import aniso_scaling_step_2 as aniso2\n",
    "from dw_tools import knn_tools as knn\n",
    "from sklearn.model_selection import GridSearchCV\n",
    "from sklearn.neighbors       import KNeighborsRegressor\n",
    "rs.__version__"
   ]
  },
  {
   "cell_type": "code",
   "execution_count": 3,
   "metadata": {},
   "outputs": [
    {
     "data": {
      "application/javascript": [
       "IPython.notebook.set_autosave_interval(300000)"
      ]
     },
     "metadata": {},
     "output_type": "display_data"
    },
    {
     "name": "stdout",
     "output_type": "stream",
     "text": [
      "Autosaving every 300 seconds\n"
     ]
    }
   ],
   "source": [
    "%autosave 300\n",
    "%load_ext autoreload\n",
    "%autoreload 2"
   ]
  },
  {
   "cell_type": "markdown",
   "metadata": {},
   "source": [
    "## Load data"
   ]
  },
  {
   "cell_type": "code",
   "execution_count": 4,
   "metadata": {},
   "outputs": [
    {
     "name": "stdout",
     "output_type": "stream",
     "text": [
      "Discarded 0 out of 12051 records\n"
     ]
    }
   ],
   "source": [
    "path=\"double_wilson_data\\\\\" # Windows\n",
    "# path=\"double_wilson_data/\"    # Unix\n",
    "# path = \"C:\\\\Users\\\\Doeke Hekstra\\\\Documents\\\\Lab_Hekstra\\\\Lab_projects\\\\Hekstra Doeke THz\\\\LQ92_EGFP_300fs\\\\\"\n",
    "data_set_pairs = [(\"5kvx_phases\", \"5kw3_phases\"),\\\n",
    "                  (\"5e1y_phases\", \"2vwr_phases\"),\\\n",
    "                  (\"3pyp_phases\", \"1nwz_phases\"),\\\n",
    "                  (\"1otb_phases\", \"1nwz_phases\"),\\\n",
    "                  (\"4eul_phases\", \"GFP_1.37A\"),\\\n",
    "#                   \"GFP_SSRL_refine_54_final\"),\\\n",
    "                  (\"4eul_phases\", \"2y0g_phases\"),\\\n",
    "                  (\"4kjk_phases\", \"4kjj_phases\", \"4pst_phases\", \"4pss_phases\"),\\\n",
    "                  (\"e35cdef_OFF200ns_HD_2sig_varEll\",\"e35cdef_200ns_HD_2sig_varEll\"),\\\n",
    "                 (\"on\",\"off\"),\\\n",
    "                 (\"off\", \"4EUL_phases\",\"GFP_SSRL_refine_54_final\", \"EGFP_phases_w_FOM_SSRL\")]                # 9\n",
    "# example 1 fails on kNN regression\n",
    "example=7\n",
    "dataset=0\n",
    "mtz1 = data_set_pairs[example][dataset] # omit .mtz\n",
    "ds1  = rs.read_mtz(path + mtz1 + \".mtz\")\n",
    "\n",
    "# cleanup:\n",
    "unpurged_count = ds1.shape[0];   ds1.dropna(inplace=True)\n",
    "purged_count   = ds1.shape[0]\n",
    "print(f\"Discarded {unpurged_count-purged_count} out of {unpurged_count} records\")"
   ]
  },
  {
   "cell_type": "code",
   "execution_count": 5,
   "metadata": {},
   "outputs": [
    {
     "name": "stdout",
     "output_type": "stream",
     "text": [
      "<class 'reciprocalspaceship.dataset.DataSet'>\n",
      "MultiIndex: 12051 entries, (0, 0, 3) to (35, 3, -8)\n",
      "Data columns (total 2 columns):\n",
      " #   Column  Non-Null Count  Dtype      \n",
      "---  ------  --------------  -----      \n",
      " 0   FP      12051 non-null  SFAmplitude\n",
      " 1   SIGFP   12051 non-null  Stddev     \n",
      "dtypes: SFAmplitude(1), Stddev(1)\n",
      "memory usage: 157.2 KB\n"
     ]
    }
   ],
   "source": [
    "ds1.info()"
   ]
  },
  {
   "cell_type": "markdown",
   "metadata": {},
   "source": [
    "The following two cells do some dataset specific manipulations to convert from intensities to structure factor amplitudes. All _ad hoc_."
   ]
  },
  {
   "cell_type": "code",
   "execution_count": 6,
   "metadata": {
    "code_folding": [
     0,
     11,
     14,
     17
    ]
   },
   "outputs": [],
   "source": [
    "if (example == 4) & (dataset==1): # - GFP_1.37A only contains intensities\n",
    "    I = ds1[\"IMEAN\"].to_numpy()\n",
    "    SIGI = ds1[\"SIGIMEAN\"].to_numpy()\n",
    "    I[I<=0]=0.0001\n",
    "    ds1[\"FP\"] = np.sqrt(I)\n",
    "    ds1[\"SIGFP\"] = 0.5*np.sqrt(SIGI**2/I) #I played with using the Nakagami distribution instead, but it seems that its\n",
    "                                          # std calculation is not very stable, so using naive error propagation instead.\n",
    "# if (example == 4) & (dataset==1):\n",
    "#     ds1[\"FP\"] = ds1[\"F-obs-filtered\"]\n",
    "#     ds1[\"SIGFP\"] = ds1[\"SIGF-obs-filtered\"]\n",
    "\n",
    "if (example == 9) & (dataset==2):\n",
    "    ds1[\"FP\"] = ds1[\"F-obs-filtered\"]\n",
    "    ds1[\"SIGFP\"] = ds1[\"SIGF-obs-filtered\"]\n",
    "if (example == 9) & (dataset==3):\n",
    "    ds1[\"FP\"] = ds1[\"FMODEL\"]\n",
    "    ds1.spacegroup = gemmi.SpaceGroup(\"P 21 1 1\")\n",
    "if (example == 8):\n",
    "    ds1[\"FP\"] = ds1[\"F\"]\n",
    "    ds1[\"SIGFP\"] = ds1[\"SigF\"]"
   ]
  },
  {
   "cell_type": "code",
   "execution_count": 10,
   "metadata": {},
   "outputs": [
    {
     "name": "stdout",
     "output_type": "stream",
     "text": [
      "<class 'reciprocalspaceship.dataset.DataSet'>\n",
      "MultiIndex: 12051 entries, (0, 0, 3) to (35, 3, -8)\n",
      "Data columns (total 2 columns):\n",
      " #   Column  Non-Null Count  Dtype      \n",
      "---  ------  --------------  -----      \n",
      " 0   FP      12051 non-null  SFAmplitude\n",
      " 1   SIGFP   12051 non-null  Stddev     \n",
      "dtypes: SFAmplitude(1), Stddev(1)\n",
      "memory usage: 157.2 KB\n",
      "<gemmi.SpaceGroup(\"C 1 2 1\")>\n"
     ]
    }
   ],
   "source": [
    "ds1.info()\n",
    "print(ds1.spacegroup)"
   ]
  },
  {
   "cell_type": "markdown",
   "metadata": {},
   "source": [
    "Let's inspect $\\left< F \\right>$ by resolution bin."
   ]
  },
  {
   "cell_type": "code",
   "execution_count": 9,
   "metadata": {},
   "outputs": [
    {
     "name": "stdout",
     "output_type": "stream",
     "text": [
      "Average observations per bin: 602.55\n"
     ]
    },
    {
     "ename": "ValueError",
     "evalue": "values must be a 1D array",
     "output_type": "error",
     "traceback": [
      "\u001b[1;31m---------------------------------------------------------------------------\u001b[0m",
      "\u001b[1;31mValueError\u001b[0m                                Traceback (most recent call last)",
      "\u001b[1;32m<ipython-input-9-a455bf5a051b>\u001b[0m in \u001b[0;36m<module>\u001b[1;34m\u001b[0m\n\u001b[0;32m      1\u001b[0m \u001b[0mresult\u001b[0m\u001b[1;33m,\u001b[0m \u001b[0mbin_labels\u001b[0m \u001b[1;33m=\u001b[0m \u001b[0mplots\u001b[0m\u001b[1;33m.\u001b[0m\u001b[0mcompute_meanF_byres\u001b[0m\u001b[1;33m(\u001b[0m\u001b[0mds1\u001b[0m\u001b[1;33m,\u001b[0m \u001b[0mlabel\u001b[0m\u001b[1;33m=\u001b[0m\u001b[1;34m\"FP\"\u001b[0m\u001b[1;33m,\u001b[0m \u001b[0mnbins\u001b[0m\u001b[1;33m=\u001b[0m\u001b[1;36m20\u001b[0m\u001b[1;33m,\u001b[0m\u001b[0msigma_cut\u001b[0m\u001b[1;33m=\u001b[0m\u001b[1;36m0\u001b[0m\u001b[1;33m)\u001b[0m\u001b[1;33m\u001b[0m\u001b[1;33m\u001b[0m\u001b[0m\n\u001b[1;32m----> 2\u001b[1;33m \u001b[0mplots\u001b[0m\u001b[1;33m.\u001b[0m\u001b[0mplot_by_res_bin\u001b[0m\u001b[1;33m(\u001b[0m\u001b[0mresult\u001b[0m\u001b[1;33m,\u001b[0m \u001b[0mbin_labels\u001b[0m\u001b[1;33m,\u001b[0m \u001b[0mylabel\u001b[0m\u001b[1;33m=\u001b[0m\u001b[1;34m\"mean F\"\u001b[0m\u001b[1;33m,\u001b[0m\u001b[0mcolor\u001b[0m\u001b[1;33m=\u001b[0m\u001b[1;34m'b'\u001b[0m\u001b[1;33m)\u001b[0m\u001b[1;33m\u001b[0m\u001b[1;33m\u001b[0m\u001b[0m\n\u001b[0m\u001b[0;32m      3\u001b[0m \u001b[0mplt\u001b[0m\u001b[1;33m.\u001b[0m\u001b[0mtitle\u001b[0m\u001b[1;33m(\u001b[0m\u001b[1;34m\"Mean |F|\"\u001b[0m\u001b[1;33m)\u001b[0m\u001b[1;33m\u001b[0m\u001b[1;33m\u001b[0m\u001b[0m\n\u001b[0;32m      4\u001b[0m \u001b[0mplt\u001b[0m\u001b[1;33m.\u001b[0m\u001b[0mylim\u001b[0m\u001b[1;33m(\u001b[0m\u001b[1;36m0\u001b[0m\u001b[1;33m,\u001b[0m\u001b[1;33m)\u001b[0m\u001b[1;33m\u001b[0m\u001b[1;33m\u001b[0m\u001b[0m\n",
      "\u001b[1;32m~\\Documents\\IPython notebooks\\double-wilson\\dw_tools\\plots.py\u001b[0m in \u001b[0;36mplot_by_res_bin\u001b[1;34m(result, bin_labels, ylabel, color)\u001b[0m\n\u001b[0;32m     37\u001b[0m \u001b[1;33m\u001b[0m\u001b[0m\n\u001b[0;32m     38\u001b[0m \u001b[1;32mdef\u001b[0m \u001b[0mplot_by_res_bin\u001b[0m\u001b[1;33m(\u001b[0m\u001b[0mresult\u001b[0m\u001b[1;33m,\u001b[0m \u001b[0mbin_labels\u001b[0m\u001b[1;33m,\u001b[0m \u001b[0mylabel\u001b[0m\u001b[1;33m=\u001b[0m\u001b[1;34mr\"$CC_{1/2}$\"\u001b[0m\u001b[1;33m,\u001b[0m \u001b[0mcolor\u001b[0m\u001b[1;33m=\u001b[0m\u001b[1;34m'b'\u001b[0m\u001b[1;33m)\u001b[0m\u001b[1;33m:\u001b[0m\u001b[1;33m\u001b[0m\u001b[1;33m\u001b[0m\u001b[0m\n\u001b[1;32m---> 39\u001b[1;33m     \u001b[0mplt\u001b[0m\u001b[1;33m.\u001b[0m\u001b[0mplot\u001b[0m\u001b[1;33m(\u001b[0m\u001b[0mresult\u001b[0m\u001b[1;33m,\u001b[0m \u001b[0mlabel\u001b[0m\u001b[1;33m=\u001b[0m\u001b[1;34m\"Data\"\u001b[0m\u001b[1;33m,\u001b[0m \u001b[0mcolor\u001b[0m\u001b[1;33m=\u001b[0m\u001b[0mcolor\u001b[0m\u001b[1;33m)\u001b[0m\u001b[1;33m\u001b[0m\u001b[1;33m\u001b[0m\u001b[0m\n\u001b[0m\u001b[0;32m     40\u001b[0m     \u001b[0mplt\u001b[0m\u001b[1;33m.\u001b[0m\u001b[0mxticks\u001b[0m\u001b[1;33m(\u001b[0m\u001b[0mresult\u001b[0m\u001b[1;33m.\u001b[0m\u001b[0mindex\u001b[0m\u001b[1;33m,\u001b[0m \u001b[0mbin_labels\u001b[0m\u001b[1;33m,\u001b[0m \u001b[0mrotation\u001b[0m\u001b[1;33m=\u001b[0m\u001b[1;36m45\u001b[0m\u001b[1;33m,\u001b[0m \u001b[0mha\u001b[0m\u001b[1;33m=\u001b[0m\u001b[1;34m\"right\"\u001b[0m\u001b[1;33m,\u001b[0m \u001b[0mrotation_mode\u001b[0m\u001b[1;33m=\u001b[0m\u001b[1;34m\"anchor\"\u001b[0m\u001b[1;33m)\u001b[0m\u001b[1;33m\u001b[0m\u001b[1;33m\u001b[0m\u001b[0m\n\u001b[0;32m     41\u001b[0m     \u001b[0mplt\u001b[0m\u001b[1;33m.\u001b[0m\u001b[0mylabel\u001b[0m\u001b[1;33m(\u001b[0m\u001b[0mylabel\u001b[0m\u001b[1;33m)\u001b[0m\u001b[1;33m\u001b[0m\u001b[1;33m\u001b[0m\u001b[0m\n",
      "\u001b[1;32m~\\.conda\\envs\\crystallography\\lib\\site-packages\\matplotlib\\pyplot.py\u001b[0m in \u001b[0;36mplot\u001b[1;34m(scalex, scaley, data, *args, **kwargs)\u001b[0m\n\u001b[0;32m   2838\u001b[0m \u001b[1;33m@\u001b[0m\u001b[0m_copy_docstring_and_deprecators\u001b[0m\u001b[1;33m(\u001b[0m\u001b[0mAxes\u001b[0m\u001b[1;33m.\u001b[0m\u001b[0mplot\u001b[0m\u001b[1;33m)\u001b[0m\u001b[1;33m\u001b[0m\u001b[1;33m\u001b[0m\u001b[0m\n\u001b[0;32m   2839\u001b[0m \u001b[1;32mdef\u001b[0m \u001b[0mplot\u001b[0m\u001b[1;33m(\u001b[0m\u001b[1;33m*\u001b[0m\u001b[0margs\u001b[0m\u001b[1;33m,\u001b[0m \u001b[0mscalex\u001b[0m\u001b[1;33m=\u001b[0m\u001b[1;32mTrue\u001b[0m\u001b[1;33m,\u001b[0m \u001b[0mscaley\u001b[0m\u001b[1;33m=\u001b[0m\u001b[1;32mTrue\u001b[0m\u001b[1;33m,\u001b[0m \u001b[0mdata\u001b[0m\u001b[1;33m=\u001b[0m\u001b[1;32mNone\u001b[0m\u001b[1;33m,\u001b[0m \u001b[1;33m**\u001b[0m\u001b[0mkwargs\u001b[0m\u001b[1;33m)\u001b[0m\u001b[1;33m:\u001b[0m\u001b[1;33m\u001b[0m\u001b[1;33m\u001b[0m\u001b[0m\n\u001b[1;32m-> 2840\u001b[1;33m     return gca().plot(\n\u001b[0m\u001b[0;32m   2841\u001b[0m         \u001b[1;33m*\u001b[0m\u001b[0margs\u001b[0m\u001b[1;33m,\u001b[0m \u001b[0mscalex\u001b[0m\u001b[1;33m=\u001b[0m\u001b[0mscalex\u001b[0m\u001b[1;33m,\u001b[0m \u001b[0mscaley\u001b[0m\u001b[1;33m=\u001b[0m\u001b[0mscaley\u001b[0m\u001b[1;33m,\u001b[0m\u001b[1;33m\u001b[0m\u001b[1;33m\u001b[0m\u001b[0m\n\u001b[0;32m   2842\u001b[0m         **({\"data\": data} if data is not None else {}), **kwargs)\n",
      "\u001b[1;32m~\\.conda\\envs\\crystallography\\lib\\site-packages\\matplotlib\\axes\\_axes.py\u001b[0m in \u001b[0;36mplot\u001b[1;34m(self, scalex, scaley, data, *args, **kwargs)\u001b[0m\n\u001b[0;32m   1741\u001b[0m         \"\"\"\n\u001b[0;32m   1742\u001b[0m         \u001b[0mkwargs\u001b[0m \u001b[1;33m=\u001b[0m \u001b[0mcbook\u001b[0m\u001b[1;33m.\u001b[0m\u001b[0mnormalize_kwargs\u001b[0m\u001b[1;33m(\u001b[0m\u001b[0mkwargs\u001b[0m\u001b[1;33m,\u001b[0m \u001b[0mmlines\u001b[0m\u001b[1;33m.\u001b[0m\u001b[0mLine2D\u001b[0m\u001b[1;33m)\u001b[0m\u001b[1;33m\u001b[0m\u001b[1;33m\u001b[0m\u001b[0m\n\u001b[1;32m-> 1743\u001b[1;33m         \u001b[0mlines\u001b[0m \u001b[1;33m=\u001b[0m \u001b[1;33m[\u001b[0m\u001b[1;33m*\u001b[0m\u001b[0mself\u001b[0m\u001b[1;33m.\u001b[0m\u001b[0m_get_lines\u001b[0m\u001b[1;33m(\u001b[0m\u001b[1;33m*\u001b[0m\u001b[0margs\u001b[0m\u001b[1;33m,\u001b[0m \u001b[0mdata\u001b[0m\u001b[1;33m=\u001b[0m\u001b[0mdata\u001b[0m\u001b[1;33m,\u001b[0m \u001b[1;33m**\u001b[0m\u001b[0mkwargs\u001b[0m\u001b[1;33m)\u001b[0m\u001b[1;33m]\u001b[0m\u001b[1;33m\u001b[0m\u001b[1;33m\u001b[0m\u001b[0m\n\u001b[0m\u001b[0;32m   1744\u001b[0m         \u001b[1;32mfor\u001b[0m \u001b[0mline\u001b[0m \u001b[1;32min\u001b[0m \u001b[0mlines\u001b[0m\u001b[1;33m:\u001b[0m\u001b[1;33m\u001b[0m\u001b[1;33m\u001b[0m\u001b[0m\n\u001b[0;32m   1745\u001b[0m             \u001b[0mself\u001b[0m\u001b[1;33m.\u001b[0m\u001b[0madd_line\u001b[0m\u001b[1;33m(\u001b[0m\u001b[0mline\u001b[0m\u001b[1;33m)\u001b[0m\u001b[1;33m\u001b[0m\u001b[1;33m\u001b[0m\u001b[0m\n",
      "\u001b[1;32m~\\.conda\\envs\\crystallography\\lib\\site-packages\\matplotlib\\axes\\_base.py\u001b[0m in \u001b[0;36m__call__\u001b[1;34m(self, data, *args, **kwargs)\u001b[0m\n\u001b[0;32m    271\u001b[0m                 \u001b[0mthis\u001b[0m \u001b[1;33m+=\u001b[0m \u001b[0margs\u001b[0m\u001b[1;33m[\u001b[0m\u001b[1;36m0\u001b[0m\u001b[1;33m]\u001b[0m\u001b[1;33m,\u001b[0m\u001b[1;33m\u001b[0m\u001b[1;33m\u001b[0m\u001b[0m\n\u001b[0;32m    272\u001b[0m                 \u001b[0margs\u001b[0m \u001b[1;33m=\u001b[0m \u001b[0margs\u001b[0m\u001b[1;33m[\u001b[0m\u001b[1;36m1\u001b[0m\u001b[1;33m:\u001b[0m\u001b[1;33m]\u001b[0m\u001b[1;33m\u001b[0m\u001b[1;33m\u001b[0m\u001b[0m\n\u001b[1;32m--> 273\u001b[1;33m             \u001b[1;32myield\u001b[0m \u001b[1;32mfrom\u001b[0m \u001b[0mself\u001b[0m\u001b[1;33m.\u001b[0m\u001b[0m_plot_args\u001b[0m\u001b[1;33m(\u001b[0m\u001b[0mthis\u001b[0m\u001b[1;33m,\u001b[0m \u001b[0mkwargs\u001b[0m\u001b[1;33m)\u001b[0m\u001b[1;33m\u001b[0m\u001b[1;33m\u001b[0m\u001b[0m\n\u001b[0m\u001b[0;32m    274\u001b[0m \u001b[1;33m\u001b[0m\u001b[0m\n\u001b[0;32m    275\u001b[0m     \u001b[1;32mdef\u001b[0m \u001b[0mget_next_color\u001b[0m\u001b[1;33m(\u001b[0m\u001b[0mself\u001b[0m\u001b[1;33m)\u001b[0m\u001b[1;33m:\u001b[0m\u001b[1;33m\u001b[0m\u001b[1;33m\u001b[0m\u001b[0m\n",
      "\u001b[1;32m~\\.conda\\envs\\crystallography\\lib\\site-packages\\matplotlib\\axes\\_base.py\u001b[0m in \u001b[0;36m_plot_args\u001b[1;34m(self, tup, kwargs)\u001b[0m\n\u001b[0;32m    405\u001b[0m             \u001b[0mx\u001b[0m \u001b[1;33m=\u001b[0m \u001b[0mx\u001b[0m\u001b[1;33m[\u001b[0m\u001b[1;33m:\u001b[0m\u001b[1;33m,\u001b[0m \u001b[0mnp\u001b[0m\u001b[1;33m.\u001b[0m\u001b[0mnewaxis\u001b[0m\u001b[1;33m]\u001b[0m\u001b[1;33m\u001b[0m\u001b[1;33m\u001b[0m\u001b[0m\n\u001b[0;32m    406\u001b[0m         \u001b[1;32mif\u001b[0m \u001b[0my\u001b[0m\u001b[1;33m.\u001b[0m\u001b[0mndim\u001b[0m \u001b[1;33m==\u001b[0m \u001b[1;36m1\u001b[0m\u001b[1;33m:\u001b[0m\u001b[1;33m\u001b[0m\u001b[1;33m\u001b[0m\u001b[0m\n\u001b[1;32m--> 407\u001b[1;33m             \u001b[0my\u001b[0m \u001b[1;33m=\u001b[0m \u001b[0my\u001b[0m\u001b[1;33m[\u001b[0m\u001b[1;33m:\u001b[0m\u001b[1;33m,\u001b[0m \u001b[0mnp\u001b[0m\u001b[1;33m.\u001b[0m\u001b[0mnewaxis\u001b[0m\u001b[1;33m]\u001b[0m\u001b[1;33m\u001b[0m\u001b[1;33m\u001b[0m\u001b[0m\n\u001b[0m\u001b[0;32m    408\u001b[0m \u001b[1;33m\u001b[0m\u001b[0m\n\u001b[0;32m    409\u001b[0m         \u001b[1;32mif\u001b[0m \u001b[0mself\u001b[0m\u001b[1;33m.\u001b[0m\u001b[0mcommand\u001b[0m \u001b[1;33m==\u001b[0m \u001b[1;34m'plot'\u001b[0m\u001b[1;33m:\u001b[0m\u001b[1;33m\u001b[0m\u001b[1;33m\u001b[0m\u001b[0m\n",
      "\u001b[1;32m~\\.conda\\envs\\crystallography\\lib\\site-packages\\pandas\\core\\arrays\\masked.py\u001b[0m in \u001b[0;36m__getitem__\u001b[1;34m(self, item)\u001b[0m\n\u001b[0;32m    113\u001b[0m         \u001b[0mitem\u001b[0m \u001b[1;33m=\u001b[0m \u001b[0mcheck_array_indexer\u001b[0m\u001b[1;33m(\u001b[0m\u001b[0mself\u001b[0m\u001b[1;33m,\u001b[0m \u001b[0mitem\u001b[0m\u001b[1;33m)\u001b[0m\u001b[1;33m\u001b[0m\u001b[1;33m\u001b[0m\u001b[0m\n\u001b[0;32m    114\u001b[0m \u001b[1;33m\u001b[0m\u001b[0m\n\u001b[1;32m--> 115\u001b[1;33m         \u001b[1;32mreturn\u001b[0m \u001b[0mtype\u001b[0m\u001b[1;33m(\u001b[0m\u001b[0mself\u001b[0m\u001b[1;33m)\u001b[0m\u001b[1;33m(\u001b[0m\u001b[0mself\u001b[0m\u001b[1;33m.\u001b[0m\u001b[0m_data\u001b[0m\u001b[1;33m[\u001b[0m\u001b[0mitem\u001b[0m\u001b[1;33m]\u001b[0m\u001b[1;33m,\u001b[0m \u001b[0mself\u001b[0m\u001b[1;33m.\u001b[0m\u001b[0m_mask\u001b[0m\u001b[1;33m[\u001b[0m\u001b[0mitem\u001b[0m\u001b[1;33m]\u001b[0m\u001b[1;33m)\u001b[0m\u001b[1;33m\u001b[0m\u001b[1;33m\u001b[0m\u001b[0m\n\u001b[0m\u001b[0;32m    116\u001b[0m \u001b[1;33m\u001b[0m\u001b[0m\n\u001b[0;32m    117\u001b[0m     \u001b[1;32mdef\u001b[0m \u001b[0m_coerce_to_array\u001b[0m\u001b[1;33m(\u001b[0m\u001b[0mself\u001b[0m\u001b[1;33m,\u001b[0m \u001b[0mvalues\u001b[0m\u001b[1;33m)\u001b[0m \u001b[1;33m->\u001b[0m \u001b[0mTuple\u001b[0m\u001b[1;33m[\u001b[0m\u001b[0mnp\u001b[0m\u001b[1;33m.\u001b[0m\u001b[0mndarray\u001b[0m\u001b[1;33m,\u001b[0m \u001b[0mnp\u001b[0m\u001b[1;33m.\u001b[0m\u001b[0mndarray\u001b[0m\u001b[1;33m]\u001b[0m\u001b[1;33m:\u001b[0m\u001b[1;33m\u001b[0m\u001b[1;33m\u001b[0m\u001b[0m\n",
      "\u001b[1;32m~\\.conda\\envs\\crystallography\\lib\\site-packages\\pandas\\core\\arrays\\floating.py\u001b[0m in \u001b[0;36m__init__\u001b[1;34m(self, values, mask, copy)\u001b[0m\n\u001b[0;32m    272\u001b[0m                 \u001b[1;34m\"the 'pd.array' function instead\"\u001b[0m\u001b[1;33m\u001b[0m\u001b[1;33m\u001b[0m\u001b[0m\n\u001b[0;32m    273\u001b[0m             )\n\u001b[1;32m--> 274\u001b[1;33m         \u001b[0msuper\u001b[0m\u001b[1;33m(\u001b[0m\u001b[1;33m)\u001b[0m\u001b[1;33m.\u001b[0m\u001b[0m__init__\u001b[0m\u001b[1;33m(\u001b[0m\u001b[0mvalues\u001b[0m\u001b[1;33m,\u001b[0m \u001b[0mmask\u001b[0m\u001b[1;33m,\u001b[0m \u001b[0mcopy\u001b[0m\u001b[1;33m=\u001b[0m\u001b[0mcopy\u001b[0m\u001b[1;33m)\u001b[0m\u001b[1;33m\u001b[0m\u001b[1;33m\u001b[0m\u001b[0m\n\u001b[0m\u001b[0;32m    275\u001b[0m \u001b[1;33m\u001b[0m\u001b[0m\n\u001b[0;32m    276\u001b[0m     \u001b[1;33m@\u001b[0m\u001b[0mclassmethod\u001b[0m\u001b[1;33m\u001b[0m\u001b[1;33m\u001b[0m\u001b[0m\n",
      "\u001b[1;32m~\\.conda\\envs\\crystallography\\lib\\site-packages\\pandas\\core\\arrays\\masked.py\u001b[0m in \u001b[0;36m__init__\u001b[1;34m(self, values, mask, copy)\u001b[0m\n\u001b[0;32m     88\u001b[0m             )\n\u001b[0;32m     89\u001b[0m         \u001b[1;32mif\u001b[0m \u001b[0mvalues\u001b[0m\u001b[1;33m.\u001b[0m\u001b[0mndim\u001b[0m \u001b[1;33m!=\u001b[0m \u001b[1;36m1\u001b[0m\u001b[1;33m:\u001b[0m\u001b[1;33m\u001b[0m\u001b[1;33m\u001b[0m\u001b[0m\n\u001b[1;32m---> 90\u001b[1;33m             \u001b[1;32mraise\u001b[0m \u001b[0mValueError\u001b[0m\u001b[1;33m(\u001b[0m\u001b[1;34m\"values must be a 1D array\"\u001b[0m\u001b[1;33m)\u001b[0m\u001b[1;33m\u001b[0m\u001b[1;33m\u001b[0m\u001b[0m\n\u001b[0m\u001b[0;32m     91\u001b[0m         \u001b[1;32mif\u001b[0m \u001b[0mmask\u001b[0m\u001b[1;33m.\u001b[0m\u001b[0mndim\u001b[0m \u001b[1;33m!=\u001b[0m \u001b[1;36m1\u001b[0m\u001b[1;33m:\u001b[0m\u001b[1;33m\u001b[0m\u001b[1;33m\u001b[0m\u001b[0m\n\u001b[0;32m     92\u001b[0m             \u001b[1;32mraise\u001b[0m \u001b[0mValueError\u001b[0m\u001b[1;33m(\u001b[0m\u001b[1;34m\"mask must be a 1D array\"\u001b[0m\u001b[1;33m)\u001b[0m\u001b[1;33m\u001b[0m\u001b[1;33m\u001b[0m\u001b[0m\n",
      "\u001b[1;31mValueError\u001b[0m: values must be a 1D array"
     ]
    },
    {
     "data": {
      "image/png": "[encoded data removed]",
      "text/plain": [
       "<Figure size 432x288 with 1 Axes>"
      ]
     },
     "metadata": {
      "needs_background": "light"
     },
     "output_type": "display_data"
    }
   ],
   "source": [
    "result, bin_labels = plots.compute_meanF_byres(ds1, label=\"FP\", nbins=20,sigma_cut=0)\n",
    "plots.plot_by_res_bin(result, bin_labels, ylabel=\"mean F\",color='b')\n",
    "plt.title(\"Mean |F|\")\n",
    "plt.ylim(0,)"
   ]
  },
  {
   "cell_type": "markdown",
   "metadata": {},
   "source": [
    "Some very basic scaling:"
   ]
  },
  {
   "cell_type": "code",
   "execution_count": null,
   "metadata": {},
   "outputs": [],
   "source": [
    "avg = ds1[\"FP\"].mean()\n",
    "ds1[\"FP\"] = ds1[\"FP\"]/avg\n",
    "ds1[\"SIGFP\"] = 1"
   ]
  },
  {
   "cell_type": "markdown",
   "metadata": {},
   "source": [
    "Let's add reciprocal lattice point coordinates, ```dHKL```, (a)centric labels, and multiplicities!"
   ]
  },
  {
   "cell_type": "code",
   "execution_count": null,
   "metadata": {
    "code_folding": []
   },
   "outputs": [],
   "source": [
    "modify_ds.ds_add_rs(ds1)\n",
    "ds1.compute_dHKL(        inplace=True)\n",
    "ds1.label_centrics(      inplace=True)\n",
    "ds1.compute_multiplicity(inplace=True);"
   ]
  },
  {
   "cell_type": "markdown",
   "metadata": {},
   "source": [
    "### Checking reciprocal space (ASU) coverage\n",
    "Let's see what chunk of reciprocal space these reflections are located in. "
   ]
  },
  {
   "cell_type": "code",
   "execution_count": null,
   "metadata": {},
   "outputs": [],
   "source": [
    "plt.ion\n",
    "fig = plt.figure(figsize=(6,6))\n",
    "ax = plt.axes(projection=\"3d\")\n",
    "ax.scatter3D(ds1[\"rs_a\"], ds1[\"rs_b\"], ds1[\"rs_c\"],alpha=0.01)\n",
    "ax.view_init(elev=60., azim=1200.)\n",
    "ax.set_xlabel(\"rs_a\")\n",
    "ax.set_ylabel(\"rs_b\")\n",
    "ax.set_zlabel(\"rs_c\")\n",
    "plt.draw()"
   ]
  },
  {
   "cell_type": "markdown",
   "metadata": {},
   "source": [
    "## Simple anisotropic normalization"
   ]
  },
  {
   "cell_type": "markdown",
   "metadata": {},
   "source": [
    "First, we fit an anisotropic $B$ factor scaling model to the data using the Wilson distribution as the loss function. This provides our first version of normalized structure factors."
   ]
  },
  {
   "cell_type": "code",
   "execution_count": null,
   "metadata": {},
   "outputs": [],
   "source": [
    "# print(np.amin(ds1[\"FP\"].to_numpy()))\n",
    "# print(np.amax(ds1[\"FP\"].to_numpy()))\n",
    "# print(np.sum(np.isnan(ds1[\"FP\"].to_numpy())))\n",
    "res = minimize(         aniso1.anisotropic_scaling_to_1_wilson_loss, [0,0,0,0,0,0,1],\\\n",
    "                                                                method='L-BFGS-B',jac=True,args=(ds1,\"FP\"))\n",
    "res_test, ep1, sigep1 = aniso1.anisotropic_scaling_to_1_wilson_loss(res.x, ds1, label=\"FP\", nargout=3)\n",
    "print(res.x)\n",
    "\n",
    "ds1[\"EP_1_aniso_1\"] = ep1\n",
    "ds1[\"SIGEP_1_aniso_1\"] = sigep1\n",
    "ds1_unfiltered = ds1\n",
    "ds1_unfiltered.info()"
   ]
  },
  {
   "cell_type": "code",
   "execution_count": null,
   "metadata": {},
   "outputs": [],
   "source": [
    "# there are a few really large values which we'll discard so they don't warp \n",
    "if (example == 8):\n",
    "    tmp=(ep1 < np.percentile(ep1,99.99)) & (sigep1<0.4)\n",
    "    ds1 = ds1[tmp]\n",
    "    ep1 = ep1[tmp]\n",
    "    sigep1 = sigep1[tmp]\n",
    "    ds1.info()"
   ]
  },
  {
   "cell_type": "markdown",
   "metadata": {},
   "source": [
    "### Inspection of histograms. \n",
    "In the absence of a sigma cutoff, we often get significant extra counts around the mode of the distribution. This must be the consequence of FW scaling. When we omit these, we see that the histogram is a bit shifted relative the Wilson distribution, suggesting noisy reflections skewed normalization."
   ]
  },
  {
   "cell_type": "code",
   "execution_count": null,
   "metadata": {},
   "outputs": [],
   "source": [
    "sig_cut = 0.5 # noisy observations deviation significantly from the Wilson distribution!\n",
    "              # ironically, French-Wilson seems to blame--the reflections with largest error \n",
    "              # will tend to get scaled to the mean of the Wilson distribution\n",
    "\n",
    "x=np.linspace(0,4,500)\n",
    "plt.figure(figsize=(12,4))\n",
    "plt.subplot(1,2,1)\n",
    "plt.hist(ep1[(ds1[\"CENTRIC\"]==True) & (sigep1<sig_cut)],40,alpha=0.5,density=True)\n",
    "plt.plot(x,wilson.wilson_dist_normalized(x,centric=True),'r-') \n",
    "plt.ylabel(\"count\"); plt.xlabel(\"Normalized sf amplitude\")\n",
    "plt.xlim([0,5])\n",
    "plt.title(\"Centric\")\n",
    "\n",
    "plt.subplot(1,2,2)\n",
    "plt.hist(ep1[(ds1[\"CENTRIC\"]==False) & (sigep1<sig_cut)],40,alpha=0.5,density=True)\n",
    "plt.plot(x, wilson.wilson_dist_normalized(x,centric=False),'r-')\n",
    "plt.ylabel(\"count\"); plt.xlabel(\"Normalized sf amplitude\")\n",
    "plt.xlim([0,5])\n",
    "plt.title(\"Acentric\"); "
   ]
  },
  {
   "cell_type": "markdown",
   "metadata": {},
   "source": [
    "## Anisotropic normalization with Fourier corrections"
   ]
  },
  {
   "cell_type": "markdown",
   "metadata": {},
   "source": [
    "In this section, we calculate a pattern of correction coefficients in reciprocal space that improves upon the above anisotropic scaling corrections. We do so using a Fourier series. That is, \n",
    "\n",
    "$$\n",
    "C_{hkl} = A_0 + \\sum_{m,n,p} A_{mnp} \\cos(2\\pi h^T m/L) + B_{mnp} \\sin(2\\pi h^T m/L)\n",
    "$$\n",
    "\n",
    "with $h=(h,k,l)$ the Miller indices and $m=(m,n,p)$ the 3D Fourier component indices. We test the optimal order of the Fourier series by cross validation (the upper limit for $m,n,p$)."
   ]
  },
  {
   "cell_type": "code",
   "execution_count": null,
   "metadata": {},
   "outputs": [],
   "source": [
    "rseed=1763\n",
    "np.random.seed(rseed)\n",
    "ds1[\"test_flag\"] = (np.random.random((ds1.shape[0],1)) <0.85)"
   ]
  },
  {
   "cell_type": "code",
   "execution_count": null,
   "metadata": {
    "scrolled": true
   },
   "outputs": [],
   "source": [
    "# typically the minimum is for n=3 or 4...\n",
    "# see right below for typical run times by n (n=4: 2-3 min total)\n",
    "# note that at higher values of n sometimes NaNs pop up\n",
    "\n",
    "res=[0] # start with a dummy so next entries match their n\n",
    "n_best = 0\n",
    "best_loss = 9e9\n",
    "for n in [1,2]:\n",
    "    t1_start = perf_counter()\n",
    "    params = aniso2.prepare_for_FFT(ds1, n=n, label=\"EP_1_aniso_1\")\n",
    "    \n",
    "    with warnings.catch_warnings():\n",
    "        warnings.simplefilter(\"ignore\")\n",
    "        init_guess = np.zeros((1,2*(n**3)))\n",
    "        if n>1:\n",
    "            init_guess[0,:res[-1].x.shape[0]]=res[-1].x\n",
    "        else:\n",
    "            init_guess[0]=np.array([1, 0])\n",
    "        res_tmp = minimize(aniso2.anisotropic_scaling_to_1_FFT_wilson_loss_fast, \\\n",
    "                           init_guess,method='L-BFGS-B', jac = True, \\\n",
    "                           args=(params,ds1[\"test_flag\"].to_numpy()))\n",
    "        res.append(res_tmp)\n",
    "        res_test = aniso2.anisotropic_scaling_to_1_FFT_wilson_loss_fast(res_tmp.x, \\\n",
    "                                          params, bUse=~ds1[\"test_flag\"].to_numpy(), nargout=1)\n",
    "        if res_test[0] < best_loss:\n",
    "            best_loss = res_test[0]\n",
    "            n_best = n\n",
    "        print(f\"For n = {n} the test loss = {res_test[0]:.6}\")\n",
    "        t1_stop = perf_counter()  \n",
    "        print(f\"Elapsed time: {t1_stop-t1_start:.4} s\")"
   ]
  },
  {
   "cell_type": "code",
   "execution_count": null,
   "metadata": {},
   "outputs": [],
   "source": [
    "# run for best n using *all* reflections and save\n",
    "params = aniso2.prepare_for_FFT(ds1, n=n_best, label=\"EP_1_aniso_1\")\n",
    "\n",
    "loss, ep1, sigep1, scale1 = aniso2.anisotropic_scaling_to_1_FFT_wilson_loss_fast(res[n_best].x, params, \\\n",
    "                                                        bUse=np.ones((ds1.shape[0],),dtype=bool), nargout=3)\n",
    "\n",
    "EP1_label = \"EP_1_aniso_2\"\n",
    "ds1[EP1_label]   = ep1\n",
    "ds1[\"SIG\" + EP1_label]= sigep1\n",
    "print(np.mean(ep1[ds1[\"CENTRIC\"]==True]**2))\n",
    "print(np.mean(ep1[ds1[\"CENTRIC\"]==False]**2))"
   ]
  },
  {
   "cell_type": "markdown",
   "metadata": {},
   "source": [
    "Graphical inspection:"
   ]
  },
  {
   "cell_type": "code",
   "execution_count": null,
   "metadata": {},
   "outputs": [],
   "source": [
    "sig_cut = 0.1 # noisy observations deviation significantly from the Wilson distribution!\n",
    "              # ironically, French-Wilson scaling seems to blame.\n",
    "\n",
    "x=np.linspace(0,4,500)\n",
    "plt.figure(figsize=(16,4))\n",
    "plt.subplot(1,3,1)\n",
    "plt.hist(ep1[(ds1[\"CENTRIC\"]==True) & (sigep1<sig_cut)],20,alpha=0.5,density=True)\n",
    "plt.plot(x,wilson.wilson_dist_normalized(x,centric=True),'r-') \n",
    "plt.ylabel(\"count\"); plt.xlabel(\"Normalized sf amplitude\")\n",
    "plt.xlim([0,5]); plt.title(\"Centric\")\n",
    "\n",
    "plt.subplot(1,3,2)\n",
    "plt.hist(ep1[(ds1[\"CENTRIC\"]==False) & (sigep1<sig_cut)],40,alpha=0.5,density=True)\n",
    "plt.plot(x, wilson.wilson_dist_normalized(x,centric=False),'r-')\n",
    "plt.ylabel(\"count\"); plt.xlabel(\"Normalized sf amplitude\")\n",
    "plt.xlim([0,5]); plt.title(\"Acentric\"); \n",
    "\n",
    "plt.subplot(1,3,3)\n",
    "plt.hist(scale1,100); plt.grid()\n",
    "plt.title(\"Scale factors v. naive aniso scaling\")\n",
    "plt.show()\n",
    "\n",
    "print(np.percentile(ep1[(ds1[\"CENTRIC\"]==True) & (sigep1<sig_cut)],99.95))\n",
    "print(np.percentile(ep1[(ds1[\"CENTRIC\"]==False) & (sigep1<sig_cut)],99.95))"
   ]
  },
  {
   "cell_type": "markdown",
   "metadata": {},
   "source": [
    "## Normalization by regression estimates of Sigma\n",
    "We will now estimate $<|F|^2>$ locally in reciprocal space, starting from the Fourier-corrected anomalous estimates above. Because the expected intensity is the same for acentric and centric reflections, we can do this in one go for all of them.\n",
    "\n",
    "By Rupp eq. (7-104): $ \\Sigma_N = \\left<I\\right>/\\varepsilon_h $\n",
    "\n",
    "Below are two implementations of $\\Sigma$ estimation: using kernel ridge regression and k-nearest neighbors with custom weights. The former retains more of the correlation among data sets than the latter, but is **much** slower and more memory-intensive. It crashes on the cluster."
   ]
  },
  {
   "cell_type": "code",
   "execution_count": null,
   "metadata": {},
   "outputs": [],
   "source": [
    "temp = ds1[\"EPSILON\"][ds1[\"CENTRIC\"].to_numpy()==True]\n",
    "print(\"Distribution of multiplicities for centric reflections:\")\n",
    "print(temp.value_counts())\n",
    "print(\"\")\n",
    "\n",
    "temp = ds1[\"EPSILON\"][ds1[\"CENTRIC\"].to_numpy()==False]\n",
    "print(\"Distribution of multiplicities for acentric reflections:\")\n",
    "print(temp.value_counts())"
   ]
  },
  {
   "cell_type": "markdown",
   "metadata": {},
   "source": [
    "We now perform k-nearest neighbor regression (with self excluded). The optimal $k$ (and uniform weights) are **much higher** when the input have already been anisotropically scaled. Larger $k$ is also slower..."
   ]
  },
  {
   "cell_type": "code",
   "execution_count": null,
   "metadata": {},
   "outputs": [],
   "source": [
    "##### TEMPORARY -- REMOVE FOR ANYTHING BUT FMODEL ######\n",
    "EP1_label = \"EP_1_aniso_1\""
   ]
  },
  {
   "cell_type": "code",
   "execution_count": null,
   "metadata": {},
   "outputs": [],
   "source": [
    "gridsearch = False \n",
    "ncpu=2 #8 worked on the cluster\n",
    "param_grid={\"n_neighbors\":[50,100,200,400,800],'weights':['uniform',knn.knn_weight_exp_p05, knn.knn_weight_norm_p05]}\n",
    "#                                                                   knn.knn_weight_exp_p02, knn.knn_weight_norm_p02, \\\n",
    "#                                                                   knn.knn_weight_exp_p03, knn.knn_weight_norm_p03]}\n",
    "if gridsearch: \n",
    "    knn_1 = GridSearchCV(KNeighborsRegressor(n_jobs=ncpu),param_grid=param_grid)\n",
    "    knn_1.fit(ds1[[\"rs_a\", \"rs_b\", \"rs_c\"]].to_numpy(), (ds1[EP1_label].to_numpy()**2)) # these should be corrected for eps already\n",
    "else:\n",
    "    knn_1 = KNeighborsRegressor(800, weights=knn.knn_weight_exp_p05,n_jobs=ncpu)\n",
    "    knn_1.fit(ds1[[\"rs_a\", \"rs_b\", \"rs_c\"]], (ds1[[EP1_label]].to_numpy()**2))\n",
    "\n",
    "if gridsearch:\n",
    "    print(knn_1.best_params_)"
   ]
  },
  {
   "cell_type": "code",
   "execution_count": null,
   "metadata": {},
   "outputs": [],
   "source": [
    "Sigma_1 = knn_1.predict(ds1[[\"rs_a\", \"rs_b\", \"rs_c\"]]).reshape(-1,1)"
   ]
  },
  {
   "cell_type": "code",
   "execution_count": null,
   "metadata": {},
   "outputs": [],
   "source": [
    "E1    = ds1[        EP1_label].to_numpy().reshape(-1,1)/np.sqrt(Sigma_1) # We've already taken care of epsilon above\n",
    "SIGE1 = ds1[\"SIG\" + EP1_label].to_numpy().reshape(-1,1)/np.sqrt(Sigma_1)\n",
    "\n",
    "ds1[\"EP_1_knn\"]    = E1\n",
    "ds1[\"SIGEP_1_knn\"] = SIGE1"
   ]
  },
  {
   "cell_type": "markdown",
   "metadata": {},
   "source": [
    "## Analysis"
   ]
  },
  {
   "cell_type": "code",
   "execution_count": null,
   "metadata": {},
   "outputs": [],
   "source": [
    "plt.figure(figsize=(14,4))\n",
    "plt.subplot(1,2,1)\n",
    "result, bin_labels = plots.compute_meanF_byres(ds1, label=\"FP\", nbins=20,sigma_cut=0)\n",
    "plots.plot_by_res_bin(result, bin_labels, ylabel=\"mean F\",color='b')\n",
    "plt.title(\"Mean |F|\")\n",
    "plt.ylim(0,)\n",
    "\n",
    "plt.subplot(1,2,2)\n",
    "result_1, bin_labels_1 = plots.compute_meanF_byres(ds1, label=\"EP_1_aniso_1\", nbins=20,sigma_cut=0)\n",
    "result_2, bin_labels_2 = plots.compute_meanF_byres(ds1, label=\"EP_1_aniso_2\", nbins=20,sigma_cut=0)\n",
    "result_3, bin_labels_3 = plots.compute_meanF_byres(ds1, label=\"EP_1_knn\",     nbins=20,sigma_cut=0)\n",
    "plots.plot_by_res_bin(result_1, bin_labels_1, ylabel=\"mean E\",color='b')\n",
    "plots.plot_by_res_bin(result_2, bin_labels_2, ylabel=\"mean E\",color='r')\n",
    "plots.plot_by_res_bin(result_3, bin_labels_2, ylabel=\"mean E\",color='g')\n",
    "plt.title(\"Mean |F|\")\n",
    "plt.legend([\"EP1_aniso_1\", \"EP1_aniso_2\",\"EP_1_knn\"])\n",
    "plt.ylim(0,)\n",
    "plt.show()"
   ]
  },
  {
   "cell_type": "code",
   "execution_count": null,
   "metadata": {},
   "outputs": [],
   "source": [
    "# Let's examine the distribution of dHKL and E in the data\n",
    "sig_cut = 10\n",
    "nbin    = (20,10)\n",
    "\n",
    "cdf_bins     = np.linspace(0,100,nbin[0]+1)\n",
    "d_bins       = np.percentile(ds1[\"dHKL\"], cdf_bins)\n",
    "d_bins[-1]   = d_bins[-1]+1e-6   # to avoid omitting the largest data point\n",
    "d_dig        = np.digitize(ds1[\"dHKL\"], d_bins)\n",
    "ds1[\"dHKL_bin\"] = d_dig.flatten()\n",
    "# print(d_bins)\n",
    "\n",
    "cdf_bins     = np.linspace(0,100,nbin[1]+1)\n",
    "ep1_bins     = np.percentile(ds1[EP1_label], cdf_bins)\n",
    "ep1_bins[-1] = ep1_bins[-1]+1e-6 # to avoid omitting the largest data point\n",
    "ep1_dig      = np.digitize(ds1[\"EP_1_aniso_2\"], ep1_bins)\n",
    "ds1[\"EP_1_bin\"] = ep1_dig.flatten()\n",
    "\n",
    "H, xedges, yedges = np.histogram2d(ds1.loc[(ds1[\"CENTRIC\"]==False) & (ds1[\"SIG\" + EP1_label]<sig_cut), \"dHKL_bin\"], \\\n",
    "                                   ds1.loc[(ds1[\"CENTRIC\"]==False) & (ds1[\"SIG\" + EP1_label]<sig_cut), \"EP_1_bin\"],bins=nbin)\n",
    "\n",
    "plt.figure(figsize=(10,8))\n",
    "im=plt.imshow(H.transpose(), interpolation='nearest', origin='lower',\\\n",
    "           extent=[xedges[0], xedges[-1], yedges[0], yedges[-1]],vmin=0)\n",
    "plt.xlabel(\"resolution bin (high to low)\")\n",
    "plt.ylabel(\"|E| bin\")\n",
    "plt.title(\"Counts per 2D bin for |E| and dHKL\")\n",
    "plt.colorbar(im,fraction=0.025, pad=0.04)\n",
    "\n",
    "fname = mtz1 + \"_n\" + str(n_best) + \"_\" + EP1_label + \"_\" + str(rseed)+ \".png\"\n",
    "plt.savefig(\"results_figs/\" + fname)\n",
    "plt.show()"
   ]
  },
  {
   "cell_type": "markdown",
   "metadata": {},
   "source": [
    "## Cleaning up "
   ]
  },
  {
   "cell_type": "code",
   "execution_count": null,
   "metadata": {},
   "outputs": [],
   "source": [
    "# ds1[\"FP\"]             = ds1[\"FP\"             ].astype(\"SFAmplitude\")\n",
    "# ds1[\"SIGFP\"]          = ds1[\"FP\"             ].astype(\"Stddev\")\n",
    "ds1[\"rs_a\"]           = ds1[\"rs_a\"           ].astype(\"MTZReal\")\n",
    "ds1[\"rs_b\"]           = ds1[\"rs_b\"           ].astype(\"MTZReal\")\n",
    "ds1[\"rs_c\"]           = ds1[\"rs_c\"           ].astype(\"MTZReal\")\n",
    "ds1[\"EP_1_aniso_1\"]   = ds1[\"EP_1_aniso_1\"   ].astype(\"NormalizedSFAmplitude\")\n",
    "ds1[\"EP_1_aniso_2\"]   = ds1[\"EP_1_aniso_2\"   ].astype(\"NormalizedSFAmplitude\")\n",
    "ds1[\"EP_1_knn\"]       = ds1[\"EP_1_knn\"       ].astype(\"NormalizedSFAmplitude\")\n",
    "ds1[\"SIGEP_1_aniso_1\"]= ds1[\"SIGEP_1_aniso_1\"].astype(\"Stddev\")\n",
    "ds1[\"SIGEP_1_aniso_2\"]= ds1[\"SIGEP_1_aniso_2\"].astype(\"Stddev\")\n",
    "ds1[\"SIGEP_1_knn\"]    = ds1[\"SIGEP_1_knn\"    ].astype(\"Stddev\")\n",
    "# ds1.info()"
   ]
  },
  {
   "cell_type": "markdown",
   "metadata": {},
   "source": [
    "Let's check whether we still have unsupported column datatypes around!"
   ]
  },
  {
   "cell_type": "code",
   "execution_count": null,
   "metadata": {},
   "outputs": [],
   "source": [
    "modify_ds.check_col_dtypes(ds1)"
   ]
  },
  {
   "cell_type": "code",
   "execution_count": null,
   "metadata": {},
   "outputs": [],
   "source": [
    "# We'll have to add centric flags back later\n",
    "ds1.write_mtz(path + mtz1 + \"_use_aniso_1_only.mtz\",skip_problem_mtztypes=True)\n",
    "t_overall_end = perf_counter()\n",
    "print(\"Total elapsed time:\", t_overall_end-t_overall_start)"
   ]
  },
  {
   "cell_type": "markdown",
   "metadata": {},
   "source": [
    "## Obsolete stuff"
   ]
  },
  {
   "cell_type": "code",
   "execution_count": null,
   "metadata": {},
   "outputs": [],
   "source": [
    "mu = 4.5\n",
    "var = 0.5**2\n",
    "theta = var/mu\n",
    "k = mu/theta\n",
    "m = k\n",
    "Om = m*theta\n",
    "std = nakagami.std(m, loc=0, scale=np.sqrt(Om))\n",
    "x = gamma.rvs(a=k, scale=theta, size=10000)\n",
    "base=np.linspace(0,12,1000)\n",
    "\n",
    "plt.figure(figsize=(12,4))\n",
    "plt.subplot(1,2,1)\n",
    "plt.hist(x,50,density=True)\n",
    "plt.plot(base, gamma.pdf(x=base, a=k, scale=theta),'r-')\n",
    "plt.title(r\"Histogram for x.\"); plt.xlim([0,10])\n",
    "\n",
    "plt.subplot(1,2,2)\n",
    "plt.hist(np.sqrt(x),50,density=True)\n",
    "print(np.mean(x))\n",
    "plt.plot(base, nakagami.pdf(x=base, nu=k, scale=np.sqrt(Om)),'r-')\n",
    "plt.title(r\"Histogram for $\\sqrt{x}$.\"); plt.xlim([0,5])\n",
    "plt.show()"
   ]
  }
 ],
 "metadata": {
  "kernelspec": {
   "display_name": "Python [conda env:.conda-crystallography] *",
   "language": "python",
   "name": "conda-env-.conda-crystallography-py"
  },
  "language_info": {
   "codemirror_mode": {
    "name": "ipython",
    "version": 3
   },
   "file_extension": ".py",
   "mimetype": "text/x-python",
   "name": "python",
   "nbconvert_exporter": "python",
   "pygments_lexer": "ipython3",
   "version": "3.8.8"
  },
  "toc": {
   "base_numbering": 1,
   "nav_menu": {},
   "number_sections": true,
   "sideBar": true,
   "skip_h1_title": false,
   "title_cell": "Table of Contents",
   "title_sidebar": "Contents",
   "toc_cell": false,
   "toc_position": {},
   "toc_section_display": true,
   "toc_window_display": true
  }
 },
 "nbformat": 4,
 "nbformat_minor": 4
}
