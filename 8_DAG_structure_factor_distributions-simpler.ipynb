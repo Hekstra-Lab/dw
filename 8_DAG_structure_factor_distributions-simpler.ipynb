{
 "cells": [
  {
   "cell_type": "code",
   "execution_count": 12,
   "metadata": {},
   "outputs": [],
   "source": [
    "import numpy as np\n",
    "from matplotlib    import pyplot as plt\n",
    "from numpy.random  import default_rng\n",
    "from tqdm          import tqdm\n",
    "from time          import perf_counter \n",
    "from scipy.stats   import rice, foldnorm\n",
    "from dw_tools      import dag_pgm_tools, draw_tree\n",
    "import networkx as nx\n",
    "import reciprocalspaceship as rs\n",
    "import gemmi"
   ]
  },
  {
   "cell_type": "code",
   "execution_count": 2,
   "metadata": {},
   "outputs": [],
   "source": [
    "plt.rcParams.update({'font.size': 14})\n",
    "%load_ext autoreload\n",
    "%autoreload 2"
   ]
  },
  {
   "cell_type": "markdown",
   "metadata": {},
   "source": [
    "## Taking a \"tree\" point of view...\n",
    "Consider three complex structure factors $F_1$,$F_2$,$F_3$, such that \n",
    "<img src=\"img/F1_F2_F3.png\" alt=\"drawing\" width=\"200\"/>\n",
    "for example\n",
    "<img src=\"img/friedel_2.png\" alt=\"drawing\" width=\"250\"/>\n",
    "\n",
    "with arrows indicating statistical dependence, parameterized by a DW parameter indicated by the superscripts (note that correlations are equal in both directions). With this scheme, the graph has the structure of a directed acyclic graph (DAG)."
   ]
  },
  {
   "cell_type": "markdown",
   "metadata": {},
   "source": [
    "For the remainder, we will assume that the structure factors live on a common scale set by $\\Sigma=\\mathbb{E}(|F|^2)$. To indicate this, we'll switch from $F$ to $E$. We'll keep the common scale $\\Sigma$ around, noting that for normalized structure factors $\\Sigma=1$.\n",
    "\n",
    "We can think of $E_2$ as consisting of \n",
    "- a chunk depending on $E_1$ with magnitude $r E_1$ and variance $r^2 \\frac{\\Sigma}{2}$ for real and imag components and,\n",
    "- an independent bivariate normal chunk $\\Delta_{21}$ with mean $(0,0)$ and covariance matrix $\\frac{1}{2}(1-r^2)\\Sigma \\mathbf{I}$, \n",
    "\n",
    "with $\\mathbf{I}$ the identity matrix. Now, $Var(E_{2x})=r^2 \\frac{\\Sigma}{2}+\\frac{\\Sigma}{2}(1-r^2)=\\frac{\\Sigma}{2}$, as we would expect since $Var(|E|) = Var(E_{2x}) + Var(E_{2y}) = \\Sigma$."
   ]
  },
  {
   "cell_type": "markdown",
   "metadata": {},
   "source": [
    "### Factorizing the joint probability\n",
    "The exciting thing about this formalism is that now \n",
    "\n",
    "$$\n",
    "P\\left(E_1,E_2,E_3\\right) = \n",
    "P\\left(E_3\\bigr| E_2\\right)\\cdot\n",
    "P\\left(E_2\\bigr| E_1\\right) P\\left(E_1\\right)\n",
    "=\n",
    "P\\left(R_3,\\phi_3\\bigr| R_2,\\phi_2\\right)\\cdot\n",
    "P\\left(R_2,\\phi_2\\bigr| R_1,\\phi_1\\right)\\cdot P\\left(R_1,\\phi_1\\right)\n",
    "$$\n",
    "\n",
    "with $E_i$ described by its amplitude and phase, $(R_i,\\phi_i)$. \n",
    "\n",
    "We already know that in the DW model $P\\left(R_3,\\phi_3\\bigr| R_2, \\phi_2\\right)=P\\left(R_3,\\Delta\\phi_{32}=\\phi_3-\\phi_2\\bigr| R_2\\right)$, etc.. That is, only the phase difference matters for the probability, not the specific value of $\\phi_2$. We now have:\n",
    "\n",
    "$$\n",
    "P\\left(E_2,E_3\\bigr|E_1\\right) = \n",
    "P\\left(R_3,\\Delta\\phi_{3,2}\\bigr| R_2\\right)\\cdot\n",
    "P\\left(R_2,\\Delta\\phi_{2,1}\\bigr| R_1\\right) \n",
    "$$\n",
    "\n",
    "so, when we integrate over the unknown phase differences, we get for the amplitudes:\n",
    "\n",
    "\\begin{equation}\n",
    "P\\left(R_2,R_3\\bigr|E_1\\right) = \\int d\\Delta\\phi_{32} P\\left(R_3,\\Delta\\phi_{3,2}\\bigr| R_2\\right)\\cdot\n",
    "                                 \\int d\\Delta\\phi_{21} P\\left(R_2,\\Delta\\phi_{2,1}\\bigr| R_1\\right) \n",
    "\\tag{1a}                                \n",
    "\\end{equation}\n"
   ]
  },
  {
   "cell_type": "markdown",
   "metadata": {},
   "source": [
    "The results of _both_ integrals are Rice distributions. \n",
    "\n",
    "In our example, \n",
    "\n",
    "$$\n",
    "\\int d\\Delta\\phi_{32} P\\left(R_3,\\Delta\\phi_{3,2}\\bigr| R_2\\right) = Rice\\left(\\nu = r_x R_2, \\sigma^2 = \\frac{\\Sigma}{2}(1-r_x^2)\\right)\n",
    "\\tag{1b}  \n",
    "$$\n",
    "and\n",
    "$$\n",
    "\\int d\\Delta\\phi_{21} P\\left(R_2,\\Delta\\phi_{2,1}\\bigr| R_1\\right) = Rice\\left(\\nu = r R_1, \\sigma^2 = \\frac{\\Sigma}{2}(1-r^2)\\right)\n",
    "\\tag{1c}  \n",
    "$$\n"
   ]
  },
  {
   "cell_type": "markdown",
   "metadata": {},
   "source": [
    "#### Comparison to sampled data\n",
    "Let's first examine this example by making a comparison to surrogate data. As described in 8_DAG_PGM_structure_factor_distributions, we can calculate the joint distribution of the real and imaginary components of $E_2$ and $E_3$ _conditional on $E_1$_ using the properties of the multivariate normal (https://en.wikipedia.org/wiki/Multivariate_normal_distribution#Conditional_distributions).\n",
    "\n",
    "For simplicity, we assume $E_1$ is real and has a value of 1.5, as currently written."
   ]
  },
  {
   "cell_type": "code",
   "execution_count": 3,
   "metadata": {},
   "outputs": [],
   "source": [
    "rng  = default_rng()\n",
    "r    = 0.9\n",
    "rx   = 0.95\n",
    "R1   = np.asarray([1.5,1.5,0,0])       # unconditional: value of R1 (organized as E_1x,E_1x,E_1y,E_1y)\n",
    "mean = np.array([r,r*rx,r,r*rx])*R1    # conditional means of components of E2 and E3\n",
    "cov  = 0.5*\\\n",
    "    np.asarray([[ 1-r**2    , rx*(1-r**2),  0,           0          ],\\\n",
    "                [rx*(1-r**2), 1-rx**2*r**2, 0,           0          ],\\\n",
    "                [0,           0,            1 -r**2,     rx*(1-r**2)],\\\n",
    "                [0,           0,            rx*(1-r**2), 1-rx**2*r**2]])"
   ]
  },
  {
   "cell_type": "code",
   "execution_count": 4,
   "metadata": {},
   "outputs": [],
   "source": [
    "n_samples = 10000000\n",
    "vals   = rng.multivariate_normal(mean,cov,n_samples)\n",
    "R2_sq  = vals[:,0]**2 + vals[:,2]**2\n",
    "R3_sq  = vals[:,1]**2 + vals[:,3]**2\n",
    "R2_abs = np.sqrt(R2_sq)\n",
    "R3_abs = np.sqrt(R3_sq)"
   ]
  },
  {
   "cell_type": "markdown",
   "metadata": {},
   "source": []
  },
  {
   "cell_type": "code",
   "execution_count": null,
   "metadata": {},
   "outputs": [],
   "source": [
    "E_2x_sampled = r*   R1[0] + np.sqrt(0.5*(1-r**2)      )*np.random.normal(size=(n_samples,))\n",
    "E_3x_sampled = r*rx*R1[1] + np.sqrt(0.5*(1-r**2*rx**2))*np.random.normal(size=(n_samples,))\n",
    "E_2y_sampled = r*   R1[2] + np.sqrt(0.5*(1-r**2)      )*np.random.normal(size=(n_samples,))\n",
    "E_3y_sampled = r*rx*R1[3] + np.sqrt(0.5*(1-r**2*rx**2))*np.random.normal(size=(n_samples,))"
   ]
  },
  {
   "cell_type": "markdown",
   "metadata": {},
   "source": [
    "We can now implement eqs. 1a-c and compare to the sampled surrogate data."
   ]
  },
  {
   "cell_type": "code",
   "execution_count": 5,
   "metadata": {},
   "outputs": [],
   "source": [
    "def bivariate_Rice_DAG(R1, R2, R3, Sigma=1, r=0.9, rx=0.99):\n",
    "    cond_mean_21 = (R1 * r)\n",
    "    cond_mean_32 = (R2 * rx)\n",
    "    nu_21        = cond_mean_21\n",
    "    nu_32        = cond_mean_32\n",
    "    cond_var_21  = 0.5*Sigma*(1-r**2 )\n",
    "    cond_var_32  = 0.5*Sigma*(1-rx**2)\n",
    "    sigma_ac_21  = np.sqrt(cond_var_21)\n",
    "    sigma_ac_32  = np.sqrt(cond_var_32)\n",
    "    b_21         = nu_21/sigma_ac_21\n",
    "    b_32         = nu_32/sigma_ac_32\n",
    "    scale_21     = sigma_ac_21\n",
    "    scale_32     = sigma_ac_32\n",
    "\n",
    "    return rice.pdf(R3, b=b_32, scale=scale_32)*rice.pdf(R2, b=b_21, scale=scale_21)"
   ]
  },
  {
   "cell_type": "markdown",
   "metadata": {},
   "source": [
    "Let's calculate this PDF on a grid."
   ]
  },
  {
   "cell_type": "code",
   "execution_count": 6,
   "metadata": {},
   "outputs": [
    {
     "name": "stdout",
     "output_type": "stream",
     "text": [
      "(300, 200)\n",
      "(60000, 2)\n",
      "(200, 300)\n",
      "Elapsed time: 0.0147 s\n",
      "Integrated probability density: 0.992\n"
     ]
    }
   ],
   "source": [
    "nx, ny       = (200,300)\n",
    "x_max, y_max = (5, 6)\n",
    "xbase  = np.linspace(0.001, x_max, nx)\n",
    "ybase  = np.linspace(0.001, y_max, ny)\n",
    "xx,yy  = np.meshgrid(xbase, ybase)\n",
    "print(xx.shape)\n",
    "y_in   = np.transpose(np.array([np.transpose(xx).flatten(), np.transpose(yy).flatten()]))\n",
    "print(y_in.shape)\n",
    "\n",
    "t1_start = perf_counter()  \n",
    "result = bivariate_Rice_DAG(R1[0], y_in[:,0].reshape(1,-1), y_in[:,1].reshape(1,-1), Sigma=1, r=r, rx=rx)\n",
    "result = result.reshape(nx,ny)\n",
    "print(result.shape)\n",
    "t1_end = perf_counter()  \n",
    "\n",
    "print(f\"Elapsed time: {t1_end-t1_start:.3} s\")\n",
    "print(f\"Integrated probability density: {np.sum(result[:])*((x_max/nx)*(y_max/ny)):.3}\")"
   ]
  },
  {
   "cell_type": "markdown",
   "metadata": {},
   "source": [
    "We will also compare to the general solution implemented in ```dag_pgm_tools.RiceWoolfson_for_DAG``` and explained in **8_DAG_PGM_structure_factor_distributions**. To be able to do so, we need to summarize the properties of the graph underlying the PGM. Specifically,"
   ]
  },
  {
   "cell_type": "code",
   "execution_count": 7,
   "metadata": {},
   "outputs": [],
   "source": [
    "list_of_nodes = [0,1,2]\n",
    "list_of_edges = [(0,1),(1,2)]\n",
    "root          = 0\n",
    "list_of_rDW   = [r,rx]  # one element per edge\n",
    "root_R        = R1[0]   # if we condition on the value of the root, we need to add this. \n",
    "                        # For unconditional PDF, use root_R=None"
   ]
  },
  {
   "cell_type": "code",
   "execution_count": 8,
   "metadata": {},
   "outputs": [
    {
     "name": "stdout",
     "output_type": "stream",
     "text": [
      "(300, 200)\n",
      "(60000, 2)\n",
      "Overwrote the 0th column with the reference.\n",
      "Elapsed time: 0.0236 s\n",
      "Integrated probability density: 0.992\n"
     ]
    }
   ],
   "source": [
    "nx, ny       = (200,300)\n",
    "x_max, y_max = (5, 6)\n",
    "xbase  = np.linspace(0.001, x_max, nx)\n",
    "ybase  = np.linspace(0.001, y_max, ny)\n",
    "xx,yy  = np.meshgrid(xbase, ybase)\n",
    "y_in   = np.transpose(np.array([np.transpose(xx).flatten(), np.transpose(yy).flatten()]))\n",
    "print(xx.shape)\n",
    "print(y_in.shape)\n",
    "\n",
    "t1_start = perf_counter()  \n",
    "result_2 = dag_pgm_tools.RiceWoolfson_for_DAG(list_of_nodes, list_of_edges, root=root, list_of_rDW=list_of_rDW, \\\n",
    "                                              root_R=root_R, root_rDW=None, Sigma=1, centric=False\\\n",
    "                                             ).prob(np.concatenate((np.zeros((y_in.shape[0],1)), y_in),axis=1))\n",
    "result_2 = result_2.reshape(nx,ny)\n",
    "# print(result_2.shape)\n",
    "t1_end = perf_counter()  \n",
    "\n",
    "print(f\"Elapsed time: {t1_end-t1_start:.3} s\")\n",
    "print(f\"Integrated probability density: {np.sum(result_2[:])*((x_max/nx)*(y_max/ny)):.3}\")"
   ]
  },
  {
   "cell_type": "markdown",
   "metadata": {},
   "source": [
    "Let's compare the bivariate and general PDFs to the samples:"
   ]
  },
  {
   "cell_type": "code",
   "execution_count": 10,
   "metadata": {
    "scrolled": false
   },
   "outputs": [
    {
     "data": {
      "image/png": "[encoded data removed]",
      "text/plain": [
       "<Figure size 1080x720 with 12 Axes>"
      ]
     },
     "metadata": {
      "needs_background": "light"
     },
     "output_type": "display_data"
    }
   ],
   "source": [
    "(xmax,ymax) = (x_max,y_max)\n",
    "xedges = np.linspace(0,xmax,nx+1)\n",
    "yedges = np.linspace(0,ymax,ny+1)\n",
    "Hx_emp, xedges, yedges = np.histogram2d(R2_abs, R3_abs, bins=(xedges, yedges),density=True)\n",
    "\n",
    "# Since the axes of these plots drive me a nuts, a positive control using [yplot.hist2d.\n",
    "# In addition, I made the 2D histograms below asymmetric in dimension (remove \"extent=[]\" to see that),\n",
    "# and validated labels using 1D histograms above.\n",
    "# fig,ax=plt.subplots()\n",
    "# ax.hist2d(R2_abs, R3_abs,bins=50,range=[[0,xmax],[0,ymax]])\n",
    "# ax.set_aspect('equal')\n",
    "# ax.set_xlabel(r\"$R_2$\"); ax.set_ylabel(r\"$R_3$\")\n",
    "# plt.show()\n",
    "\n",
    "plt.figure(figsize=(15,10))                         \n",
    "plt.subplot(2,3,1)        \n",
    "plt.imshow(Hx_emp.T, interpolation='none',origin='lower', extent=[0,xmax,0,ymax]) \n",
    "plt.xlabel(r\"x=$R_2$\"); plt.ylabel(r\"y=$R_3$\")\n",
    "plt.title(\"Samples\"); plt.colorbar(); \n",
    "\n",
    "plt.subplot(2,3,2)        \n",
    "plt.imshow(result.T, interpolation='none',origin='lower', extent=[0,xmax,0,ymax]) #\n",
    "plt.title(\"Bivariate PDF\"); plt.colorbar()\n",
    "\n",
    "plt.subplot(2,3,3)        \n",
    "plt.imshow(result_2.T, interpolation='none',origin='lower', extent=[0,xmax,0,ymax]) #\n",
    "plt.title(\"General PDF\"); plt.colorbar()\n",
    "\n",
    "plt.subplot(2,3,4)\n",
    "plt.imshow((Hx_emp-result).T, interpolation='none',origin='lower', extent=[0,xmax,0,ymax], vmin=-0.1, vmax=0.1)\n",
    "plt.title(\"Samples - bivariate PDF\"); plt.colorbar(); \n",
    "\n",
    "plt.subplot(2,3,5)\n",
    "plt.imshow((Hx_emp-result_2).T, interpolation='none',origin='lower', extent=[0,xmax,0,ymax], vmin=-0.1, vmax=0.1)\n",
    "plt.title(\"Samples - general PDF\"); plt.colorbar(); \n",
    "\n",
    "plt.subplot(2,3,6)\n",
    "plt.imshow((result-result_2).T, interpolation='none',origin='lower', extent=[0,xmax,0,ymax], vmin=-0.1, vmax=0.1)\n",
    "plt.title(\"Bivariate - general PDF\"); plt.colorbar(); plt.show()"
   ]
  },
  {
   "cell_type": "markdown",
   "metadata": {},
   "source": [
    "We see that the synthetic data, ```bivariate_Rice_DAG``` and the general function ```dag_pgm_tools.RiceWoolfson_for_DAG.prob()``` yield consistent results and match the sample distribution up to sampling and gridding errors."
   ]
  },
  {
   "cell_type": "markdown",
   "metadata": {},
   "source": [
    "## General case (see ```8_DAG_PGM_structure_factor_distributions```)\n",
    "As we saw in \"_Factorizing the joint probability_\" for the bivariate case, the results of _both_ integrals are Rice distributions. The above principle generalizes to directed trees. Let's mark the parent of each node $R_i$ as $\\mathrm{Pa}(R_i)$; let the \"origin\" be $R_0$, and refer to the DW parameter for $P\\left(R_i \\bigr| \\mathrm{Pa}(R_i)\\right)$ as $r_i$, then,\n",
    "\n",
    "$$\n",
    "P\\left(R_i \\bigr| \\mathrm{Pa}(R_i)\\right) = \\int d\\Delta\\phi_{i,\\mathrm{Pa}(i)} P\\left(R_i,\\Delta\\phi_{i,\\mathrm{Pa(i)}}\\bigr| \\mathrm{Pa}(R_i)\\right) = Rice\\left(\\nu = r_i \\mathrm{Pa}(R_i), \\sigma^2 = \\frac{\\Sigma}{2}(1-r_i^2)\\right)\n",
    "$$\n",
    "and\n",
    "\n",
    "$$\n",
    "P\\left(\\{R_i: \\ i>0\\} \\bigr| R_0\\right) = \\prod_{i>0} Rice\\left(\\nu = r_i \\mathrm{Pa}(R_i), \\sigma^2 = \\frac{\\Sigma}{2}(1-r_i^2)\\right)\n",
    "\\tag{2a}\n",
    "$$\n",
    "\n",
    "That is, to specify a joint prior, all we need to do is to specify the reference prior (optional!), the tree structure $\\left\\{\\left(i, \\mathrm{Pa}(i)\\right)\\right\\}$, and estimates of the $r_i$. In the limit of $r_i\\rightarrow 0$, the priors return to the Wilson distribution. "
   ]
  },
  {
   "cell_type": "markdown",
   "metadata": {},
   "source": [
    "#### Centric case:\n",
    "The centric case is entirely analogous:\n",
    "$$\n",
    "P\\left(R_i \\bigr| \\mathrm{Pa}(R_i)\\right) = \\int d\\Delta\\phi_{i,\\mathrm{Pa}(i)} P\\left(R_i,\\Delta\\phi_{i,\\mathrm{Pa(i)}}\\bigr| \\mathrm{Pa}(R_i)\\right) = \\mathrm{FoldedNormal}\\left(\\nu = r_i \\mathrm{Pa}(R_i), \\sigma^2 = \\Sigma(1-r_i^2)\\right)\n",
    "$$\n",
    "and\n",
    "\n",
    "$$\n",
    "P\\left(\\{R_i: \\ i>0\\} \\bigr| R_0\\right) = \\prod_{i>0} \\mathrm{FoldedNormal}\\left(\\nu = r_i \\mathrm{Pa}(R_i), \\sigma^2 = \\Sigma(1-r_i^2)\\right)\n",
    "\\tag{2b}\n",
    "$$"
   ]
  },
  {
   "cell_type": "markdown",
   "metadata": {},
   "source": [
    "## Priors for variational inference\n",
    "Equations 2a-b specify the priors for variational inference."
   ]
  },
  {
   "cell_type": "markdown",
   "metadata": {},
   "source": [
    "## Variational distributions / surrogate posteriors\n",
    "\n",
    "In terms of functional forms to use, the simplest thing to do is to extend the use of truncated ($TruncNorm$) or folded normal distributions to the bivariate and multivariate cases. Multivariate extensions of the folded normal are easy to implement yourself. \n",
    "\n",
    "However, there is one important question--what kind of covariance structure should we use? I see three possibilities:\n",
    "\n",
    "1. **No covariance structure**. For example, for the general case, $q\\left(\\{R_i\\}\\right)=\\prod_i q(R_i)$, with $q(R_i)\\sim TruncNorm(\\mu_{q_i},\\sigma_{q_i})$.\n",
    "2. **Full covariance structure**. For example, for the general case, $q\\left(\\{R_i\\}\\right)=MultiTruncNorm(\\mu_{q}, C)$, with $C$ a covariance matrix.\n",
    "3. **Inherit correlation structure from the prior**. For example, for the general case, $q\\left(\\{R_i\\}\\right)=MultiTruncNorm(\\mu_{q}, S^T C' S)$, with $S$ a diagonal matrix with fittable standard deviations $S_{ii}=\\sigma_{q_i}$ and $C'$ described in Murphy, section 10.2.5 and tested in ```8_DAG_PGM_structure_factor_distributions```.\n",
    "\n",
    "It is not obvious which of these three is the best approach. I favor (3). It seems to me that the only source of posterior correlations should be the prior and that it therefore makes sense to inherit its correlation matrix. This may be particularly beneficial since the likelihood term of the ELBO is evaluated by sampling $q$ and samples will be more likely to fit the prior well if we use the same correlation structure. A welcome side effect is that we do not increase the number of parameters."
   ]
  },
  {
   "cell_type": "markdown",
   "metadata": {},
   "source": [
    "## ELBO"
   ]
  },
  {
   "cell_type": "markdown",
   "metadata": {},
   "source": [
    "We will use Miller index $h$ and image number $i$. \n",
    "\n",
    "Let $t$ be an index over operations that relate the different sets of structure factor amplitudes (e.g. for Friedel mates the identity and inversion operators). For example, for anomalous data $F_{h,t=1} = F_h$ and $F_{h,t=2} = F_{-h}$. More generally, $t$ can be any mapping, whether it is time, on/off, or a symmetry operation, or any combination of those.\n",
    "\n",
    "Following eq. 1 of the bioRxiv preprint, skipping to the sampling step with samples drawn from the surrogate posterior, we have: \n",
    "\n",
    "$$\\large\n",
    "ELBO = \\sum_{h,i} \\sum_j \\sum_t \\log L\\big(I_{h,i,t} \\big| F^2_{h,j,t}\\Sigma_{h,i,t,j}, \\sigma_{I_{h,i,t}} \\big) - \n",
    "\\sum_{h} \\sum_j \\log\\big(q_h(\\{F_{h,j,t}\\})\\big) - \\log\\big(P(\\{F_{h,j,t}\\})\\big)\n",
    "\\tag{3}\n",
    "$$\n",
    "\n",
    "$\\Sigma_{hi}$ also depends on $j$ because we're also sampling from the scale function.\n",
    "\n",
    "As we've seen above, $P(\\{F_{h,j,t}\\})$ will generally be a product of Rice distributions (acentric) or product of Folded Normals (centric), for which for each $h, i$ we will need to draw samples with as many dimensions as $t$. $q(\\{F_{h,j,t}\\})$ will likewise be a multivariate distribution, but we can choose its functional form."
   ]
  },
  {
   "cell_type": "markdown",
   "metadata": {},
   "source": [
    "#### Application to the case of anomalous data without a reference\n",
    "The simplest approach to anomalous data is to use the following PGM:\n",
    "\n",
    "<img src=\"img/friedel_1.png\" alt=\"drawing\" width=\"200\"/>\n",
    "\n",
    "where $r$ indicates the expected correlation coefficient among real or imaginary components of the $F_h$ and $F_{-h}$ structure factors."
   ]
  },
  {
   "cell_type": "markdown",
   "metadata": {},
   "source": [
    "If we apply eq. 3 in this case, $h$ will run over the reflections in the hemisphere with $h>0\\mathrm{, any }\\ k, l$.\n",
    "\n",
    "$t\\in \\{\\mathrm{Id}, \\mathrm{Inv}\\}$ will map those indices to themselves ($t=1$, $\\mathrm{Id}$ the identity operator) and to their Friedel mate ($t=2$, $\\mathrm{Inv}$ the inversion operator). That is, $F_{h,t=1} = F_h$ and $F_{h,t=2} = F_{-h}$."
   ]
  },
  {
   "cell_type": "markdown",
   "metadata": {},
   "source": [
    "In this case, for $h>0$ and acentric:\n",
    "\n",
    "$$\n",
    "P(\\{F_{h,j}\\})=Rice\\left(F_{-h, j}  \\ \\Bigg|\\  \\nu = r \\cdot F_{h, j}, \\sigma^2 = \\frac{\\Sigma^{prior}_{h}}{2}(1-r^2)\\right) \\cdot\n",
    "               Wilson\\left(F_{h, j} \\ \\Bigg| \\ \\Sigma^{prior}_{h}\\right)\n",
    "$$\n",
    "\n",
    "where, if we want to estimate normalized structure factor amplitudes, $\\Sigma^{prior}_h=1$.\n",
    "\n",
    "(note that generally, there may be Miller indices which are mapped to themselves under the "
   ]
  },
  {
   "cell_type": "markdown",
   "metadata": {},
   "source": [
    "$$\\large\n",
    "ELBO = \\sum_{h\\geq 0,i} \\sum_j \\sum_t \\log L\\big(I_{h,i,t} \\big| F^2_{h,j,t}\\Sigma_{h,i,t,j}, \\sigma_{I_{h,i,t}} \\big) - \n",
    "\\sum_{h} \\sum_j \\log\\big(q_h(\\{F_{h,j,t}\\})\\big) - \\log\\big(P(\\{F_{h,j,t}\\})\\big)\n",
    "$$"
   ]
  },
  {
   "cell_type": "code",
   "execution_count": null,
   "metadata": {},
   "outputs": [],
   "source": []
  }
 ],
 "metadata": {
  "kernelspec": {
   "display_name": "Python [conda env:.conda-crystallography] *",
   "language": "python",
   "name": "conda-env-.conda-crystallography-py"
  },
  "language_info": {
   "codemirror_mode": {
    "name": "ipython",
    "version": 3
   },
   "file_extension": ".py",
   "mimetype": "text/x-python",
   "name": "python",
   "nbconvert_exporter": "python",
   "pygments_lexer": "ipython3",
   "version": "3.8.8"
  },
  "toc": {
   "base_numbering": 1,
   "nav_menu": {},
   "number_sections": true,
   "sideBar": true,
   "skip_h1_title": false,
   "title_cell": "Table of Contents",
   "title_sidebar": "Contents",
   "toc_cell": false,
   "toc_position": {
    "height": "calc(100% - 180px)",
    "left": "10px",
    "top": "150px",
    "width": "335.994px"
   },
   "toc_section_display": true,
   "toc_window_display": true
  }
 },
 "nbformat": 4,
 "nbformat_minor": 4
}
