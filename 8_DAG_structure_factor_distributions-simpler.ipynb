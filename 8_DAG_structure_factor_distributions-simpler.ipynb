{
 "cells": [
  {
   "cell_type": "code",
   "execution_count": 1,
   "metadata": {},
   "outputs": [],
   "source": [
    "import numpy as np\n",
    "from matplotlib    import pyplot as plt\n",
    "from numpy.random  import default_rng\n",
    "from tqdm          import tqdm\n",
    "from time          import perf_counter \n",
    "from scipy.stats   import rice, foldnorm\n",
    "from dw_tools      import dag_pgm_tools, draw_tree\n",
    "import networkx as nx\n",
    "import reciprocalspaceship as rs\n",
    "import gemmi"
   ]
  },
  {
   "cell_type": "code",
   "execution_count": 2,
   "metadata": {},
   "outputs": [],
   "source": [
    "plt.rcParams.update({'font.size': 14})\n",
    "%load_ext autoreload\n",
    "%autoreload 2"
   ]
  },
  {
   "cell_type": "markdown",
   "metadata": {},
   "source": [
    "## Taking a \"tree\" point of view...\n",
    "In this notebook, we are concerned with sets of reflections that are \"closely related\". Thinking of tables of reflections, like in a ```reciprocalspaceship```'s ```dataSet```, these are reflections in the same row--they have the same Miller index or Miller indices that can be mapped to each other under a crystallographic symmetry operation. These reflections may have been collected for different crystals, at different time points, or be related by symmetry only under some conditions (e.g. no electric field).\n",
    "\n",
    "For the sake of introduction, we will consider the following three sets of complex structure factors $F_1$,$F_2$,$F_3$. We may have some knowledge of the correlations among these datasets such that we can approximate their statistical relationships using a conditional independence diagram, such that \n",
    "<img src=\"img/F1_F2_F3.png\" alt=\"drawing\" width=\"200\"/>\n",
    "\n",
    "with arrows indicating statistical dependence, parameterized by a DW parameter indicated by the superscripts (note that correlations are equal in both directions). \n",
    "\n",
    "A special case we'll examine later in this notebook is that of Friedel mates,\n",
    "<img src=\"img/friedel_2.png\" alt=\"drawing\" width=\"250\"/>\n",
    "\n",
    "We'll understand $F^+$ to denote structure factor amplitudes lying in the $h\\geq 0$ hemisphere (and the ASU that lies therein), and $F^-$ its Friedel mate in the complementary hemisphere. Note that some reflections map onto themselves when also accounting for crystallographic symmetry. What follows in this notebook does not apply to reflections that map to themselves. "
   ]
  },
  {
   "cell_type": "markdown",
   "metadata": {},
   "source": [
    "### Normalization\n",
    "For the remainder, we will assume that the structure factors live on a common scale set by $\\Sigma=\\mathbb{E}(|F|^2)$. To indicate this, we'll switch from $F$ to $E$. We'll keep the common scale $\\Sigma$ around, noting that for normalized structure factors $\\Sigma=1$."
   ]
  },
  {
   "cell_type": "markdown",
   "metadata": {},
   "source": [
    "### Another view of the same\n",
    "It is sometimes helpful to think of $E_2$ as consisting of \n",
    "- a chunk depending on $E_1$ with magnitude $r E_1$ and variance $r^2 \\frac{\\Sigma}{2}$ for real and imaginary components and,\n",
    "- an independent bivariate normal chunk $\\Delta_{21}$ with mean $(0,0)$ and covariance matrix $\\frac{1}{2}(1-r^2)\\Sigma \\mathbf{I}$, with $\\mathbf{I}$ the identity matrix. \n",
    "\n",
    "That is, $E_2 = r\\cdot E_1 + \\eta\\cdot\\sqrt{\\frac{1}{2}(1-r^2)\\Sigma}$, with $\\eta$ a sample drawn from a bivariate standard normal. This result follows from the properties of conditional normal distributions (https://en.wikipedia.org/wiki/Multivariate_normal_distribution). "
   ]
  },
  {
   "cell_type": "markdown",
   "metadata": {},
   "source": [
    "### Factorizing the joint probability\n",
    "Thinking of each complex structure factor as consisting of an amplitude and a phase (e.g. $E_i$ described by its amplitude and phase, $(R_i,\\phi_i)$), we can use conditional independence in the diagram above to state that:\n",
    "\n",
    "$$\n",
    "P\\left(E_1,E_2,E_3\\right) = \n",
    "P\\left(E_3\\bigr| E_2\\right)\\cdot\n",
    "P\\left(E_2\\bigr| E_1\\right) P\\left(E_1\\right)\n",
    "=\n",
    "P\\left(R_3,\\phi_3\\bigr| R_2,\\phi_2\\right)\\cdot\n",
    "P\\left(R_2,\\phi_2\\bigr| R_1,\\phi_1\\right)\\cdot P\\left(R_1,\\phi_1\\right)\n",
    "$$\n",
    "\n",
    "(depending on circumstances, this is either an approximation or an identity).\n",
    "\n",
    "We already know that in the DW model $P\\left(R_3,\\phi_3\\bigr| R_2, \\phi_2\\right)=P\\left(R_3,\\Delta\\phi_{32}=\\phi_3-\\phi_2\\bigr| R_2\\right)$, etc.. That is, only the phase difference matters for the probability, not the specific value of $\\phi_2$. We now have:\n",
    "\n",
    "$$\n",
    "P\\left(E_2,E_3\\bigr|E_1\\right) = \n",
    "P\\left(R_3,\\Delta\\phi_{3,2}\\bigr| R_2\\right)\\cdot\n",
    "P\\left(R_2,\\Delta\\phi_{2,1}\\bigr| R_1\\right) \n",
    "$$\n",
    "\n",
    "so, when we integrate over the unknown phase differences, we get for the amplitudes:\n",
    "\n",
    "\\begin{equation}\n",
    "P\\left(R_2,R_3\\bigr|E_1\\right) = \\int d\\Delta\\phi_{32} P\\left(R_3,\\Delta\\phi_{3,2}\\bigr| R_2\\right)\\cdot\n",
    "                                 \\int d\\Delta\\phi_{21} P\\left(R_2,\\Delta\\phi_{2,1}\\bigr| R_1\\right) \n",
    "\\tag{1a}                                \n",
    "\\end{equation}\n"
   ]
  },
  {
   "cell_type": "markdown",
   "metadata": {},
   "source": [
    "$P\\left(E_2\\bigr|E_1\\right)$ and $P\\left(E_3\\bigr|E_2\\right)$ are conditional bivariate normal distributions over their real and imaginary components. For the amplitudes, the results of _both_ integrals in eq. 1a are Rice distributions (acentric case) or Folded Normals (centric case). For now, we'll focus on the acentric case.\n",
    "\n",
    "In our example, \n",
    "\n",
    "$$\n",
    "\\int d\\Delta\\phi_{32} P\\left(R_3,\\Delta\\phi_{3,2}\\bigr| R_2\\right) = Rice\\left(\\nu = r_x R_2, \\sigma^2 = \\frac{\\Sigma}{2}(1-r_x^2)\\right)\n",
    "\\tag{1b}  \n",
    "$$\n",
    "and\n",
    "$$\n",
    "\\int d\\Delta\\phi_{21} P\\left(R_2,\\Delta\\phi_{2,1}\\bigr| R_1\\right) = Rice\\left(\\nu = r R_1, \\sigma^2 = \\frac{\\Sigma}{2}(1-r^2)\\right)\n",
    "\\tag{1c}  \n",
    "$$\n",
    "\n",
    "See https://en.wikipedia.org/wiki/Rice_distribution#Related_distributions, and Rupp Ch. 7, as well as sections 1.1 and 1.2 of https://www.sciencedirect.com/science/article/pii/S0076687997760695."
   ]
  },
  {
   "cell_type": "markdown",
   "metadata": {},
   "source": [
    "#### Comparison to sampled data\n",
    "Let's first examine this example by making a comparison to surrogate data. As described in 8_DAG_PGM_structure_factor_distributions, we can calculate the joint distribution of the real and imaginary components of $E_2$ and $E_3$ _conditional on $E_1$_ using the properties of the multivariate normal (https://en.wikipedia.org/wiki/Multivariate_normal_distribution#Conditional_distributions).\n",
    "\n",
    "For simplicity, we assume $E_1$ is real and has a value of 1.5, as currently written:"
   ]
  },
  {
   "cell_type": "code",
   "execution_count": 3,
   "metadata": {},
   "outputs": [],
   "source": [
    "rng  = default_rng()\n",
    "r    = 0                               # A value of 0 corresponds to using the Wilson distribution for the root.\n",
    "rx   = 0.99\n",
    "R1   = np.asarray([1.5,1.5,0,0])       # unconditional: value of R1 (organized as E_1x,E_1x,E_1y,E_1y)\n",
    "mean = np.array([r,r*rx,r,r*rx])*R1    # conditional means of components of E2 and E3\n",
    "cov  = 0.5*\\\n",
    "    np.asarray([[ 1-r**2    , rx*(1-r**2),  0,           0          ],\\\n",
    "                [rx*(1-r**2), 1-rx**2*r**2, 0,           0          ],\\\n",
    "                [0,           0,            1 -r**2,     rx*(1-r**2)],\\\n",
    "                [0,           0,            rx*(1-r**2), 1-rx**2*r**2]])"
   ]
  },
  {
   "cell_type": "code",
   "execution_count": 5,
   "metadata": {},
   "outputs": [],
   "source": [
    "n_samples = 20000000\n",
    "vals   = rng.multivariate_normal(mean,cov,n_samples)\n",
    "R2_sq  = vals[:,0]**2 + vals[:,2]**2\n",
    "R3_sq  = vals[:,1]**2 + vals[:,3]**2\n",
    "R2_abs = np.sqrt(R2_sq)\n",
    "R3_abs = np.sqrt(R3_sq)"
   ]
  },
  {
   "cell_type": "markdown",
   "metadata": {},
   "source": [
    "We can now implement eqs. 1a-c and compare to the sampled surrogate data."
   ]
  },
  {
   "cell_type": "code",
   "execution_count": 6,
   "metadata": {},
   "outputs": [],
   "source": [
    "def bivariate_Rice_DAG(R1, R2, R3, Sigma=1, r=0.9, rx=0.99):\n",
    "    cond_mean_21 = (R1 * r)\n",
    "    cond_mean_32 = (R2 * rx)\n",
    "    nu_21        = cond_mean_21\n",
    "    nu_32        = cond_mean_32\n",
    "    cond_var_21  = 0.5*Sigma*(1-r**2 )\n",
    "    cond_var_32  = 0.5*Sigma*(1-rx**2)\n",
    "    sigma_ac_21  = np.sqrt(cond_var_21)\n",
    "    sigma_ac_32  = np.sqrt(cond_var_32)\n",
    "    # convert to scipy.stats convention:\n",
    "    b_21         = nu_21/sigma_ac_21\n",
    "    b_32         = nu_32/sigma_ac_32\n",
    "    scale_21     = sigma_ac_21\n",
    "    scale_32     = sigma_ac_32\n",
    "\n",
    "    return rice.pdf(R3, b=b_32, scale=scale_32)*rice.pdf(R2, b=b_21, scale=scale_21)"
   ]
  },
  {
   "cell_type": "markdown",
   "metadata": {},
   "source": [
    "Let's calculate this PDF on a grid."
   ]
  },
  {
   "cell_type": "code",
   "execution_count": 26,
   "metadata": {},
   "outputs": [
    {
     "name": "stdout",
     "output_type": "stream",
     "text": [
      "(600, 400)\n",
      "(240000, 2)\n",
      "(400, 600)\n",
      "Elapsed time: 0.0794 s\n",
      "Integrated probability density: 0.996\n"
     ]
    }
   ],
   "source": [
    "nx, ny       = (400,600)\n",
    "x_max, y_max = (5, 6)\n",
    "xbase  = np.linspace(0.001, x_max, nx)\n",
    "ybase  = np.linspace(0.001, y_max, ny)\n",
    "xx,yy  = np.meshgrid(xbase, ybase)\n",
    "y_in   = np.transpose(np.array([np.transpose(xx).flatten(), np.transpose(yy).flatten()]))\n",
    "print(xx.shape)\n",
    "print(y_in.shape)\n",
    "\n",
    "t1_start = perf_counter()  \n",
    "result = bivariate_Rice_DAG(R1[0], y_in[:,0].reshape(1,-1), y_in[:,1].reshape(1,-1), Sigma=1, r=r, rx=rx)\n",
    "result = result.reshape(nx,ny)\n",
    "t1_end = perf_counter()  \n",
    "print(result.shape)\n",
    "\n",
    "print(f\"Elapsed time: {t1_end-t1_start:.3} s\")\n",
    "print(f\"Integrated probability density: {np.sum(result[:])*((x_max/nx)*(y_max/ny)):.3}\")"
   ]
  },
  {
   "cell_type": "markdown",
   "metadata": {},
   "source": [
    "We will also compare to the general solution implemented in ```dag_pgm_tools.RiceWoolfson_for_DAG``` and explained in **8_DAG_PGM_structure_factor_distributions**. To be able to do so, we need to summarize the properties of the graph underlying the PGM. Specifically,"
   ]
  },
  {
   "cell_type": "code",
   "execution_count": 27,
   "metadata": {},
   "outputs": [],
   "source": [
    "list_of_nodes = [0,1,2]\n",
    "list_of_edges = [(0,1),(1,2)]\n",
    "root          = 0\n",
    "list_of_rDW   = [r,rx]  # one element per edge\n",
    "root_R        = R1[0]   # if we condition on the value of the root, we need to add this. \n",
    "                        # For unconditional PDF, use root_R=None"
   ]
  },
  {
   "cell_type": "code",
   "execution_count": 28,
   "metadata": {},
   "outputs": [
    {
     "name": "stdout",
     "output_type": "stream",
     "text": [
      "(600, 400)\n",
      "(240000, 2)\n",
      "Overwrote the 0th column with the reference.\n",
      "Elapsed time: 0.16 s\n",
      "Integrated probability density: 0.996\n"
     ]
    }
   ],
   "source": [
    "nx, ny       = (400,600)\n",
    "x_max, y_max = (5, 6)\n",
    "xbase  = np.linspace(0.001, x_max, nx)\n",
    "ybase  = np.linspace(0.001, y_max, ny)\n",
    "xx,yy  = np.meshgrid(xbase, ybase)\n",
    "y_in   = np.transpose(np.array([np.transpose(xx).flatten(), np.transpose(yy).flatten()]))\n",
    "print(xx.shape)\n",
    "print(y_in.shape)\n",
    "\n",
    "t1_start = perf_counter()  \n",
    "result_2 = dag_pgm_tools.RiceWoolfson_for_DAG(list_of_nodes, list_of_edges, root=root, list_of_rDW=list_of_rDW, \\\n",
    "                                              root_R=root_R, root_rDW=None, Sigma=1, centric=False\\\n",
    "                                             ).prob(np.concatenate((np.zeros((y_in.shape[0],1)), y_in),axis=1))\n",
    "result_2 = result_2.reshape(nx,ny)\n",
    "# print(result_2.shape)\n",
    "t1_end = perf_counter()  \n",
    "\n",
    "print(f\"Elapsed time: {t1_end-t1_start:.3} s\")\n",
    "print(f\"Integrated probability density: {np.sum(result_2[:])*((x_max/nx)*(y_max/ny)):.3}\")"
   ]
  },
  {
   "cell_type": "markdown",
   "metadata": {},
   "source": [
    "Let's compare the bivariate and general PDFs to the samples:"
   ]
  },
  {
   "cell_type": "code",
   "execution_count": 29,
   "metadata": {
    "scrolled": false
   },
   "outputs": [
    {
     "data": {
      "image/png": "[encoded data removed]",
      "text/plain": [
       "<Figure size 1080x720 with 12 Axes>"
      ]
     },
     "metadata": {
      "needs_background": "light"
     },
     "output_type": "display_data"
    }
   ],
   "source": [
    "(xmax,ymax) = (x_max,y_max)\n",
    "xedges = np.linspace(0,xmax,nx+1)\n",
    "yedges = np.linspace(0,ymax,ny+1)\n",
    "Hx_emp, xedges, yedges = np.histogram2d(R2_abs, R3_abs, bins=(xedges, yedges),density=True)\n",
    "\n",
    "# Since the axes of these plots drive me a nuts, a positive control using [yplot.hist2d.\n",
    "# In addition, I made the 2D histograms below asymmetric in dimension (remove \"extent=[]\" to see that),\n",
    "# and validated labels using 1D histograms above.\n",
    "# fig,ax=plt.subplots()\n",
    "# ax.hist2d(R2_abs, R3_abs,bins=50,range=[[0,xmax],[0,ymax]])\n",
    "# ax.set_aspect('equal')\n",
    "# ax.set_xlabel(r\"$R_2$\"); ax.set_ylabel(r\"$R_3$\")\n",
    "# plt.show()\n",
    "\n",
    "plt.figure(figsize=(15,10))                         \n",
    "plt.subplot(2,3,1)        \n",
    "plt.imshow(Hx_emp.T, interpolation='none',origin='lower', extent=[0,xmax,0,ymax]) \n",
    "plt.xlabel(r\"x=$R_2$\"); plt.ylabel(r\"y=$R_3$\")\n",
    "plt.title(\"Samples\"); plt.colorbar(); \n",
    "\n",
    "plt.subplot(2,3,2)        \n",
    "plt.imshow(result.T, interpolation='none',origin='lower', extent=[0,xmax,0,ymax]) #\n",
    "plt.title(\"Bivariate PDF\"); plt.colorbar()\n",
    "\n",
    "plt.subplot(2,3,3)        \n",
    "plt.imshow(result_2.T, interpolation='none',origin='lower', extent=[0,xmax,0,ymax]) #\n",
    "plt.title(\"General PDF\"); plt.colorbar()\n",
    "\n",
    "plt.subplot(2,3,4)\n",
    "plt.imshow((Hx_emp-result).T, interpolation='none',origin='lower', extent=[0,xmax,0,ymax], vmin=-0.1, vmax=0.1)\n",
    "plt.title(\"Samples - bivariate PDF\"); plt.colorbar(); \n",
    "\n",
    "plt.subplot(2,3,5)\n",
    "plt.imshow((Hx_emp-result_2).T, interpolation='none',origin='lower', extent=[0,xmax,0,ymax], vmin=-0.1, vmax=0.1)\n",
    "plt.title(\"Samples - general PDF\"); plt.colorbar(); \n",
    "\n",
    "plt.subplot(2,3,6)\n",
    "plt.imshow((result-result_2).T, interpolation='none',origin='lower', extent=[0,xmax,0,ymax], vmin=-0.1, vmax=0.1)\n",
    "plt.title(\"Bivariate - general PDF\"); plt.colorbar(); plt.show()"
   ]
  },
  {
   "cell_type": "markdown",
   "metadata": {},
   "source": [
    "We see that the synthetic data, ```bivariate_Rice_DAG``` and the general function ```dag_pgm_tools.RiceWoolfson_for_DAG.prob()``` yield consistent results and match the sample distribution up to sampling and gridding errors."
   ]
  },
  {
   "cell_type": "markdown",
   "metadata": {},
   "source": [
    "## General case (see ```8_DAG_PGM_structure_factor_distributions```)\n",
    "#### Acentric case:\n",
    "As we saw in \"_Factorizing the joint probability_\" for the bivariate case, the results of _both_ integrals are Rice distributions. The above principle generalizes to directed trees. Let's mark the parent of each node $R_i$ as $\\mathrm{Pa}(R_i)$; let the \"origin\", or \"root\" of the \"tree\" be $R_0$, and refer to the DW parameter for $P\\left(R_i \\ \\bigr|\\ \\mathrm{Pa}(R_i)\\right)$ as $r_i$, then,\n",
    "\n",
    "$$\n",
    "P\\left(R_i \\ \\bigr|\\ \\mathrm{Pa}(R_i)\\right) = \\int d\\Delta\\phi_{i,\\mathrm{Pa}(i)} P\\left(R_i,\\Delta\\phi_{i,\\mathrm{Pa(i)}}\\bigr| \\mathrm{Pa}(R_i)\\right) = Rice\\left(\\nu = r_i \\mathrm{Pa}(R_i), \\sigma^2 = \\frac{\\Sigma}{2}(1-r_i^2)\\right)\n",
    "$$\n",
    "and\n",
    "\n",
    "$$\n",
    "P\\left(\\{R_i: \\ i>0\\} \\bigr| R_0\\right) = \\prod_{i>0} Rice\\left(\\nu = r_i \\mathrm{Pa}(R_i), \\sigma^2 = \\frac{\\Sigma}{2}(1-r_i^2)\\right)\n",
    "\\tag{2a}\n",
    "$$\n",
    "\n",
    "That is, to specify a joint prior, all we need to do is to specify the reference prior (optional!), the tree structure $\\left\\{\\left(i, \\mathrm{Pa}(i)\\right)\\right\\}$, and estimates of the $r_i$. In the limit of $r_i\\rightarrow 0$, the priors return to the Wilson distribution. "
   ]
  },
  {
   "cell_type": "markdown",
   "metadata": {},
   "source": [
    "#### Centric case:\n",
    "The centric case is entirely analogous:\n",
    "$$\n",
    "P\\left(R_i \\bigr| \\mathrm{Pa}(R_i)\\right) = \\int d\\Delta\\phi_{i,\\mathrm{Pa}(i)} P\\left(R_i,\\Delta\\phi_{i,\\mathrm{Pa(i)}}\\bigr| \\mathrm{Pa}(R_i)\\right) = \\mathrm{FoldedNormal}\\left(\\nu = r_i \\mathrm{Pa}(R_i), \\sigma^2 = \\Sigma(1-r_i^2)\\right)\n",
    "$$\n",
    "and\n",
    "\n",
    "$$\n",
    "P\\left(\\{R_i: \\ i>0\\} \\bigr| R_0\\right) = \\prod_{i>0} \\mathrm{FoldedNormal}\\left(\\nu = r_i \\mathrm{Pa}(R_i), \\sigma^2 = \\Sigma(1-r_i^2)\\right)\n",
    "\\tag{2b}\n",
    "$$"
   ]
  },
  {
   "cell_type": "markdown",
   "metadata": {},
   "source": [
    "## Priors for variational inference\n",
    "Equations 2a-b specify the priors for variational inference. A specific implementation for Friedel mates is described below."
   ]
  },
  {
   "cell_type": "markdown",
   "metadata": {},
   "source": [
    "## Variational distributions / surrogate posteriors\n",
    "\n",
    "In terms of functional forms to use, the simplest thing to do is to extend the use of truncated ($TruncNorm$) or folded normal distributions to the bivariate and multivariate cases. Multivariate extensions of the folded normal are easy to implement yourself by adding all probability for the other quadrants, octants, etc. to the first one ($(\\mathbb{R}^+)^d$). \n",
    "\n",
    "However, there is one important question--what kind of covariance structure should we use? I propose that we take a page from the case where one estimates the mean $(\\mu_x,\\mu_y)$ of a bivariate normal distribution from a set of observations $x_n, n=1,...,N$ and $y_{n'}, n'=1,...,N'$ (it doesn't matter whether $N$ and $N'$ match). That is, we have a likelihood \n",
    "\n",
    "\\begin{align}\n",
    "L & = -2 \\log P\\left(\\{x_n\\},\\{y_n\\}\\big| \\mu_x, \\mu_y\\right) = \\sum_n\\left(\\frac{x_n-\\mu_x}{\\sigma_x}\\right)^2 + \\sum_{n'}\\left(\\frac{y_{n'}-\\mu_y}{\\sigma_y}\\right)^2 \\\\\n",
    "& = \\mu_x^2\\left(\\frac{N}{\\sigma_x}\\right) + \\mu_y^2\\left(\\frac{N'}{\\sigma_y}\\right) + \\ldots\n",
    "\\end{align}.  \n",
    "\n",
    "Let's say we have a normal prior on the means as well, for example:\n",
    "\n",
    "\\begin{align}\n",
    "-2 \\log P\\left(\\mu_x, \\mu_y\\right) & = (\\mu_x - \\theta_x)^2 C_{xx} + (\\mu_y - \\theta_y)^2 C_{yy} + 2 (\\mu_x - \\theta_x) (\\mu_y - \\theta_y) C_{xy} \\\\\n",
    "& = \\mu_x^2 C_{xx} + \\mu_y^2 C_{yy}+ 2 \\mu_x \\mu_y C_{xy} + \\ \\mathrm{other}\\ \\mathrm{terms}\n",
    "\\end{align}\n",
    "\n",
    "where $\\theta_x$ and $\\theta_y$ are the prior means of $\\mu_x$ and $\\mu_y$, and $C$ is the **inverse** covariance matrix of the prior on $\\mu_x$ and $\\mu_y$.\n",
    "\n",
    "We can combine the likelihood function and the prior to obtain an unnormalized posterior. We don't need to do all of the algebra to determine the posterior inverse covariance matrix. We can simply match the terms proportional to $\\mu_x^2$, $\\mu_y^2$, and $\\mu_x \\mu_y$:\n",
    "\n",
    "\n",
    "\\begin{align}\n",
    "C_{xx}^{post}  & = C_{xx}^{pre} + \\frac{N}{\\sigma_x^2} \\\\\n",
    "C_{yy}^{post}  & = C_{yy}^{pre} + \\frac{N'}{\\sigma_y^2} \\\\\n",
    "C_{xy}^{post}  & = C_{xy}^{pre} \n",
    "\\tag{3}\n",
    "\\end{align}"
   ]
  },
  {
   "cell_type": "markdown",
   "metadata": {},
   "source": [
    "The interpretation of these equations is that the prior covariance structure dominates until the likelihood-derived errors ($\\sigma_x^2/N$, $\\sigma_y^2/N'$) become small. Once they become small, they start to erase the correlation structure of the prior and replace it by uncorrelated posterior errors. The natural thing to do than is to parametrize the inverse covariance matrix of the surrogate posterior, $C_q$ as follows:\n",
    "\n",
    "$$\n",
    "C_q = C^{prior} + \\mathrm{diag}\\left(\\sigma_1^{-2}, \\sigma_2^{-2}, \\ldots\\right)\n",
    "\\tag{4a}\n",
    "$$\n",
    "\n",
    "where the $\\sigma_i^{-2}$ are variational parameters of $q\\left(\\{F_h\\}\\right)$. \n",
    "\n",
    "Although we determined priors above, we do not have an explicit equation for their covariance matrices. We can make a good approximation using some observations we made in notebook 2: the correlation among amplitudes is approximately the square of the correlation among either the real or imaginary components. That is, let $v^2$ be the variance of the Wilson distribution (0.2146 for acentric). Then a good approximate covariance matrix for the prior on a pair of structure factor amplitudes is:\n",
    "\n",
    "$$\n",
    "\\left(C^{prior}\\right)^{-1} \\approx \n",
    "v^2 \\begin{bmatrix}\n",
    "    1     & r^2 \\\\\n",
    "    r^2   & 1\n",
    "\\end{bmatrix}\n",
    "\\tag{4b}\n",
    "$$\n",
    "\n",
    "The nice thing about eq. (4) is that it does not increase the number of free parameters beyond the fully factorized $q$."
   ]
  },
  {
   "cell_type": "markdown",
   "metadata": {},
   "source": [
    "**Remark (4c)** Note to self--we can do this last bit for more complex graphs following Murphy, section 10.2.5 and taking the square of each correlation coefficient after that."
   ]
  },
  {
   "cell_type": "markdown",
   "metadata": {},
   "source": [
    "Let's run a quick check to determine if the approximation in eq. 4b is reasonable! (It is.)"
   ]
  },
  {
   "cell_type": "code",
   "execution_count": 40,
   "metadata": {},
   "outputs": [
    {
     "name": "stdout",
     "output_type": "stream",
     "text": [
      "[[0.2147 0.2098]\n",
      " [0.2098 0.2147]]\n",
      "\n",
      "[[0.2146 0.2103]\n",
      " [0.2103 0.2146]]\n"
     ]
    }
   ],
   "source": [
    "# empirical result--only makes sense for comparison if r=0\n",
    "print(np.array2string(np.cov(R2_abs, R3_abs),precision=4))\n",
    "print(\"\")\n",
    "\n",
    "# approximate expectation based on eq. 4b\n",
    "varW_acentric= rice.var(0,0,np.sqrt(0.5))\n",
    "varW_centric = foldnorm.var(0,0,1)\n",
    "\n",
    "print(np.array2string(varW_acentric*np.array([[1,rx**2],[rx**2,1]]),precision=4))"
   ]
  },
  {
   "cell_type": "markdown",
   "metadata": {},
   "source": [
    "In summary, to formulate a surrogate posterior for a bivariate problem: use a multivariate truncated or folded normal distribution with a covariance matrix specified by eqs. 4a, 4b. Remark 4c explains how to generalize that to the full problem."
   ]
  },
  {
   "cell_type": "markdown",
   "metadata": {},
   "source": [
    "## ELBO"
   ]
  },
  {
   "cell_type": "markdown",
   "metadata": {},
   "source": [
    "We will use Miller index $h$ and image number $i$. \n",
    "\n",
    "Let $t$ be an index over operations that relate the different sets of structure factor amplitudes For example, for Friedel mates the identity and inversion operators, such that $F_{h,t=1} = F_h^+$ and $F_{h,t=2} = F_{h}^-$. More generally, $t$ can be any mapping, whether it is time, on/off, or a symmetry operation, or any combination of those.\n",
    "\n",
    "Following eq. 1 of the bioRxiv preprint, skipping to the sampling step with samples drawn from the surrogate posterior, we have: \n",
    "\n",
    "$$\\large\n",
    "ELBO = \\sum_{h,i} \\sum_j \\sum_t \\log L\\big(I_{h,i,t} \\big| F^2_{h,j,t}\\Sigma_{h,i,t,j}, \\sigma_{I_{h,i,t}} \\big) - \n",
    "\\sum_{h} \\sum_j \\log\\big(q_h(\\{F_{h,j,t}\\})\\big) - \\log\\big(P(\\{F_{h,j,t}\\})\\big)\n",
    "\\tag{5}\n",
    "$$\n",
    "\n",
    "Note that $\\Sigma$ depends on $j$ because we're also sampling from the distribution of the scale function specified by the location and scale parameters estimated by the neural network.\n",
    "\n",
    "As we've seen above, $P(\\{F_{h,j,t}\\})$ will generally be a product of Rice distributions (acentric) or product of Folded Normals (centric), for which for each $h, i$ we will need to draw samples with the same size as $t$. $q(\\{F_{h,j,t}\\})$ will likewise be a multivariate distribution, but we can choose its functional form as described in the preceding section."
   ]
  },
  {
   "cell_type": "markdown",
   "metadata": {},
   "source": [
    "## Application to Friedel pairs without a reference\n",
    "The simplest approach to anomalous data is to use the following PGM:\n",
    "\n",
    "<img src=\"img/friedel_1.png\" alt=\"drawing\" width=\"200\"/>\n",
    "\n",
    "where $r$ indicates the expected correlation coefficient among real or imaginary components of the $F_h$ and $F_{-h}$ structure factors."
   ]
  },
  {
   "cell_type": "markdown",
   "metadata": {},
   "source": [
    "If we apply eq. 3 in this case, $h$ will run over the reflections in the hemisphere with $h>0\\mathrm{, any }\\ k, l$.\n",
    "\n",
    "$t\\in \\{\\mathrm{Id}, \\mathrm{Inv}\\}$ will map those indices to themselves ($t=1$, $\\mathrm{Id}$ the identity operator) and to their Friedel mate ($t=2$, $\\mathrm{Inv}$ the inversion operator). That is, $F_{h,t=1} = F_h^+$ and $F_{h,t=2} = F_{-h}=F_h^-$."
   ]
  },
  {
   "cell_type": "markdown",
   "metadata": {},
   "source": [
    "#### Prior\n",
    "In this case, for $h>0$ and acentric:\n",
    "\n",
    "$$\n",
    "P(\\{F_{h,j}^+, F_{h,j}^-\\})=Rice\\left(F_{h, j}^-  \\ \\Bigg|\\  \\nu = r \\cdot F_{h, j}^+, \\sigma^2 = \\frac{\\Sigma^{prior}_{h}}{2}(1-r^2)\\right) \\cdot\n",
    "               Wilson\\left(F_{h, j}^+ \\ \\Bigg| \\ \\Sigma^{prior}_{h}\\right)\n",
    "$$\n",
    "\n",
    "where, if we want to estimate normalized structure factor amplitudes, $\\Sigma^{prior}_h=1$."
   ]
  },
  {
   "cell_type": "markdown",
   "metadata": {},
   "source": [
    "#### ELBO\n",
    "$$\\large\n",
    "ELBO = \\sum_{h\\geq 0,i} \\sum_j \\sum_t \\log L\\big(I_{h,i,t} \\big| F^2_{h,j,t}\\Sigma_{h,i,t,j}, \\sigma_{I_{h,i,t}} \\big) - \n",
    "\\sum_{h} \\sum_j \\log\\big(q_h(\\{F_{h,j,t}\\})\\big) - \\log\\big(P(\\{F_{h,j,t}\\})\\big)\n",
    "$$\n",
    "\n",
    "with $\\{F_{h,j,t}\\} = \\{F_{h,j}^+, F_{h,j}^-\\}$."
   ]
  },
  {
   "cell_type": "markdown",
   "metadata": {},
   "source": [
    "#### Surrogate distribution\n",
    "See eqs. 4a, b."
   ]
  },
  {
   "cell_type": "markdown",
   "metadata": {},
   "source": [
    "## Application to Friedel pairs _with_ a reference\n",
    "#### Approach 2\n",
    "Let's say a good data set is available in which anomalous data were previously merged. That is, we have the following PGM:\n",
    "\n",
    "<img src=\"img/friedel_2.png\" alt=\"drawing\" width=\"250\"/>\n",
    "\n",
    "where $r$ indicates the expected correlation coefficient among real or imaginary components of the $F_h^+$ and $F_{h}^-$ structure factors."
   ]
  },
  {
   "cell_type": "markdown",
   "metadata": {},
   "source": [
    "In this case, the prior becomes: \n",
    "\n",
    "$$\n",
    "P\\left(\\left\\{F_{h,j}^+, F_{h,j}^-\\right\\}\\right)=\n",
    "    Rice\\left(F_{h, j}^-  \\ \\Bigg|\\  \\nu = r_x \\cdot F_{h, j}^+, \\sigma^2 = \\frac{\\Sigma^{prior}_{h}}{2}(1-r_x^2)\\right) \\cdot\n",
    "    Rice\\left(F_{h, j}^+  \\ \\Bigg|\\  \\nu = r \\cdot F_{h}^{ref}, \\sigma^2 = \\frac{\\Sigma^{prior}_{h}}{2}(1-r^2)\\right)\n",
    "$$\n",
    "\n",
    "Recall that $\\Sigma^{prior}_{h}=1$ for normalized structure factor amplitudes."
   ]
  },
  {
   "cell_type": "markdown",
   "metadata": {},
   "source": [
    "#### Approach 3\n",
    "We could also make the following modeling choice: \n",
    "\n",
    "<img src=\"img/friedel_3.png\" alt=\"drawing\" width=\"180\"/>"
   ]
  },
  {
   "cell_type": "markdown",
   "metadata": {},
   "source": [
    "In this case, the prior becomes: \n",
    "\n",
    "$$\n",
    "P\\left(\\left\\{F_{h,j}^+, F_{h,j}^-\\right\\}\\right)=\n",
    "    Rice\\left(F_{h, j}^-  \\ \\Bigg|\\  \\nu = r \\cdot F_{h}^{ref}, \\sigma^2 = \\frac{\\Sigma^{prior}_{h}}{2}(1-r^2)\\right) \\cdot\n",
    "    Rice\\left(F_{h, j}^+  \\ \\Bigg|\\  \\nu = r \\cdot F_{h}^{ref}, \\sigma^2 = \\frac{\\Sigma^{prior}_{h}}{2}(1-r^2)\\right)\n",
    "$$\n",
    "\n",
    "Recall that $\\Sigma^{prior}_{h}=1$ for normalized structure factor amplitudes."
   ]
  },
  {
   "cell_type": "markdown",
   "metadata": {},
   "source": [
    "In either case, there is no need to change the surrogate distribution, except to keep up with changes in expected correlation (in the second case, using $r_x$ rather than $r$; in the third case using $r^2$ rather than $r$ in eq. 4b)."
   ]
  }
 ],
 "metadata": {
  "kernelspec": {
   "display_name": "Python [conda env:.conda-crystallography] *",
   "language": "python",
   "name": "conda-env-.conda-crystallography-py"
  },
  "language_info": {
   "codemirror_mode": {
    "name": "ipython",
    "version": 3
   },
   "file_extension": ".py",
   "mimetype": "text/x-python",
   "name": "python",
   "nbconvert_exporter": "python",
   "pygments_lexer": "ipython3",
   "version": "3.8.8"
  },
  "toc": {
   "base_numbering": 1,
   "nav_menu": {},
   "number_sections": true,
   "sideBar": true,
   "skip_h1_title": false,
   "title_cell": "Table of Contents",
   "title_sidebar": "Contents",
   "toc_cell": false,
   "toc_position": {
    "height": "calc(100% - 180px)",
    "left": "10px",
    "top": "150px",
    "width": "335.994px"
   },
   "toc_section_display": true,
   "toc_window_display": true
  }
 },
 "nbformat": 4,
 "nbformat_minor": 4
}
