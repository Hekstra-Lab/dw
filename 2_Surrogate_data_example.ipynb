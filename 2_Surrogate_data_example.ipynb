{
 "cells": [
  {
   "cell_type": "markdown",
   "metadata": {},
   "source": [
    "# Illustrating the Double-Wilson model using surrogate data"
   ]
  },
  {
   "cell_type": "markdown",
   "metadata": {},
   "source": [
    "The structure factors of related structures are likely to be correlated. We should be able to exploit this correlation during scaling and merging by constraining the optimization more strongly than by the requirement that structure factors following a Wilson distribution. \n",
    "\n",
    "The Wilson distribution derives from a model where each structure factor derives from a 1D (centric) or 2D (acentric) random walk on the real axis (centric) or the complex plane (acentric). The amplitudes thereof follow the Wilson distributions. A natural extension would be for the corresponding structure factors of two data sets to perform correlated random walks, resulting in a joint multivariate normal distribution of the real and complex components of the (complex) structure factors of the two data sets. The resulting conditional distributions for structure factor amplitudes are the Woolfson or Folded-normal (centric) and Rice (acentric) distributions as described by Rupp Ch 7.\n",
    "\n",
    "A key point revealed by the analysis is that the parameter $r_{DW}$ used in the Double-Wilson model is a function of resolution and seems to be well described by the Luzzati model on p. 903 in Read (1990), \"Structure-Factor Probabilities for Related Structures\". \n",
    "\n",
    "**PS**: Although Read's paper is focused on correlations between Fc's rather than Fobs's, its entire analytical apparatus carries over to our case with:\n",
    "\n",
    "- $r_{DW} = \\textbf{D}$ (or $\\sigma_E$ in eqs. 28-30).\n",
    "- his $\\textbf{s}$ equal to the reciprocal lattice point vector which I calculate below as (rs_a, rs_b, rs_c).\n",
    "- his $\\sigma^2_{\\Delta}$ related to our conditional variance $\\frac{1}{2}(1-r_{DW}^2)$.\n",
    "\n",
    "**Notation**\n",
    "- we will use $hkl$ and ```HKL```\n",
    "- we will denote reciprocal lattice point coordinates as ```(rs_a,rs_b,rs_c)``` and $r*$, with magnitude $1/d_{hkl}$ or ```dHKL```. The scattering vector $s=S_1-S_0$ equals $r*$ in our case (elastic scattering)."
   ]
  },
  {
   "cell_type": "code",
   "execution_count": 1,
   "metadata": {},
   "outputs": [],
   "source": [
    "%matplotlib inline\n",
    "import matplotlib.pyplot as plt\n",
    "import numpy   as np\n",
    "import pandas  as pd\n",
    "from tqdm      import tqdm\n",
    "plt.rcParams.update({'font.size': 14})"
   ]
  },
  {
   "cell_type": "code",
   "execution_count": 2,
   "metadata": {},
   "outputs": [],
   "source": [
    "import reciprocalspaceship as rs\n",
    "import gemmi\n",
    "from dw_tools       import modify_ds, wilson, plots, fitting_dw\n",
    "from scipy.optimize import least_squares\n",
    "from scipy.stats    import rice, foldnorm, vonmises, linregress, pearsonr"
   ]
  },
  {
   "cell_type": "code",
   "execution_count": 3,
   "metadata": {},
   "outputs": [
    {
     "data": {
      "text/plain": [
       "'0.9.9'"
      ]
     },
     "execution_count": 3,
     "metadata": {},
     "output_type": "execute_result"
    }
   ],
   "source": [
    "#%autosave 300\n",
    "#%load_ext autoreload\n",
    "#%autoreload 2\n",
    "rs.__version__"
   ]
  },
  {
   "cell_type": "markdown",
   "metadata": {},
   "source": [
    "## Mapping from double-wilson $r$ to Pearson corr for $|E|$\n",
    "We start by making sure we understand the mapping between the parameter $r$ in the Double-Wilson distribution and the actual correlation coefficient between pairs of structure factor amplitudes. To do so, we will analyze samples drawn from the double-wilson distribution described by different values of $r_{DW}$."
   ]
  },
  {
   "cell_type": "code",
   "execution_count": null,
   "metadata": {
    "scrolled": true
   },
   "outputs": [
    {
     "name": "stderr",
     "output_type": "stream",
     "text": [
      " 65%|████████████████████████████████████████████████████████████████████████████████████████████████████████████████████████████████▋                                                                     | 13/20 [01:48<00:57,  8.27s/it]"
     ]
    }
   ],
   "source": [
    "nsamples= 50000000\n",
    "nbin_r  = 20                        # number of values of r_DW to use\n",
    "r       = np.linspace(0,1,nbin_r)   # r_DW; correlation between random walks \n",
    "mean    = [0,0,0,0]                 # mean of random walks\n",
    "\n",
    "corr_r_ac = np.zeros([nbin_r,1])    # correlation between |F_1| and |F_2| samples from DW (acentric)\n",
    "for i in tqdm(range(nbin_r)):\n",
    "    cov     = 0.5*np.asarray([[1,0,r[i],0],[0,1,0,r[i]],[r[i],0,1,0],[0,r[i],0,1]])\n",
    "    E_1x_1y_2x_2y = np.random.multivariate_normal(mean=mean, cov=cov,size=nsamples)\n",
    "    # fake data set (acentric)\n",
    "    ep1_test = np.sqrt(E_1x_1y_2x_2y[:,0]**2 +E_1x_1y_2x_2y[:,1]**2 )\n",
    "    ep2_test = np.sqrt(E_1x_1y_2x_2y[:,2]**2 +E_1x_1y_2x_2y[:,3]**2 )\n",
    "    corr_r_ac[i] = pearsonr(ep1_test, ep2_test)[0]\n",
    "\n",
    "print(\"variance of sf acentric amplitudes from the DW distribution:\" + \\\n",
    "     str(np.var(np.concatenate((ep1_test,ep2_test)))))\n",
    "    \n",
    "corr_r_c = np.zeros([nbin_r,1])\n",
    "for i in tqdm(range(nbin_r)):\n",
    "    cov     = 0.5*np.asarray([[1,0,r[i],0],[0,1,0,r[i]],[r[i],0,1,0],[0,r[i],0,1]])\n",
    "    E_1x_1y_2x_2y = np.random.multivariate_normal(mean=mean, cov=cov,size=nsamples)\n",
    "    # fake data set (centric)\n",
    "    ep1_test = np.sqrt(E_1x_1y_2x_2y[:,0]**2 +E_1x_1y_2x_2y[:,0]**2 )\n",
    "    ep2_test = np.sqrt(E_1x_1y_2x_2y[:,2]**2 +E_1x_1y_2x_2y[:,2]**2 )\n",
    "    corr_r_c[i] = pearsonr(ep1_test, ep2_test)[0]\n",
    "\n",
    "print(\"variance of sf acentric amplitudes from the DW distribution:\" + \\\n",
    "     str(np.var(np.concatenate((ep1_test,ep2_test)))))\n",
    "print(\"Done!\")"
   ]
  },
  {
   "cell_type": "code",
   "execution_count": null,
   "metadata": {},
   "outputs": [],
   "source": [
    "rp = 0.8\n",
    "cov= np.asarray([[1,0,rp,0],[0,1,0,rp],[rp,0,1,0],[0,rp,0,1]])\n",
    "# ans=np.linalg.eig(cov)\n",
    "# print(ans[1])\n",
    "# print(np.array2string(ans[1]))\n",
    "# print(np.array2string(ans[1]@np.transpose(ans[1])))\n",
    "print(np.array2string(np.linalg.inv(cov)))\n",
    "# print(1/(1-rp**2))"
   ]
  },
  {
   "cell_type": "markdown",
   "metadata": {},
   "source": [
    "The inverse of \n",
    "\n",
    "$$\n",
    "C = \n",
    "\\begin{bmatrix}\n",
    "1 & 0 & r & 0        \\\\\n",
    "0 & 1 & 0 & r        \\\\\n",
    "r & 0 & 1 & 0        \\\\\n",
    "0 & r & 0 & 1 \n",
    "\\end{bmatrix}\n",
    "$$\n",
    "is\n",
    "$$\n",
    "C^{-1} = \\frac{1}{1-r^2}\n",
    "\\begin{bmatrix}\n",
    "1  & 0  & -r & 0        \\\\\n",
    "0  & 1  & 0  & -r       \\\\\n",
    "-r & 0  & 1  & 0        \\\\\n",
    "0  & -r & 0  & 1 \n",
    "\\end{bmatrix}\n",
    "$$"
   ]
  },
  {
   "cell_type": "code",
   "execution_count": null,
   "metadata": {},
   "outputs": [],
   "source": [
    "# plt.plot(E_1x_1y_2x_2y[:5000,0],E_1x_1y_2x_2y[:5000,1],'o',alpha=0.1)\n",
    "# plt.grid()\n",
    "# plt.xlim([-3,3]); plt.ylim([-3,3])\n",
    "# plt.axis ('equal')\n",
    "# plt.show()\n",
    "\n",
    "# plt.figure(figsize=(4,8))\n",
    "plt.hist(ep1_test,density=True,bins=100)\n",
    "plt.show()"
   ]
  },
  {
   "cell_type": "markdown",
   "metadata": {},
   "source": [
    "It is not _a priori_ obvious what the relationship between the parameter $r$ above and the correlation coefficient of the sf amplitudes should be. Below we'll see that $\\rho(|F_1|,|F_2|)\\approx r^2$. In the next two cells we look more carefully."
   ]
  },
  {
   "cell_type": "code",
   "execution_count": null,
   "metadata": {},
   "outputs": [],
   "source": [
    "from scipy.linalg import lstsq\n",
    "M = r[:,np.newaxis]**[2,4,6,8]\n",
    "beta_ac, res, rnk, s = lstsq(M,corr_r_ac)\n",
    "beta_c,  res, rnk, s = lstsq(M,corr_r_c )\n",
    "\n",
    "def r_dw_to_r_E(r,beta):\n",
    "    X=np.array([r**2,r**4,r**6,r**8]).transpose()\n",
    "    return np.dot(X,beta)\n",
    "\n",
    "# despite this function, we'll use the square root as our proxy as it is trivial to invert.\n",
    "# the coefficients of the least-square fit are quite variable, even with 500,000 samples.\n",
    "\n",
    "print(beta_ac.transpose())\n",
    "print(beta_c.transpose())"
   ]
  },
  {
   "cell_type": "code",
   "execution_count": null,
   "metadata": {
    "code_folding": [
     1
    ]
   },
   "outputs": [],
   "source": [
    "bPlot=True\n",
    "if bPlot:\n",
    "    plt.figure(figsize=(14,5))\n",
    "    plt.subplot(1,2,1)                       # Empirical and least-squares-fit mapping from r to pearson(E1,E2)\n",
    "    plt.plot(r,corr_r_ac,'bo-')              # ACENTRIC\n",
    "    plt.plot(r,r_dw_to_r_E(r,beta_ac),'k-')\n",
    "    plt.plot(r,r**2,'r--')\n",
    "    plt.legend([\"observed\",\"LSQ fit\",\"simple r^2\"])\n",
    "    plt.xlabel(\"DW parameter $r$\")\n",
    "    plt.ylabel(\"Pearson $r$(E1,E2; acentric)\")\n",
    "    plt.title(\"Acentric\")\n",
    "    plt.grid()\n",
    "\n",
    "    plt.subplot(1,2,2)                      # CENTRIC\n",
    "    plt.plot(r,corr_r_c,'bo-')\n",
    "    plt.plot(r,r_dw_to_r_E(r,beta_c),'k-')\n",
    "    plt.plot(r,r**2,'r--')\n",
    "    plt.legend([\"observed\",\"LSQ fit\",\"simple r^2\"])\n",
    "    plt.xlabel(\"DW parameter $r$\")\n",
    "    plt.ylabel(\"Pearson $r$(E1,E2; centric)\")\n",
    "    plt.title(\"Centric\")\n",
    "    plt.grid()\n",
    "    plt.show()\n",
    "\n",
    "    # now the inverse\n",
    "    plt.figure(figsize=(14,5))\n",
    "    plt.subplot(1,2,1)                       # Empirical and least-squares-fit mapping from r to pearson(E1,E2)\n",
    "    plt.plot(corr_r_ac,r,'bo-')              # ACENTRIC\n",
    "    plt.plot(corr_r_ac, np.sqrt(corr_r_ac+0.15*(corr_r_ac**2-corr_r_ac**3)),'k-')\n",
    "    plt.plot(corr_r_ac, np.sqrt(corr_r_ac),'r--')\n",
    "    plt.legend([\"observed\",\"manual fit\",\"simple sqrt\"])\n",
    "    plt.ylabel(\"DW parameter $r$\")\n",
    "    plt.xlabel(\"Pearson $r$(E1,E2; acentric)\")\n",
    "    plt.grid()\n",
    "\n",
    "    plt.subplot(1,2,2)                       # CENTRIC\n",
    "    plt.plot(corr_r_c,r,'bo-')\n",
    "    plt.plot(corr_r_c, np.sqrt(corr_r_c+0.3*(corr_r_c**2-corr_r_c**3)),'k-')\n",
    "    plt.plot(corr_r_c, np.sqrt(corr_r_c),'r--')\n",
    "    plt.legend([\"observed\",\"manual fit\",\"simple sqrt\"])\n",
    "    plt.ylabel(\"DW parameter $r$\")\n",
    "    plt.xlabel(\"Pearson $r$(E1,E2; centric)\")\n",
    "    plt.grid()\n",
    "    plt.show()"
   ]
  },
  {
   "cell_type": "markdown",
   "metadata": {},
   "source": [
    "In good approximation, when a pair of normalized structure factors is drawn from an acentric double-wilson distribution, they have a correlation coefficient $r^2_{DW}$, with $r_{DW}$ parametrizing the DW distribution. This approximation is slightly worse for centric reflections."
   ]
  },
  {
   "cell_type": "markdown",
   "metadata": {},
   "source": [
    "## Generate and inspect fake Acentric data"
   ]
  },
  {
   "cell_type": "code",
   "execution_count": null,
   "metadata": {
    "scrolled": true
   },
   "outputs": [],
   "source": [
    "nsamples= 1000000\n",
    "nbin    = 25\n",
    "x       = np.linspace(0,5,100) # x-coordinates for plots\n",
    "r_fake  = 0.95                 # correlation between random walks \n",
    "r       = r_fake\n",
    "mean    = [0,0,0,0]            # mean of random walks\n",
    "cov     = 0.5*np.asarray([[1,0,r,0],[0,1,0,r],[r,0,1,0],[0,r,0,1]])\n",
    "\n",
    "E_1x_1y_2x_2y = np.random.multivariate_normal(mean=mean, cov=cov,size=nsamples)\n",
    "\n",
    "# fake data set (acentric)\n",
    "ds_test =         pd.DataFrame(np.sqrt(E_1x_1y_2x_2y[:,0]**2 +E_1x_1y_2x_2y[:,1]**2 ), columns = [\"EP_1\"])\n",
    "ds_test[\"EP_2\"] = pd.DataFrame(np.sqrt(E_1x_1y_2x_2y[:,2]**2 +E_1x_1y_2x_2y[:,3]**2 ))\n",
    "\n",
    "# graphical inspection\n",
    "plt.figure(figsize=(6,4))\n",
    "plt.hist(ds_test[\"EP_1\"].to_numpy(),100,density=True)\n",
    "plt.plot(x, wilson.wilson_dist_normalized(x, centric=False),'r-')\n",
    "plt.plot(x, rice.pdf(x,0,scale=np.sqrt(0.5)),'m--')\n",
    "plt.legend([\"Acentric Wilson\", r\"Rice($\\nu=0$,$\\sigma^2=\\frac{1}{2}$) \", \"Fake observed E (acentric)\"])\n",
    "plt.xlabel(\"Normalized structure factor amplitude\")\n",
    "plt.ylabel(\"Density\")\n",
    "plt.show()\n",
    "\n",
    "plt.title(\"Correlated between acentric amplitudes\")\n",
    "plt.scatter(np.sqrt(E_1x_1y_2x_2y[:3500,0]**2 +E_1x_1y_2x_2y[:3500,1]**2 ),\\\n",
    "            np.sqrt(E_1x_1y_2x_2y[:3500,2]**2 +E_1x_1y_2x_2y[:3500,3]**2 ),alpha=0.05)\n",
    "# ax.axis ('equal')\n",
    "plt.ylim((0,3.5)); plt.xlim([0,3.5]);\n",
    "plt.xlabel(r\"Simulated $F_1$\")\n",
    "plt.ylabel(r\"Simulated $F_2$\")\n",
    "plt.show()"
   ]
  },
  {
   "cell_type": "code",
   "execution_count": null,
   "metadata": {},
   "outputs": [],
   "source": [
    "xy_max = 3.5\n",
    "nx=100\n",
    "ny=100\n",
    "(xmax,ymax) = (xy_max,xy_max)\n",
    "xedges = np.linspace(0,xmax,nx+1)\n",
    "yedges = np.linspace(0,ymax,ny+1)\n",
    "Hx_emp, xedges, yedges = np.histogram2d(ds_test[\"EP_1\"], ds_test[\"EP_2\"], bins=(xedges, yedges),density=True)\n",
    "\n",
    "plt.figure(figsize=(6,5))                         \n",
    "plt.imshow(Hx_emp, interpolation='none', extent=[0,xmax,0,ymax],origin='lower')\n",
    "plt.xlabel(r\"x=$\\sqrt{E_{1x}^2+E_{1y}^2}$\"); plt.ylabel(r\"y=$\\sqrt{E_{2x}^2+E_{2y}^2}$\")\n",
    "plt.colorbar(); "
   ]
  },
  {
   "cell_type": "markdown",
   "metadata": {},
   "source": [
    "## Generate and inspect fake Centric data"
   ]
  },
  {
   "cell_type": "code",
   "execution_count": null,
   "metadata": {},
   "outputs": [],
   "source": [
    "# fake data set (centric)\n",
    "# mind the sqrt(2)! we normalize, in effect, by the rms acentric amplitude\n",
    "ds_test_cent = pd.DataFrame(        np.sqrt(2*E_1x_1y_2x_2y[:,0]**2), columns = [\"EP_1\"])\n",
    "ds_test_cent[\"EP_2\"] = pd.DataFrame(np.sqrt(2*E_1x_1y_2x_2y[:,2]**2))\n",
    "\n",
    "print(ds_test_cent.mean())\n",
    "# graphical inspection\n",
    "plt.figure()\n",
    "plt.hist(ds_test_cent[\"EP_2\"].to_numpy(),100,density=True)\n",
    "plt.plot(x, wilson.wilson_dist_normalized(x, centric=True),'r-')\n",
    "plt.legend([\"Centric Wilson\", \"Fake observed E (centric)\"])\n",
    "plt.xlabel(\"Normalized structure factor amplitude\")\n",
    "plt.ylabel(\"Density\")\n",
    "plt.show()"
   ]
  },
  {
   "cell_type": "markdown",
   "metadata": {},
   "source": [
    "## Conditional distribution for Acentrics. "
   ]
  },
  {
   "cell_type": "markdown",
   "metadata": {},
   "source": [
    "### Step 1: means per bin for $|E_1|$."
   ]
  },
  {
   "cell_type": "code",
   "execution_count": null,
   "metadata": {},
   "outputs": [],
   "source": [
    "cdf_bins = np.linspace(0,100,nbin+1)\n",
    "ep1_bins = np.percentile(ds_test[\"EP_1\"], cdf_bins)\n",
    "ep1_bins[-1] = ep1_bins[-1]+1e-6 # to avoid omitting the largest data point\n",
    "ep1_dig  = np.digitize(ds_test[\"EP_1\"], ep1_bins)\n",
    "ds_test[\"EP_1_bin\"] = ep1_dig.flatten()\n",
    "\n",
    "unique, counts = np.unique(ds_test[\"EP_1_bin\"], return_counts=True)\n",
    "temp = dict(zip(unique, counts))\n",
    "print(\"Number of reflections per bin:\")\n",
    "print(temp)\n",
    "\n",
    "bin_means=ds_test.groupby(\"EP_1_bin\")[\"EP_1\"].mean()\n",
    "plt.plot(bin_means,'bo-')\n",
    "plt.xlabel(\"Bin index\")\n",
    "plt.ylabel(\"Mean |E1| for bin\")\n",
    "plt.grid(True)\n",
    "plt.ylim(0,)\n",
    "plt.show()"
   ]
  },
  {
   "cell_type": "markdown",
   "metadata": {},
   "source": [
    "### Step 2: histograms of $|E_2|$ per bin of $|E_1|$.\n",
    "The calculations of the parameters for the Rice distribution are not very intuitive. \n",
    "\n",
    "The conditional mean     $\\mathbb{E}\\left(E_2 | E_1\\right) = r_{DW} E_1$ (for both centric and acentric; true for amplitudes and complex structure factors).\n",
    "\n",
    "The conditional variance $\\textrm{Var}\\left(|E_2| | |E_1| \\right) = \\frac{1}{2}\\left(1-r_{DW}^2\\right)$ (acentric)\n",
    "or                                                                           $\\left(1-r_{DW}^2\\right)$ (centric),\n",
    "where the twice-as-large conditional variance for centrics is inherent in how they are calculated."
   ]
  },
  {
   "cell_type": "code",
   "execution_count": null,
   "metadata": {},
   "outputs": [],
   "source": [
    "plt.figure(figsize=(15,15)) \n",
    "x=np.linspace(0,3,100)\n",
    "counter = 0\n",
    "for i in range(1,nbin+1):\n",
    "    plt.subplot(5,5,i)\n",
    "    r1 = r_fake*bin_means[i]     # conditional exp value\n",
    "    cond_var = 0.5*(1-r_fake**2) # conditional var for acentrics\n",
    "\n",
    "    plt.hist(ds_test.loc[ds_test[\"EP_1_bin\"]==i,\"EP_2\"],np.linspace(0,5,50),density=True)\n",
    "    plt.plot(x, rice.pdf(x, r1/np.sqrt(cond_var),scale=np.sqrt(cond_var)),'r-')\n",
    "    yl=plt.ylim()\n",
    "    xl=[0,3] \n",
    "    plt.text(1.5,0.85*yl[1],f\"<E1> = {bin_means[i]:.2f}\",size=10)\n",
    "    plt.xlim(xl)\n",
    " \n",
    "plt.subplot(5,5,3)\n",
    "plt.title(\"Conditional histograms (acentric, fake data)\")\n",
    "plt.show()"
   ]
  },
  {
   "cell_type": "markdown",
   "metadata": {},
   "source": [
    "#### Illustrating how the Rice distribution interpolates between the reference and the Wilson disitrbution\n",
    "A more detailed closeup of a few of them. \n",
    "- **Black**: the average reference value in a bin; \n",
    "- Blue:  the unconditional mean (i.e. the Wilson mean); \n",
    "- Red:   the conditional mean"
   ]
  },
  {
   "cell_type": "code",
   "execution_count": null,
   "metadata": {},
   "outputs": [],
   "source": [
    "plt.figure(figsize=(16,4))\n",
    "x=np.linspace(0,3,100)\n",
    "counter = 0\n",
    "for i in [1, 13, 24]:\n",
    "    counter += 1             # for illustration purposes.\n",
    "    plt.subplot(1,3,counter) # for illustration purposes.\n",
    "    r1 = r_fake*bin_means[i]     # conditional exp value\n",
    "    cond_var = 0.5*(1-r_fake**2) # conditional var for acentrics\n",
    "    \n",
    "    plt.hist(ds_test.loc[ds_test[\"EP_1_bin\"]==i,\"EP_2\"],np.linspace(0,5,50),density=True)\n",
    "    plt.plot(x, rice.pdf(x, r1/np.sqrt(cond_var),scale=np.sqrt(cond_var)),'r-')\n",
    "    yl=plt.ylim()\n",
    "\n",
    "#    to illustrate the idea of Rice interpolating between Wilson and delta function:\n",
    "    plt.plot(bin_means[i]*np.asarray([1, 1]),yl,'k-')\n",
    "    plt.plot(rice.mean(0,scale=1/np.sqrt(2))*np.asarray([1,1]),yl,'b-')\n",
    "    plt.plot(rice.mean(r1/np.sqrt(cond_var),scale=np.sqrt(cond_var))*np.asarray([1,1]),yl,'r:')\n",
    "    xl=[0,3] #plt.xlim()\n",
    "    plt.text(2.1,0.9*yl[1],f\"<E1> = {bin_means[i]:.2f}\",size=10)\n",
    "    plt.xlim(xl)\n",
    "    if counter == 2:\n",
    "        plt.title(\"Conditional histograms (acentric, fake data)\")\n",
    " \n",
    "plt.show()\n",
    "# Basic check:\n",
    "#    plt.plot(np.sqrt((1-rho**2)+rho**2 * bin_means[i]**2), np.sqrt(np.mean(ds_test[\"EP_2\"][ds_test[\"EP_1_bin\"]==i]**2)), 'bo')"
   ]
  },
  {
   "cell_type": "markdown",
   "metadata": {},
   "source": [
    "## Conditional distribution for Centrics. \n",
    "### Step 1: means per bin for $|E_1|$."
   ]
  },
  {
   "cell_type": "code",
   "execution_count": null,
   "metadata": {},
   "outputs": [],
   "source": [
    "cdf_cent_bins     = np.linspace(0,100,nbin+1)\n",
    "ep1_cent_bins     = np.percentile(ds_test_cent[\"EP_1\"], cdf_cent_bins)\n",
    "ep1_cent_bins[-1] = ep1_cent_bins[-1]+1e-6 # to avoid omitting the largest data point\n",
    "ep1_cent_dig  = np.digitize(ds_test_cent[\"EP_1\"], ep1_cent_bins)\n",
    "ds_test_cent[\"EP_1_bin\"] = ep1_cent_dig.flatten()\n",
    "\n",
    "unique, counts = np.unique(ds_test_cent[\"EP_1_bin\"], return_counts=True)\n",
    "temp = dict(zip(unique, counts))\n",
    "print(\"Number of reflections per bin:\")\n",
    "print(temp)\n",
    "\n",
    "bin_means_cent=ds_test_cent.groupby(\"EP_1_bin\")[\"EP_1\"].mean()\n",
    "plt.plot(bin_means_cent,'bo-')\n",
    "plt.xlabel(\"Bin index\")\n",
    "plt.ylabel(\"Mean |E1| for bin\")\n",
    "plt.title(\"Centric\")\n",
    "plt.show()"
   ]
  },
  {
   "cell_type": "markdown",
   "metadata": {},
   "source": [
    "### Step 2: histograms of $|E_2|$ per bin of $|E_1|$."
   ]
  },
  {
   "cell_type": "code",
   "execution_count": null,
   "metadata": {},
   "outputs": [],
   "source": [
    "plt.figure(figsize=(15,15))\n",
    "x=np.linspace(0,3,100)\n",
    "for i in range(1,nbin+1):\n",
    "    plt.subplot(5,5,i)\n",
    "    r1 = r_fake*bin_means_cent[i] # conditional exp value\n",
    "    cond_var = (1-r_fake**2)      # no 0.5* for centrics!\n",
    "    plt.hist(ds_test_cent[\"EP_2\"][ds_test_cent[\"EP_1_bin\"]==i],np.linspace(0,5,50),density=True)\n",
    "    plt.plot(x, foldnorm.pdf(x, r1/np.sqrt(cond_var),scale=np.sqrt(cond_var)),'r-')\n",
    "    xl=[0,3] #plt.xlim()\n",
    "    plt.xlim(xl)\n",
    "\n",
    "plt.subplot(5,5,3)\n",
    "plt.title(\"Conditional histograms (Centric, fake data)\")\n",
    "plt.show()"
   ]
  },
  {
   "cell_type": "markdown",
   "metadata": {},
   "source": [
    "## Read in reference data\n",
    "We'll use these to set some of the parameters of the surrogate data"
   ]
  },
  {
   "cell_type": "code",
   "execution_count": 135,
   "metadata": {},
   "outputs": [],
   "source": [
    "path=\"double_wilson_data/\"    # Unix\n",
    "data_set_pairs = [(\"5kvx_phases\", \"5kw3_phases\"),\\\n",
    "                  (\"5e1y_phases\", \"2vwr_phases\"),\\\n",
    "                  (\"3pyp_phases\", \"1nwz_phases\"),\\\n",
    "                  (\"1otb_phases\", \"1nwz_phases\"),\\\n",
    "                  (\"e35cdef_OFF200ns_HD_2sig_varEll\",\"e35cdef_200ns_HD_2sig_varEll\")]\n",
    "# example 1 fails on kNN regression\n",
    "example=2\n",
    "mtz1 = data_set_pairs[example][0] # omit .mtz\n",
    "mtz2 = data_set_pairs[example][1]\n",
    "ds1 = rs.read_mtz(path + mtz1 + \"_scaled.mtz\")\n",
    "ds2 = rs.read_mtz(path + mtz2 + \"_scaled.mtz\")"
   ]
  },
  {
   "cell_type": "code",
   "execution_count": 136,
   "metadata": {},
   "outputs": [],
   "source": [
    "ds1_2= ds1.merge(ds2, left_index=True, right_index=True, suffixes=(\"_1\", \"_2\"))\n",
    "ds1_2.label_centrics(inplace=True)\n",
    "if True:\n",
    "    modify_ds.ds_high_res_cut(ds1_2, rescut=1.2, inplace=True)\n",
    "\n",
    "EP1_label = \"EP_1_aniso_2_1\"\n",
    "EP2_label = \"EP_1_aniso_2_2\"\n",
    "dHKL_label= \"dHKL_1\""
   ]
  },
  {
   "cell_type": "markdown",
   "metadata": {},
   "source": [
    "Let's take a look at the histograms. There are some systematic deviations."
   ]
  },
  {
   "cell_type": "code",
   "execution_count": 137,
   "metadata": {
    "code_folding": [
     1
    ]
   },
   "outputs": [
    {
     "data": {
      "image/png": "[encoded data removed]",
      "text/plain": [
       "<Figure size 864x288 with 2 Axes>"
      ]
     },
     "metadata": {
      "needs_background": "light"
     },
     "output_type": "display_data"
    },
    {
     "name": "stdout",
     "output_type": "stream",
     "text": [
      "1.0553881\n",
      "1.061106\n",
      "0.9974287\n",
      "0.9916619\n"
     ]
    }
   ],
   "source": [
    "bPlot=True\n",
    "if bPlot:\n",
    "    ep1   =ds1_2[   \"EP_1_aniso_2_1\"]\n",
    "    ep2   =ds1_2[   \"EP_1_aniso_2_2\"]\n",
    "    sigep1=ds1_2[\"SIGEP_1_aniso_2_1\"]\n",
    "    sigep2=ds1_2[\"SIGEP_1_aniso_2_2\"]\n",
    "    sigcut=0.2\n",
    "\n",
    "    x=np.linspace(0,4,150)\n",
    "    plt.figure(figsize=(12,4))\n",
    "    plt.subplot(1,2,1)\n",
    "    plt.hist(ep1[(ds1_2[\"CENTRIC\"]==True) & (sigep1<sigcut)],30,alpha=0.5,density=True,label=\"EP1\")\n",
    "    plt.hist(ep2[(ds1_2[\"CENTRIC\"]==True) & (sigep2<sigcut)],30,alpha=0.5,density=True,label=\"EP2\")\n",
    "    plt.plot(x,wilson.wilson_dist_normalized(x,centric=True),'r-',label=\"Wilson\") \n",
    "    plt.ylabel(\"count\"); plt.xlabel(\"Normalized sf amplitude\")\n",
    "    plt.legend(); plt.title(\"Centric\")\n",
    "\n",
    "    plt.subplot(1,2,2)\n",
    "    plt.hist(ep1[(ds1_2[\"CENTRIC\"]==False) & (sigep1<sigcut)],50,alpha=0.5,density=True,label=\"EP1\")\n",
    "    plt.hist(ep2[(ds1_2[\"CENTRIC\"]==False) & (sigep2<sigcut)],50,alpha=0.5,density=True,label=\"EP2\")\n",
    "    plt.plot(x, wilson.wilson_dist_normalized(x,centric=False),'r-',label=\"Wilson\")\n",
    "    plt.ylabel(\"count\"); plt.xlabel(\"Normalized sf amplitude\")\n",
    "    plt.legend(); plt.title(\"Acentric\")\n",
    "    plt.show()\n",
    "\n",
    "    print(np.mean(ep1[ds1_2[\"CENTRIC\"]==True]**2))\n",
    "    print(np.mean(ep2[ds1_2[\"CENTRIC\"]==True]**2))\n",
    "    print(np.mean(ep1[ds1_2[\"CENTRIC\"]==False]**2))\n",
    "    print(np.mean(ep2[ds1_2[\"CENTRIC\"]==False]**2))"
   ]
  },
  {
   "cell_type": "markdown",
   "metadata": {},
   "source": [
    "### Expected correlation coefficients under experimental errors\n",
    "Note: currently this redefines some variables from fake to real data.\n",
    "\n",
    "We begin by looking at how the normalized structure factors are distributed by percentile bin as a function of resolution. We typically see that the central bins are _overrepresented_ at high resolution, where the effects of French-Wilson scaling are _very_ pronounced. Conversely, low-E values are _underrepresented_, presumably for the same reason. Setting a sigmacut for errors in the normalized structure factors really drives this home."
   ]
  },
  {
   "cell_type": "code",
   "execution_count": 138,
   "metadata": {},
   "outputs": [
    {
     "data": {
      "image/png": "[encoded data removed]",
      "text/plain": [
       "<Figure size 720x576 with 2 Axes>"
      ]
     },
     "metadata": {
      "needs_background": "light"
     },
     "output_type": "display_data"
    }
   ],
   "source": [
    "# Let's examine the distribution of dHKL and E in the real data\n",
    "sig_cut = 1\n",
    "nbin    = (20,10)\n",
    "dHKL_bin_label=\"dHKL_bin\"\n",
    "\n",
    "cdf_bins     = np.linspace(0,100,nbin[0]+1)\n",
    "d_bins       = np.percentile(ds1_2[\"dHKL_1\"], cdf_bins)\n",
    "d_bins[-1]   = d_bins[-1]+1e-6   # to avoid omitting the largest data point\n",
    "d_dig        = np.digitize(ds1_2[\"dHKL_1\"], d_bins)\n",
    "ds1_2[dHKL_bin_label] = d_dig.flatten()\n",
    "# print(d_bins)\n",
    "\n",
    "cdf_bins     = np.linspace(0,100,nbin[1]+1)\n",
    "ep1_bins     = np.percentile(ds1_2[EP1_label], cdf_bins)\n",
    "ep1_bins[-1] = ep1_bins[-1]+1e-6 # to avoid omitting the largest data point\n",
    "ep1_dig      = np.digitize(ds1_2[EP1_label], ep1_bins)\n",
    "ds1_2[\"EP_1_bin\"] = ep1_dig.flatten()\n",
    "\n",
    "H, xedges, yedges = np.histogram2d(ds1_2.loc[(ds1_2[\"CENTRIC\"]==False) & (ds1_2[\"SIG\" + EP1_label]<sig_cut), dHKL_bin_label], \\\n",
    "                                   ds1_2.loc[(ds1_2[\"CENTRIC\"]==False) & (ds1_2[\"SIG\" + EP1_label]<sig_cut), \"EP_1_bin\"],bins=nbin)\n",
    "\n",
    "plt.figure(figsize=(10,8))\n",
    "im=plt.imshow(H.transpose(), interpolation='nearest', origin='lower',\\\n",
    "           extent=[xedges[0], xedges[-1], yedges[0], yedges[-1]],vmin=0)\n",
    "plt.xlabel(\"resolution bin (high to low)\")\n",
    "plt.ylabel(\"|E| bin\")\n",
    "plt.title(\"Counts per 2D bin for |E| and dHKL\")\n",
    "plt.colorbar(im,fraction=0.025, pad=0.04)\n",
    "plt.show()"
   ]
  },
  {
   "cell_type": "markdown",
   "metadata": {},
   "source": [
    "## Effect of measurement error on apparent correlations\n",
    "### Resampling experimental measurement errors\n",
    "We will assign our surrogate data measurement errors sampled from actual data."
   ]
  },
  {
   "cell_type": "code",
   "execution_count": 139,
   "metadata": {},
   "outputs": [
    {
     "name": "stdout",
     "output_type": "stream",
     "text": [
      "1900\n"
     ]
    }
   ],
   "source": [
    "# resample experimental standard deviations\n",
    "count_max = 10*np.max(H[:]).astype(int)\n",
    "print(count_max)\n",
    "sigE_samples = np.zeros([nbin[0],nbin[1],count_max])\n",
    "replace = True    # sample with replacement\n",
    "fn = lambda obj: obj.loc[np.random.choice(obj.index, size, replace),:]\n",
    "\n",
    "for i in range(nbin[0]):      # resolution\n",
    "    for j in range(nbin[1]):  # E bin\n",
    "        sigE_samples[i][j] = ds1_2.loc[(ds1_2[dHKL_bin_label]==i+1)&(ds1_2[\"EP_1_bin\"]==j+1),\"SIG\" + EP1_label].sample(count_max,replace=replace).to_numpy()"
   ]
  },
  {
   "cell_type": "code",
   "execution_count": 140,
   "metadata": {},
   "outputs": [
    {
     "name": "stdout",
     "output_type": "stream",
     "text": [
      "<class 'reciprocalspaceship.dataset.DataSet'>\n",
      "MultiIndex: 31413 entries, (0, 1, 3) to (47, 1, 3)\n",
      "Data columns (total 3 columns):\n",
      " #   Column    Non-Null Count  Dtype  \n",
      "---  ------    --------------  -----  \n",
      " 0   dHKL_bin  31413 non-null  int64  \n",
      " 1   CENTRIC   31413 non-null  bool   \n",
      " 2   dHKL_1    31413 non-null  MTZReal\n",
      "dtypes: MTZReal(1), bool(1), int64(1)\n",
      "memory usage: 621.3 KB\n"
     ]
    }
   ],
   "source": [
    "# initialize an array for fake data with experimental standard deviations and to-be-imposed covariance structure\n",
    "ds1_2_fake=ds1_2[[dHKL_bin_label,\"CENTRIC\"]].copy()\n",
    "ds1_2_fake[dHKL_label] = ds1_2[dHKL_label].copy()\n",
    "ds1_2_fake.info()"
   ]
  },
  {
   "cell_type": "markdown",
   "metadata": {},
   "source": [
    "### Correlations should be resolution-dependent\n",
    "The correlation coefficient for simulated data with a single global correlation coefficient drops off much more slowly than for the observations. This seems to imply two things: \n",
    "\n",
    "1. Measurement errors are wildly overestimated at low resolution, and perhaps underestimated at high resolution, **and/or**\n",
    "2. The correlation coefficient should really be considered resolution-dependen\n",
    "\n",
    "The latter is far more plausible. Indeed, R. Read, 1990 \"Structure-Factor Probabilities for Related Structures\" confirms this perspective and suggests a form $\\rho=a e^{-b s^2}$. Based on that paper, **in case of isotropic, normally distributed coordinate shifts**, $b\\sim \\frac{2\\pi^2}{3} \\left< |\\Delta r_j|^2\\right>$. For example, $b=1$ corresponds to a root mean square coordinate shift (in 3D) of $\\sqrt{\\left< |\\Delta r_j|^2\\right>} =\\frac{1}{\\pi} \\sqrt{3/2}$ = 0.4 A. More generally, the assumed rms coordinate shift is $0.39 \\sqrt{b}$ in Angstrom. In this model, $a=1$."
   ]
  },
  {
   "cell_type": "markdown",
   "metadata": {},
   "source": [
    "### Surrogate data with resolution-dependent correlation and resampled expt errors\n",
    "We'll implement resolution-dependent sampling of E2 given E1 for fake data structured like the real data. \n",
    "_Note_: we'll come up with a way to determine _a_ and _b_ from experimental data below."
   ]
  },
  {
   "cell_type": "code",
   "execution_count": 142,
   "metadata": {},
   "outputs": [
    {
     "name": "stdout",
     "output_type": "stream",
     "text": [
      "[1530 1528 1526 1523 1521 1521 1525 1526 1513 1516 1515 1513 1508 1511\n",
      " 1502 1498 1493 1480 1461 1395]\n",
      "[ 41  43  44  48  49  49  47  44  58  53  56  59  61  61  67  74  78  88\n",
      " 112 176]\n"
     ]
    }
   ],
   "source": [
    "acentric = (ds1_2_fake[\"CENTRIC\"].to_numpy() == False)\n",
    "centric  = (ds1_2_fake[\"CENTRIC\"].to_numpy() == True )\n",
    "count_by_bin_ac = ds1_2_fake.loc[acentric, dHKL_label].groupby(ds1_2_fake[dHKL_bin_label]).count().to_numpy()\n",
    "res_means_ac    = ds1_2_fake.loc[acentric, dHKL_label].groupby(ds1_2_fake[dHKL_bin_label]).mean( ).to_numpy()\n",
    "count_by_bin_c  = ds1_2_fake.loc[centric,  dHKL_label].groupby(ds1_2_fake[dHKL_bin_label]).count().to_numpy()\n",
    "res_means_c     = ds1_2_fake.loc[centric,  dHKL_label].groupby(ds1_2_fake[dHKL_bin_label]).mean( ).to_numpy()\n",
    "print(count_by_bin_ac)\n",
    "print(count_by_bin_c)\n",
    "\n",
    "a=1                   # per Read, 1990, one expects a=1 for isotropic coordinate changes drawn from a normal dist\n",
    "b=1e-9\n",
    "mean    = [0,0,0,0]            # mean of random walks\n",
    "ds1_2_fake[\"EP_2\"] = np.zeros(ds1_2_fake.shape[0])\n",
    "ds1_2_fake[\"EP_1\"] = np.zeros(ds1_2_fake.shape[0])\n",
    "for i in range(nbin[0]):       # loop over resolution bins\n",
    "    # let's generate acentric pairs (the assignments to parts of columns create warnings)\n",
    "    r = a*np.exp(-b/(res_means_ac[i]**2))\n",
    "    cov           = 0.5*np.asarray([[1,0,r,0],[0,1,0,r],[r,0,1,0],[0,r,0,1]])\n",
    "    E_1x_1y_2x_2y = np.random.multivariate_normal(mean=mean, cov=cov,size=count_by_bin_ac[i])\n",
    "    ds1_2_fake.loc[(ds1_2_fake[dHKL_bin_label]==i+1) & acentric, \"EP_1\"] = np.sqrt(E_1x_1y_2x_2y[:,0]**2 +E_1x_1y_2x_2y[:,1]**2 )\n",
    "    ds1_2_fake.loc[(ds1_2_fake[dHKL_bin_label]==i+1) & acentric, \"EP_2\"] = np.sqrt(E_1x_1y_2x_2y[:,2]**2 +E_1x_1y_2x_2y[:,3]**2 )\n",
    "    \n",
    "    # now for centric pairs\n",
    "    r = a*np.exp(-b/(res_means_c[i]**2))\n",
    "    cov           = 0.5*np.asarray([[1,0,r,0],[0,1,0,r],[r,0,1,0],[0,r,0,1]])\n",
    "    E_1x_1y_2x_2y = np.random.multivariate_normal(mean=mean, cov=cov,size=count_by_bin_c[i])\n",
    "    ds1_2_fake.loc[(ds1_2_fake[dHKL_bin_label]==i+1) & centric,\"EP_1\"] = np.sqrt(2*E_1x_1y_2x_2y[:,0]**2)\n",
    "    ds1_2_fake.loc[(ds1_2_fake[dHKL_bin_label]==i+1) & centric,\"EP_2\"] = np.sqrt(2*E_1x_1y_2x_2y[:,2]**2)\n"
   ]
  },
  {
   "cell_type": "code",
   "execution_count": 143,
   "metadata": {},
   "outputs": [],
   "source": [
    "ep1_fake_bins = rice.ppf(np.linspace(0,0.999,nbin[1]+1),0,0,np.sqrt(0.5))\n",
    "ep1_fake_bins[-1] = 100\n",
    "ep2_fake_bins = rice.ppf(np.linspace(0,0.999,nbin[1]+1),0,0,np.sqrt(0.5))\n",
    "ep2_fake_bins[-1] = 100\n",
    "\n",
    "ep1_fake_dig  = np.digitize(ds1_2_fake[\"EP_1\"], ep1_fake_bins)\n",
    "ep2_fake_dig  = np.digitize(ds1_2_fake[\"EP_2\"], ep2_fake_bins)\n",
    "# print(plt.hist(ep2_fake_dig)) # these bins are not great for fake data"
   ]
  },
  {
   "cell_type": "code",
   "execution_count": 144,
   "metadata": {},
   "outputs": [
    {
     "name": "stderr",
     "output_type": "stream",
     "text": [
      "100%|██████████████████████████████████| 31413/31413 [00:08<00:00, 3507.10it/s]\n",
      "100%|██████████████████████████████████| 31413/31413 [00:09<00:00, 3396.00it/s]\n"
     ]
    }
   ],
   "source": [
    "# Construct an array of fake measurements with the same EP1 and dHKL bins as the data\n",
    "# we're assuming that the same error distribution applies to normalized centric and acentric structure factors.\n",
    "S = ds1_2_fake.shape[0]\n",
    "ep1_fake_obs    = np.zeros((S,))\n",
    "sig_ep1_fake_obs= np.zeros((S,))\n",
    "count_array     = np.zeros(nbin).astype(int)\n",
    "for i in tqdm(range(S)):\n",
    "    i_E    = ep1_fake_dig[i] - 1\n",
    "    i_dHKL = ds1_2_fake.iloc[i][dHKL_bin_label] - 1\n",
    "    i_dHKL = i_dHKL.astype(int)                       \n",
    "    sigma  = sigE_samples[i_dHKL][i_E][count_array[i_dHKL][i_E]]\n",
    "    loc    = ds1_2_fake.iloc[i][\"EP_1\"]\n",
    "    count_array[i_dHKL][i_E] += 1\n",
    "    ep1_fake_obs[i]           = np.random.normal(loc=loc,scale=sigma)\n",
    "    sig_ep1_fake_obs[i]       = sigma\n",
    "    \n",
    "ds1_2_fake[\"EP_1_obs\"   ] = ep1_fake_obs\n",
    "ds1_2_fake[\"SIGEP_1_obs\"] = sig_ep1_fake_obs\n",
    "\n",
    "# same for the other one, we continue counting in the counting array\n",
    "# i.e. uncorrelated errors (errors may well be correlated in reality!)\n",
    "ep2_fake_obs= np.zeros((S,))\n",
    "sig_ep2_fake_obs= np.zeros((S,))\n",
    "for i in tqdm(range(S)):\n",
    "    i_E    = ep2_fake_dig[i] - 1\n",
    "    i_dHKL = ds1_2_fake.iloc[i][dHKL_bin_label] - 1\n",
    "    i_dHKL = i_dHKL.astype(int)                       # for some reason, the last one or two are corrupted\n",
    "    sigma  = sigE_samples[i_dHKL][i_E][count_array[i_dHKL][i_E]]\n",
    "    loc    = ds1_2_fake.iloc[i][\"EP_2\"]\n",
    "    count_array[i_dHKL][i_E] += 1\n",
    "    ep2_fake_obs[i]           = np.random.normal(loc=loc,scale=sigma)\n",
    "    sig_ep2_fake_obs[i]       = sigma\n",
    "    \n",
    "ds1_2_fake[\"EP_2_obs\"]=ep2_fake_obs\n",
    "ds1_2_fake[\"SIGEP_2_obs\"]=sig_ep2_fake_obs"
   ]
  },
  {
   "cell_type": "markdown",
   "metadata": {},
   "source": [
    "Let's plot these \"observed\" (i.e. with measurement error) fake data. The way this is calculated, they can be a little negative."
   ]
  },
  {
   "cell_type": "code",
   "execution_count": 145,
   "metadata": {},
   "outputs": [
    {
     "data": {
      "image/png": "[encoded data removed]",
      "text/plain": [
       "<Figure size 432x288 with 1 Axes>"
      ]
     },
     "metadata": {
      "needs_background": "light"
     },
     "output_type": "display_data"
    }
   ],
   "source": [
    "plt.plot(ds1_2_fake[\"EP_1_obs\"].to_numpy(), ds1_2_fake[\"EP_2_obs\"].to_numpy(),'bo',alpha=0.05)\n",
    "plt.plot(ds1_2_fake[\"EP_1_obs\"].to_numpy(), ds1_2_fake[\"EP_2_obs\"].to_numpy(),'ro',alpha=0.002)\n",
    "plt.xlabel(\"E1 (fake observed)\")\n",
    "plt.ylabel(\"E2 (fake observed)\")\n",
    "plt.grid(); plt.show()"
   ]
  },
  {
   "cell_type": "markdown",
   "metadata": {},
   "source": [
    "### Relating expected correlation under DW to correlation under measurement error"
   ]
  },
  {
   "cell_type": "markdown",
   "metadata": {},
   "source": [
    "The next step is to relate the expected correlation coefficient under the double-Wilson model to the expected correlation coefficient when we add in measurement error. The underlying model is as follows: For each $hkl$, we'll consider that for the first model, the true structure factor amplitudes are $EP1_{true}=x$ and $EP2_{true}=x+\\epsilon$. That is, $\\epsilon$ captures fixed effects. Instead, we observe $EP1_{obs}=x+\\eta_1$ and $EP2_{obs}=x+\\epsilon + \\eta_2$ with $\\eta_1$ and $\\eta_2$ the measurement errors. It does not matter whether the errors are truely additive--these relationships can be considered to define $\\eta_1$ and $\\eta_2$. We will assume that the reported errors are accurate estimates of the standard deviations of  $\\eta_1$ and $\\eta_2$. \n",
    "\n",
    "Then,\n",
    "\n",
    "$\\rho_{obs} = \\rho(x+\\eta_1,x+\\epsilon+\\eta_2)=\\frac{\\sigma_x^2}{\\sqrt{\\left(\\sigma_x^2 + \\sigma_1^2 \\right)                  \n",
    "                                                                       \\left(\\sigma_x^2 + \\sigma_\\epsilon^2\n",
    "                                                                                        + \\sigma_2^2\\right)}\n",
    "                                                                       }$ \n",
    "and \n",
    "$\\rho_{true}= \\rho(x,x+\\epsilon)=\\frac{\\sigma_x^2}{\\sqrt{\\sigma_x^2 \\left(\\sigma_x^2+\\sigma_\\epsilon^2\\right)}}$\n",
    "\n",
    "where we've used that all covariances between $x,\\epsilon,\\eta_1,\\eta_2$ are 0 (except \"self-covariance\") and abbreviated error std's as $\\sigma_1$ and $\\sigma_2$. Some algebra yields:\n",
    "\n",
    "$\\rho_{obs}^{-2} = \\rho_{true}^{-2} + \\frac{\\sigma^2_1+\\sigma^2_2}{\\sigma^2_x} + \\frac{\\sigma^2_1 \\sigma^2_2}{\\sigma^4_x} + \\frac{\\sigma^2_1}{\\sigma^2_x}\\left(\\rho_{true}^{-2}-1 \\right)$\n",
    "\n",
    "Since it is arbitrary to assign the systematic effects to dataset 2 rather than dataset 1, we symmetrize the last term below to $\\frac{\\sigma_1\\sigma_2}{\\sigma^2_x}\\left(\\rho_{true}^{-2}-1 \\right)$.\n",
    "\n",
    "Note that $\\sigma^2_x$ is, in our model, the variance of the Wilson distribution for normalized structure factors. This variance differs between centric and acentric wilson distributions. For simplicity, I use below estimates obtained above by sampling. Because the estimated $\\rho_{obs}$ depends on error estimates of structure factor amplitudes, we estimate it below *for each observed normalized structure factor*."
   ]
  },
  {
   "cell_type": "markdown",
   "metadata": {},
   "source": [
    "So far, we've assumed some *a and b*. We'll now put all the calculations above together into a fitting routine (see ```fitting_dw.py```). For simplicity, we approximate the correlation between error-less normalized structure factor amplitudes under the model as $\\rho_{DW}=r^2_{DW}$. Let's compare the data to our double-wilson model with resolution-dependent $r_{DW}$, either using the sampling procedure described first, or the (almost) analytical fitting procedure in ```fitting_dw.py```."
   ]
  },
  {
   "cell_type": "code",
   "execution_count": 146,
   "metadata": {},
   "outputs": [
    {
     "name": "stdout",
     "output_type": "stream",
     "text": [
      "`gtol` termination condition is satisfied.\n",
      "Function evaluations 13, initial cost 7.4598e+00, final cost 2.8728e-03, first-order optimality 4.37e-09.\n",
      "a: 0.996578819262162\n",
      "b: 1.8317324677523075e-08\n"
     ]
    }
   ],
   "source": [
    "(a,b) = fitting_dw.fit_ab(ds1_2,labels=[EP1_label,EP2_label],dHKL_label=dHKL_label, dHKL_bin_label=dHKL_bin_label)\n",
    "print(\"a: \" + str(a))\n",
    "print(\"b: \" + str(b))"
   ]
  },
  {
   "cell_type": "code",
   "execution_count": 147,
   "metadata": {},
   "outputs": [
    {
     "data": {
      "image/png": "[encoded data removed]",
      "text/plain": [
       "<Figure size 432x288 with 1 Axes>"
      ]
     },
     "metadata": {
      "needs_background": "light"
     },
     "output_type": "display_data"
    }
   ],
   "source": [
    "d          = ds1_2_fake[dHKL_label].to_numpy()\n",
    "r_by_res   = a*np.exp(-b/(d**2))                  # DW r\n",
    "r_by_res   = r_by_res.flatten()\n",
    "rho_no_err = r_dw_to_r_E(r_by_res,beta_ac)        # rho from DW r; treat all as acentric (small error); almost rho=r**2\n",
    "rho_no_err = rho_no_err.flatten()\n",
    "\n",
    "varW_acentric= rice.var(0,0,np.sqrt(0.5))\n",
    "varW_centric = foldnorm.var(0,0,1)\n",
    "tmp1         = ds1_2_fake[\"SIGEP_1_obs\"].to_numpy()**2 # \n",
    "tmp2         = ds1_2_fake[\"SIGEP_2_obs\"].to_numpy()**2 # \n",
    "quad_var_E   = tmp1+tmp2\n",
    "\n",
    "rho_w_err_inv2_ac = (1/rho_no_err**2) + quad_var_E/varW_acentric +\\\n",
    "                   tmp1*tmp2/varW_acentric**2 + ((1/rho_no_err**2)-1)*np.sqrt(tmp1*tmp2)/varW_acentric\n",
    "rho_w_err_inv2_c  = (1/rho_no_err**2) + quad_var_E/varW_centric +\\\n",
    "                   tmp1*tmp2/varW_centric**2  + ((1/rho_no_err**2)-1)*np.sqrt(tmp1*tmp2)/varW_centric\n",
    "\n",
    "rho_w_err_ac = 1/np.sqrt(rho_w_err_inv2_ac) #(rho_no_err**2/(1+rho_no_err**2  + (tmp**2)/(varW_acentric)))\n",
    "rho_w_err_c  = 1/np.sqrt(rho_w_err_inv2_c)  #(rho_no_err**2/(1+rho_no_err**2  + (tmp**2)/(varW_acentric)))\n",
    "\n",
    "ds1_2_fake[\"Exp rho w error\"]=np.nan\n",
    "ds1_2_fake.loc[acentric,\"Exp rho w error\"] = rho_w_err_ac[acentric]\n",
    "ds1_2_fake.loc[centric, \"Exp rho w error\"] = rho_w_err_c[  centric]\n",
    "\n",
    "plt.plot(1/d**2, rho_no_err, 'r.',alpha=0.01)\n",
    "plt.plot(1/d**2, rho_w_err_ac, 'b.',alpha=0.01)\n",
    "plt.title('Expected Pearson r(E1,E2) with & w.o. expt error')\n",
    "plt.xlabel(r\"$1/d^2$ ($A^{-2}$)\")\n",
    "plt.ylabel(\"Expected Pearson r(E1,E2)\")\n",
    "plt.ylim((0,1))\n",
    "plt.show()"
   ]
  },
  {
   "cell_type": "markdown",
   "metadata": {},
   "source": [
    "We now calculate a weighted-average expected correlation coefficient under the model just described."
   ]
  },
  {
   "cell_type": "code",
   "execution_count": 148,
   "metadata": {},
   "outputs": [],
   "source": [
    "ds=ds1_2_fake # view for brevity\n",
    "rho_avg=np.zeros((20,1))\n",
    "for i in range(ds[dHKL_bin_label].min(),ds[dHKL_bin_label].max()+1):\n",
    "    boi = (ds[dHKL_bin_label]==i) # bin of interest\n",
    "    rho = ds.loc[boi,\"Exp rho w error\"].to_numpy()\n",
    "    w   = (ds.loc[boi,\"SIGEP_1_obs\"]*ds[\"SIGEP_2_obs\"][boi]).to_numpy()\n",
    "    tmp = np.sum(w*rho)/np.sum(w)\n",
    "    rho_avg[i-1] = np.sum(w*rho)/np.sum(w) # np.mean(rho) gives nearly the same results"
   ]
  },
  {
   "cell_type": "markdown",
   "metadata": {},
   "source": [
    "Let's compare our correlation coefficients."
   ]
  },
  {
   "cell_type": "code",
   "execution_count": 150,
   "metadata": {},
   "outputs": [
    {
     "name": "stdout",
     "output_type": "stream",
     "text": [
      "Average observations per bin: 1570.65\n",
      "Average observations per bin: 1570.65\n"
     ]
    },
    {
     "data": {
      "image/png": "[encoded data removed]",
      "text/plain": [
       "<Figure size 576x432 with 1 Axes>"
      ]
     },
     "metadata": {
      "needs_background": "light"
     },
     "output_type": "display_data"
    }
   ],
   "source": [
    "result_1, labels_1 = plots.compute_cc(ds1_2_fake,labels=[\"EP_1_obs\",\"EP_2_obs\"],nbins=20,method=\"pearson\")\n",
    "result_3, labels_3 = plots.compute_cc(ds1_2,     labels=[EP1_label,  EP2_label],nbins=20,method=\"pearson\")\n",
    "\n",
    "# we'll reverse-engineer Jack's labels to add the expected curve in the absence of expt error\n",
    "res_range = np.zeros([20,1])\n",
    "for i in range(len(labels_1)):\n",
    "    tmp1 = float(labels_1[i].split()[0])\n",
    "    tmp3 = float(labels_1[i].split()[2])\n",
    "    tmp2 = np.sqrt(tmp1*tmp3) # geom mean\n",
    "    res_range[i] = tmp2\n",
    "    \n",
    "plt.figure(figsize=(8,6))\n",
    "plt.plot(np.arange(20), a*np.exp(-b/(res_range**2)),'r--')\n",
    "plt.plot(np.arange(20), r_dw_to_r_E(a*np.exp(-b/(res_range**2)),beta_ac).flatten(),'m--') # this is correct for acentrics\n",
    "plt.plot(np.flip(np.arange(20)), rho_avg, 'k-',linewidth=2)\n",
    "plots.plot_by_res_bin(result_1, labels_1)\n",
    "plots.plot_by_res_bin(result_3, labels_3,color='g')\n",
    "plt.legend([\"DW r\", \"DW rho(E1,E2)\", \"DW rho_obs(E1,E2) (w. avg)\", \"DW sampling expt err\", \"observed\"])\n",
    "plt.ylim(0.8,1)\n",
    "plt.ylabel(\"CC (EP1, EP2)\")\n",
    "plt.show()"
   ]
  },
  {
   "cell_type": "markdown",
   "metadata": {},
   "source": [
    "We see that the correlation coefficient in this data set is dominated by the true differences in structures (magenta), with small contributions from experimental error (observed: green; fake data, resampled: blue; model estimate using experimental errors: black)."
   ]
  }
 ],
 "metadata": {
  "kernelspec": {
   "display_name": "Python [conda env:.conda-crystallography] *",
   "language": "python",
   "name": "conda-env-.conda-crystallography-py"
  },
  "language_info": {
   "codemirror_mode": {
    "name": "ipython",
    "version": 3
   },
   "file_extension": ".py",
   "mimetype": "text/x-python",
   "name": "python",
   "nbconvert_exporter": "python",
   "pygments_lexer": "ipython3",
   "version": "3.8.8"
  },
  "toc": {
   "base_numbering": 1,
   "nav_menu": {},
   "number_sections": true,
   "sideBar": true,
   "skip_h1_title": false,
   "title_cell": "Table of Contents",
   "title_sidebar": "Contents",
   "toc_cell": false,
   "toc_position": {
    "height": "calc(100% - 180px)",
    "left": "10px",
    "top": "150px",
    "width": "237.594px"
   },
   "toc_section_display": true,
   "toc_window_display": true
  }
 },
 "nbformat": 4,
 "nbformat_minor": 4
}
