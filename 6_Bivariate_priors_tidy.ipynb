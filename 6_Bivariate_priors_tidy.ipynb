{
 "cells": [
  {
   "cell_type": "code",
   "execution_count": 2,
   "metadata": {},
   "outputs": [],
   "source": [
    "import numpy as np\n",
    "from matplotlib    import pyplot as plt\n",
    "from numpy.random  import default_rng\n",
    "from tqdm          import tqdm\n",
    "from time          import perf_counter \n",
    "from scipy.stats   import pearsonr, poisson, wishart, multivariate_normal, norm, vonmises, multivariate_t, laplace\n",
    "from scipy.special import gamma, factorial, gammaln\n",
    "from scipy.special import i0 as I0\n",
    "from dw_tools      import bivariate_tools"
   ]
  },
  {
   "cell_type": "code",
   "execution_count": 3,
   "metadata": {},
   "outputs": [
    {
     "data": {
      "application/javascript": [
       "IPython.notebook.set_autosave_interval(300000)"
      ]
     },
     "metadata": {},
     "output_type": "display_data"
    },
    {
     "name": "stdout",
     "output_type": "stream",
     "text": [
      "Autosaving every 300 seconds\n"
     ]
    }
   ],
   "source": [
    "%autosave 300\n",
    "%load_ext autoreload\n",
    "%autoreload 2"
   ]
  },
  {
   "cell_type": "code",
   "execution_count": 4,
   "metadata": {},
   "outputs": [],
   "source": [
    "plt.rcParams.update({'font.size': 14})"
   ]
  },
  {
   "cell_type": "markdown",
   "metadata": {},
   "source": [
    "## Joint probability distributions of $(E_1,E_2,E_3)$"
   ]
  },
  {
   "cell_type": "markdown",
   "metadata": {},
   "source": [
    "Consider three normalized structure factors for related structures, $\\left(E_1, E_2, E_3=E_{ref}\\right)$ with joint probability density. In the (double) Wilson model,\n",
    "\n",
    "$$\n",
    "P\\left(E_1,E_2,E_3\\right) = P\\left(E_{1x},E_{2x},E_{3x},E_{1y},E_{2y},E_{3y}\\right)=N\\left(0,C\\right)\n",
    "$$\n",
    "\n",
    "(note the rearrangement of rows), with \n",
    "\n",
    "$$\n",
    "C = \\frac{1}{2}\n",
    "\\begin{bmatrix}\n",
    "1   & r_x & r & 0   & 0   & 0  \\\\\n",
    "r_x & 1   & r & 0   & 0   & 0  \\\\\n",
    "r   & r   & 1 & 0   & 0   & 0  \\\\\n",
    "0   & 0   & 0 & 1   & r_x & r  \\\\\n",
    "0   & 0   & 0 & r_x & 1   & r  \\\\\n",
    "0   & 0   & 0 & r   & r   & 1  \n",
    "\\end{bmatrix}\n",
    "$$"
   ]
  },
  {
   "cell_type": "markdown",
   "metadata": {},
   "source": [
    "## Conditional joint probability distribution of $(E_1, E_2)$ given $E_3$"
   ]
  },
  {
   "cell_type": "markdown",
   "metadata": {},
   "source": [
    "### General considerations\n",
    "Following https://en.wikipedia.org/wiki/Multivariate_normal_distribution#Conditional_distributions, \n",
    "\n",
    "$$\n",
    "P\\left(E_1,E_2 | E_3\\right) = P\\left(E_{1x},E_{2x},E_{1y},E_{2x}|E_{3x}, E_{3y}\\right)=N\\left(r E_3,C_{1,2|3}\\right)\n",
    "$$\n",
    "\n",
    "(note the rearrangement of rows), with conditional covariance matrix\n",
    "\n",
    "$$\n",
    "C_{1,2|3} = \\frac{1}{2}\n",
    "\\begin{bmatrix}\n",
    "1   -r^2 & r_x -r^2 & 0       & 0        \\\\\n",
    "r_x -r^2 & 1   -r^2 & 0       & 0        \\\\\n",
    "0        & 0        & 1  -r^2 & r_x -r^2 \\\\\n",
    "0        & 0        & r_x-r^2 & 1 -r^2  \n",
    "\\end{bmatrix}\n",
    "$$"
   ]
  },
  {
   "cell_type": "markdown",
   "metadata": {},
   "source": [
    "Note that $r$ and $r_x$ cannot adopt arbitrary combinations of values. Specifically, the conditional covariance matrix is only positive definite if $1+r_x \\geq 2r^2$. $E_1$ and $E_2$ are conditionally independent (and uncorrelated) when $r_x = r^2$. In that case, $1+r_x = 1+r^2 \\geq 2r^2 $."
   ]
  },
  {
   "cell_type": "markdown",
   "metadata": {},
   "source": [
    "For use of the bivariate Rice distribution below, we will also want to know \n",
    "\n",
    "$$\n",
    "\\begin{align}\n",
    "\\rho\\left(E_1,E_2|E_3\\right) & = \\frac{\\mathbb{E}(E_1 E_2^*)-\\mathbb{E}(E_1)\\mathbb{E}(E_2^*)}\n",
    "                                    {\\sqrt{Var(E_1)Var(E_2)}} \\\\\n",
    "                             & = \\frac{\\mathbb{E}\\left((E_1-\\mu_{1|3}+\\mu_{1|3}) (E_2-\\mu_{2|3}+\\mu_{2|3})^*\\right)\n",
    "                                       -\\mathbb{E}(E_1)\\mathbb{E}(E_2^*)}\n",
    "                                    {\\sqrt{Var(E_1)Var(E_2)}} \\\\\n",
    "                             & = \\frac{Cov(E_1, E_2^*)+\\mu\\mu^*-\\mu\\mu^*}\n",
    "                                    {\\sqrt{Var(E_1)Var(E_2)}} \\\\\n",
    "                             & = \\frac{Cov(E_{1x}, E_{2x}) + Cov(E_{1y}, E_{2y})+0}{\\sqrt{Var(E_1)Var(E_2)}} \\\\\n",
    "                             & = \\frac{r_x-r^2}{1-r^2}\n",
    "\\end{align}\n",
    "$$\n",
    "\n",
    "with the variances analogously defined as $Var(E_1)=\\mathbb{E}(E_1 E_1^*)-\\mathbb{E}(E_1)\\mathbb{E}(E_1^*)$, etc."
   ]
  },
  {
   "cell_type": "code",
   "execution_count": 5,
   "metadata": {},
   "outputs": [
    {
     "name": "stdout",
     "output_type": "stream",
     "text": [
      "0.7222222222222222\n"
     ]
    }
   ],
   "source": [
    "def rho_xy(r,rx):\n",
    "    return (rx-r**2)/(1-r**2)\n",
    "print(rho_xy(0.8,0.9))"
   ]
  },
  {
   "cell_type": "markdown",
   "metadata": {},
   "source": [
    "Numerical check:"
   ]
  },
  {
   "cell_type": "code",
   "execution_count": 6,
   "metadata": {},
   "outputs": [
    {
     "name": "stdout",
     "output_type": "stream",
     "text": [
      "expected rho(x, y):  0.7222222222222222\n",
      "observed rho(x, y):  0.721979402808936\n"
     ]
    }
   ],
   "source": [
    "rng = default_rng()\n",
    "r   = 0.8\n",
    "rx  = 0.9\n",
    "mean= np.asarray([1.5,1.5,0,0])\n",
    "cov = 0.5*\\\n",
    "    np.asarray([[ 1-r**2, rx-r**2,0,      0      ],\\\n",
    "                [rx-r**2,  1-r**2,0,      0      ],\\\n",
    "                [0,        0,     1-r**2, rx-r**2],\\\n",
    "                [0,        0,    rx-r**2,  1-r**2]])\n",
    "vals = rng.multivariate_normal(mean,cov,1000000)\n",
    "\n",
    "# see the extended version of this notebook:\n",
    "# x=np.sqrt(vals[:,0]**2 + vals[:,2]**2)\n",
    "# y=np.sqrt(vals[:,1]**2 + vals[:,3]**2)\n",
    "# print(f\"expected rho(x2,y2): {rho_x2y2(r,rx,np.array(mean[[0,2]]))}\")\n",
    "# print(f\"observed rho(x2,y2): {pearsonr(x**2,y**2)[0]}\")\n",
    "\n",
    "cov_1_2 = np.cov(vals[:,0],vals[:,1]) + np.cov(vals[:,2],vals[:,3])\n",
    "var_1_1 = np.var(vals[:,0]) + np.var(vals[:,2])\n",
    "var_2_2 = np.var(vals[:,1]) + np.var(vals[:,3])\n",
    "print(f\"expected rho(x, y):  {rho_xy(r,rx)}\")\n",
    "print(f\"observed rho(x, y):  {cov_1_2[0,1]/np.sqrt(var_1_1*var_2_2)}\") #I should improve the variable names"
   ]
  },
  {
   "cell_type": "markdown",
   "metadata": {},
   "source": [
    "## Bivariate rician (Abu-Dayya & Beaulieu; Beaulieu & Hemachandra)"
   ]
  },
  {
   "cell_type": "markdown",
   "metadata": {},
   "source": [
    "**First, we'll consider briefly the derivation of the univariate Rice distribution**.\n",
    "\n",
    "Consider, again, a pair of variables $\\left(E_1, E_{3}\\right)$, with $E_1=(E_{1x}, E_{1y})$, and $E_{3}=(E_{3x}, E_{3y})$ jointly normal, $\\sim N\\left((0,0,0,0),C\\right)$, with \n",
    "\n",
    "$$\n",
    "C = \n",
    "\\frac{\\Sigma}{2}\n",
    "\\begin{bmatrix}\n",
    "1 & 0 & r & 0 \\\\\n",
    "0 & 1 & 0 & r \\\\\n",
    "r & 0 & 1 & 0 \\\\\n",
    "0 & r & 0 & 1  \n",
    "\\end{bmatrix}\n",
    "$$"
   ]
  },
  {
   "cell_type": "markdown",
   "metadata": {},
   "source": [
    "The notation is such that $\\left<|E_1|^2\\right>=\\left<E_{1x}^2+E_{1y}^2\\right>=\\Sigma$. For already normalized structure factors, rather than $F$'s, $\\Sigma=1$."
   ]
  },
  {
   "cell_type": "markdown",
   "metadata": {},
   "source": [
    "Now, when we have a known value for $E_3=(E_{3,x}, E_{3,y})$, the conditional distribution of $E$ becomes a bivariate normal with mean $\\mu = r E_{3}$, with $r$ playing the role of $r_{DW}$ in the double-wilson model, and covariance matrix \n",
    "\n",
    "$$C_{1|3} = \\frac{\\Sigma}{2}\n",
    "\\begin{bmatrix}\n",
    "1-r^2 & 0 \\\\\n",
    "0 & 1-r^2\n",
    "\\end{bmatrix}\n",
    "$$"
   ]
  },
  {
   "cell_type": "markdown",
   "metadata": {},
   "source": [
    "It is helpful to write this in polar coordinates using $E_1 = R_1 \\left(\\cos(\\phi_1),\\sin(\\phi_1)\\right)$ and $\\mu = r E_3 = R_3 \\left(\\cos(\\phi_3),\\sin(\\phi_3)\\right)$, such that\n",
    "\n",
    "$$\n",
    "\\begin{align}\n",
    "P\\left(R_1,\\phi_1 | R_3, \\phi_3\\right) & =  R_1 \\frac{1}{2 \\pi \\sqrt{\\det(C_{1|3})}} * \n",
    "                                       \\exp\\left(\n",
    "                                           -\\frac{1}{2}\n",
    "                                           \\left(R_1\\cos(\\phi_1)-R_3\\cos(\\phi_3), \n",
    "                                                 R_1\\sin(\\phi_1)-R_3\\sin(\\phi_3)\n",
    "                                           \\right)\n",
    "                                           C_{1|3}^{-1}\n",
    "                                           \\left(R_1\\cos(\\phi_1)-R_3\\cos(\\phi_3), \n",
    "                                                 R_1\\sin(\\phi_1)-R_3\\sin(\\phi_3)\n",
    "                                           \\right)^T\n",
    "                                       \\right)\\\\\n",
    "                                       & = \n",
    "                                       R_1 \\frac{1}{2 \\pi \\sqrt{\\det(C_{1|3})}} * \n",
    "                                       \\exp\\left(\n",
    "                                           -\\frac{R_1^2 + R_3^2}{\\Sigma(1-r^2)}\n",
    "                                           +\\frac{R_1 R_3 (\\cos(\\phi_1)\\cos(\\phi_3)-\n",
    "                                                                      \\sin(\\phi_1)\\sin(\\phi_3))}\n",
    "                                                            {\\Sigma(1-r^2)}          \n",
    "                                           \\right) \\\\\n",
    "                                       & = \n",
    "                                        \\frac{R_1}{\\pi \\Sigma (1-r^2)}  \n",
    "                                       \\exp\\left(\n",
    "                                           -\\frac{R_1^2 + R_3^2}{\\Sigma(1-r^2)}\n",
    "                                           +\\frac{R_1 R_3 \\cos(\\phi_1-\\phi_3)}{\\Sigma(1-r^2)}          \n",
    "                                           \\right)\n",
    "\\end{align}                                           \n",
    "$$\n",
    "\n",
    "where we use that $C_{1|3}^{-1} = \\frac{2}{\\Sigma} \\frac{1}{1-r^2}$ and $\\det(C_{1|3}) = \\left(\\frac{\\Sigma}{2}(1-r^2)\\right)^2$."
   ]
  },
  {
   "cell_type": "markdown",
   "metadata": {},
   "source": [
    "We can marginalize over $\\Delta\\phi = \\phi_1-\\phi_3$,\n",
    "\n",
    "$$\n",
    "\\begin{align}\n",
    "P\\left(R_1 | R_3\\right) & = \\int_{0}^{2\\pi} d\\Delta\\phi\n",
    "                                 \\frac{R_1}{\\pi \\Sigma (1-r^2)} * \n",
    "                                 \\exp\\left(\n",
    "                                     -\\frac{R_1^2 + R_3^2}{\\Sigma(1-r^2)}\n",
    "                                     +\\frac{R_1 R_3 \\cos(\\Delta\\phi)}{\\Sigma(1-r^2)}          \n",
    "                                 \\right) \\\\\n",
    "                        & = \\frac{2 R_1}{\\Sigma (1-r^2)} \n",
    "                                 \\exp\\left(\n",
    "                                     -\\frac{R_1^2 + R_3^2}{\\Sigma(1-r^2)}\n",
    "                                 \\right)\n",
    "                            I_0\\left(\n",
    "                                \\frac{2 R_1 R_3}{\\Sigma(1-r^2)}          \n",
    "                            \\right)\n",
    "\\end{align}                                           \n",
    "$$\n",
    "\n",
    "which is the Rice distribution. For comparison to Bricogne (1999), his $R_B$ is our $R_1$, his $r_B$ is our $R_3=r|E_3|$, and his $\\Sigma_B$ is $\\frac{\\Sigma}{2}(1-r^2)$, our per-term conditional variance (I added the $B$ subscripts to indicate \"Bricogne\")."
   ]
  },
  {
   "cell_type": "markdown",
   "metadata": {},
   "source": [
    "### Abu-Dayya & Beaulieu, \"Switched Diversity in Microcellular Ricean Channels\""
   ]
  },
  {
   "cell_type": "markdown",
   "metadata": {},
   "source": [
    "The Rice distribution is of interest in the wireless communication literature. The equation above maps to the \"Ricean PDF\" in eq. 1 of Abu-Dayya and Beaulieu (1994), with $K = R_3^2/\\Sigma(1-r^2)$ in our terms, or $R^2/\\Sigma$ in Bricogne (1999), eq. 1.6's, and $\\frac{1+K}{\\beta}=2/\\Sigma(1-r^2)$ in our terms, or $1/\\Sigma_B$ in Bricogne's. Recall that  $R_3=r|E_3|$. In this formalism,\n",
    "\n",
    "$$P\\left(R_1\\right|E_3) = \\frac{R_1(1+K)}{\\beta}\\exp\\left(-K-\\frac{(1+K)R_1^2}{2\\beta}\\right)\\times \n",
    "                                            I_0\\left(2R_1\\sqrt{\\frac{K(1+K)}{2\\beta}}\\right)\n",
    "$$                                            "
   ]
  },
  {
   "cell_type": "markdown",
   "metadata": {},
   "source": [
    "**This formalism is worth studying, because Abu-Dayya and Beaulieu derive a bivariate Rice distribution, with**\n",
    "\n",
    "$$\n",
    "\\begin{align}\n",
    "P\\left(R_1,R_2 | R_3\\right) = & \\frac{(1+K)^2 R_1 R_2}{2\\pi \\beta^2(1-v^2)}\n",
    "                        \\exp\\left(\n",
    "                            \\frac{-2K}{1+v} - \\frac{(1+K)(R_1^2+R_2^2)}{2(1-v^2)\\beta}\n",
    "                        \\right) \\\\ \n",
    "                        & \\times\n",
    "                        \\int_{0}^{2\\pi} \\exp\\left(\n",
    "                            \\frac{v(1+K)R_1 R_2 \\cos \\theta}{(1-v^2)\\beta}\n",
    "                        \\right) \\\\\n",
    "                        & \\times I_0\\left(\n",
    "                            \\sqrt{\\frac{2K(1+K)(R_1^2 + R_2^2+2R_1R_2\\cos\\theta}{\\beta(1+v)^2}}\n",
    "                        \\right) d\\theta\n",
    "\\end{align}\n",
    "$$\n",
    "\n",
    "with \n",
    "\n",
    "$$\n",
    "v = \\frac{\\left<\\left(E_1^* - \\left<E_1^*\\right>\\right)\\left(E_2 - \\left<E_2\\right>\\right)\\right>}\n",
    "         {\\sqrt{\n",
    "             \\left<\\left|E_1 - \\left<E_1\\right>\\right|^2\\right>\n",
    "             \\left<\\left|E_2 - \\left<E_2\\right>\\right|^2\\right>       \n",
    "              }}\n",
    "$$\n",
    "\n",
    "For the case of the pdf of $E_1$ and $E_2$ conditional on $E_3$, we derive and validate an expression for $v$ above, namely\n",
    "\n",
    "$$\n",
    "v=\\frac{r_x-r^2}{1-r^2}\n",
    "$$\n",
    "\n",
    "Note that the expression for $v$ is equivalent to the expression for $\\rho_{k,j}=\\lambda_k \\lambda_j$ in Beaulieu & Hemachandra (2011)."
   ]
  },
  {
   "cell_type": "markdown",
   "metadata": {},
   "source": [
    "We begin by sampling directly from the conditional distribution of $E_1$ and $E_2$ given $E_3$. "
   ]
  },
  {
   "cell_type": "code",
   "execution_count": 7,
   "metadata": {},
   "outputs": [],
   "source": [
    "rng = default_rng()\n",
    "r   = 0.9\n",
    "rx  = 0.99\n",
    "Eref = 2\n",
    "mean= np.asarray([r*Eref, r*Eref, 0, 0]) # conditional mean, equal to r * E3\n",
    "\n",
    "cov = 0.5*\\\n",
    "    np.asarray([[ 1-r**2, rx-r**2,0,      0      ],\\\n",
    "                [rx-r**2,  1-r**2,0,      0      ],\\\n",
    "                [0,        0,     1-r**2, rx-r**2],\\\n",
    "                [0,        0,    rx-r**2,  1-r**2]])\n",
    "vals = rng.multivariate_normal(mean,cov,10000000)\n",
    "R1_sq=vals[:,0]**2 + vals[:,2]**2\n",
    "R2_sq=vals[:,1]**2 + vals[:,3]**2\n"
   ]
  },
  {
   "cell_type": "markdown",
   "metadata": {},
   "source": [
    "Implementing eq. 15 of Abu-Dayya and Beaulieu--see ```bivariate_tools.Bivariate_Rice```"
   ]
  },
  {
   "cell_type": "code",
   "execution_count": 24,
   "metadata": {},
   "outputs": [],
   "source": [
    "# R3 = np.sqrt(float(mean[0]**2 + mean[2]**2))  # r*E3\n",
    "E3 = 0.6\n",
    "R3 = r*E3\n",
    "K  = R3**2    /(1-r**2)\n",
    "p1 = 2        /(1-r**2)\n",
    "v  = (rx-r**2)/(1-r**2)"
   ]
  },
  {
   "cell_type": "markdown",
   "metadata": {},
   "source": [
    "**I implemented this as follows**"
   ]
  },
  {
   "cell_type": "code",
   "execution_count": 25,
   "metadata": {},
   "outputs": [
    {
     "name": "stdout",
     "output_type": "stream",
     "text": [
      "7.335886514453257e-22\n",
      "7.335886514453257e-22\n"
     ]
    }
   ],
   "source": [
    "R1=0.2\n",
    "R2=1.2\n",
    "print(bivariate_tools.Bivariate_Rice(R1,R2,K,p1,v))\n",
    "print(bivariate_tools.Bivariate_Rice_wrapper(E1=R1, E2=R2, rx=rx, Sigma=1.0, E3=E3, r=r))"
   ]
  },
  {
   "cell_type": "code",
   "execution_count": null,
   "metadata": {},
   "outputs": [],
   "source": [
    "nx, ny = (200,200)\n",
    "xy_max = 6\n",
    "xbase  = np.linspace(0.001, xy_max, nx)\n",
    "ybase  = np.linspace(0.001, xy_max, ny)\n",
    "xx,yy  = np.meshgrid(xbase,ybase)\n",
    "y_in   = np.transpose(np.array([xx.flatten(), yy.flatten()]))\n",
    "print(y_in.shape)\n",
    "\n",
    "t1_start = perf_counter()  \n",
    "result = np.zeros((nx,ny))\n",
    "for i in range(nx):\n",
    "    for j in range(ny):\n",
    "        result[i,j] = bivariate_tools.Bivariate_Rice(xbase[i],ybase[j],K,p1,v)\n",
    "t1_end = perf_counter()  \n",
    "\n",
    "print(f\"Elapsed time: {t1_end-t1_start:.3} s\")\n",
    "print(f\"Integrated probability density: {np.sum(result[:])*((xy_max/nx)*(xy_max/ny)):.4}\")"
   ]
  },
  {
   "cell_type": "code",
   "execution_count": null,
   "metadata": {},
   "outputs": [],
   "source": [
    "(xmax,ymax) = (xy_max,xy_max)\n",
    "xedges = np.linspace(0,xmax,nx+1)\n",
    "yedges = np.linspace(0,ymax,ny+1)\n",
    "Hx_emp, xedges, yedges = np.histogram2d(np.sqrt(R1_sq), np.sqrt(R2_sq), bins=(xedges, yedges),density=True)\n",
    "\n",
    "plt.figure(figsize=(16,5))                         \n",
    "plt.subplot(1,3,1)        \n",
    "plt.imshow(Hx_emp, interpolation='none', extent=[0,xmax,0,ymax],origin='lower')\n",
    "plt.xlabel(r\"x=$\\sqrt{E_{1x}^2+E_{1y}^2}$\"); plt.ylabel(r\"y=$\\sqrt{E_{2x}^2+E_{2y}^2}$\")\n",
    "plt.text(1.5,6.2,\"Empirical 2D\")\n",
    "plt.colorbar(); \n",
    "\n",
    "plt.subplot(1,3,2)        \n",
    "plt.imshow(result, interpolation='none', extent=[0,xmax,0,ymax],origin='lower')\n",
    "plt.text(1.5,6.2,\"Bivariate Rice\")\n",
    "plt.colorbar()\n",
    "                         \n",
    "plt.subplot(1,3,3)\n",
    "plt.imshow(Hx_emp-result, interpolation='none', extent=[0,xmax,0,ymax],origin='lower',vmin=-0.05,vmax=0.05)\n",
    "plt.text(1.5,6.2,\"Difference\")\n",
    "plt.colorbar(); plt.show()"
   ]
  },
  {
   "cell_type": "markdown",
   "metadata": {},
   "source": [
    "A look at asymptotic normal approximations"
   ]
  },
  {
   "cell_type": "code",
   "execution_count": null,
   "metadata": {},
   "outputs": [],
   "source": [
    "plt.plot(xbase,np.log((6/200)*np.sum(result,axis=0)),label=\"Rice (marginal)\")\n",
    "loc=np.sqrt(np.sum(mean[[0,2]]**2))\n",
    "\n",
    "plt.plot(xbase,np.log(norm.pdf(xbase,loc=loc, scale=0.5)),'r--',label=\"Normal(0.5,0.5)\")\n",
    "plt.ylabel(\"log(PDF)\")\n",
    "plt.xlabel(\"|E_1|\")\n",
    "plt.legend()\n",
    "plt.show()"
   ]
  },
  {
   "cell_type": "code",
   "execution_count": null,
   "metadata": {},
   "outputs": [],
   "source": [
    "plt.figure(figsize=(8,5))\n",
    "plt.hist(R1_sq-R2_sq,100, density=True)\n",
    "plt.yscale(\"log\")\n",
    "xl=plt.xlim()\n",
    "yl=plt.ylim()\n",
    "\n",
    "x=np.linspace(0.85*xl[0],0.85*xl[1],100)\n",
    "y1=   norm.pdf(x,0,np.std(R1_sq-R2_sq))\n",
    "y2=laplace.pdf(x,0,np.std(R1_sq-R2_sq)/np.sqrt(2))\n",
    "\n",
    "plt.plot(x,y1,'r-')\n",
    "plt.plot(x,y2,'m-')\n",
    "plt.ylim(yl)\n",
    "ref=\"{ref}\"\n",
    "plt.title(f\"$r$={r}, $r_x$={rx}, $E_{ref}$ = {Eref}, std($\\Delta F$)={np.std(R1_sq-R2_sq):.2}\")\n",
    "plt.xlabel(r\"$\\Delta |F|$\")\n",
    "plt.grid()\n",
    "plt.plot()"
   ]
  },
  {
   "cell_type": "markdown",
   "metadata": {},
   "source": [
    "## Centric case\n",
    "Following https://en.wikipedia.org/wiki/Multivariate_normal_distribution#Conditional_distributions, \n",
    "\n",
    "$$\n",
    "P\\left(E_{1c},E_{2c} | E_{3c}\\right) = N\\left(r E_{3c},C_{1c|3c}\\right)\n",
    "$$\n",
    "\n",
    "with \n",
    "\n",
    "$$\n",
    "C_{1c|3c} = \n",
    "\\begin{bmatrix}\n",
    "1   -r^2 & r_x -r^2 \\\\\n",
    "r_x -r^2 & 1   -r^2         \n",
    "\\end{bmatrix}\n",
    "$$"
   ]
  },
  {
   "cell_type": "markdown",
   "metadata": {},
   "source": [
    "We then have that \n",
    "\n",
    "$$\n",
    "P\\left(|E_{1c}|,|E_{2c}| | |E_{3c}|\\right) = P\\left(E_{1c},E_{2c} | E_{3c}\\right) + \n",
    "                                             P\\left(-E_{1c},E_{2c} | E_{3c}\\right) +\n",
    "                                             P\\left(E_{1c},-E_{2c} | E_{3c}\\right) +\n",
    "                                             P\\left(-E_{1c},-E_{2c} | E_{3c}\\right)\n",
    "$$\n",
    "\n",
    "There should not be any need to further simplify this."
   ]
  },
  {
   "cell_type": "code",
   "execution_count": 32,
   "metadata": {},
   "outputs": [
    {
     "name": "stdout",
     "output_type": "stream",
     "text": [
      "0.014525491273855108\n",
      "0.014525491273855108\n"
     ]
    }
   ],
   "source": [
    "r   = 0.7\n",
    "rx  = 0.9\n",
    "mean= np.asarray([1.5,1.5])\n",
    "cov = np.asarray([[ 1-r**2, rx-r**2],\\\n",
    "                  [rx-r**2,  1-r**2]])\n",
    "\n",
    "print(bivariate_tools.FoldedNorm2D_wrapper(3, 2, rx=rx, Sigma=1.0, E3=1.5, r=r))\n",
    "print(bivariate_tools.FoldedNorm2D(3,2, mean, cov))"
   ]
  },
  {
   "cell_type": "code",
   "execution_count": 33,
   "metadata": {},
   "outputs": [
    {
     "name": "stdout",
     "output_type": "stream",
     "text": [
      "[[0.51 0.41]\n",
      " [0.41 0.51]]\n"
     ]
    },
    {
     "data": {
      "image/png": "[encoded data removed]",
      "text/plain": [
       "<Figure size 432x288 with 1 Axes>"
      ]
     },
     "metadata": {
      "needs_background": "light"
     },
     "output_type": "display_data"
    }
   ],
   "source": [
    "rng = default_rng()\n",
    "\n",
    "print(cov)\n",
    "vals = rng.multivariate_normal(mean,cov,10000000)\n",
    "R1_abs=np.abs(vals[:,0])\n",
    "R2_abs=np.abs(vals[:,1])\n",
    "\n",
    "plt.hist(R1_abs,50,density=True)\n",
    "plt.show()"
   ]
  },
  {
   "cell_type": "code",
   "execution_count": 34,
   "metadata": {},
   "outputs": [
    {
     "name": "stdout",
     "output_type": "stream",
     "text": [
      "(10000, 2)\n",
      "[[0.51 0.41]\n",
      " [0.41 0.51]]\n",
      "(100, 100)\n",
      "Elapsed time: 0.0036 s\n",
      "Integrated probability density: 0.985\n"
     ]
    }
   ],
   "source": [
    "nx, ny = (100,100)\n",
    "xy_max = 4\n",
    "xbase  = np.linspace(0.001, xy_max, nx)\n",
    "ybase  = np.linspace(0.001, xy_max, ny)\n",
    "xx,yy  = np.meshgrid(xbase,ybase)\n",
    "y_in   = np.transpose(np.array([xx.flatten(), yy.flatten()]))\n",
    "print(y_in.shape)\n",
    "\n",
    "t1_start = perf_counter()  \n",
    "result = bivariate_tools.FoldedNorm2D_all(y_in[:,0].reshape(-1,1), y_in[:,1].reshape(-1,1), mean, cov)\n",
    "result = result.reshape(nx,ny)\n",
    "print(result.shape)\n",
    "t1_end = perf_counter()  \n",
    "\n",
    "print(f\"Elapsed time: {t1_end-t1_start:.3} s\")\n",
    "print(f\"Integrated probability density: {np.sum(result[:])*((xy_max/nx)*(xy_max/ny)):.3}\")"
   ]
  },
  {
   "cell_type": "code",
   "execution_count": null,
   "metadata": {},
   "outputs": [],
   "source": [
    "xedges = np.linspace(0,4,101)\n",
    "yedges = np.linspace(0,4,101)\n",
    "Hx_emp, xedges, yedges = np.histogram2d(R1_abs, R2_abs, bins=(xedges, yedges),density=True)\n",
    "\n",
    "plt.figure(figsize=(16,5))                         \n",
    "plt.subplot(1,3,1)        \n",
    "plt.text(1,4.2,\"Empirical 2D\")\n",
    "plt.imshow(Hx_emp, interpolation='none', extent=[0,4,0,4],origin='lower')\n",
    "plt.xlabel(r\"x=$|E_1|$\"); plt.ylabel(r\"y=$|E_2|$\")\n",
    "plt.colorbar(); \n",
    "\n",
    "plt.subplot(1,3,2)        \n",
    "plt.imshow(result, interpolation='none', extent=[0,4,0,4],origin='lower')\n",
    "plt.text(0.2,4.2,\"Bivariate Folded Normal\")\n",
    "plt.colorbar()\n",
    "                         \n",
    "plt.subplot(1,3,3)\n",
    "plt.imshow(Hx_emp-result, interpolation='none', extent=[0,4,0,4],origin='lower',vmin=-0.05,vmax=0.05)\n",
    "plt.text(1,4.2,\"Difference\")\n",
    "plt.colorbar(); plt.show()"
   ]
  },
  {
   "cell_type": "markdown",
   "metadata": {},
   "source": []
  },
  {
   "cell_type": "markdown",
   "metadata": {},
   "source": [
    "## Posterior bivariate phase distributions"
   ]
  },
  {
   "cell_type": "markdown",
   "metadata": {},
   "source": [
    "In the case where we want infer $E_{on}$ and $E_{off}$ the joint distribution of $\\phi_{on}$ and $\\phi_{off}$ conditional on $|E_{on}|$ and $|E_{off}|$ seem to always be unimodal with positive correlation between $\\phi_{on}$ and $\\phi_{off}$."
   ]
  },
  {
   "cell_type": "code",
   "execution_count": null,
   "metadata": {},
   "outputs": [],
   "source": [
    "rng = default_rng()\n",
    "r   = 0.8\n",
    "rx  = 0.9\n",
    "mean= np.asarray([2,2,0,0])\n",
    "cov = 0.5*\\\n",
    "    np.asarray([[ 1-r**2, rx-r**2,0,      0      ],\\\n",
    "                [rx-r**2,  1-r**2,0,      0      ],\\\n",
    "                [0,        0,     1-r**2, rx-r**2],\\\n",
    "                [0,        0,    rx-r**2,  1-r**2]])\n",
    "vals = rng.multivariate_normal(mean,cov,10000000)\n",
    "phi1= np.angle(vals[:,0] + 1j*vals[:,2])\n",
    "phi2= np.angle(vals[:,1] + 1j*vals[:,3])\n",
    "R1_sq=vals[:,0]**2 + vals[:,2]**2\n",
    "R2_sq=vals[:,1]**2 + vals[:,3]**2"
   ]
  },
  {
   "cell_type": "code",
   "execution_count": null,
   "metadata": {},
   "outputs": [],
   "source": [
    "xedges = np.linspace(-np.pi,np.pi,101)\n",
    "yedges = np.linspace(-np.pi,np.pi,101)\n",
    "Hx_emp, xedges, yedges = np.histogram2d(phi1, phi2, bins=(xedges, yedges),density=True)\n",
    "\n",
    "plt.imshow(Hx_emp, interpolation='none', extent=[-3.142,3.142,-3.142,3.142],origin='lower')\n",
    "plt.title(\"2D histogram of phases\")\n",
    "plt.xlabel(r\"$\\varphi_1$\")\n",
    "plt.ylabel(r\"$\\varphi_2$\")\n",
    "plt.show()"
   ]
  },
  {
   "cell_type": "markdown",
   "metadata": {},
   "source": [
    "Looking at conditional distributions given $|E_1|$ and $|E_2|$.  "
   ]
  },
  {
   "cell_type": "code",
   "execution_count": null,
   "metadata": {
    "scrolled": true
   },
   "outputs": [],
   "source": [
    "sig=0.5\n",
    "E1 = 3\n",
    "E2 = 3\n",
    "phi1_sub = phi1[((R1_sq-E1**2) < sig) & ((R2_sq-E2**2) < sig)]\n",
    "phi2_sub = phi2[((R1_sq-E1**2) < sig) & ((R2_sq-E2**2) < sig)]\n",
    "\n",
    "Hx_emp, xedges, yedges = np.histogram2d(phi1_sub, phi2_sub, bins=(xedges, yedges),density=True)\n",
    "\n",
    "plt.imshow(Hx_emp, interpolation='none', extent=[-3.142,3.142,-3.142,3.142],origin='lower')\n",
    "plt.show()"
   ]
  },
  {
   "cell_type": "markdown",
   "metadata": {},
   "source": [
    "### Coppens Model"
   ]
  },
  {
   "cell_type": "markdown",
   "metadata": {},
   "source": [
    "Considering $E^{gs}$ and $E^{es}$ instead, we'll use the following generative model. Let $(E_{gs,x},E_{es,x},E_{3,x},E_{gs,y},E_{es,y},E_{3,y})$ have the following joint distribution:\n",
    "\n",
    "$$\n",
    "(E_{gs,x},E_{es,x},E_{3,x},E_{gs,y},E_{es,y},E_{3,y})\\sim N\\left(\\mu=0,C\\right)\n",
    "$$\n",
    "\n",
    "with covariance matrix\n",
    "\n",
    "$$\n",
    "C = \\frac{1}{2}\n",
    "\\begin{bmatrix}\n",
    "1      & r_x    & r_{gs} & 0      & 0      & 0  \\\\\n",
    "r_x    & 1      & r_{es} & 0      & 0      & 0  \\\\\n",
    "r_{gs} & r_{es} & 1      & 0      & 0      & 0  \\\\\n",
    "0      & 0      & 0      & 1      & r_x    & r_{gs}  \\\\\n",
    "0      & 0      & 0      & r_x    & 1      & r_{es}  \\\\\n",
    "0      & 0      & 0      & r_{gs} & r_{es} & 1  \n",
    "\\end{bmatrix}\n",
    "$$\n",
    "\n",
    "$$\n",
    "P\\left(E_{gs,x},E_{es,x},E_{3,x},E_{gs,y}|E_{es,y},E_{3,y}\\right)\\sim N\\left(\\mu=(r_{gs},r_{es})^T E_3,C_{gs,es|3}\\right)\n",
    "$$\n",
    "\n",
    "with \n",
    "\n",
    "$$\n",
    "C_{gs,es|3} = \\frac{1}{2}\n",
    "\\begin{bmatrix}\n",
    "1-r_{gs}^2          & r_x - r_{gs}r_{es} & 0      & 0  \\\\\n",
    "r_x - r_{gs}r_{es}  & 1   - r_{es}^2     & 0      & 0  \\\\\n",
    "0                   & 0                  & 1-r_{gs}^2          & r_x - r_{gs}r_{es}  \\\\\n",
    "0                   & 0                  & r_x - r_{gs}r_{es}  & 1   - r_{es}^2    \n",
    "\\end{bmatrix}\n",
    "$$\n",
    "\n",
    "where we assumed, without loss of generality, that the phase of $E_3$ is zero (so all phases below are really phase differences relative to the phase of $E_3$!). Note that when $r_x=r_{es} \\times r_{gs}$, there are no correlations between $E_{gs}$ and $E_{es}$ beyond their joint correlation with the reference data set. \n"
   ]
  },
  {
   "cell_type": "markdown",
   "metadata": {},
   "source": [
    "The next step is to postulate that in our measurements, $E_{off}=E_{gs}$ and $E_{on} = (1-p)E_{gs}+p E_{es}$."
   ]
  },
  {
   "cell_type": "code",
   "execution_count": null,
   "metadata": {},
   "outputs": [],
   "source": [
    "# for example\n",
    "p    = 0.3\n",
    "r_es = 0.9\n",
    "r_gs = 0.96\n",
    "rx   = 0.95\n",
    "E3   = 1.5\n",
    "# warning: it is possible to specify inconsistent combinations here that yield covariance matrices that are not positive definite"
   ]
  },
  {
   "cell_type": "markdown",
   "metadata": {},
   "source": [
    "### Simulated data"
   ]
  },
  {
   "cell_type": "code",
   "execution_count": null,
   "metadata": {},
   "outputs": [],
   "source": [
    "rng = default_rng()\n",
    "\n",
    "mean= np.asarray([r_gs*E3,r_es*E3,0,0])\n",
    "cov = 0.5*\\\n",
    "    np.asarray([[ 1-r_gs*r_gs, rx -r_es*r_gs, 0,            0      ],\\\n",
    "                [rx-r_es*r_gs,  1 -r_es*r_es,   0,            0      ],\\\n",
    "                [0,           0,              1 -r_gs*r_gs, rx-r_gs*r_es],\\\n",
    "                [0,           0,              rx-r_gs*r_es,  1-r_es*r_es]])\n",
    "print(cov)\n",
    "lam,V = np.linalg.eig(cov)\n",
    "print(lam)\n",
    "vals   = rng.multivariate_normal(mean,cov,10000000)\n",
    "E_gs   = vals[:,0] + 1j * vals[:,2]\n",
    "E_es   = vals[:,1] + 1j * vals[:,3]\n",
    "E_off  = E_gs\n",
    "E_on   = (1-p)*E_gs + p*E_es\n",
    "phi_on = np.angle(E_off)\n",
    "phi_off= np.angle(E_on)\n",
    "E_off_abs = np.abs(E_off)\n",
    "E_on_abs  = np.abs(E_on)"
   ]
  },
  {
   "cell_type": "code",
   "execution_count": null,
   "metadata": {},
   "outputs": [],
   "source": [
    "plt.figure(figsize=(14,5))\n",
    "plt.subplot(1,2,1)\n",
    "plt.hist(E_off_abs,100,density=True); plt.xlim((0,3))\n",
    "plt.grid(); xl = plt.xlim()\n",
    "plt.title(\"Distribution of E_off\")\n",
    "\n",
    "plt.subplot(1,2,2)\n",
    "plt.hist(E_on_abs,100,density=True); plt.xlim((0,3))\n",
    "plt.title(\"Distribution of E_on\")\n",
    "plt.xlim(xl); plt.grid(); plt.show()"
   ]
  },
  {
   "cell_type": "code",
   "execution_count": null,
   "metadata": {
    "scrolled": true
   },
   "outputs": [],
   "source": [
    "xedges = np.linspace(-np.pi,np.pi,401)\n",
    "yedges = np.linspace(-np.pi,np.pi,401)\n",
    "Hx_emp, xedges, yedges = np.histogram2d(phi_on, phi_off, bins=(xedges, yedges),density=True)\n",
    "\n",
    "lims = 3*np.array([-1,1])\n",
    "diag = np.pi*np.array([-1.,1.])\n",
    "\n",
    "plt.figure(figsize=(14,5))\n",
    "plt.subplot(1,2,1)\n",
    "plt.imshow(Hx_emp, interpolation='none', extent=[-3.142,3.142,-3.142,3.142],origin='lower')\n",
    "plt.plot(diag,diag,'r-')\n",
    "plt.xlim(lims); plt.ylim(lims); plt.title(\"Joint phase distribution conditional on E3\")\n",
    "\n",
    "sig= 0.3\n",
    "E1 = 2\n",
    "E2 = 2 # try 1.3 or 2.5 for extremes for (p=0.3, r_es=0.9, r_gs=0.95, rx=r_es*r_gs, E3=2)\n",
    "selection = (np.abs(E_off_abs-E1) < sig) & (np.abs(E_on_abs-E2) < sig)\n",
    "phi1_sub = phi_on[ selection ]\n",
    "phi2_sub = phi_off[selection]\n",
    "\n",
    "plt.subplot(1,2,2)\n",
    "Hx_emp, xedges, yedges = np.histogram2d(phi1_sub, phi2_sub, bins=(xedges, yedges),density=True)\n",
    "plt.imshow(Hx_emp, interpolation='none', extent=[-3.142,3.142,-3.142,3.142],origin='lower')\n",
    "plt.plot(diag,diag,'r-')\n",
    "plt.xlim(lims); plt.ylim(lims); plt.title(\"Joint phase distribution conditional on E3 AND |E_on|,|E_off|\")\n",
    "plt.show()"
   ]
  },
  {
   "cell_type": "code",
   "execution_count": null,
   "metadata": {},
   "outputs": [],
   "source": [
    "plt.figure(figsize=(12,4))\n",
    "plt.subplot(1,2,1)\n",
    "plt.hist(phi_on-phi_off,100,density=True); \n",
    "plt.title(\"Distribution of phi_on-phi_off\")\n",
    "plt.grid()\n",
    "\n",
    "plt.subplot(1,2,2)\n",
    "plt.hist(phi1_sub-phi2_sub,100,density=True); \n",
    "plt.title(\"Cond. Distribution of phi_on-phi_off\")\n",
    "plt.grid()\n",
    "\n",
    "plt.show()\n",
    "print(np.mean(phi1_sub-phi2_sub))"
   ]
  },
  {
   "cell_type": "markdown",
   "metadata": {},
   "source": [
    "For any realistic scenario above, I always end up with positively correlated phases, a single mode, and mean 0."
   ]
  },
  {
   "cell_type": "markdown",
   "metadata": {},
   "source": [
    "### Bivariate torus folded normal (BTFN) & Bivariate torus folded Student _t_ (BVTFST!)\n",
    "See ```bivariate_tools.py```"
   ]
  },
  {
   "cell_type": "markdown",
   "metadata": {},
   "source": [
    "### Evaluation and comparison to simulated data"
   ]
  },
  {
   "cell_type": "code",
   "execution_count": null,
   "metadata": {},
   "outputs": [],
   "source": [
    "nx, ny = (1000,1000)\n",
    "xbase  = np.linspace(-np.pi, np.pi, nx)\n",
    "ybase  = np.linspace(-np.pi, np.pi, ny)\n",
    "dx     = (xbase[-1]-xbase[0])/nx\n",
    "dy     = (ybase[-1]-ybase[0])/ny\n",
    "xx,yy  = np.meshgrid(xbase,ybase)\n",
    "y_in   = np.transpose(np.array([xx.flatten(), yy.flatten()]))\n",
    "print(y_in.shape)\n",
    "\n",
    "t1_start = perf_counter()  \n",
    "# result = sin_BVM(y_in,k1=k1,k2=k2,lam=lam,mu=0,nu=0)\n",
    "# result = cos_pos_BVM(y_in,k1=k1,k2=k2,k3=k3,mu=0,nu=0)\n",
    "# result = result/(dx*dy*np.sum(result[:]))\n",
    "tmp=np.cov(phi_off,phi_on)\n",
    "tmp[1,1]= 0.85*tmp[1,1]\n",
    "tmp[0,1]=0.932*np.sqrt(tmp[0,0]*tmp[1,1])\n",
    "tmp[1,0]=0.932*np.sqrt(tmp[0,0]*tmp[1,1])\n",
    "result = bivariate_tools.BVTFST(y_in,tmp,df=8)\n",
    "t1_end = perf_counter() \n",
    "print(f\"time elapsed: {t1_end-t1_start:.4} s.\")"
   ]
  },
  {
   "cell_type": "code",
   "execution_count": null,
   "metadata": {},
   "outputs": [],
   "source": [
    "xedges = np.linspace(-np.pi,np.pi,nx+1)\n",
    "yedges = np.linspace(-np.pi,np.pi,ny+1)\n",
    "Hx_emp, xedges, yedges = np.histogram2d(phi_on, phi_off, bins=(xedges, yedges),density=True)\n",
    "\n",
    "lims = 3.14*np.array([-1,1])/2\n",
    "diag = np.pi*np.array([-1.,1.])\n",
    "\n",
    "plt.figure(figsize=(16,5))\n",
    "plt.subplot(1,3,1)\n",
    "plt.imshow(Hx_emp, interpolation='none', extent=[-3.142,3.142,-3.142,3.142],origin='lower')\n",
    "plt.plot(diag,diag,'r-')\n",
    "plt.xlim(lims); plt.ylim(lims); plt.title(\"Joint phase dist. | E3\"); plt.xlabel(r\"$\\phi_{off}$\"); plt.ylabel(r\"$\\phi_{on}$\")\n",
    "plt.colorbar(); \n",
    "\n",
    "plt.subplot(1,3,2)        \n",
    "plt.imshow(result.reshape(nx,ny), interpolation='none', extent=[-np.pi,np.pi,-np.pi,np.pi],origin='lower')\n",
    "plt.plot(diag,diag,'r-')\n",
    "plt.xlim(lims); plt.ylim(lims); plt.colorbar(); plt.xlabel(r\"$\\phi_{off}$\"); plt.ylabel(r\"$\\phi_{on}$\")\n",
    "                         \n",
    "plt.subplot(1,3,3)\n",
    "plt.imshow(Hx_emp-result.reshape(nx,ny), interpolation='none',extent=[-np.pi,np.pi,-np.pi,np.pi],origin='lower')\n",
    "plt.plot(diag,diag,'r-')\n",
    "plt.colorbar(); plt.show()\n",
    "\n",
    "print(np.sum((2*np.pi/nx)*(2*np.pi/ny) * result[:]))"
   ]
  },
  {
   "cell_type": "markdown",
   "metadata": {},
   "source": [
    "For some parameter combinations, we see that the ON phases vary more widely than the OFF phases, resulting in a steeper-than-1 slope."
   ]
  },
  {
   "cell_type": "code",
   "execution_count": null,
   "metadata": {},
   "outputs": [],
   "source": [
    "rho=0.9\n",
    "plt.figure(figsize=(8,6))\n",
    "\n",
    "k_range  = [0.1,  0.2, 0.5, 1]#,  2,  4,  8]\n",
    "kp_range = [0.11,  0.2, 0.45, 0.8] #,1.5,3.2,7]\n",
    "offset_range = np.array([k/30 for k in k_range])\n",
    "print(offset_range)\n",
    "for i in range(len(k_range)):\n",
    "    k  = k_range[ i]\n",
    "    kp = kp_range[i]\n",
    "    offset = offset_range[i]\n",
    "    cov = k*np.array([[1,rho],[rho,1]])\n",
    "    result = bivariate_tools.BVTFST(y_in,cov,mu=0,nu=0,df=8)\n",
    "#     result = bivariate_tools.BTFN(y_in,cov,mu=0,nu=0)\n",
    "#     result = offset/(2*np.pi) + (1-offset)*result\n",
    "    p = plt.plot(xbase, np.sum((2*np.pi/ny)*result.reshape(nx,ny),axis=1),label=f\"k={k}\")\n",
    "    plt.plot(xbase, vonmises.pdf(xbase,kappa=1/kp,loc=0),color=p[0].get_color(),linestyle='dashed')\n",
    "yl=plt.ylim()\n",
    "plt.legend(); plt.ylabel(\"density\"); plt.xlabel(\"phase\"); plt.title(r\"marginal 2D BVTFN; dashed: Von Mises\")\n",
    "plt.ylim((0,1.02*yl[1]))\n",
    "plt.yscale(\"log\"); plt.ylim([0.0005,2])\n",
    "plt.show()"
   ]
  },
  {
   "cell_type": "code",
   "execution_count": null,
   "metadata": {},
   "outputs": [],
   "source": []
  }
 ],
 "metadata": {
  "kernelspec": {
   "display_name": "Python [conda env:.conda-crystallography] *",
   "language": "python",
   "name": "conda-env-.conda-crystallography-py"
  },
  "language_info": {
   "codemirror_mode": {
    "name": "ipython",
    "version": 3
   },
   "file_extension": ".py",
   "mimetype": "text/x-python",
   "name": "python",
   "nbconvert_exporter": "python",
   "pygments_lexer": "ipython3",
   "version": "3.8.8"
  },
  "toc": {
   "base_numbering": 1,
   "nav_menu": {},
   "number_sections": true,
   "sideBar": false,
   "skip_h1_title": false,
   "title_cell": "Table of Contents",
   "title_sidebar": "Contents",
   "toc_cell": false,
   "toc_position": {
    "height": "831px",
    "left": "25px",
    "top": "110px",
    "width": "340px"
   },
   "toc_section_display": true,
   "toc_window_display": true
  }
 },
 "nbformat": 4,
 "nbformat_minor": 4
}
