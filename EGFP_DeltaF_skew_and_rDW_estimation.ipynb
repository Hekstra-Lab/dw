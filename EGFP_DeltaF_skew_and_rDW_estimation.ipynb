{
 "cells": [
  {
   "cell_type": "code",
   "execution_count": 26,
   "id": "ultimate-concrete",
   "metadata": {},
   "outputs": [],
   "source": [
    "import reciprocalspaceship as rs\n",
    "import numpy as np\n",
    "from matplotlib import pyplot as plt\n",
    "from mpl_toolkits    import mplot3d\n",
    "import gemmi\n",
    "from dw_tools import modify_ds, wilson, plots, fitting_dw, map_prep_tools"
   ]
  },
  {
   "cell_type": "code",
   "execution_count": 2,
   "id": "selective-trailer",
   "metadata": {},
   "outputs": [],
   "source": [
    "from sklearn.neural_network import MLPRegressor\n",
    "from sklearn.datasets import make_regression\n",
    "from sklearn.model_selection import train_test_split"
   ]
  },
  {
   "cell_type": "code",
   "execution_count": 3,
   "id": "traditional-label",
   "metadata": {},
   "outputs": [],
   "source": [
    "%load_ext autoreload\n",
    "%autoreload 2"
   ]
  },
  {
   "cell_type": "markdown",
   "id": "annoying-advocacy",
   "metadata": {},
   "source": [
    "## Description\n",
    "In this notebook, we determine\n",
    "- the difference in mean value between LQ92 ON and OFF data as a function of resolution and OFF amplitude\n",
    "- the double-wilson correlation parameters $a$ and $b$ between ON and OFF data\n",
    "\n",
    "**Preparatory Steps**\n",
    "1. The ON and OFF data were scaled together in abismal.\n",
    "2. The ON, OFF, SSRL, and 4EUL structure factors were normalized in DW notebook 1: **1_Dataset_prep_and_local_scaling.ipynb**\n",
    "3. rDW parameters were determined in **3_Fitting_DW_to_paired_data** (LCLS/off v 4EUL or SSRL; SSRL was better after phenix filter) or in this notebook (ON v OFF, below)\n"
   ]
  },
  {
   "cell_type": "code",
   "execution_count": 4,
   "id": "organized-corps",
   "metadata": {},
   "outputs": [],
   "source": [
    "path = \"C:\\\\Users\\\\Doeke Hekstra\\\\Documents\\\\Lab_Hekstra\\\\Lab_projects\\\\Hekstra Doeke THz\\\\LQ92_EGFP_300fs\\\\\"\n",
    "fname_off = \"off_scaled_sigp4.mtz\"\n",
    "fname_on  = \"on_scaled_sigp4.mtz\""
   ]
  },
  {
   "cell_type": "markdown",
   "id": "forbidden-mason",
   "metadata": {},
   "source": [
    "### Mapping the ASUs\n",
    "Since the ON and OFF data were merged into P21 1 1 and P21 21 21 respectively, we need to figure out how to expand the OFF data to match the ON data. Ideally, we can take that information from scaling. Here, we look at reciprocal space coverage for both datasets."
   ]
  },
  {
   "cell_type": "code",
   "execution_count": 5,
   "id": "later-payday",
   "metadata": {},
   "outputs": [],
   "source": [
    "ds_off=rs.read_mtz(path+fname_off)\n",
    "modify_ds.ds_add_rs(ds_off)\n",
    "\n",
    "# plt.ion; fig = plt.figure(figsize=(6,6))\n",
    "# ax = plt.axes(projection=\"3d\")\n",
    "# ax.scatter3D(ds_off[\"rs_a\"], ds_off[\"rs_b\"], ds_off[\"rs_c\"],alpha=0.01)\n",
    "# ax.view_init(elev=0., azim=1200.)\n",
    "# ax.set_xlabel(\"rs_a\"); ax.set_ylabel(\"rs_b\"); ax.set_zlabel(\"rs_c\")\n",
    "# plt.draw()"
   ]
  },
  {
   "cell_type": "code",
   "execution_count": 6,
   "id": "cultural-mayor",
   "metadata": {},
   "outputs": [
    {
     "name": "stdout",
     "output_type": "stream",
     "text": [
      "<class 'reciprocalspaceship.dataset.DataSet'>\n",
      "MultiIndex: 42885 entries, (0, 0, 4) to (29, 9, 6)\n",
      "Data columns (total 19 columns):\n",
      " #   Column           Non-Null Count  Dtype                \n",
      "---  ------           --------------  -----                \n",
      " 0   F                42885 non-null  SFAmplitude          \n",
      " 1   SigF             42885 non-null  Stddev               \n",
      " 2   I                42885 non-null  Intensity            \n",
      " 3   SigI             42885 non-null  Stddev               \n",
      " 4   FP               42885 non-null  SFAmplitude          \n",
      " 5   SIGFP            42885 non-null  Stddev               \n",
      " 6   rs_a             42885 non-null  MTZReal              \n",
      " 7   rs_b             42885 non-null  MTZReal              \n",
      " 8   rs_c             42885 non-null  MTZReal              \n",
      " 9   dHKL             42885 non-null  MTZReal              \n",
      " 10  CENTRIC          42885 non-null  bool                 \n",
      " 11  EPSILON          42885 non-null  MTZInt               \n",
      " 12  EP_1_aniso_1     42885 non-null  NormalizedSFAmplitude\n",
      " 13  SIGEP_1_aniso_1  42885 non-null  Stddev               \n",
      " 14  EP_1_aniso_2     42885 non-null  NormalizedSFAmplitude\n",
      " 15  SIGEP_1_aniso_2  42885 non-null  Stddev               \n",
      " 16  EP_1_knn         42885 non-null  NormalizedSFAmplitude\n",
      " 17  SIGEP_1_knn      42885 non-null  Stddev               \n",
      " 18  SIGF             42885 non-null  Stddev               \n",
      "dtypes: Intensity(1), MTZInt(1), MTZReal(4), NormalizedSFAmplitude(3), SFAmplitude(2), Stddev(7), bool(1)\n",
      "memory usage: 5.9 MB\n"
     ]
    }
   ],
   "source": [
    "ds_on=rs.read_mtz(path+fname_on)\n",
    "ds_on[\"SIGF\"]=ds_on[\"SigF\"]\n",
    "modify_ds.ds_add_rs(ds_on)\n",
    "ds_on.info()\n",
    "\n",
    "# I used the following to figure out ASU mapping\n",
    "# plt.ion; fig = plt.figure(figsize=(6,6))\n",
    "# ax = plt.axes(projection=\"3d\")\n",
    "# ax.scatter3D(ds_on[\"rs_a\"], ds_on[\"rs_b\"], ds_on[\"rs_c\"],alpha=0.01)\n",
    "# ax.view_init(elev=0., azim=1200.)\n",
    "# ax.set_xlabel(\"rs_a\"); ax.set_ylabel(\"rs_b\"); ax.set_zlabel(\"rs_c\")\n",
    "# plt.draw()"
   ]
  },
  {
   "cell_type": "code",
   "execution_count": 7,
   "id": "parental-circumstances",
   "metadata": {},
   "outputs": [],
   "source": [
    "# ds_off.info()"
   ]
  },
  {
   "cell_type": "markdown",
   "id": "corresponding-wedding",
   "metadata": {},
   "source": [
    "#### Merging after mapping ASUs"
   ]
  },
  {
   "cell_type": "code",
   "execution_count": 8,
   "id": "liberal-working",
   "metadata": {},
   "outputs": [
    {
     "name": "stdout",
     "output_type": "stream",
     "text": [
      "<class 'reciprocalspaceship.dataset.DataSet'>\n",
      "MultiIndex: 42274 entries, (0, 0, 4) to (29, 9, -6)\n",
      "Data columns (total 19 columns):\n",
      " #   Column           Non-Null Count  Dtype                \n",
      "---  ------           --------------  -----                \n",
      " 0   F                42274 non-null  SFAmplitude          \n",
      " 1   SigF             42274 non-null  Stddev               \n",
      " 2   I                42274 non-null  Intensity            \n",
      " 3   SigI             42274 non-null  Stddev               \n",
      " 4   FP               42274 non-null  SFAmplitude          \n",
      " 5   SIGFP            42274 non-null  Stddev               \n",
      " 6   rs_a             42274 non-null  MTZReal              \n",
      " 7   rs_b             42274 non-null  MTZReal              \n",
      " 8   rs_c             42274 non-null  MTZReal              \n",
      " 9   dHKL             42274 non-null  MTZReal              \n",
      " 10  CENTRIC          42274 non-null  bool                 \n",
      " 11  EPSILON          42274 non-null  MTZInt               \n",
      " 12  EP_1_aniso_1     42274 non-null  NormalizedSFAmplitude\n",
      " 13  SIGEP_1_aniso_1  42274 non-null  Stddev               \n",
      " 14  EP_1_aniso_2     42274 non-null  NormalizedSFAmplitude\n",
      " 15  SIGEP_1_aniso_2  42274 non-null  Stddev               \n",
      " 16  EP_1_knn         42274 non-null  NormalizedSFAmplitude\n",
      " 17  SIGEP_1_knn      42274 non-null  Stddev               \n",
      " 18  SIGF             42274 non-null  Stddev               \n",
      "dtypes: Intensity(1), MTZInt(1), MTZReal(4), NormalizedSFAmplitude(3), SFAmplitude(2), Stddev(7), bool(1)\n",
      "memory usage: 5.9 MB\n",
      "Correlation coefficients:\n",
      "\n",
      "[[1.         0.93931812]\n",
      " [0.93931812 1.        ]]\n"
     ]
    }
   ],
   "source": [
    "ds_off = rs.read_mtz(path+fname_off) # re-reads this\n",
    "ds_off_expanded = ds_off.append(ds_off.apply_symop('x,y,-z')) # based on the above plots (rotation * Friedel)\n",
    "ds_off_expanded.spacegroup = ds_on.spacegroup \n",
    "ds_off_expanded[\"SIGF\"]=ds_off_expanded[\"SigF\"]\n",
    "ds_off_expanded[\"SIGF\"]=ds_off_expanded[\"SigF\"]\n",
    "ds_off_expanded.info()\n",
    "\n",
    "\n",
    "ds1_2 = ds_off_expanded.merge(ds_on, left_index=True, right_index=True, suffixes=(\"_off\", \"_on\"))\n",
    "ds1_2.compute_dHKL(inplace=True)\n",
    "ds1_2.label_centrics(inplace=True)\n",
    "ds1_2.compute_multiplicity(inplace=True)\n",
    "ds1_2, bin_labels = ds1_2.assign_resolution_bins(bins=20, inplace=True, return_labels=True);\n",
    "\n",
    "print(\"Correlation coefficients:\\n\")\n",
    "print(np.corrcoef(ds1_2[\"F_off\"],ds1_2[\"F_on\"]))\n",
    "\n",
    "# print(ds1_2[\"F_on\"].head()) # sanity check\n",
    "# print(ds_off_expanded[\"F\"].head())"
   ]
  },
  {
   "cell_type": "code",
   "execution_count": 9,
   "id": "martial-trance",
   "metadata": {},
   "outputs": [],
   "source": [
    "# ds1_2.info()"
   ]
  },
  {
   "cell_type": "markdown",
   "id": "reserved-helmet",
   "metadata": {},
   "source": [
    "### Examination of errors SIGFP"
   ]
  },
  {
   "cell_type": "code",
   "execution_count": 10,
   "id": "solid-pioneer",
   "metadata": {},
   "outputs": [],
   "source": [
    "# ds1_2.info()\n",
    "EP1_label = \"EP_1_aniso_1_off\"\n",
    "EP2_label = \"EP_1_aniso_1_on\"\n",
    "dHKL_label = \"dHKL\"\n",
    "dHKL_bin_label = \"bin\""
   ]
  },
  {
   "cell_type": "code",
   "execution_count": 11,
   "id": "sacred-commons",
   "metadata": {},
   "outputs": [
    {
     "data": {
      "image/png": "[encoded data removed]",
      "text/plain": [
       "<Figure size 432x288 with 1 Axes>"
      ]
     },
     "metadata": {
      "needs_background": "light"
     },
     "output_type": "display_data"
    }
   ],
   "source": [
    "result = ds1_2.groupby(dHKL_bin_label)[\"SIG\" + EP1_label].mean()\n",
    "plt.plot(result,'bo-', label=\"<SIG\" + EP1_label + \">\")\n",
    "result = ds1_2.groupby(dHKL_bin_label)[\"SIG\" + EP2_label].mean()\n",
    "plt.plot(result,'ro-', label=\"<SIG\" + EP2_label + \">\")\n",
    "plt.xticks(result.index, bin_labels, rotation=45, ha=\"right\", rotation_mode=\"anchor\")\n",
    "plt.xlabel(r\"Resolution Bin ($\\AA$)\")\n",
    "plt.ylabel(\"Avg. SIGEP\")\n",
    "plt.grid(linestyle='--')\n",
    "plt.ylim([0,plt.ylim()[1]]); plt.legend(); plt.show()"
   ]
  },
  {
   "cell_type": "markdown",
   "id": "conscious-editing",
   "metadata": {},
   "source": [
    "### Determination of Double-Wilson parameters\n",
    "This has only been established for normalized structure factors, so I should probably redo this."
   ]
  },
  {
   "cell_type": "code",
   "execution_count": 12,
   "id": "ranging-nepal",
   "metadata": {},
   "outputs": [
    {
     "name": "stdout",
     "output_type": "stream",
     "text": [
      "`xtol` termination condition is satisfied.\n",
      "Function evaluations 13, initial cost 4.6028e+00, final cost 5.2016e-02, first-order optimality 2.13e-06.\n",
      "0.988854759026095\n",
      "a: 0.9889\n",
      "b: 6.23e-15\n"
     ]
    }
   ],
   "source": [
    "(a,b) = fitting_dw.fit_ab(ds1_2,labels=[EP1_label,EP2_label],\\\n",
    "                          dHKL_label=dHKL_label, dHKL_bin_label=dHKL_bin_label)\n",
    "print(a)\n",
    "print(f\"a: {a:.4}\")\n",
    "print(f\"b: {b:.4}\")"
   ]
  },
  {
   "cell_type": "code",
   "execution_count": 13,
   "id": "extensive-basic",
   "metadata": {},
   "outputs": [],
   "source": [
    "fitting_dw.eff_r_dw_per_hkl(ds1_2,a,b,label=EP1_label, dHKL_label=dHKL_label, inplace=True);\n",
    "fitting_dw.eff_r_dw_per_hkl(ds1_2,a,b,label=EP2_label, dHKL_label=dHKL_label, inplace=True);"
   ]
  },
  {
   "cell_type": "code",
   "execution_count": 14,
   "id": "intellectual-kelly",
   "metadata": {},
   "outputs": [],
   "source": [
    "ds1_2.to_pickle(path + \"LQ92_OFF_expanded_ON_P21_w_rDW_aniso1.pkl\")"
   ]
  },
  {
   "cell_type": "code",
   "execution_count": 15,
   "id": "afraid-calgary",
   "metadata": {
    "scrolled": true
   },
   "outputs": [],
   "source": [
    "import pandas as pd\n",
    "test = pd.read_pickle(path + \"LQ92_OFF_expanded_ON_P21_w_rDW_aniso1.pkl\")\n",
    "# test.info()"
   ]
  },
  {
   "cell_type": "markdown",
   "id": "rational-membrane",
   "metadata": {},
   "source": [
    "### Learning the map from $d_{HKL}$ and $|E_{off}|$ to skew\n",
    "See https://scikit-learn.org/stable/modules/generated/sklearn.neural_network.MLPRegressor.html#sklearn.neural_network.MLPRegressor"
   ]
  },
  {
   "cell_type": "code",
   "execution_count": 16,
   "id": "occasional-inventory",
   "metadata": {},
   "outputs": [
    {
     "name": "stderr",
     "output_type": "stream",
     "text": [
      "C:\\Users\\Doeke Hekstra\\.conda\\envs\\crystallography\\lib\\site-packages\\sklearn\\utils\\validation.py:72: DataConversionWarning: A column-vector y was passed when a 1d array was expected. Please change the shape of y to (n_samples, ), for example using ravel().\n",
      "  return f(**kwargs)\n"
     ]
    },
    {
     "data": {
      "text/plain": [
       "0.039134586277431826"
      ]
     },
     "execution_count": 16,
     "metadata": {},
     "output_type": "execute_result"
    }
   ],
   "source": [
    "tmp = ds1_2.reset_index()\n",
    "# tmp.info()\n",
    "X = tmp[[\"dHKL\",\"F_off\"]].to_numpy()\n",
    "y = (ds1_2[[\"F_on\"]].to_numpy()/ds1_2[[\"F_off\"]].to_numpy())-1\n",
    "X_train, X_test, y_train, y_test = train_test_split(X, y, random_state=1)\n",
    "regr = MLPRegressor(random_state=1, max_iter=500,activation='relu',solver='adam').fit(X_train, y_train) # MSE is default loss function\n",
    "regr.score(X_test, y_test)"
   ]
  },
  {
   "cell_type": "code",
   "execution_count": 17,
   "id": "indirect-conspiracy",
   "metadata": {},
   "outputs": [
    {
     "data": {
      "image/png": "[encoded data removed]",
      "text/plain": [
       "<Figure size 432x288 with 1 Axes>"
      ]
     },
     "metadata": {
      "needs_background": "light"
     },
     "output_type": "display_data"
    },
    {
     "name": "stdout",
     "output_type": "stream",
     "text": [
      "-0.1095265\n"
     ]
    }
   ],
   "source": [
    "tmp=regr.predict(X_test)\n",
    "plt.hist(tmp,100)\n",
    "plt.grid()\n",
    "plt.xlabel(r\"Predicted value for $F_{ON}/F_{OFF}$-1 based on dHKL and F_off\")\n",
    "print\n",
    "plt.show()\n",
    "\n",
    "print(np.mean(y))"
   ]
  },
  {
   "cell_type": "markdown",
   "id": "green-cookie",
   "metadata": {},
   "source": [
    "### Obtaining phase errors\n",
    "Output from \"Model-based phases\" in PHENIX on the cluster."
   ]
  },
  {
   "cell_type": "code",
   "execution_count": 18,
   "id": "leading-birthday",
   "metadata": {},
   "outputs": [
    {
     "name": "stdout",
     "output_type": "stream",
     "text": [
      "40172\n",
      "93887\n",
      "39707\n"
     ]
    }
   ],
   "source": [
    "ds_ssrl=rs.read_mtz(path+\"EGFP_phases_w_FOM_SSRL.mtz\") # already in P21\n",
    "# ds_ssrl.info()\n",
    "ds_ssrl.spacegroup=ds1_2.spacegroup\n",
    "ds1_2_w_varphi = ds1_2.merge(ds_ssrl[[\"FOM\",\"PHIFMODEL\", \"FMODEL\"]], left_index=True, right_index=True, suffixes=(\"\", \"SSRL\"))\n",
    "\n",
    "print(len(ds1_2.index))\n",
    "print(len(ds_ssrl.index))\n",
    "print(len(ds1_2_w_varphi.index))\n",
    "ds1_2_w_varphi[\"var_phi_SSRL\"]=np.arccos(ds1_2_w_varphi[\"FOM\"])**2"
   ]
  },
  {
   "cell_type": "markdown",
   "id": "african-chamber",
   "metadata": {},
   "source": [
    "### Calculating differences\n",
    "... and a simple clip on extremes"
   ]
  },
  {
   "cell_type": "code",
   "execution_count": 19,
   "id": "charged-constant",
   "metadata": {},
   "outputs": [
    {
     "data": {
      "image/png": "[encoded data removed]",
      "text/plain": [
       "<Figure size 432x288 with 1 Axes>"
      ]
     },
     "metadata": {
      "needs_background": "light"
     },
     "output_type": "display_data"
    },
    {
     "name": "stdout",
     "output_type": "stream",
     "text": [
      "4.429722\n",
      "-1.8606782\n",
      "1.4289524343013935\n",
      "-1.2433219822645185\n"
     ]
    }
   ],
   "source": [
    "ds1_2_w_varphi[\"DE\"]=ds1_2_w_varphi[\"EP_1_knn_on\"]-ds1_2_w_varphi[\"EP_1_knn_off\"]\n",
    "ds1_2_w_varphi[\"SIGDE\"]=np.sqrt(ds1_2_w_varphi[\"SIGEP_1_knn_on\"]**2+ds1_2_w_varphi[\"SIGEP_1_knn_off\"]**2)\n",
    "ds1_2_w_varphi[\"DE_th\"]=ds1_2_w_varphi[\"DE\"].clip(-1,1)\n",
    "\n",
    "plt.hist(ds1_2_w_varphi[\"DE_th\"],density=True,bins=100)\n",
    "plt.grid()\n",
    "plt.show()\n",
    "print(np.amax(ds1_2_w_varphi[\"DE\"]))\n",
    "print(np.amin(ds1_2_w_varphi[\"DE\"]))\n",
    "print(np.percentile(ds1_2_w_varphi[\"DE\"],99.95))\n",
    "print(np.percentile(ds1_2_w_varphi[\"DE\"],0.05))"
   ]
  },
  {
   "cell_type": "markdown",
   "id": "restricted-journalism",
   "metadata": {},
   "source": [
    "### Calculating difference weights\n",
    "From **7_Revisiting_difference_maps**, we have:\n",
    "\n",
    "\\begin{align}\n",
    "w_h & = \\frac{\\Delta_h^2}{\\Delta_h^2 + k_h^2 \\sigma^2_{h,on} +\\sigma^2_{h,off}+\\Delta_h^2 \\sigma^2_{\\varphi_{h,OFF}} + \\frac{1}{2}p^2 (1-r_{DW}^2)} \\\\\n",
    "& = \\frac{\\Delta_h^2}{\n",
    "          \\Delta_h^2 \\left( 1 + \\sigma^2_{\\varphi_{h,OFF}}        \\right) + \n",
    "                     \\left(k_h^2 \\sigma^2_{h,on} +\\sigma^2_{h,off}\\right) + \n",
    "                     \\frac{1}{2}p^2 (1-r_{DW}^2)\n",
    "                     } \\\\\n",
    "& \\approx \\frac{\\Delta_h^2}{\n",
    "          \\Delta_h^2 \\left( 1 + \\sigma^2_{\\varphi_{h,OFF}}        \\right) + \n",
    "                     \\left(k_h^2 \\sigma^2_{h,on} +\\sigma^2_{h,off}\\right) + \n",
    "                     p\\theta \n",
    "                     } < 1\\\\\n",
    "\\end{align}"
   ]
  },
  {
   "cell_type": "code",
   "execution_count": 20,
   "id": "framed-thickness",
   "metadata": {},
   "outputs": [
    {
     "data": {
      "image/png": "[encoded data removed]",
      "text/plain": [
       "<Figure size 1152x360 with 3 Axes>"
      ]
     },
     "metadata": {
      "needs_background": "light"
     },
     "output_type": "display_data"
    },
    {
     "name": "stdout",
     "output_type": "stream",
     "text": [
      "0.00092\n"
     ]
    },
    {
     "data": {
      "image/png": "[encoded data removed]",
      "text/plain": [
       "<Figure size 432x288 with 1 Axes>"
      ]
     },
     "metadata": {
      "needs_background": "light"
     },
     "output_type": "display_data"
    }
   ],
   "source": [
    "# ds1_2_w_varphi.info()\n",
    "p = 0.2\n",
    "theta = p*0.023\n",
    "w = ds1_2_w_varphi[\"DE\"]**2/(ds1_2_w_varphi[\"DE\"]**2*(1+ds1_2_w_varphi[\"var_phi_SSRL\"]) + ds1_2_w_varphi[\"SIGDE\"]**2 + p*theta)\n",
    "w1 = ds1_2_w_varphi[\"DE\"]**2\n",
    "w2 = ds1_2_w_varphi[\"DE\"]**2 * ds1_2_w_varphi[\"var_phi_SSRL\"]\n",
    "w3 = ds1_2_w_varphi[\"SIGDE\"]**2 \n",
    "w4 = p*theta\n",
    "\n",
    "fig, _axs = plt.subplots(nrows=1, ncols=3,figsize=(16,5))\n",
    "axs = _axs.flatten()\n",
    "\n",
    "axs[0].hist(w1,bins=200,density=True)\n",
    "axs[0].set_xlim([0,1])\n",
    "axs[1].hist(w2,bins=20,density=True)\n",
    "axs[1].set_xlim([0,1])\n",
    "axs[2].hist(w3,bins=10,density=True)\n",
    "axs[2].set_xlim([0,1])\n",
    "plt.show()\n",
    "print(w4)\n",
    "\n",
    "plt.hist(w,bins=100,density=True)\n",
    "plt.show()"
   ]
  },
  {
   "cell_type": "code",
   "execution_count": 21,
   "id": "brown-rebound",
   "metadata": {},
   "outputs": [
    {
     "name": "stdout",
     "output_type": "stream",
     "text": [
      "<class 'reciprocalspaceship.dataset.DataSet'>\n",
      "MultiIndex: 47451 entries, (0, 0, 4) to (29, 8, -8)\n",
      "Data columns (total 28 columns):\n",
      " #   Column     Non-Null Count  Dtype      \n",
      "---  ------     --------------  -----      \n",
      " 0   Foff       47451 non-null  SFAmplitude\n",
      " 1   SigFoff    47451 non-null  Stddev     \n",
      " 2   Fon        47451 non-null  SFAmplitude\n",
      " 3   SigFon     47451 non-null  Stddev     \n",
      " 4   PhiFoff    47451 non-null  Phase      \n",
      " 5   F-model    47451 non-null  SFAmplitude\n",
      " 6   DeltaF     47451 non-null  SFAmplitude\n",
      " 7   SigDeltaF  47451 non-null  Stddev     \n",
      " 8   W          47451 non-null  Weight     \n",
      " 9   DH         47451 non-null  Weight     \n",
      " 10  ML         47451 non-null  Weight     \n",
      " 11  S10        47451 non-null  Weight     \n",
      " 12  S20        47451 non-null  Weight     \n",
      " 13  S30        47451 non-null  Weight     \n",
      " 14  S40        47451 non-null  Weight     \n",
      " 15  S50        47451 non-null  Weight     \n",
      " 16  S60        47451 non-null  Weight     \n",
      " 17  S70        47451 non-null  Weight     \n",
      " 18  S80        47451 non-null  Weight     \n",
      " 19  S90        47451 non-null  Weight     \n",
      " 20  S100       47451 non-null  Weight     \n",
      " 21  S110       47451 non-null  Weight     \n",
      " 22  S120       47451 non-null  Weight     \n",
      " 23  S130       47451 non-null  Weight     \n",
      " 24  S140       47451 non-null  Weight     \n",
      " 25  S150       47451 non-null  Weight     \n",
      " 26  KDE        47451 non-null  Weight     \n",
      " 27  M/ISYM     47451 non-null  M/ISYM     \n",
      "dtypes: M/ISYM(1), Phase(1), SFAmplitude(4), Stddev(3), Weight(19)\n",
      "memory usage: 10.1 MB\n"
     ]
    }
   ],
   "source": [
    "ds_diff = rs.read_mtz(path+\"difference.mtz\")\n",
    "ds_diff.info()"
   ]
  },
  {
   "cell_type": "code",
   "execution_count": 22,
   "id": "simple-engineering",
   "metadata": {},
   "outputs": [],
   "source": [
    "# for n in range(5):\n",
    "#     ds1_2_final[\"Fesf4_random_\"+str(n)] = ds1_2_final[\"E_MODEL\"] + 4*ds1_2_final[\"WT\"]*ds1_2_final[\"DE_th\"]*\\\n",
    "#     np.sign(np.random.random(size=ds1_2_final[\"DE_th\"].to_numpy().shape)-0.5)\n",
    "#     ds1_2_final[\"Fesf4_random_\"+str(n)] = ds1_2_final[\"Fesf4_random_\"+str(n)].astype(\"SFAmplitude\")\n"
   ]
  },
  {
   "cell_type": "code",
   "execution_count": 23,
   "id": "prime-presentation",
   "metadata": {},
   "outputs": [
    {
     "name": "stdout",
     "output_type": "stream",
     "text": [
      "<class 'reciprocalspaceship.dataset.DataSet'>\n",
      "MultiIndex: 39707 entries, (0, 0, 4) to (29, 9, 6)\n",
      "Data columns (total 5 columns):\n",
      " #   Column            Non-Null Count  Dtype      \n",
      "---  ------            --------------  -----      \n",
      " 0   EP_1_aniso_1_off  39707 non-null  SFAmplitude\n",
      " 1   DE_th             39707 non-null  SFAmplitude\n",
      " 2   PHIFMODEL         39707 non-null  Phase      \n",
      " 3   WT                39707 non-null  Weight     \n",
      " 4   WT2               39707 non-null  Weight     \n",
      "dtypes: Phase(1), SFAmplitude(2), Weight(2)\n",
      "memory usage: 1.6 MB\n"
     ]
    }
   ],
   "source": [
    "ds1_2_w_varphi[\"WT\"]=w\n",
    "ds1_2_w_varphi[\"WT2\"]=w*np.exp(30/ds1_2_w_varphi[\"dHKL\"]**2)\n",
    "\n",
    "ds_out = ds1_2_w_varphi[[\"EP_1_aniso_1_off\",\"DE_th\", \"PHIFMODEL\", \"WT\", \"WT2\"]].copy()\n",
    "ds_out[\"WT\"]=ds_out[\"WT\"].astype('Weight')\n",
    "ds_out[\"WT2\"]=ds_out[\"WT2\"].astype('Weight')\n",
    "ds_out[\"EP_1_aniso_1_off\"]=ds_out[\"EP_1_aniso_1_off\"].astype(\"SFAmplitude\")\n",
    "ds_out[\"DE_th\"]=ds_out[\"DE_th\"].astype(\"SFAmplitude\")\n",
    "ds_out.info()\n",
    "ds_out.write_mtz(path+\"test_wt_diff_map_sigp4.mtz\")"
   ]
  },
  {
   "cell_type": "markdown",
   "id": "ranking-burton",
   "metadata": {},
   "source": [
    "## Calculating extrapolated structure factors\n",
    "We will use \n",
    "1. $F_{model}$ as the basis; \n",
    "2. weights, allowing us to go to high completeness for clear maps while suppressing noisy contributions; \n",
    "3. normalized $\\Delta E$ from **1_Dataset_prep_and_local_scaling** to maximally remove contributions from OFF. \n",
    "\n",
    "**NOTE**: for ESFs, it is less important to do this right and we could consider doing this with skewed $\\Delta F$.  \n",
    "\n",
    "**TO DO:**: (1) Apply B; (2) Output errors"
   ]
  },
  {
   "cell_type": "code",
   "execution_count": 24,
   "id": "figured-latex",
   "metadata": {},
   "outputs": [
    {
     "name": "stdout",
     "output_type": "stream",
     "text": [
      "<class 'reciprocalspaceship.dataset.DataSet'>\n",
      "MultiIndex: 39707 entries, (0, 0, 4) to (29, 9, 6)\n",
      "Data columns (total 55 columns):\n",
      " #   Column                     Non-Null Count  Dtype                \n",
      "---  ------                     --------------  -----                \n",
      " 0   F_off                      39707 non-null  SFAmplitude          \n",
      " 1   SigF_off                   39707 non-null  Stddev               \n",
      " 2   I_off                      39707 non-null  Intensity            \n",
      " 3   SigI_off                   39707 non-null  Stddev               \n",
      " 4   FP_off                     39707 non-null  SFAmplitude          \n",
      " 5   SIGFP_off                  39707 non-null  Stddev               \n",
      " 6   rs_a_off                   39707 non-null  MTZReal              \n",
      " 7   rs_b_off                   39707 non-null  MTZReal              \n",
      " 8   rs_c_off                   39707 non-null  MTZReal              \n",
      " 9   dHKL_off                   39707 non-null  MTZReal              \n",
      " 10  CENTRIC_off                39707 non-null  bool                 \n",
      " 11  EPSILON_off                39707 non-null  MTZInt               \n",
      " 12  EP_1_aniso_1_off           39707 non-null  NormalizedSFAmplitude\n",
      " 13  SIGEP_1_aniso_1_off        39707 non-null  Stddev               \n",
      " 14  EP_1_aniso_2_off           39707 non-null  NormalizedSFAmplitude\n",
      " 15  SIGEP_1_aniso_2_off        39707 non-null  Stddev               \n",
      " 16  EP_1_knn_off               39707 non-null  NormalizedSFAmplitude\n",
      " 17  SIGEP_1_knn_off            39707 non-null  Stddev               \n",
      " 18  SIGF_off                   39707 non-null  Stddev               \n",
      " 19  F_on                       39707 non-null  SFAmplitude          \n",
      " 20  SigF_on                    39707 non-null  Stddev               \n",
      " 21  I_on                       39707 non-null  Intensity            \n",
      " 22  SigI_on                    39707 non-null  Stddev               \n",
      " 23  FP_on                      39707 non-null  SFAmplitude          \n",
      " 24  SIGFP_on                   39707 non-null  Stddev               \n",
      " 25  rs_a_on                    39707 non-null  MTZReal              \n",
      " 26  rs_b_on                    39707 non-null  MTZReal              \n",
      " 27  rs_c_on                    39707 non-null  MTZReal              \n",
      " 28  dHKL_on                    39707 non-null  MTZReal              \n",
      " 29  CENTRIC_on                 39707 non-null  bool                 \n",
      " 30  EPSILON_on                 39707 non-null  MTZInt               \n",
      " 31  EP_1_aniso_1_on            39707 non-null  NormalizedSFAmplitude\n",
      " 32  SIGEP_1_aniso_1_on         39707 non-null  Stddev               \n",
      " 33  EP_1_aniso_2_on            39707 non-null  NormalizedSFAmplitude\n",
      " 34  SIGEP_1_aniso_2_on         39707 non-null  Stddev               \n",
      " 35  EP_1_knn_on                39707 non-null  NormalizedSFAmplitude\n",
      " 36  SIGEP_1_knn_on             39707 non-null  Stddev               \n",
      " 37  SIGF_on                    39707 non-null  Stddev               \n",
      " 38  dHKL                       39707 non-null  MTZReal              \n",
      " 39  CENTRIC                    39707 non-null  bool                 \n",
      " 40  EPSILON                    39707 non-null  MTZInt               \n",
      " 41  bin                        39707 non-null  MTZInt               \n",
      " 42  rho_w_err                  39707 non-null  float64              \n",
      " 43  r_DW_out_EP_1_aniso_1_off  39707 non-null  MTZReal              \n",
      " 44  r_DW_out_EP_1_aniso_1_on   39707 non-null  MTZReal              \n",
      " 45  FOM                        39707 non-null  SFAmplitude          \n",
      " 46  PHIFMODEL                  39707 non-null  Phase                \n",
      " 47  FMODEL                     39707 non-null  SFAmplitude          \n",
      " 48  var_phi_SSRL               39707 non-null  float32              \n",
      " 49  DE                         39707 non-null  NormalizedSFAmplitude\n",
      " 50  SIGDE                      39707 non-null  float32              \n",
      " 51  DE_th                      39707 non-null  NormalizedSFAmplitude\n",
      " 52  WT                         39707 non-null  NormalizedSFAmplitude\n",
      " 53  WT2                        39707 non-null  NormalizedSFAmplitude\n",
      " 54  E_MODEL                    39707 non-null  NormalizedSFAmplitude\n",
      "dtypes: Intensity(2), MTZInt(4), MTZReal(11), NormalizedSFAmplitude(11), Phase(1), SFAmplitude(6), Stddev(14), bool(3), float32(2), float64(1)\n",
      "memory usage: 15.2 MB\n"
     ]
    }
   ],
   "source": [
    "ds_norm_model = rs.read_mtz(path+\"SSRL_FMODEL_norm_use_aniso_1_only.mtz\")\n",
    "ds_norm_model[\"E_MODEL\"] = ds_norm_model[\"EP_1_aniso_1\"]\n",
    "ds1_2_final = ds1_2_w_varphi.merge(ds_norm_model[[\"E_MODEL\"]], left_index=True, right_index=True, suffixes=(\"\", \"SSRL\"))\n",
    "ds1_2_final.info()"
   ]
  },
  {
   "cell_type": "code",
   "execution_count": 29,
   "id": "hungarian-virus",
   "metadata": {},
   "outputs": [
    {
     "name": "stdout",
     "output_type": "stream",
     "text": [
      "YES\n",
      "<class 'reciprocalspaceship.dataset.DataSet'>\n",
      "MultiIndex: 39707 entries, (0, 0, 4) to (29, 9, 6)\n",
      "Data columns (total 15 columns):\n",
      " #   Column          Non-Null Count  Dtype      \n",
      "---  ------          --------------  -----      \n",
      " 0   FMODEL          39707 non-null  SFAmplitude\n",
      " 1   Fesf1           39707 non-null  SFAmplitude\n",
      " 2   Fesf2           39707 non-null  SFAmplitude\n",
      " 3   Fesf4           39707 non-null  SFAmplitude\n",
      " 4   Fesf8           39707 non-null  SFAmplitude\n",
      " 5   Fesf16          39707 non-null  SFAmplitude\n",
      " 6   Fesf32          39707 non-null  SFAmplitude\n",
      " 7   Fesf4_random_0  39707 non-null  SFAmplitude\n",
      " 8   Fesf4_random_1  39707 non-null  SFAmplitude\n",
      " 9   Fesf4_random_2  39707 non-null  SFAmplitude\n",
      " 10  Fesf4_random_3  39707 non-null  SFAmplitude\n",
      " 11  Fesf4_random_4  39707 non-null  SFAmplitude\n",
      " 12  PHIFMODEL       39707 non-null  Phase      \n",
      " 13  dHKL            39707 non-null  MTZReal    \n",
      " 14  Fesf4_B_20      39707 non-null  SFAmplitude\n",
      "dtypes: MTZReal(1), Phase(1), SFAmplitude(13)\n",
      "memory usage: 4.7 MB\n",
      "None\n",
      "YES\n",
      "<class 'reciprocalspaceship.dataset.DataSet'>\n",
      "MultiIndex: 39707 entries, (0, 0, 4) to (29, 9, 6)\n",
      "Data columns (total 16 columns):\n",
      " #   Column          Non-Null Count  Dtype      \n",
      "---  ------          --------------  -----      \n",
      " 0   FMODEL          39707 non-null  SFAmplitude\n",
      " 1   Fesf1           39707 non-null  SFAmplitude\n",
      " 2   Fesf2           39707 non-null  SFAmplitude\n",
      " 3   Fesf4           39707 non-null  SFAmplitude\n",
      " 4   Fesf8           39707 non-null  SFAmplitude\n",
      " 5   Fesf16          39707 non-null  SFAmplitude\n",
      " 6   Fesf32          39707 non-null  SFAmplitude\n",
      " 7   Fesf4_random_0  39707 non-null  SFAmplitude\n",
      " 8   Fesf4_random_1  39707 non-null  SFAmplitude\n",
      " 9   Fesf4_random_2  39707 non-null  SFAmplitude\n",
      " 10  Fesf4_random_3  39707 non-null  SFAmplitude\n",
      " 11  Fesf4_random_4  39707 non-null  SFAmplitude\n",
      " 12  PHIFMODEL       39707 non-null  Phase      \n",
      " 13  dHKL            39707 non-null  MTZReal    \n",
      " 14  Fesf4_B_20      39707 non-null  SFAmplitude\n",
      " 15  Fesf8_B_20      39707 non-null  SFAmplitude\n",
      "dtypes: MTZReal(1), Phase(1), SFAmplitude(14)\n",
      "memory usage: 5.0 MB\n",
      "None\n",
      "YES\n",
      "<class 'reciprocalspaceship.dataset.DataSet'>\n",
      "MultiIndex: 39707 entries, (0, 0, 4) to (29, 9, 6)\n",
      "Data columns (total 17 columns):\n",
      " #   Column          Non-Null Count  Dtype      \n",
      "---  ------          --------------  -----      \n",
      " 0   FMODEL          39707 non-null  SFAmplitude\n",
      " 1   Fesf1           39707 non-null  SFAmplitude\n",
      " 2   Fesf2           39707 non-null  SFAmplitude\n",
      " 3   Fesf4           39707 non-null  SFAmplitude\n",
      " 4   Fesf8           39707 non-null  SFAmplitude\n",
      " 5   Fesf16          39707 non-null  SFAmplitude\n",
      " 6   Fesf32          39707 non-null  SFAmplitude\n",
      " 7   Fesf4_random_0  39707 non-null  SFAmplitude\n",
      " 8   Fesf4_random_1  39707 non-null  SFAmplitude\n",
      " 9   Fesf4_random_2  39707 non-null  SFAmplitude\n",
      " 10  Fesf4_random_3  39707 non-null  SFAmplitude\n",
      " 11  Fesf4_random_4  39707 non-null  SFAmplitude\n",
      " 12  PHIFMODEL       39707 non-null  Phase      \n",
      " 13  dHKL            39707 non-null  MTZReal    \n",
      " 14  Fesf4_B_20      39707 non-null  SFAmplitude\n",
      " 15  Fesf8_B_20      39707 non-null  SFAmplitude\n",
      " 16  Fesf16_B_20     39707 non-null  SFAmplitude\n",
      "dtypes: MTZReal(1), Phase(1), SFAmplitude(15)\n",
      "memory usage: 5.3 MB\n",
      "None\n",
      "<class 'reciprocalspaceship.dataset.DataSet'>\n",
      "MultiIndex: 39707 entries, (0, 0, 4) to (29, 9, 6)\n",
      "Data columns (total 17 columns):\n",
      " #   Column          Non-Null Count  Dtype      \n",
      "---  ------          --------------  -----      \n",
      " 0   FMODEL          39707 non-null  SFAmplitude\n",
      " 1   Fesf1           39707 non-null  SFAmplitude\n",
      " 2   Fesf2           39707 non-null  SFAmplitude\n",
      " 3   Fesf4           39707 non-null  SFAmplitude\n",
      " 4   Fesf8           39707 non-null  SFAmplitude\n",
      " 5   Fesf16          39707 non-null  SFAmplitude\n",
      " 6   Fesf32          39707 non-null  SFAmplitude\n",
      " 7   Fesf4_random_0  39707 non-null  SFAmplitude\n",
      " 8   Fesf4_random_1  39707 non-null  SFAmplitude\n",
      " 9   Fesf4_random_2  39707 non-null  SFAmplitude\n",
      " 10  Fesf4_random_3  39707 non-null  SFAmplitude\n",
      " 11  Fesf4_random_4  39707 non-null  SFAmplitude\n",
      " 12  PHIFMODEL       39707 non-null  Phase      \n",
      " 13  dHKL            39707 non-null  MTZReal    \n",
      " 14  Fesf4_B_20      39707 non-null  SFAmplitude\n",
      " 15  Fesf8_B_20      39707 non-null  SFAmplitude\n",
      " 16  Fesf16_B_20     39707 non-null  SFAmplitude\n",
      "dtypes: MTZReal(1), Phase(1), SFAmplitude(15)\n",
      "memory usage: 5.3 MB\n"
     ]
    },
    {
     "data": {
      "image/png": "[encoded data removed]",
      "text/plain": [
       "<Figure size 432x288 with 1 Axes>"
      ]
     },
     "metadata": {
      "needs_background": "light"
     },
     "output_type": "display_data"
    }
   ],
   "source": [
    "for n in [1,2,4,8,16,32]:\n",
    "    ds1_2_final[\"Fesf\"+str(n)] = ds1_2_final[\"E_MODEL\"] + n*ds1_2_final[\"WT\"]*ds1_2_final[\"DE_th\"]\n",
    "    ds1_2_final[\"Fesf\"+str(n)] = ds1_2_final[\"Fesf\"+str(n)].astype(\"SFAmplitude\")\n",
    "\n",
    "for n in range(5):\n",
    "    ds1_2_final[\"Fesf4_random_\"+str(n)] = ds1_2_final[\"E_MODEL\"] + 4*ds1_2_final[\"WT\"]*ds1_2_final[\"DE_th\"]*\\\n",
    "    np.sign(np.random.random(size=ds1_2_final[\"DE_th\"].to_numpy().shape)-0.5)\n",
    "    ds1_2_final[\"Fesf4_random_\"+str(n)] = ds1_2_final[\"Fesf4_random_\"+str(n)].astype(\"SFAmplitude\")\n",
    "# ds1_2_w_varphi.info()\n",
    "\n",
    "ds_out = ds1_2_final[[\"FMODEL\",\"Fesf1\",\"Fesf2\",\"Fesf4\",\"Fesf8\",\"Fesf16\",\"Fesf32\",\"Fesf4_random_0\",\"Fesf4_random_1\",\"Fesf4_random_2\",\\\n",
    "                      \"Fesf4_random_3\",\"Fesf4_random_4\", \"PHIFMODEL\", \"dHKL\"]].copy()\n",
    "\n",
    "# from dw_tools import map_prep_tools\n",
    "map_prep_tools.apply_iso_B(ds_out, \"Fesf4\",B=20)\n",
    "map_prep_tools.apply_iso_B(ds_out, \"Fesf8\",B=20)\n",
    "map_prep_tools.apply_iso_B(ds_out, \"Fesf16\",B=20)\n",
    "ds_out.info()\n",
    "ds_out.write_mtz(path+\"test_Fesf_sigp4.mtz\")\n",
    "\n",
    "plt.plot(ds1_2_final[\"Fesf1\"],ds1_2_final[\"Fesf32\"],'k.')\n",
    "plt.show()"
   ]
  }
 ],
 "metadata": {
  "kernelspec": {
   "display_name": "Python [conda env:.conda-crystallography] *",
   "language": "python",
   "name": "conda-env-.conda-crystallography-py"
  },
  "language_info": {
   "codemirror_mode": {
    "name": "ipython",
    "version": 3
   },
   "file_extension": ".py",
   "mimetype": "text/x-python",
   "name": "python",
   "nbconvert_exporter": "python",
   "pygments_lexer": "ipython3",
   "version": "3.8.8"
  },
  "toc": {
   "base_numbering": 1,
   "nav_menu": {},
   "number_sections": true,
   "sideBar": true,
   "skip_h1_title": false,
   "title_cell": "Table of Contents",
   "title_sidebar": "Contents",
   "toc_cell": false,
   "toc_position": {
    "height": "calc(100% - 180px)",
    "left": "10px",
    "top": "150px",
    "width": "332px"
   },
   "toc_section_display": true,
   "toc_window_display": true
  }
 },
 "nbformat": 4,
 "nbformat_minor": 5
}
